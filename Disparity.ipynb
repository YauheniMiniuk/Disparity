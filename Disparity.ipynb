{
 "cells": [
  {
   "cell_type": "code",
   "execution_count": 257,
   "metadata": {},
   "outputs": [],
   "source": [
    "import numpy as np\n",
    "import pandas as pd\n",
    "from Levenshtein import distance as levenshtein_distance\n",
    "from collections import Counter\n",
    "from keras.utils.data_utils import pad_sequences\n",
    "from sklearn.metrics.pairwise import cosine_similarity\n",
    "from pyjarowinkler import distance as jaro_winkler_distance\n",
    "import re\n",
    "import string as s\n",
    "import random\n",
    "import torch\n",
    "from transformers import AutoTokenizer, AutoModel\n",
    "from gensim.models import FastText\n",
    "import nltk\n",
    "from sklearn.feature_extraction.text import CountVectorizer\n",
    "import openpyxl"
   ]
  },
  {
   "cell_type": "code",
   "execution_count": 258,
   "metadata": {},
   "outputs": [],
   "source": [
    "def GetDisparity(price1, price2, rate, weight1=1, weight2=1):\n",
    "    '''\n",
    "    price1 - цена товара в первой валюте\\n\n",
    "    price2 - цена товара во второй валюте\\n\n",
    "    rate - курс валюты\\n\n",
    "    weight1 - вес товара в первой корзине\\n\n",
    "    weight2 - вес товара во второй корзине\n",
    "    '''\n",
    "\n",
    "    return (price1 * weight1 / rate) / (price2 * weight2)\n",
    "\n",
    "# определяем функцию для получения части речи слова\n",
    "def get_pos(words):\n",
    "    # получаем кортеж (слово, часть речи)\n",
    "    tags = nltk.pos_tag(words, lang='rus')\n",
    "    for tag in tags:\n",
    "        # преобразуем часть речи в удобный формат\n",
    "        if tag[1].lower() == 's':\n",
    "            yield (tag[0], 'noun')\n",
    "        elif tag[1].lower() == 'v':\n",
    "            yield (tag[0], 'noun')\n",
    "        elif tag[1].lower() == 'a=f':\n",
    "            yield (tag[0], 'adj')\n",
    "        elif tag[1].lower() == 'a=n':\n",
    "            yield (tag[0], 'adj')\n",
    "        elif tag[1].lower() == 'r':\n",
    "            yield (tag[0], 'adv')\n",
    "        else:\n",
    "            yield (tag[0], None)\n",
    "\n",
    "# определяем функцию для получения веса слова в зависимости от его части речи\n",
    "def get_weight(pos):\n",
    "    # задаем словарь весов для разных частей речи\n",
    "    weights = {'noun': 10, 'adj': 7, 'verb': 5, 'adv': 2, None: 0}\n",
    "    # если часть речи есть в словаре, возвращаем соответствующий вес\n",
    "    if pos in weights:\n",
    "        return weights[pos]\n",
    "    # иначе возвращаем 1\n",
    "    else:\n",
    "        return 1\n",
    "\n",
    "# определяем функцию для получения списка слов с весами из строки\n",
    "def get_words_with_weights(string):\n",
    "    # разбиваем строку на слова\n",
    "    words = nltk.word_tokenize(string)\n",
    "    # создаем пустой список для хранения слов с весами\n",
    "    words_with_weights = []\n",
    "    poss = get_pos(words)\n",
    "    # для каждого слова в строке\n",
    "    for pos in poss:\n",
    "        # получаем его вес\n",
    "        weight = get_weight(pos[1])\n",
    "        # добавляем слово с весом в список\n",
    "        words_with_weights.append((pos[0], weight))\n",
    "    # возвращаем список слов с весами\n",
    "    return words_with_weights\n",
    "\n",
    "# определяем функцию для получения косинусного сходства между двумя строками по новому алгоритму\n",
    "def get_cosine_similarity_new(string1, string2):\n",
    "    # получаем списки слов с весами из строк\n",
    "    words_with_weights1 = get_words_with_weights(string1)\n",
    "    words_with_weights2 = get_words_with_weights(string2)\n",
    "    \n",
    "    # создаем пустые списки для хранения слов и весов отдельно\n",
    "    words1 = []\n",
    "    weights1 = []\n",
    "    words2 = []\n",
    "    weights2 = []\n",
    "    \n",
    "    # для каждого слова с весом из первого списка\n",
    "    for word, weight in words_with_weights1:\n",
    "        # добавляем слово в список слов первой строки\n",
    "        words1.append(word)\n",
    "        # добавляем вес в список весов первой строки\n",
    "        weights1.append(weight)\n",
    "        \n",
    "     # аналогично для каждого слова с весом из второго списка   \n",
    "    for word, weight in words_with_weights2:\n",
    "        words2.append(word)\n",
    "        weights2.append(weight)\n",
    "        \n",
    "    # создаем объект CountVectorizer для преобразования слов в числовые признаки\n",
    "    # устанавливаем параметр lowercase равным False, чтобы сохранить регистр слов\n",
    "    vectorizer = CountVectorizer()\n",
    "    \n",
    "    # объединяем списки слов из обеих строк в один список\n",
    "    words = words1 + words2\n",
    "    \n",
    "    # преобразуем список слов в матрицу признаков X\n",
    "    X = vectorizer.fit_transform(words)\n",
    "    \n",
    "    # получаем список имен признаков (уникальных слов) из объекта vectorizer\n",
    "    features = vectorizer.get_feature_names_out()\n",
    "    \n",
    "    # создаем пустые списки для хранения признаков с весами для обеих строк\n",
    "    features_with_weights1 = []\n",
    "    features_with_weights2 = []\n",
    "    \n",
    "    # для каждого признака (слова) в списке признаков\n",
    "    for feature in features:\n",
    "        # если признак есть в списке слов первой строки\n",
    "        if feature in words1:\n",
    "            # получаем индекс признака в списке слов первой строки\n",
    "            index = words1.index(feature)\n",
    "            # получаем вес признака из списка весов первой строки по индексу\n",
    "            weight = weights1[index]\n",
    "        # иначе\n",
    "        else:\n",
    "            # задаем вес признака равным 0\n",
    "            weight = 0\n",
    "        # добавляем признак с весом в список признаков с весами для первой строки\n",
    "        features_with_weights1.append((feature, weight))\n",
    "        \n",
    "        # аналогично для второй строки\n",
    "        if feature in words2:\n",
    "            index = words2.index(feature)\n",
    "            weight = weights2[index]\n",
    "        else:\n",
    "            weight = 0\n",
    "        features_with_weights2.append((feature, weight))\n",
    "        \n",
    "    # создаем пустые списки для хранения сопоставленных частей между строками и их суммарных весов\n",
    "    matched_parts = []\n",
    "    matched_weights = []\n",
    "    \n",
    "    # для каждого признака с весом из первого списка\n",
    "    for feature, weight in features_with_weights1:\n",
    "        # если признак не равен 0 (то есть присутствует в первой строке)\n",
    "        if weight != 0:\n",
    "            # если признак есть во втором списке и его вес не равен 0 (то есть присутствует во второй строке)\n",
    "            if feature in dict(features_with_weights2) and dict(features_with_weights2)[feature] != 0:\n",
    "                # добавляем признак в список сопоставленных частей между строками\n",
    "                matched_parts.append(feature)\n",
    "                # добавляем сумму весов признака из обеих строк в список сопоставленных весов\n",
    "                matched_weight = weight + dict(features_with_weights2)[feature]\n",
    "                matched_weights.append(matched_weight)\n",
    "                \n",
    "    # вычисляем общий результат косинусного сходства по сопоставленным частям и их весам\n",
    "    cosine_similarity_result = sum(matched_weights)\n",
    "    \n",
    "    # вычисляем максимальный результат косинусного сходства, который может быть достигнут при полном совпадении строк\n",
    "    cosine_similarity_max = sum(weights1) + sum(weights2)\n",
    "    \n",
    "    if cosine_similarity_result == 0 or cosine_similarity_max == 0:\n",
    "        return 0\n",
    "    # вычисляем соотношение между результатом и максимумом косинусного сходства\n",
    "    cosine_similarity_ratio = cosine_similarity_result / cosine_similarity_max\n",
    "    \n",
    "    # округляем соотношение до двух знаков после запятой\n",
    "    cosine_similarity_ratio = round(cosine_similarity_ratio, 2)\n",
    "    \n",
    "    # возвращаем соотношение как результат функции\n",
    "    return cosine_similarity_ratio"
   ]
  },
  {
   "cell_type": "code",
   "execution_count": 227,
   "metadata": {},
   "outputs": [],
   "source": [
    "# Определяем функцию для вычисления косинусного сходства между двумя фразами\n",
    "def my_cosine_similarity(phrase1, phrase2):\n",
    "    # Токенизируем фразы и добавляем специальные токены [CLS] и [SEP]\n",
    "    tokens1 = tokenizer.encode(phrase1, add_special_tokens=True)\n",
    "    tokens2 = tokenizer.encode(phrase2, add_special_tokens=True)\n",
    "    # Конвертируем токены в тензоры PyTorch\n",
    "    tokens1 = torch.tensor([tokens1])\n",
    "    tokens2 = torch.tensor([tokens2])\n",
    "    # Получаем выходы модели BERT для каждого токена\n",
    "    outputs1 = model(tokens1)\n",
    "    outputs2 = model(tokens2)\n",
    "    # Извлекаем вектора признаков для специального токена [CLS], который представляет собой эмбеддинг всей фразы\n",
    "    features1 = outputs1[0][:,0,:]\n",
    "    features2 = outputs2[0][:,0,:]\n",
    "    # Вычисляем косинусное сходство между векторами признаков и возвращаем его\n",
    "    return torch.cosine_similarity(features1, features2).item()\n",
    "\n",
    "# Определяем функцию для сопоставления двух товаров по названию, стоимости, группе и подгруппе\n",
    "def match_products(product1, product2, price1, price2, group1, group2, subgroup1, subgroup2):\n",
    "    # Проверяем, есть ли None среди аргументов\n",
    "    if product1 is None:\n",
    "        product1 = \"\" # присваиваем пустую строку для названия товара\n",
    "    if product2 is None:\n",
    "        product2 = \"\" # присваиваем пустую строку для названия товара\n",
    "    if price1 is None:\n",
    "        price1 = 0 # присваиваем нулевую стоимость для цены товара\n",
    "    if price2 is None:\n",
    "        price2 = 0 # присваиваем нулевую стоимость для цены товара\n",
    "    if group1 is None:\n",
    "        group1 = \"\" # присваиваем пустую строку для группы товара\n",
    "    if group2 is None:\n",
    "        group2 = \"\" # присваиваем пустую строку для группы товара\n",
    "    if subgroup1 is None:\n",
    "        subgroup1 = \"\" # присваиваем пустую строку для подгруппы товара\n",
    "    if subgroup2 is None:\n",
    "        subgroup2 = \"\" # присваиваем пустую строку для подгруппы товара\n",
    "    \n",
    "    # Вычисляем косинусное сходство между названиями товаров\n",
    "    similarity_name = my_cosine_similarity(product1, product2)\n",
    "    # Проверяем, не равны ли обе цены нулю\n",
    "    # if price1 == 0 and price2 == 0:\n",
    "    #     difference_price = 0 # присваиваем нулевое значение для разницы по стоимости\n",
    "    # else:\n",
    "    #     # Вычисляем относительную разницу между стоимостями товаров\n",
    "    #     difference_price = abs(price1 - price2) / max(price1, price2)\n",
    "    # Вычисляем косинусное сходство между группами товаров\n",
    "    # similarity_group = my_cosine_similarity(group1, group2)\n",
    "    # Вычисляем косинусное сходство между подгруппами товаров\n",
    "    # similarity_subgroup = my_cosine_similarity(subgroup1, subgroup2)\n",
    "    # Взвешиваем сходство по названию, разницу по стоимости, сходство по группе и сходство по подгруппе с коэффициентами alpha, beta, gamma и delta\n",
    "    alpha = 0.6 # коэффициент для сходства по названию\n",
    "    beta = 0.25 # коэффициент для разницы по стоимости\n",
    "    gamma = 0.1 # коэффициент для сходства по группе\n",
    "    delta = 0.05 # коэффициент для сходства по подгруппе\n",
    "    # Возвращаем степень сходства товаров в диапазоне от 0 до 1\n",
    "    # return alpha * similarity_name - beta * difference_price + gamma * similarity_group + delta * similarity_subgroup\n",
    "    return similarity_name\n",
    "\n",
    "# Определяем функцию для вычисления частоты слов в списке фраз\n",
    "def word_frequency(phrases):\n",
    "  # Создаем пустой словарь для хранения частот слов\n",
    "  freq = {}\n",
    "  # Для каждой фразы в списке\n",
    "  for phrase in phrases:\n",
    "    # Разбиваем фразу на слова по пробелам\n",
    "    words = phrase.split()\n",
    "    # Для каждого слова в фразе\n",
    "    for word in words:\n",
    "      # Приводим слово к нижнему регистру\n",
    "      word = word.lower()\n",
    "      # Если слово уже есть в словаре, то увеличиваем его частоту на единицу\n",
    "      if word in freq:\n",
    "        freq[word] += 1\n",
    "      # Иначе добавляем слово в словарь с частотой единица\n",
    "      else:\n",
    "        freq[word] = 1\n",
    "  # Возвращаем словарь частот слов\n",
    "  return freq\n",
    "\n",
    "# Определяем функцию для вычисления взвешенного косинусного сходства между двумя фразами с учетом частоты слов в списках фраз\n",
    "def weighted_cosine_similarity(phrase1, phrase2, phrases1, phrases2):\n",
    "  # Вычисляем косинусное сходство между фразами с использованием Sentence-BERT\n",
    "  similarity = my_cosine_similarity(phrase1, phrase2)\n",
    "  # Вычисляем частоту слов в первом списке фраз\n",
    "  freq1 = word_frequency(phrases1)\n",
    "  # Вычисляем частоту слов во втором списке фраз\n",
    "  freq2 = word_frequency(phrases2)\n",
    "  # Вычисляем сумму частот слов в обоих списках фраз\n",
    "  total_freq = sum(freq1.values()) + sum(freq2.values())\n",
    "  # Вычисляем среднюю частоту слов в обоих списках фраз\n",
    "  mean_freq = total_freq / (len(freq1) + len(freq2))\n",
    "  # Разбиваем первую фразу на слова по пробелам\n",
    "  words1 = phrase1.split()\n",
    "  # Разбиваем вторую фразу на слова по пробелам\n",
    "  words2 = phrase2.split()\n",
    "  # Создаем пустой список для хранения весов слов\n",
    "  weights = []\n",
    "  # Для каждого слова в первой фразе\n",
    "  for word in words1:\n",
    "    # Приводим слово к нижнему регистру\n",
    "    word = word.lower()\n",
    "    # Если слово есть в словаре частот первого списка фраз, то берем его частоту\n",
    "    if word in freq1:\n",
    "      weight = freq1[word]\n",
    "    # Иначе берем среднюю частоту слов\n",
    "    else:\n",
    "      weight = mean_freq\n",
    "    # Добавляем вес слова в список весов\n",
    "    weights.append(weight)\n",
    "  # Для каждого слова во второй фразе\n",
    "  for word in words2:\n",
    "    # Приводим слово к нижнему регистру\n",
    "    word = word.lower()\n",
    "    # Если слово есть в словаре частот второго списка фраз, то берем его частоту\n",
    "    if word in freq2:\n",
    "      weight = freq2[word]\n",
    "    # Иначе берем среднюю частоту слов\n",
    "    else:\n",
    "      weight = mean_freq\n",
    "    # Добавляем вес слова в список весов\n",
    "    weights.append(weight)\n",
    "  # Вычисляем средний вес слов в обоих фразах\n",
    "  mean_weight = sum(weights) / len(weights)\n",
    "  # Вычисляем коэффициент для усиления или ослабления косинусного сходства в зависимости от среднего веса слов\n",
    "  coeff = mean_weight / mean_freq\n",
    "  # Возвращаем взвешенное косинусное сходство между фразами, умноженное на коэффициент\n",
    "  return similarity * coeff\n",
    "\n",
    "# Определяем функцию для запрашивания двух списков групп, затем сопоставления названий групп, учитывая частоту слов в этих списках\n",
    "def match_groups(groups1, groups2):\n",
    "  results = []\n",
    "  # Для каждой группы из первого списка\n",
    "  for group1 in groups1:\n",
    "    # Создаем пустой словарь для хранения сопоставленных групп и их сходства из второго списка\n",
    "    matches = {}\n",
    "    # Для каждой группы из второго списка\n",
    "    for group2 in groups2:\n",
    "      # Вычисляем взвешенное косинусное сходство между группами с учетом частоты слов в списках групп\n",
    "      similarity = weighted_cosine_similarity(group1, group2, groups1, groups2)\n",
    "      # Добавляем группу из второго списка и ее сходство с группой из первого списка в словарь сопоставленных групп\n",
    "      matches[group2] = similarity\n",
    "    # Сортируем словарь сопоставленных групп по убыванию сходства\n",
    "    matches = sorted(matches.items(), key=lambda x: x[1], reverse=True)\n",
    "    # Берем первую группу из отсортированного словаря, как наиболее похожую на группу из первого списка\n",
    "    best_match = matches[0][0]\n",
    "    # Берем вторую группу из отсортированного словаря, как вторую по похожести на группу из первого списка\n",
    "    second_match = matches[1][0]\n",
    "    # Добавляем группу из первого списка, ее наиболее похожую и вторую по похожести группы из второго списка и их сходства в список результатов сопоставления групп\n",
    "    results.append((group1, best_match, second_match, matches[0][1], matches[1][1]))\n",
    "  # Выводим список результатов сопоставления групп в виде таблицы\n",
    "  print(\"Результаты сопоставления групп:\")\n",
    "  print(\"| Группа из первого списка | Наиболее похожая группа из второго списка | Вторая по похожести группа из второго списка | Сходство с наиболее похожей группой | Сходство со второй по похожести группой |\")\n",
    "  print(\"|--------------------------|-------------------------------------------|--------------------------------------------|------------------------------------|-------------------------------------|\")\n",
    "  for result in results:\n",
    "    print(f\"| {result[0]} | {result[1]} | {result[2]} | {result[3]:.2f} | {result[4]:.2f} |\")\n",
    "\n",
    "def ngrams(word, n):\n",
    "  return [word[i:i+n] for i in range(len(word)-n+1)]\n",
    "\n",
    "# Функция для сравнения двух строк с помощью косинусного расстояния и расстояния Левенштейна-Яровского\n",
    "def compare_cosine_lev_jar(str1, str2, n):\n",
    "  # Преобразование строк в наборы n-грамм\n",
    "  set1 = set(ngrams(str1, n))\n",
    "  set2 = set(ngrams(str2, n))\n",
    "  # Вычисление косинусного расстояния между наборами\n",
    "  cosine_dist = 1 - len(set1.intersection(set2)) / (len(set1) * len(set2))**0.5\n",
    "  # Вычисление расстояния Левенштейна-Яровского между строками\n",
    "  lev_jar_dist = nltk.jaccard_distance(set(nltk.ngrams(str1, n)), set(nltk.ngrams(str2, n)))\n",
    "  # Возвращение кортежа из двух значений\n",
    "  return (cosine_dist, lev_jar_dist)\n",
    "\n",
    "# Функция для сопоставления двух строк с помощью всех комбинаций n-грамм длиной от 3 до 6 символов и возвращения самого высокого значения сходства\n",
    "def compare_all_ngrams_and_return_max_similarity(str1, str2):\n",
    "  # Создание пустого списка для хранения результатов\n",
    "  results = []\n",
    "  # Перебор всех возможных значений n от 3 до 6\n",
    "  for n in range(3,7):\n",
    "    # Вызов функции compare_cosine_lev_jar для текущего значения n и добавление результата в список\n",
    "    results.append(compare_cosine_lev_jar(str1, str2, n))\n",
    "  # Вычисление максимального значения сходства как минимального значения косинусного расстояния или расстояния Левенштейна-Яровского из списка результатов\n",
    "  max_similarity = min(min(results))\n",
    "  # Возвращение максимального значения сходства\n",
    "  return max_similarity"
   ]
  },
  {
   "attachments": {},
   "cell_type": "markdown",
   "metadata": {},
   "source": [
    "Загрузить все товары РБ из файла с ценами"
   ]
  },
  {
   "cell_type": "code",
   "execution_count": 259,
   "metadata": {},
   "outputs": [],
   "source": [
    "df = pd.read_excel(\"Average_prices-06-2023.xls\", header=6)\n",
    "df = df.rename(columns={df.columns[0]: 'Название товара'})"
   ]
  },
  {
   "attachments": {},
   "cell_type": "markdown",
   "metadata": {},
   "source": [
    "Выделить только продовольственные товары и очистить от мусора"
   ]
  },
  {
   "cell_type": "code",
   "execution_count": 260,
   "metadata": {},
   "outputs": [],
   "source": [
    "prodPricesStartIndex = df[df['Название товара'].str.lower() == 'продовольственные товары'].index[0]\n",
    "prodPricesEndIndex = df[df['Название товара'].str.lower() == 'непродовольственные товары'].index[0]\n",
    "dfProdPrices = df[prodPricesStartIndex+1:prodPricesEndIndex]\n",
    "# Удаляет все строки, где хоть в одной ячейке есть nan. Заменить на удаление только тех строк, где вообще все ячейки пустые\n",
    "dfProdPrices = dfProdPrices.dropna()"
   ]
  },
  {
   "attachments": {},
   "cell_type": "markdown",
   "metadata": {},
   "source": [
    "Выделить только непродовольственные товары и очистить от мусора"
   ]
  },
  {
   "cell_type": "code",
   "execution_count": 261,
   "metadata": {},
   "outputs": [],
   "source": [
    "noProdPricesStartIndex = df[df['Название товара'].str.lower() == 'непродовольственные товары'].index[0]\n",
    "dfNoProdPrices = df[noProdPricesStartIndex+1:]\n",
    "# Удаляет все строки, где хоть в одной ячейке есть nan. Заменить на удаление только тех строк, где вообще все ячейки пустые\n",
    "dfNoProdPrices = dfNoProdPrices.dropna()"
   ]
  },
  {
   "attachments": {},
   "cell_type": "markdown",
   "metadata": {},
   "source": [
    "Загрузка всех товаров РБ из файла с весами"
   ]
  },
  {
   "cell_type": "code",
   "execution_count": 262,
   "metadata": {},
   "outputs": [],
   "source": [
    "df2 = pd.read_excel(\"! Копия Веса.xlsx\", sheet_name='РБ_Струкутура', header=8)\n",
    "dfProdWeights = df2.iloc[:df2[df2['ПРОДОВОЛЬСТВЕННЫЕ ТОВАРЫ (без табачных изделий)'] == 'НЕПРОДОВОЛЬСТВЕННЫЕ ТОВАРЫ'].index[0]]\n",
    "df2 = pd.read_excel(\"! Копия Веса.xlsx\", sheet_name='РБ_Струкутура', header=8)\n",
    "# df = df.rename(columns={'ПРОДОВОЛЬСТВЕННЫЕ ТОВАРЫ (без табачных изделий)':'name'})\n",
    "dfNoProdWeights = df2.iloc[df2[df2['ПРОДОВОЛЬСТВЕННЫЕ ТОВАРЫ (без табачных изделий)'] == 'НЕПРОДОВОЛЬСТВЕННЫЕ ТОВАРЫ'].index[0]+1:]\n"
   ]
  },
  {
   "cell_type": "code",
   "execution_count": 263,
   "metadata": {},
   "outputs": [],
   "source": [
    "# Класс Product, который имеет свойства Имя, Цены, Доля, Родительский класс\n",
    "class Product:\n",
    "    def __init__(self, name):\n",
    "        self.name = name\n",
    "        self.weight = None\n",
    "        self.pricesBYN = dict()\n",
    "        self.pricesRUB = dict()\n",
    "        self.subgroup = None\n",
    "        self.group = None\n",
    "    \n",
    "    def SetGroup(self, group):\n",
    "        self.group = group\n",
    "\n",
    "    def GetGroup(self):\n",
    "        return self.group\n",
    "\n",
    "    def SetSubgroup(self, subgroup):\n",
    "        self.subgroup = subgroup\n",
    "    \n",
    "    def GetSubgroup(self):\n",
    "        return self.subgroup\n",
    "\n",
    "    def SetWeight(self, weight):\n",
    "        self.weight = weight\n",
    "    \n",
    "    def SetPriceBYN(self, state, price):\n",
    "        self.pricesBYN[state] = price\n",
    "\n",
    "    def SetPriceRUB(self, state, price):\n",
    "        self.pricesRUB[state] = price\n",
    "\n",
    "# Класс Subgroup, который имеет Имя, список объектов Product, метод, который возвращает список объектов Product\n",
    "class Subgroup:\n",
    "    def __init__(self, name):\n",
    "        self.name = name\n",
    "        self.products = [] # список объектов Product\n",
    "        self.group = None\n",
    "\n",
    "    # Метод, который возвращает список объектов Product\n",
    "    def GetProducts(self):\n",
    "        return self.products\n",
    "    \n",
    "    def GetGroup(self):\n",
    "        return self.group\n",
    "    \n",
    "    def SetGroup(self, group):\n",
    "        self.group = group\n",
    "\n",
    "    # Функция Append, которая добавляет объект Product в список products\n",
    "    def Append(self, product):\n",
    "        if isinstance(product, Product): # проверяем, что аргумент является объектом Product\n",
    "            self.products.append(product) # добавляем его в список products\n",
    "        else:\n",
    "            print(\"Invalid argument\") # иначе выводим сообщение об ошибке\n",
    "\n",
    "# Класс Group, который имеет Имя, список объектов Product, список объектов Subgroup,\n",
    "# имеет метод, который возвращает список объектов Product, который содержит сам и который содержится в объектах Subgroup\n",
    "class Group:\n",
    "    def __init__(self, name):\n",
    "        self.name = name\n",
    "        self.products = [] # список объектов Product\n",
    "        self.subgroups = [] # список объектов Subgroup\n",
    "\n",
    "    # Метод, который возвращает список объектов Product, который содержит сам и который содержится в объектах Subgroup\n",
    "    def GetProducts(self):\n",
    "        result = [] # пустой список для результата\n",
    "        result.extend(self.products) # добавляем в него свои продукты\n",
    "        for subgroup in self.subgroups: # проходим по подгруппам\n",
    "            result.extend(subgroup.GetProducts()) # добавляем в него продукты из подгрупп\n",
    "        return result\n",
    "    \n",
    "    def GetSubgroups(self):\n",
    "        return self.subgroups\n",
    "\n",
    "    # Функция Append, которая добавляет объект Product или Subgroup в соответствующий список\n",
    "    def Append(self, item):\n",
    "        if isinstance(item, Product): # проверяем, что аргумент является объектом Product\n",
    "            self.products.append(item) # добавляем его в список products\n",
    "        elif isinstance(item, Subgroup): # проверяем, что аргумент является объектом Subgroup\n",
    "            self.subgroups.append(item) # добавляем его в список subgroups\n",
    "        else:\n",
    "            print(\"Invalid argument\") # иначе выводим сообщение об ошибке\n",
    "\n",
    "# Класс Category, который имеет Имя и метод получения списка всех объектов Product у всех дочерних объектов\n",
    "class Category:\n",
    "    def __init__(self, name):\n",
    "        self.name = name\n",
    "        self.groups = [] # список объектов Group\n",
    "\n",
    "    # Метод получения списка всех объектов Product у всех дочерних объектов\n",
    "    def GetProducts(self):\n",
    "        result = [] # пустой список для результата\n",
    "        for group in self.groups: # проходим по группам\n",
    "            result.extend(group.GetProducts()) # добавляем в него продукты из групп и подгрупп\n",
    "        return result\n",
    "    \n",
    "    def GetGroups(self):\n",
    "        return self.groups\n",
    "\n",
    "    # Функция Append, которая добавляет объект Group в список groups\n",
    "    def Append(self, group):\n",
    "        if isinstance(group, Group): # проверяем, что аргумент является объектом Group\n",
    "            self.groups.append(group) # добавляем его в список groups\n",
    "        else:\n",
    "            print(\"Invalid argument\") # иначе выводим сообщение об ошибке\n",
    "            \n",
    "    def to_excel(self, filename, exchange_rate):\n",
    "        # exchange_rate is the currency conversion rate from BYN to RUB\n",
    "        # filename is the name of the Excel file to write to\n",
    "        wb = openpyxl.Workbook() # create a new workbook\n",
    "        ws = wb.active # get the active worksheet\n",
    "        columns = [\"Название\", 'Доля РБ'] # list of column names for the Excel table\n",
    "        regions_RUB = set() # set of regions in RUB\n",
    "        regions_BYN = set() # set of regions in BYN\n",
    "        for group in self.groups:\n",
    "            for subgroup in group.subgroups:\n",
    "                for product in subgroup.products:\n",
    "                    for region in product.pricesRUB.keys():\n",
    "                        regions_RUB.add(region) # add region to the set\n",
    "                    for region in product.pricesBYN.keys():\n",
    "                        regions_BYN.add(region) # add region to the set\n",
    "        \n",
    "        regions_RUB = sorted(regions_RUB) # sort regions alphabetically\n",
    "        regions_BYN = sorted(regions_BYN) # sort regions alphabetically\n",
    "        \n",
    "        for i in range(len(regions_RUB)):\n",
    "            for j in range(len(regions_BYN)):\n",
    "                columns.append(f\"{regions_BYN[j]}-{regions_RUB[i]}\") # add column name for disparity\n",
    "        \n",
    "        ws.append(columns) # write column names to the first row\n",
    "        \n",
    "        row_index = 2 # start from the second row\n",
    "        \n",
    "        for group in self.groups:\n",
    "            ws.cell(row=row_index, column=1).value = f\"{group.name}\" # write group name to the first column with a slash at the end\n",
    "            ws.cell(row=row_index, column=1).font = openpyxl.styles.Font(bold=True) # make group name bold\n",
    "            row_index += 1 # increment row index\n",
    "            for product in group.products: # add products that are in the group list but not in the subgroup list\n",
    "                ws.cell(row=row_index, column=1).value = f\"{product.name}\" # write group name and product name to the first column separated by a slash\n",
    "                if product.weight != None:\n",
    "                        ws.cell(row=row_index, column=2).value = product.weight\n",
    "                for i in range(len(regions_RUB)):\n",
    "                    for j in range(len(regions_BYN)):\n",
    "                        price_RUB = product.pricesRUB.get(regions_RUB[i], None) # get the price in RUB for the region, or None if not available\n",
    "                        price_BYN = product.pricesBYN.get(regions_BYN[j], None) # get the price in BYN for the region, or None if not available\n",
    "                        if price_RUB and price_BYN: # if both prices are available\n",
    "                            # disparity = price_BYN * exchange_rate / price_RUB # calculate disparity using exchange rate and prices\n",
    "                            disparity = GetDisparity(price_BYN, price_RUB, exchange_rate)\n",
    "                            ws.cell(row=row_index, column=3 + i * len(regions_BYN) + j).value = disparity # write disparity to the corresponding column\n",
    "                        else: # if one or both prices are not available\n",
    "                            ws.cell(row=row_index, column=3 + i * len(regions_BYN) + j).value = \"\" # write \"Н/Д\" (not available) to the corresponding column\n",
    "                row_index += 1 # increment row index\n",
    "            for subgroup in group.subgroups:\n",
    "                ws.cell(row=row_index, column=1).value = f\"{subgroup.name}\" # write group name and subgroup name to the first column separated by a slash\n",
    "                ws.cell(row=row_index, column=1).font = openpyxl.styles.Font(italic=True) # make subgroup name italic\n",
    "                row_index += 1 # increment row index\n",
    "                for product in subgroup.products:\n",
    "                    ws.cell(row=row_index, column=1).value = f\"{product.name}\" # write group name, subgroup name and product name to the first column separated by slashes\n",
    "                    if product.weight != None:\n",
    "                        ws.cell(row=row_index, column=2).value = product.weight\n",
    "                    for i in range(len(regions_RUB)):\n",
    "                        for j in range(len(regions_BYN)):\n",
    "                            price_RUB = product.pricesRUB.get(regions_RUB[i], None) # get the price in RUB for the region, or None if not available\n",
    "                            price_BYN = product.pricesBYN.get(regions_BYN[j], None) # get the price in BYN for the region, or None if not available\n",
    "                            if price_RUB and price_BYN: # if both prices are available\n",
    "                                # disparity = price_BYN * exchange_rate / price_RUB # calculate disparity using exchange rate and prices\n",
    "                                disparity = GetDisparity(price_BYN, price_RUB, exchange_rate)\n",
    "                                ws.cell(row=row_index, column=3 + i * len(regions_BYN) + j).value = disparity # write disparity to the corresponding column\n",
    "                            else: # if one or both prices are not available\n",
    "                                ws.cell(row=row_index, column=3 + i * len(regions_BYN) + j).value = \"\" # write \"Н/Д\" (not available) to the corresponding column\n",
    "                    row_index += 1 # increment row index\n",
    "        wb.save(filename) # save workbook to Excel file\n"
   ]
  },
  {
   "cell_type": "code",
   "execution_count": 264,
   "metadata": {},
   "outputs": [
    {
     "name": "stderr",
     "output_type": "stream",
     "text": [
      "C:\\Users\\Admin\\AppData\\Local\\Temp\\ipykernel_11920\\4057060405.py:2: DeprecationWarning: Call to deprecated function get_sheet_by_name (Use wb[sheetname]).\n",
      "  ws = wb.get_sheet_by_name('РБ_Струкутура')\n"
     ]
    }
   ],
   "source": [
    "wb = openpyxl.load_workbook(\"! Копия Веса.xlsx\")\n",
    "ws = wb.get_sheet_by_name('РБ_Струкутура')\n",
    "\n",
    "def FindIndexByText(ws, column, text):\n",
    "    for i in range(9, ws.max_row + 1):\n",
    "        # Получаем значение ячейки в первом столбце\n",
    "        value = ws.cell(i, column).value\n",
    "        # Сравниваем значение с искомым текстом\n",
    "        if value != None and text.lower() in value.lower():\n",
    "            # Выводим индекс строки\n",
    "            return i\n",
    "        \n",
    "prodIndex = FindIndexByText(ws, 1, 'Продовольственные товары')\n",
    "noProdIndex = FindIndexByText(ws, 1, 'Непродовольственные товары')\n",
    "serviceIndex = FindIndexByText(ws, 1, 'Услуги')"
   ]
  },
  {
   "cell_type": "code",
   "execution_count": 265,
   "metadata": {},
   "outputs": [
    {
     "name": "stdout",
     "output_type": "stream",
     "text": [
      "Group:  МЯСО И МЯСОПРОДУКТЫ\n",
      "Product: говядина (кроме бескостного мяса) - 0.0011\n",
      "Product: говядина бескостная - 0.0001\n",
      "Product: свинина (кроме бескостного мяса) - 0.0151\n",
      "Product: свинина бескостная - 0.0018\n",
      "Product: фарш мясной  - 0.0114\n",
      "Product: рагу, набор из свинины - 0.0016\n",
      "Product: субпродукты мясные пищевые (кроме субпродуктов из птицы) - 0.0011\n",
      "Product: куры (цыплята, включая бройлеров) - 0.0042\n",
      "Product: полуфабрикаты из мяса птицы - 0.0137\n",
      "Product: субпродукты из птицы - 0.0009\n",
      "Product: котлеты мясные - 0.0007\n",
      "Product: пельмени мясные - 0.0041\n",
      "Product: сало, грудинка - 0.0036\n",
      "Product: готовые изделия (вареные, жареные, фаршированные) из теста с мясной начинкой  - 0.0019\n",
      "Product: готовые изделия (вареные, жареные, фаршированные, заливные) из мяса и субпродуктов  - 0.001\n",
      "Subgroup Колбасные изделия\n",
      "Product: колбаса вареная высшего сорта - 0.0079\n",
      "Product: колбаса вареная первого сорта, второго сорта и бессортовая - 0.0005\n",
      "Product: колбаса полукопченая, варено-копченая - 0.0065\n",
      "Product: колбаса сырокопченая, сыровяленая - 0.0073\n",
      "Product: паштет, зельц, сальтисон - 0.0012\n",
      "Product: колбаса ливерная и кровяная - 0.0003\n",
      "Product: сосиски, сардельки - 0.0068\n",
      "Product: изделия из говядины, свинины вареные, варено-копченые: ветчина, буженина, окорок и прочие - 0.0055\n",
      "Subgroup Консервы мясные\n",
      "Product: говядина тушеная консервированная - 0.0004\n",
      "Product: свинина тушеная консервированная - 0.0004\n",
      "Product: консервы мясные для детского и диетического питания - 0.0004\n",
      "Group:  РЫБА И РЫБОПРОДУКТЫ (вкл. морепродукты)\n",
      "Product: рыба живая - 0.0005\n",
      "Product: рыба мороженая неразделанная - 0.0036\n",
      "Product: рыба мороженая  (филе и разделанная) - 0.0036\n",
      "Product: рыба соленая и копченая (кроме сельди и рыбы деликатесной) - 0.0009\n",
      "Product: рыба соленая и копченая деликатесная (включая балычные рыбные изделия) - 0.002\n",
      "Product: икра лососевых рыб - 0.0004\n",
      "Product: прочие виды икры рыб - 0.0001\n",
      "Product: сельдь соленая - 0.001\n",
      "Product: морепродукты (морская капуста, кальмары, креветки, мидии) - 0.0011\n",
      "Product: крабовые палочки (крабовое мясо) - 0.0009\n",
      "Product: полуфабрикаты рыбные (котлеты, рыбные палочки, фарш, бургеры) - 0.0005\n",
      "Product: готовые изделия (вареные, жареные, фаршированные, заливные) из рыбы и морепродуктов  - 0.0012\n",
      "Subgroup Консервы рыбные\n",
      "Product: консервы рыбные (кроме деликатесных) - 0.0004\n",
      "Product: консервы рыбные деликатесные - 0.0011\n",
      "Product: пресервы рыбные (филе сельди в различных соусах и заливках) - 0.0017\n",
      "Group:  МОЛОКО И МОЛОЧНЫЕ ПРОДУКТЫ (включая сыры)\n",
      "Product: молоко  - 0.0147\n",
      "Product: кефир - 0.0054\n",
      "Product: сметана - 0.0097\n",
      "Product: творог 4% жирности и выше - 0.0043\n",
      "Product: творог до 4% жирности - 0.0062\n",
      "Product: йогурт - 0.004\n",
      "Product: глазированный сырок - 0.0026\n",
      "Product: творожный крем, десерт, пудинг, паста - 0.0015\n",
      "Product: полуфабрикаты из творога (вареники, блинчики, сырники) - 0.0003\n",
      "Product: сухие молочные смеси для детского и диетического питания - 0.0006\n",
      "Product: мороженое - 0.005\n",
      "Product: молоко сгущенное с сахаром - 0.0008\n",
      "Subgroup Сыры\n",
      "Product: сыр твердый, полутвердый - 0.01\n",
      "Product: сыр мягкий - 0.0014\n",
      "Product: сыр рассольный - 0.0007\n",
      "Product: сыр плавленый - 0.0016\n",
      "Group:  МАСЛО И ЖИРЫ\n",
      "Product: масло сливочное - 0.0091\n",
      "Product: масло растительное (без оливкового) - 0.0064\n",
      "Product: масло оливковое - 0.0004\n",
      "Product: маргарин - 0.0003\n",
      "Product: жир животный - 0.0002\n",
      "Group:  ЯЙЦА КУРИНЫЕ\n",
      "Group:  САХАР\n",
      "Group:  ЧАЙ\n",
      "Product: чай черный байховый - 0.0037\n",
      "Product: чай зеленый - 0.0016\n",
      "Group:  КОФЕ\n",
      "Product: кофе натуральный молотый - 0.0061\n",
      "Product: кофе растворимый - 0.0078\n",
      "Group:  МЕД НАТУРАЛЬНЫЙ\n",
      "Group:  ВАРЕНЬЕ, ДЖЕМ, ПОВИДЛО, КОНФИТЮР ИЗ ФРУКТОВ (ЯГОД)\n",
      "Group:  СОЛЬ ПОВАРЕННАЯ ПИЩЕВАЯ\n",
      "Group:  МУКА ПШЕНИЧНАЯ\n",
      "Group:  ХЛЕБ И ХЛЕБОБУЛОЧНЫЕ ИЗДЕЛИЯ\n",
      "Product: хлеб ржаной, ржано-пшеничный - 0.0102\n",
      "Product: хлеб, изделия булочные  (батон) из муки пшеничной  высшего сорта - 0.0097\n",
      "Product: хлеб, изделия булочные  (батон) из муки пшеничной первого сорта, с отрубями и цельзерновой - 0.0005\n",
      "Product: изделия булочные сдобные из муки пшеничной высшего сорта - 0.0036\n",
      "Product: сухари, сушки, баранки - 0.0015\n",
      "Group:  КРУПА И БОБОВЫЕ\n",
      "Product: рис шлифованный, полированный (включая пропаренный) - 0.001\n",
      "Product: крупа манная  - 0.0001\n",
      "Product: крупа пшенная - 0.0002\n",
      "Product: крупа гречневая  - 0.0009\n",
      "Product: хлопья овсяные  - 0.0006\n",
      "Product: хлопья кукурузные  - 0.0005\n",
      "Product: крупа перловая  - 0.0001\n",
      "Product: каши для детского и диетического питания - 0.0003\n",
      "Product: горох, фасоль - 0.0002\n",
      "Product: мюсли, прочие сухие завтраки из различных круп - 0.0006\n",
      "Group:  МАКАРОННЫЕ ИЗДЕЛИЯ\n",
      "Product: макароны, рожки - 0.0026\n",
      "Product: вермишель, лапша - 0.0002\n",
      "Group:  АЛКОГОЛЬНЫЕ НАПИТКИ\n",
      "Product: водка - 0.0198\n",
      "Product: настойки горькие крепкие - 0.0013\n",
      "Product: коньяк - 0.0019\n",
      "Product: вино виноградное крепленое - 0.0003\n",
      "Product: вино виноградное столовое - 0.0032\n",
      "Product: пиво - 0.0111\n",
      "Product: шампанское - 0.0009\n",
      "Group:  КОНДИТЕРСКИЕ ИЗДЕЛИЯ\n",
      "Product: вафли - 0.0019\n",
      "Product: пряники - 0.0013\n",
      "Product: печенье  - 0.0063\n",
      "Product: торт - 0.0041\n",
      "Product: пирожные - 0.0015\n",
      "Product: ирис - 0.0001\n",
      "Product: карамель - 0.0011\n",
      "Product: конфеты глазированные шоколадной глазурью - 0.0036\n",
      "Product: конфеты глазированные кондитерской глазурью (типа \"Лимонные\", \"Осенние\") - 0.0021\n",
      "Product: шоколад - 0.0039\n",
      "Product: халва - 0.0003\n",
      "Product: мармелад - 0.0008\n",
      "Product: зефир - 0.0014\n",
      "Product: другие кондитерские изделия - 0.0013\n",
      "Product: какао - 0.0002\n",
      "Group:  КОНСЕРВЫ ОВОЩНЫЕ\n",
      "Product: овощи консервированные - 0.0032\n",
      "Product: консервы овощные, фруктово-овощные для детского и диетического питания - 0.0002\n",
      "Product: соус томатный - 0.0002\n",
      "Product: сок, нектар овощной, плодоовощной - 0.0004\n",
      "Group:  КОНСЕРВЫ ФРУКТОВЫЕ, ФРУКТОВО-ЯГОДНЫЕ\n",
      "Product: фрукты консервированные - 0.0002\n",
      "Product: консервы фруктовые, фруктово-ягодные для детского и диетического питания - 0.0006\n",
      "Product: сок, нектар фруктовый и ягодный - 0.0022\n",
      "Group:  ПЛОДООВОЩНАЯ ПРОДУКЦИЯ\n",
      "Group:  КАРТОФЕЛЬ (включая изделия из картофеля)\n",
      "Product: картофель - 0.0018\n",
      "Group:  ОВОЩИ\n",
      "Product: капуста белокочанная свежая - 0.0008\n",
      "Product: лук репчатый - 0.0007\n",
      "Product: свекла  - 0.0002\n",
      "Product: морковь - 0.0005\n",
      "Product: помидоры свежие - 0.0054\n",
      "Product: огурцы свежие - 0.0038\n",
      "Product: лук зеленый - 0.0002\n",
      "Product: редис - 0.0002\n",
      "Product: чеснок - 0.0002\n",
      "Product: перец сладкий - 0.0012\n",
      "Group:  ФРУКТЫ\n",
      "Product: яблоки - 0.0035\n",
      "Product: груши - 0.0008\n",
      "Product: плоды цитрусовые  - 0.0073\n",
      "Product: виноград - 0.0017\n",
      "Product: арбузы, дыни - 0.001\n",
      "Product: сливы - 0.0007\n",
      "Product: персики, нектарины - 0.0011\n",
      "Product: бананы - 0.0063\n",
      "Product: ягоды - 0.001\n",
      "Group:  НАПИТКИ БЕЗАЛКОГОЛЬНЫЕ \n",
      "Product: напитки безалкогольные  - 0.0023\n",
      "Product: вода минеральная и питьевая - 0.0026\n",
      "Product: квас - 0.0008\n",
      "Group:  ОБЩЕСТВЕННОЕ ПИТАНИЕ\n",
      "Product: обед в столовой - 0.0076\n",
      "Product: обед в ресторане, кафе - 0.0109\n",
      "Product: продукция организаций общественного питания быстрого обслуживания (типа \"Гамбургер\", пицца и прочее) - 0.0055\n",
      "Product: кофе - 0.0012\n",
      "Product: сок (нектар) - 0.0009\n",
      "Group:  ПРОЧИЕ ПРОДОВОЛЬСТВЕННЫЕ ТОВАРЫ\n",
      "Product: майонез - 0.0054\n",
      "Product: уксус - 0.0004\n",
      "Product: горчица пищевая  - 0.0003\n",
      "Product: кетчуп - 0.002\n",
      "Product: сода пищевая - 0.0002\n",
      "Product: перец  - 0.0004\n",
      "Product: прочие сухие пищевые специи и пряности - 0.0019\n",
      "Product: супы сухие, кубики бульонные  - 0.0004\n",
      "Product: готовые салаты  - 0.0015\n",
      "Product: жевательная резинка - 0.0002\n"
     ]
    }
   ],
   "source": [
    "prodCategoryRB = Category('Продовольственные товары')\n",
    "\n",
    "lastGroup = None\n",
    "lastSubgroup = None\n",
    "\n",
    "for i in range(prodIndex+1, noProdIndex):\n",
    "    cell = ws.cell(i, 1)\n",
    "    weightCell = ws.cell(i,2)\n",
    "    value = cell.value\n",
    "    weight = weightCell.value\n",
    "    font = cell.font\n",
    "    if weight:\n",
    "        if font.bold and not font.italic and not font.underline:\n",
    "            print('Group: ',value)\n",
    "            group = Group(value)\n",
    "            prodCategoryRB.Append(group)\n",
    "            lastGroup = group\n",
    "            lastSubgroup = None\n",
    "        elif not font.bold and font.italic and font.underline:\n",
    "            print('Subgroup', value)\n",
    "            subgroup = Subgroup(value)\n",
    "            group.Append(subgroup)\n",
    "            lastSubgroup = subgroup\n",
    "        elif not font.bold and not font.italic and not font.underline:\n",
    "            print('Product:', value, '-', weight)\n",
    "            product = Product(value)\n",
    "            product.SetWeight(weight)\n",
    "            if lastSubgroup != None:\n",
    "                product.SetSubgroup(lastSubgroup)\n",
    "                product.SetGroup(lastGroup)\n",
    "                lastSubgroup.Append(product)\n",
    "            else:\n",
    "                product.SetGroup(lastGroup)\n",
    "                lastGroup.Append(product)\n",
    "        "
   ]
  },
  {
   "attachments": {},
   "cell_type": "markdown",
   "metadata": {},
   "source": [
    "Непродовольственные товары"
   ]
  },
  {
   "cell_type": "code",
   "execution_count": 266,
   "metadata": {},
   "outputs": [
    {
     "name": "stdout",
     "output_type": "stream",
     "text": [
      "Group:  ТКАНИ И ПРЯЖА\n",
      "Product: хлопчатобумажные - 0.0003\n",
      "Product: шерстяные и полушерстяные - 0.0001\n",
      "Product: льняные - 0.0001\n",
      "Product: шелковые - 0.0001\n",
      "Product: пряжа шерстяная (полушерстяная), смесовая - 0.0002\n",
      "Group:  ОДЕЖДА\n",
      "Subgroup мужская\n",
      "Product: куртка утепленная  - 0.002\n",
      "Product: пальто (полупальто) демисезонное  - 0.0001\n",
      "Product: куртка (типа ветровки) - 0.0002\n",
      "Product: костюм - 0.0004\n",
      "Product: джинсы - 0.0009\n",
      "Product: брюки - 0.0009\n",
      "Product: сорочка верхняя  - 0.0007\n",
      "Product: костюм спортивный  - 0.001\n",
      "Product: свитер, джемпер из шерстяной или полушерстяной пряжи - 0.0003\n",
      "Product: свитер, джемпер из синтетической или смесовой пряжи - 0.0007\n",
      "Product: майка - 0.0002\n",
      "Product: трусы - 0.0007\n",
      "Product: фуфайка, тенниска из хлопчатобумажного или смесового трикотажного полотна - 0.0009\n",
      "Product: носки из хлопчатобумажной и смесовой пряжи - 0.0007\n",
      "Product: носки из полушерстяной пряжи - 0.0002\n",
      "Product: шляпа, кепка, бейсболка - 0.0001\n",
      "Product: пиджак из полушерстяной, синтетической или смесовой ткани - 0.0001\n",
      "Subgroup женская\n",
      "Product: пальто зимнее - 0.001\n",
      "Product: дубленка - 0.0002\n",
      "Product: пальто демисезонное - 0.0009\n",
      "Product: куртка - 0.0027\n",
      "Product: костюм из полушерстяной, смесовой или синтетической ткани - 0.001\n",
      "Product: костюм из трикотажного полотна - 0.0004\n",
      "Product: пиджак (жакет) - 0.0002\n",
      "Product: юбка   - 0.0004\n",
      "Product: джинсы - 0.0011\n",
      "Product: блузка - 0.0012\n",
      "Product: платье из полушерстяной ткани или трикотажного полотна - 0.0006\n",
      "Product: платье из хлопчатобумажной, смесовой ткани или трикотажного полотна  - 0.0012\n",
      "Product: халат домашний - 0.0004\n",
      "Product: свитер, джемпер из синтетической или смесовой пряжи - 0.0018\n",
      "Product: костюм спортивный - 0.0009\n",
      "Product: бюстгальтер - 0.0009\n",
      "Product: трусы из хлопчатобумажного трикотажного полотна - 0.0009\n",
      "Product: шапка (берет) трикотажная  - 0.0004\n",
      "Product: плащ - 0.0005\n",
      "Product: сорочка ночная - 0.0007\n",
      "Product: платок, шарф - 0.0004\n",
      "Product: шляпа - 0.0002\n",
      "Product: шуба (полушубок) из искусственного меха - 0.0001\n",
      "Product: комплект белья женского - 0.0005\n",
      "Product: фуфайка, футболка - 0.0008\n",
      "Product: купальный костюм - 0.0003\n",
      "Product: колготки - 0.0014\n",
      "Product: брюки - 0.0017\n",
      "Subgroup детская\n",
      "Product: куртка зимняя и демисезонная для мальчика - 0.0006\n",
      "Product: носки из хлопчатобумажной и смесовой пряжи - 0.0003\n",
      "Product: брюки - 0.0006\n",
      "Product: куртка зимняя и демисезонная для девочки - 0.0006\n",
      "Product: предметы школьной формы для мальчика: костюм, пиджак, жакет  - 0.0006\n",
      "Product: костюм спортивный - 0.0006\n",
      "Product: пальто зимнее и демисезонное для девочки - 0.0001\n",
      "Product: джемпер, свитер из полушерстяной, смесовой пряжи - 0.0006\n",
      "Product: сорочка верхняя из хлопчатобумажной или смесовой ткани  - 0.0003\n",
      "Product: юбка из смесовых тканей или трикотажного полотна - 0.0001\n",
      "Product: платье из хлопчатобумажной, смесовой ткани или трикотажного полотна  - 0.0003\n",
      "Product: предметы школьной формы для девочки: костюм, сарафан, комплект (юбка, брюки, жакет, жилет)  - 0.0005\n",
      "Product: джинсы  - 0.0002\n",
      "Product: белье для новорожденных и детей ясельного возраста - 0.0004\n",
      "Product: комплект белья  - 0.0004\n",
      "Product: фуфайка из хлопчатобумажной (смесовой) пряжи  - 0.0004\n",
      "Product: перчатки, варежки трикотажные - 0.0003\n",
      "Product: шапочка трикотажная - 0.0003\n",
      "Product: колготки - 0.0003\n",
      "Product: пижама - 0.0002\n",
      "Group:  ОБУВЬ\n",
      "Subgroup мужская\n",
      "Product: полуботинки, туфли кожаные - 0.0015\n",
      "Product: сапоги (ботинки) на меху - 0.0012\n",
      "Product: обувь домашняя - 0.0001\n",
      "Product: кроссовые туфли - 0.0018\n",
      "Product: босоножки, сандалеты из натуральной или искусственной кожи - 0.0002\n",
      "Product: сапоги цельнорезиновые или их поливинилхлорида (ПВХ) для взрослых - 0.0005\n",
      "Subgroup женская\n",
      "Product: сапоги зимние - 0.0027\n",
      "Product: сапоги (ботинки, ботильоны) демисезонные - 0.0017\n",
      "Product: туфли кожаные женские на низком каблуке и синтетической подошве - 0.0001\n",
      "Product: туфли модельные - 0.0011\n",
      "Product: туфли летние кожаные - 0.001\n",
      "Product: кроссовые туфли - 0.0015\n",
      "Product: обувь домашняя - 0.0003\n",
      "Product: туфли из искусственной кожи - 0.0006\n",
      "Subgroup детская\n",
      "Product: полусапожки зимние и демисезонные для мальчика - 0.0006\n",
      "Product: полусапожки (сапожки) зимние и демисезонные для девочки - 0.0006\n",
      "Product: ботинки, туфли демисезонные кожаные - 0.0004\n",
      "Product: туфли девичьи - 0.0005\n",
      "Product: кроссовые туфли - 0.0009\n",
      "Group:  ТАБАЧНЫЕ ИЗДЕЛИЯ\n",
      "Product: сигареты с фильтром отечественные - 0.0086\n",
      "Product: сигареты с фильтром импортные - 0.0001\n",
      "Group:  МЕБЕЛЬ\n",
      "Product: стол письменный, компьютерный - 0.0008\n",
      "Product: шкаф для одежды и белья - 0.002\n",
      "Product: стул - 0.0007\n",
      "Product: диван-кровать, тахта - 0.0052\n",
      "Product: корпусная мебель  - 0.0007\n",
      "Product: набор мягкой мебели - 0.0005\n",
      "Product: кухонный гарнитур - 0.0029\n",
      "Product: гарнитур для прихожей - 0.0003\n",
      "Product: набор мебели для ванной комнаты - 0.0004\n",
      "Product: набор мебели для спальни - 0.0008\n",
      "Group:  КОВРЫ И КОВРОВЫЕ ИЗДЕЛИЯ\n",
      "Product: ковер из синтетической пряжи - 0.0004\n",
      "Product: дорожка ковровая - 0.0004\n",
      "Group:  ТЕКСТИЛЬНЫЕ ИЗДЕЛИЯ  (вкл. постельное белье и принадлежности)\n",
      "Product: комплект постельного белья - 0.002\n",
      "Product: одеяло (плед) шерстяное, полушерстяное - 0.0004\n",
      "Product: одеяло стеганое (ватное или с другими наполнителями) - 0.0003\n",
      "Product: покрывало - 0.0002\n",
      "Product: подушка (наполнитель натуральный или синтетический) - 0.0003\n",
      "Product: скатерть - 0.0001\n",
      "Product: шторы - 0.0006\n",
      "Product: жалюзи, рольшторы (тканевые) - 0.0005\n",
      "Product: полотно гардинное тюлевое из синтетических нитей - 0.0006\n",
      "Product: полотенце махровое банное - 0.0007\n",
      "Group:  ПОСУДА (вкл. приборы столовые)\n",
      "Product: тарелка мелкая или глубокая - 0.0006\n",
      "Product: сервиз (набор) чайный, кофейный - 0.0002\n",
      "Product: ваза - 0.0001\n",
      "Product: рюмка, фужер из стекла - 0.0002\n",
      "Product: кастрюля - 0.001\n",
      "Product: приборы столовые из нержавеющей стали (вилка, ложка, нож)  - 0.0002\n",
      "Product: сковорода с антипригарным покрытием - 0.0009\n",
      "Group:  ЭЛЕКТРОТОВАРЫ\n",
      "Product: холодильник - 0.0039\n",
      "Product: лампа электрическая - 0.0006\n",
      "Product: машина стиральная  - 0.0034\n",
      "Product: пылесос напольный - 0.0019\n",
      "Product: утюг электрический - 0.0003\n",
      "Product: комбайн кухонный  - 0.0002\n",
      "Product: машина швейная  - 0.0001\n",
      "Product: машина посудомоечная  - 0.0005\n",
      "Product: люстра электрическая - 0.001\n",
      "Product: чайник электрический - 0.0003\n",
      "Product: кофемашина электрическая - 0.0004\n",
      "Product: мультиварка электрическая - 0.0001\n",
      "Product: печь микроволновая - 0.0005\n",
      "Product: батарейка электрическая (типа АА) - 0.0004\n",
      "Product: плита (варочная панель) бытовая электрическая - 0.0019\n",
      "Product: радиатор бытовой - 0.0003\n",
      "Product: водонагреватель (80-100 л) накопительный электрический - 0.0003\n",
      "Product: дрель электрическая - 0.0016\n",
      "Product: триммер, мотокоса, газонокосилка - 0.0012\n",
      "Product: розетка электрическая - 0.0003\n",
      "Product: удлинитель - 0.0003\n",
      "Product: бритва электрическая - 0.0002\n",
      "Product: фен электрический - 0.0005\n",
      "Group:  ТЕЛЕРАДИОТОВАРЫ\n",
      "Product: телевизор цветного изображения - 0.0043\n",
      "Product: музыкальный центр (мини-система) - 0.0002\n",
      "Group:  СТРОИТЕЛЬНЫЕ МАТЕРИАЛЫ\n",
      "Product: кирпич строительный - 0.0003\n",
      "Product: обои - 0.0018\n",
      "Product: пиломатериалы хвойные обрезные и необрезные - 0.0006\n",
      "Product: плитка керамическая - 0.0007\n",
      "Product: цемент - 0.0006\n",
      "Product: шифер, лист кровельный (типа \"ондулин\") - 0.0009\n",
      "Product: арматура санитарно-техническая - 0.0021\n",
      "Product: металлопродукция - 0.002\n",
      "Product: линолеум - 0.0007\n",
      "Product: счетчики потребления воды - 0.0001\n",
      "Product: материалы для облицовки и отделки из поливинилхлорида (ПВХ) - 0.0005\n",
      "Product: строительные детали и конструкции из поливинилхлорида (ПВХ) и алюминия - 0.0002\n",
      "Product: строительные детали и конструкции из дерева, шпона, мелкодисперсной фракции (МДФ) - 0.0005\n",
      "Product: ламинат  - 0.0009\n",
      "Group:  ГАЛАНТЕРЕЯ\n",
      "Product: перчатки из натуральной кожи - 0.0001\n",
      "Product: сумка из искусственной кожи - 0.0013\n",
      "Product: сумка из натуральной кожи - 0.001\n",
      "Product: рюкзак, ранец для детей школьного возраста - 0.0004\n",
      "Product: ремень поясной из натуральной или искусственной кожи - 0.0002\n",
      "Product: галстук мужской - 0.0001\n",
      "Group:  МЕДИКАМЕНТЫ \n",
      "Subgroup лекарственные препараты\n",
      "Product: антиинфекционные средства - 0.0027\n",
      "Product: средства для лечения пищеварительного тракта и обмена веществ - 0.0087\n",
      "Product: сердечно-сосудистые средства - 0.0085\n",
      "Product: средства для лечения нервной системы - 0.007\n",
      "Product: противоопухолевые и иммуномодулирующие средства - 0.0007\n",
      "Product: средства для лечения крови и кроветворных органов - 0.0069\n",
      "Product: средства для лечения дыхательной системы - 0.005\n",
      "Subgroup прочие товары медицинского назначения\n",
      "Product: бинт - 0.0002\n",
      "Product: вата - 0.0001\n",
      "Product: шприц - 0.0003\n",
      "Product: очки, оправы - 0.0008\n",
      "Product: аппарат для измерения артериального давления - 0.0004\n",
      "Group:  АВТОМОБИЛИ  И ЗАПЧАСТИ\n",
      "Product: автомобиль легковой - 0.0286\n",
      "Product: шины для легкового автомобиля - 0.0012\n",
      "Product: запасные части к транспортным средствам - 0.0094\n",
      "Group:  ВЕЛОСИПЕДЫ И МОТОЦИКЛЫ\n",
      "Product: велосипед (кроме детского) - 0.0011\n",
      "Product: мотоцикл, скутер, мотороллер - 0.0001\n",
      "Group:  ПЕЧАТНЫЕ ИЗДАНИЯ\n",
      "Product: ежедневная газета - 0.0002\n",
      "Product: еженедельная газета - 0.0016\n",
      "Product: ежемесячный журнал - 0.0003\n",
      "Product: книги - 0.0013\n",
      "Group:  ТОПЛИВО, ГОРЮЧЕ-СМАЗОЧНЫЕ МАТЕРИАЛЫ\n",
      "Product: бензин автомобильный - 0.0228\n",
      "Product: топливо дизельное - 0.0106\n",
      "Product: газовое моторное топливо - 0.0006\n",
      "Product: масло моторное - 0.0007\n",
      "Group:  ЧАСЫ НАРУЧНЫЕ\n",
      "Group:  СИНТЕТИЧЕСКИЕ МОЮЩИЕ СРЕДСТВА (вкл. мыло хозяйственное)\n",
      "Product: синтетические моющие средства - 0.0073\n",
      "Product: мыло хозяйственное - 0.0002\n",
      "Group:  ТОВАРЫ БЫТОВОЙ ХИМИИ\n",
      "Product: крем для обуви - 0.0001\n",
      "Product: краска для пола и прочая - 0.0012\n",
      "Product: лакокрасочные материалы - 0.0004\n",
      "Product: моющие средства по уходу за автомобилями - 0.0006\n",
      "Product: средства для мытья посуды - 0.002\n",
      "Product: средства для мытья унитаза, ванны - 0.001\n",
      "Group:  ТОВАРЫ ХОЗЯЙСТВЕННЫЕ \n",
      "Product: товары хозяйственные из пластмассы и металла - 0.0008\n",
      "Product: карнизы - 0.0001\n",
      "Product: изделия замочно-скобяные  - 0.0003\n",
      "Group:  ЮВЕЛИРНЫЕ ИЗДЕЛИЯ\n",
      "Group:  ПРОЧИЕ КУЛЬТУРНО-БЫТОВЫЕ ТОВАРЫ\n",
      "Product: фотокамера цифровая - 0.0002\n",
      "Product: инструменты музыкальные  - 0.0002\n",
      "Product: игрушки - 0.0047\n",
      "Product: телефонный аппарат - 0.0001\n",
      "Product: персональный компьютер (включая ноутбук) - 0.0035\n",
      "Product: компьютер планшетный - 0.0009\n",
      "Product: флэш-карта, карта памяти - 0.0001\n",
      "Product: коляска детская - 0.0004\n",
      "Product: зонт - 0.0002\n",
      "Product: смартфон - 0.007\n",
      "Product: корма для домашних животных и птиц - 0.0093\n",
      "Group:  ТОВАРЫ ДЛЯ СПОРТА И ТУРИЗМА\n",
      "Product: товары для физкультуры и спорта  - 0.0009\n",
      "Product: товары для туризма - 0.0007\n",
      "Group:  ПИСЬМЕННЫЕ ТОВАРЫ И КАНЦЕЛЯРСКИЕ ПРИНАДЛЕЖНОСТИ\n",
      "Product: тетрадь - 0.0008\n",
      "Product: ручка шариковая - 0.0003\n",
      "Product: альбом для рисования, черчения - 0.0007\n",
      "Group:  ТОВАРЫ ПАРФЮМЕРНО-КОСМЕТИЧЕСКИЕ (вкл. товары для личной гигиены)\n",
      "Product: шампунь - 0.0027\n",
      "Product: зубная паста - 0.0016\n",
      "Product: мыло туалетное - 0.0013\n",
      "Product: крем для лица - 0.002\n",
      "Product: дезодорант - 0.001\n",
      "Product: бритвенный станок одноразовый - 0.0007\n",
      "Product: пена, гель для бритья - 0.0006\n",
      "Product: щетка зубная - 0.0003\n",
      "Product: туалетная вода - 0.0021\n",
      "Product: губная помада - 0.0003\n",
      "Product: пена для ванн, гель для душа - 0.0009\n",
      "Product: лак для ногтей - 0.0002\n",
      "Product: лак, бальзам для волос - 0.0016\n",
      "Product: краска для волос - 0.0012\n",
      "Product: тушь для ресниц, бровей - 0.0004\n",
      "Product: салфетки влажные - 0.0005\n",
      "Group:  БУМАЖНО-БЕЛОВЫЕ ТОВАРЫ\n",
      "Product: бумага туалетная, салфетки бумажные - 0.0021\n",
      "Product: подгузники, гигиенические пакеты - 0.0049\n",
      "Group:  ПРОЧИЕ ТОВАРЫ\n",
      "Product: цветы живые (срезанные) - 0.0018\n",
      "Product: почвогрунт - 0.0004\n",
      "Product: дрова - 0.0017\n",
      "Product: торфобрикеты - 0.0001\n",
      "Product: инструменты - 0.0006\n",
      "Product: лопата, грабли - 0.0003\n",
      "Product: спички - 0.0001\n",
      "Product: картридж для очистки воды - 0.0003\n",
      "Product: пакет полиэтиленовый  - 0.0004\n"
     ]
    }
   ],
   "source": [
    "noProdCategoryRB = Category('Непродовольственные товары')\n",
    "\n",
    "\n",
    "lastGroup = None\n",
    "lastSubgroup = None\n",
    "\n",
    "for i in range(noProdIndex+1, serviceIndex):\n",
    "    cell = ws.cell(i, 1)\n",
    "    value = cell.value\n",
    "    weightCell = ws.cell(i, 2)\n",
    "    weight = weightCell.value\n",
    "    font = cell.font\n",
    "    \n",
    "    if weight:\n",
    "        if font.bold and not font.italic and not font.underline:\n",
    "            print('Group: ',value)\n",
    "            group = Group(value)\n",
    "            noProdCategoryRB.Append(group)\n",
    "            lastGroup = group\n",
    "            lastSubgroup = None\n",
    "        elif font.bold and font.italic:\n",
    "            print('Subgroup', value)\n",
    "            subgroup = Subgroup(value)\n",
    "            group.Append(subgroup)\n",
    "            lastSubgroup = subgroup\n",
    "        elif not font.bold and not font.italic and not font.underline:\n",
    "            print('Product:', value, '-', weight)\n",
    "            product = Product(value)\n",
    "            product.SetWeight(weight)\n",
    "            if lastSubgroup != None:\n",
    "                product.SetSubgroup(lastSubgroup)\n",
    "                product.SetGroup(lastGroup)\n",
    "                lastSubgroup.Append(product)\n",
    "            else:\n",
    "                product.SetGroup(lastGroup)\n",
    "                lastGroup.Append(product)"
   ]
  },
  {
   "attachments": {},
   "cell_type": "markdown",
   "metadata": {},
   "source": [
    "Услуги"
   ]
  },
  {
   "cell_type": "code",
   "execution_count": 236,
   "metadata": {},
   "outputs": [
    {
     "name": "stdout",
     "output_type": "stream",
     "text": [
      "Group:  ЖИЛИЩНО-КОММУНАЛЬНЫЕ\n",
      "Group:  ГОСТИНИЦ И АНАЛОГИЧНЫХ СРЕДСТВ РАЗМЕЩЕНИЯ\n",
      "Group:  БЫТОВЫЕ\n",
      "Group:  СВЯЗИ\n",
      "Group:  ДОШКОЛЬНЫХ УЧРЕЖДЕНИЙ\n",
      "Group:  ТРАНСПОРТА\n",
      "Group:  ПАССАЖИРСКОГО ТРАНСПОРТА\n",
      "Group:  ТРАНСПОРТНОЙ ЭКСПЕДИЦИИ\n",
      "Group:  КУЛЬТУРЫ\n",
      "Group:  САНАТОРНО-ОЗДОРОВИТЕЛЬНЫЕ\n",
      "Group:  ТУРИСТИЧЕСКИЕ \n",
      "Group:  ФИЗИЧЕСКОЙ КУЛЬТУРЫ И СПОРТА\n",
      "Group:  МЕДИЦИНСКИЕ\n",
      "Group:  БАНКОВ\n",
      "Group:  ПРАВОВЫЕ\n",
      "Group:  ОБРАЗОВАНИЯ\n",
      "Group:  УСЛУГИ ПО СДАЧЕ  В  АРЕНДУ (НАЕМ) СОБСТВЕННОГО  ИЛИ  АРЕНДОВАННОГО ЖИЛЬЯ\n",
      "Group:  ПРОЧИЕ УСЛУГИ\n"
     ]
    }
   ],
   "source": [
    "serviceCategory = Category('Услуги')\n",
    "\n",
    "for i in range(serviceIndex+1, ws.max_row + 1):\n",
    "    cell = ws.cell(i, 1)\n",
    "    weightCell = ws.cell(i, 2)\n",
    "    if cell.value and weightCell.value:\n",
    "        value = cell.value\n",
    "        font = cell.font\n",
    "        alignment = cell.alignment\n",
    "        indent = alignment.indent\n",
    "        # print('Font:', font.name, 'Indent:', indent, '-', value)\n",
    "        if font.bold and not font.italic and not font.underline:\n",
    "            print('Group: ',value)\n",
    "            group = Group(value)\n",
    "            serviceCategory.Append(group)\n",
    "            lastList = group\n",
    "        # elif font.bold and font.italic:\n",
    "        #     print('SubGroup', value)\n",
    "        #     subgroup = Subgroup(value)\n",
    "        #     group.Append(subgroup)\n",
    "        #     lastList = subgroup\n",
    "        # elif not font.bold and not font.italic and not font.underline:\n",
    "        #     print('Product:', value)\n",
    "        #     product = Product(value)\n",
    "        #     lastList.Append(product)"
   ]
  },
  {
   "attachments": {},
   "cell_type": "markdown",
   "metadata": {},
   "source": [
    "Получение списка товаров РБ с ценами"
   ]
  },
  {
   "cell_type": "code",
   "execution_count": 267,
   "metadata": {},
   "outputs": [],
   "source": [
    "def loadProdPricesRB(path='Average_prices-06-2023.xls', header=7):\n",
    "    ''' Загрузить продовольственные товары РБ из файла с ценами\n",
    "    '''\n",
    "    df = pd.read_excel(path, header=header)\n",
    "    prod = df.iloc[:df[df['ПРОДОВОЛЬСТВЕННЫЕ ТОВАРЫ'] == 'НЕПРОДОВОЛЬСТВЕННЫЕ ТОВАРЫ'].index[0]]\n",
    "    prod = prod.dropna()\n",
    "    prod = prod.rename(columns={prod.columns[0]:'Название товара', prod.columns[1]:'РБ', prod.columns[2]:'Брестская', prod.columns[3]:'Витебская', prod.columns[4]:'Гомельская', prod.columns[5]:'Гродненская', prod.columns[6]:'Минск', prod.columns[7]:'Минская', prod.columns[8]:'Могилевская'})\n",
    "    return prod\n",
    "\n",
    "def loadNotProdPricesRB(path='Average_prices-06-2023.xls', header=7):\n",
    "    ''' Загрузить непродовольственные товары РБ из файла с ценами\n",
    "    '''\n",
    "    df = pd.read_excel(path, header=header)\n",
    "    notprod = df.iloc[df[df['ПРОДОВОЛЬСТВЕННЫЕ ТОВАРЫ'] == 'НЕПРОДОВОЛЬСТВЕННЫЕ ТОВАРЫ'].index[0]+1:]\n",
    "    notprod = notprod.dropna()\n",
    "    notprod = notprod.rename(columns={notprod.columns[0]:'Название товара', notprod.columns[1]:'РБ', notprod.columns[2]:'Брестская', notprod.columns[3]:'Витебская', notprod.columns[4]:'Гомельская', notprod.columns[5]:'Гродненская', notprod.columns[6]:'Минск', notprod.columns[7]:'Минская', notprod.columns[8]:'Могилевская'})\n",
    "    return notprod\n",
    "\n",
    "def clean_string(string):\n",
    "  '''Функция очистки\n",
    "  Получает строку, переводит в нижний регистр, очищает лишних данных, пробелов, знаков препинания и т.д.\n",
    "  '''\n",
    "  string = str(string).lower()\n",
    "  # Ищем и заменяем скобки и все, что в них, на пустую строку\n",
    "  string = re.sub(r\"\\(.*\\)\", \" \", string)\n",
    "\n",
    "  # Удаляем знаки препинания\n",
    "  string = string.translate(str.maketrans(' ', ' ', s.punctuation))\n",
    "\n",
    "  # Удаляем единицы измерения\n",
    "  pattern = r'(\\d+)*\\s+(кг|г|л|мл|шт|штук|м|м2|м3|см|таблеток|пакетиков)\\b' # шаблон регулярного выражения\n",
    "  string = re.sub(pattern, \" \", string) # замена единиц измерения на пустую строку\n",
    "  # Удаляем цифры\n",
    "  string = re.sub(r'\\d+', \" \", string)\n",
    "  # Удаляем лишние пробелы\n",
    "  string = re.sub(r\"\\s+\", \" \", string)\n",
    "  \n",
    "  # Удаляем лишние пробелы в начале и конце строки\n",
    "  string = string.strip()\n",
    "\n",
    "  # Добавляем очищенную строку в список\n",
    "  return string\n",
    "\n",
    "def clean(df, column):\n",
    "  '''Применяет функцию clean_string() для всего столбца и записывает новые строки в новый столбец с припиской _cleaned'''\n",
    "  df[column+'_cleaned'] = df[column].apply(lambda x: clean_string(x))\n",
    "  return df\n",
    "\n",
    "prodPricesRB = loadProdPricesRB()\n",
    "# prodPricesRB = clean(prodPricesRB, prodPricesRB.columns[0])\n",
    "notProdPricesRB = loadNotProdPricesRB()\n",
    "# notProdPricesRB = clean(notProdPricesRB, notProdPricesRB.columns[0])"
   ]
  },
  {
   "attachments": {},
   "cell_type": "markdown",
   "metadata": {},
   "source": [
    "Получение списков товаров РБ с весами"
   ]
  },
  {
   "cell_type": "code",
   "execution_count": 268,
   "metadata": {},
   "outputs": [],
   "source": [
    "prodRB = prodCategoryRB.GetProducts()\n",
    "noProdRB = noProdCategoryRB.GetProducts()\n"
   ]
  },
  {
   "attachments": {},
   "cell_type": "markdown",
   "metadata": {},
   "source": [
    "Функция сопоставления строк"
   ]
  },
  {
   "cell_type": "code",
   "execution_count": 269,
   "metadata": {},
   "outputs": [],
   "source": [
    "def my_levenshtein_distance(str1, str2):\n",
    "   '''Функция для получения разницы между строками методом Левенштейна (не тот мужик из американского пирога),\n",
    "     при котором строка разбивается на слова и сортируется по алфавиту\n",
    "   '''\n",
    "   str1_words = str1.split()\n",
    "   str2_words = str2.split()\n",
    "\n",
    "   str1_words.sort()\n",
    "   str2_words.sort()\n",
    "\n",
    "   str1_sorted = ' '.join(str1_words)\n",
    "   str2_sorted = ' '.join(str2_words)\n",
    "\n",
    "   return levenshtein_distance(str1_sorted, str2_sorted)\n",
    "\n",
    "def combine_cosine_levenshtein_jar_win(str1, str2, alpha=0.25, beta=0.25, gamma=0.5):\n",
    "    '''Функция сопоставления двух строк str1 и str2. Возвращает значение от 0 до 1, насколько похожи строки.\n",
    "    Функция использует комбинацию из методов косинусного сопоставления, Левенштейна и Джаро-Винклера\\n\n",
    "    alpha: вес для метода косинусного сопоставления\\n\n",
    "    beta: вес для метода Левенштейна\n",
    "    gamma: вес для метода Джаро-Винклера'''\n",
    "    # convert strings to vectors of character frequencies\n",
    "    vec1 = list(Counter(str1).values())\n",
    "    vec2 = list(Counter(str2).values())\n",
    "    # pad the vectors with zeros to the same length\n",
    "    vec1, vec2 = pad_sequences([vec1, vec2], padding='post')\n",
    "    # compute cosine similarity between vectors\n",
    "    cos_sim = cosine_similarity([vec1], [vec2])[0][0]\n",
    "    # normalize cosine similarity to [0, 1] range\n",
    "    cos_sim = (1 + cos_sim) / 2\n",
    "    # compute levenshtein distance between strings\n",
    "    lev_dist = my_levenshtein_distance(str1, str2)\n",
    "    # normalize levenshtein distance to [0, 1] range\n",
    "    lev_dist = 1 - lev_dist / max(len(str1), len(str2))\n",
    "    # compute jaro-winkler distance between strings\n",
    "    jar_win_dist = jaro_winkler_distance.get_jaro_distance(str1, str2)\n",
    "    # combine the three methods by weighted sum\n",
    "    return alpha * cos_sim + beta * lev_dist + gamma * jar_win_dist\n",
    "\n",
    "def GetProductCount(name):\n",
    "    count_str = re.search(r\"(\\d+((,+|\\.+)*\\d*)?\\s*((мг)|(г)|(гр)|(кг)|(мл)|(л)))|(1/\\d+)\", name)\n",
    "    if count_str == None:\n",
    "        return 1\n",
    "    try:\n",
    "        count_str = count_str.group(0)\n",
    "        count_str = count_str.replace(\",\",\".\")\n",
    "        if re.search(\"\\s*вес[\\s$]+\", count_str) != None:\n",
    "            return 1\n",
    "        if re.search(\"1/\\d+\", count_str) != None:\n",
    "            count = count_str.replace(\"1/\", \"\")\n",
    "            return float(count) / 1000\n",
    "        if re.search(\"\\d+((,+|\\.+)*\\d*)?\\s*(мг)\", count_str) != None:\n",
    "            count = count_str.replace(\"мг\", \"\").strip()\n",
    "            return float(count) / 1000000\n",
    "        if re.search(\"\\d+((,+|\\.+)*\\d*)?\\s*(кг)\", count_str) != None:\n",
    "            count = count_str.replace(\"кг\", \"\").strip()\n",
    "            return float(count)\n",
    "        if re.search(\"\\d+((,+|\\.+)*\\d*)?\\s*(гр)\", count_str) != None:\n",
    "            count = count_str.replace(\"гр\", \"\").strip()\n",
    "            return float(count) / 1000\n",
    "        if re.search(\"\\d+((,+|\\.+)*\\d*)?\\s*(г)\", count_str) != None:\n",
    "            count = count_str.replace(\"г\", \"\").strip()\n",
    "            return float(count) / 1000\n",
    "        if re.search(\"\\d+((,+|\\.+)*\\d*)?\\s*(мл)\", count_str) != None:\n",
    "            count = count_str.replace(\"мл\", \"\").strip()\n",
    "            return float(count) / 1000\n",
    "        if re.search(\"\\d+((,+|\\.+)*\\d*)?\\s*(л)\", count_str) != None:\n",
    "            count = count_str.replace(\"л\", \"\").strip()\n",
    "            return float(count)\n",
    "    except Exception as e:\n",
    "        print(e)\n",
    "        return 1\n",
    "\n",
    "def compareRB(list1, df2: pd.DataFrame, colname2, perc, noProd=False):\n",
    "    list2 = df2[colname2].to_list()\n",
    "    resultdf = pd.DataFrame()\n",
    "    for i in range(len(list1)):\n",
    "        name1 = list1[i].name\n",
    "        if noProd and list1[i].subgroup != None:\n",
    "            name1 = list1[i].name + ' ' + list1[i].subgroup.name\n",
    "        name1Clean = clean_string(name1)\n",
    "        min_dist = 0\n",
    "        for j in range(len(list2)):\n",
    "            score = get_cosine_similarity_new(name1Clean, clean_string(list2[j]))\n",
    "            # score = combine_cosine_levenshtein_jar_win(name1Clean, clean_string(list2[j]), alpha, beta, gamma)\n",
    "            if score > min_dist:\n",
    "                min_dist = score\n",
    "                similar_index = j\n",
    "\n",
    "        if min_dist >= perc:\n",
    "            columns = df2.columns.tolist()\n",
    "            for state in columns[1:]:\n",
    "                count = GetProductCount(list2[similar_index])\n",
    "                price = float(df2[state].iloc[similar_index]) / count\n",
    "                list1[i].SetPriceBYN(state, price)\n",
    "            resultdf = resultdf.append({'name1': name1,\n",
    "                                        'name2': list2[similar_index],\n",
    "                                        'score': min_dist,\n",
    "                                        'weight': list1[i].weight,\n",
    "                                        'priceBYN': list1[i].pricesBYN}, ignore_index=True)\n",
    "        else:\n",
    "            resultdf = resultdf.append({'name1': list1[i].name}, ignore_index=True)\n",
    "    return resultdf\n",
    "\n",
    "def compareRF(list1, df2, colname2, colname2prices, perc, noProd=False):\n",
    "    list2 = df2[colname2].to_list()\n",
    "    resultdf = pd.DataFrame()\n",
    "    for i in range(len(list1)):\n",
    "        name1 = list1[i].name\n",
    "        if noProd and list1[i].subgroup != None:\n",
    "            name1 = list1[i].name + ' ' + list1[i].subgroup.name\n",
    "        name1Clean = clean_string(name1)\n",
    "        min_dist = 0\n",
    "        for j in range(len(list2)):\n",
    "            # score = match_products(list1[i].name, list2[j], 0, 0, None, None, None, None)\n",
    "            score = get_cosine_similarity_new(name1Clean, clean_string(list2[j]))\n",
    "            # score = combine_cosine_levenshtein_jar_win(name1Clean, clean_string(list2[j]), alpha, beta, gamma)\n",
    "            if score > min_dist:\n",
    "                min_dist = score\n",
    "                similar_index = j\n",
    "        if min_dist >= perc:\n",
    "            columns = df2.columns.tolist()\n",
    "            for state in columns[1:]:\n",
    "                count = GetProductCount(list2[similar_index])\n",
    "                price = float(df2[colname2prices].iloc[similar_index]) / count\n",
    "                list1[i].SetPriceRUB(state, price)\n",
    "            resultdf = resultdf.append({'name1': name1,\n",
    "                                        'name2': list2[similar_index],\n",
    "                                        'score': min_dist,\n",
    "                                        'weight': list1[i].weight,\n",
    "                                        'priceRUB': list1[i].pricesRUB}, ignore_index=True)\n",
    "        else:\n",
    "            resultdf = resultdf.append({'name1': list1[i].name}, ignore_index=True)\n",
    "    return resultdf"
   ]
  },
  {
   "attachments": {},
   "cell_type": "markdown",
   "metadata": {},
   "source": [
    "Сопоставление продовольственных товаров РБ"
   ]
  },
  {
   "cell_type": "code",
   "execution_count": 271,
   "metadata": {},
   "outputs": [
    {
     "name": "stderr",
     "output_type": "stream",
     "text": [
      "C:\\Users\\Admin\\AppData\\Local\\Temp\\ipykernel_11920\\2923290319.py:96: FutureWarning: The frame.append method is deprecated and will be removed from pandas in a future version. Use pandas.concat instead.\n",
      "  resultdf = resultdf.append({'name1': name1,\n",
      "C:\\Users\\Admin\\AppData\\Local\\Temp\\ipykernel_11920\\2923290319.py:96: FutureWarning: The frame.append method is deprecated and will be removed from pandas in a future version. Use pandas.concat instead.\n",
      "  resultdf = resultdf.append({'name1': name1,\n",
      "C:\\Users\\Admin\\AppData\\Local\\Temp\\ipykernel_11920\\2923290319.py:96: FutureWarning: The frame.append method is deprecated and will be removed from pandas in a future version. Use pandas.concat instead.\n",
      "  resultdf = resultdf.append({'name1': name1,\n",
      "C:\\Users\\Admin\\AppData\\Local\\Temp\\ipykernel_11920\\2923290319.py:96: FutureWarning: The frame.append method is deprecated and will be removed from pandas in a future version. Use pandas.concat instead.\n",
      "  resultdf = resultdf.append({'name1': name1,\n",
      "C:\\Users\\Admin\\AppData\\Local\\Temp\\ipykernel_11920\\2923290319.py:96: FutureWarning: The frame.append method is deprecated and will be removed from pandas in a future version. Use pandas.concat instead.\n",
      "  resultdf = resultdf.append({'name1': name1,\n",
      "C:\\Users\\Admin\\AppData\\Local\\Temp\\ipykernel_11920\\2923290319.py:96: FutureWarning: The frame.append method is deprecated and will be removed from pandas in a future version. Use pandas.concat instead.\n",
      "  resultdf = resultdf.append({'name1': name1,\n",
      "C:\\Users\\Admin\\AppData\\Local\\Temp\\ipykernel_11920\\2923290319.py:96: FutureWarning: The frame.append method is deprecated and will be removed from pandas in a future version. Use pandas.concat instead.\n",
      "  resultdf = resultdf.append({'name1': name1,\n",
      "C:\\Users\\Admin\\AppData\\Local\\Temp\\ipykernel_11920\\2923290319.py:96: FutureWarning: The frame.append method is deprecated and will be removed from pandas in a future version. Use pandas.concat instead.\n",
      "  resultdf = resultdf.append({'name1': name1,\n",
      "C:\\Users\\Admin\\AppData\\Local\\Temp\\ipykernel_11920\\2923290319.py:96: FutureWarning: The frame.append method is deprecated and will be removed from pandas in a future version. Use pandas.concat instead.\n",
      "  resultdf = resultdf.append({'name1': name1,\n",
      "C:\\Users\\Admin\\AppData\\Local\\Temp\\ipykernel_11920\\2923290319.py:96: FutureWarning: The frame.append method is deprecated and will be removed from pandas in a future version. Use pandas.concat instead.\n",
      "  resultdf = resultdf.append({'name1': name1,\n",
      "C:\\Users\\Admin\\AppData\\Local\\Temp\\ipykernel_11920\\2923290319.py:96: FutureWarning: The frame.append method is deprecated and will be removed from pandas in a future version. Use pandas.concat instead.\n",
      "  resultdf = resultdf.append({'name1': name1,\n",
      "C:\\Users\\Admin\\AppData\\Local\\Temp\\ipykernel_11920\\2923290319.py:96: FutureWarning: The frame.append method is deprecated and will be removed from pandas in a future version. Use pandas.concat instead.\n",
      "  resultdf = resultdf.append({'name1': name1,\n",
      "C:\\Users\\Admin\\AppData\\Local\\Temp\\ipykernel_11920\\2923290319.py:96: FutureWarning: The frame.append method is deprecated and will be removed from pandas in a future version. Use pandas.concat instead.\n",
      "  resultdf = resultdf.append({'name1': name1,\n",
      "C:\\Users\\Admin\\AppData\\Local\\Temp\\ipykernel_11920\\2923290319.py:102: FutureWarning: The frame.append method is deprecated and will be removed from pandas in a future version. Use pandas.concat instead.\n",
      "  resultdf = resultdf.append({'name1': list1[i].name}, ignore_index=True)\n",
      "C:\\Users\\Admin\\AppData\\Local\\Temp\\ipykernel_11920\\2923290319.py:102: FutureWarning: The frame.append method is deprecated and will be removed from pandas in a future version. Use pandas.concat instead.\n",
      "  resultdf = resultdf.append({'name1': list1[i].name}, ignore_index=True)\n",
      "C:\\Users\\Admin\\AppData\\Local\\Temp\\ipykernel_11920\\2923290319.py:96: FutureWarning: The frame.append method is deprecated and will be removed from pandas in a future version. Use pandas.concat instead.\n",
      "  resultdf = resultdf.append({'name1': name1,\n",
      "C:\\Users\\Admin\\AppData\\Local\\Temp\\ipykernel_11920\\2923290319.py:96: FutureWarning: The frame.append method is deprecated and will be removed from pandas in a future version. Use pandas.concat instead.\n",
      "  resultdf = resultdf.append({'name1': name1,\n",
      "C:\\Users\\Admin\\AppData\\Local\\Temp\\ipykernel_11920\\2923290319.py:96: FutureWarning: The frame.append method is deprecated and will be removed from pandas in a future version. Use pandas.concat instead.\n",
      "  resultdf = resultdf.append({'name1': name1,\n",
      "C:\\Users\\Admin\\AppData\\Local\\Temp\\ipykernel_11920\\2923290319.py:96: FutureWarning: The frame.append method is deprecated and will be removed from pandas in a future version. Use pandas.concat instead.\n",
      "  resultdf = resultdf.append({'name1': name1,\n",
      "C:\\Users\\Admin\\AppData\\Local\\Temp\\ipykernel_11920\\2923290319.py:96: FutureWarning: The frame.append method is deprecated and will be removed from pandas in a future version. Use pandas.concat instead.\n",
      "  resultdf = resultdf.append({'name1': name1,\n",
      "C:\\Users\\Admin\\AppData\\Local\\Temp\\ipykernel_11920\\2923290319.py:96: FutureWarning: The frame.append method is deprecated and will be removed from pandas in a future version. Use pandas.concat instead.\n",
      "  resultdf = resultdf.append({'name1': name1,\n",
      "C:\\Users\\Admin\\AppData\\Local\\Temp\\ipykernel_11920\\2923290319.py:96: FutureWarning: The frame.append method is deprecated and will be removed from pandas in a future version. Use pandas.concat instead.\n",
      "  resultdf = resultdf.append({'name1': name1,\n",
      "C:\\Users\\Admin\\AppData\\Local\\Temp\\ipykernel_11920\\2923290319.py:96: FutureWarning: The frame.append method is deprecated and will be removed from pandas in a future version. Use pandas.concat instead.\n",
      "  resultdf = resultdf.append({'name1': name1,\n",
      "C:\\Users\\Admin\\AppData\\Local\\Temp\\ipykernel_11920\\2923290319.py:96: FutureWarning: The frame.append method is deprecated and will be removed from pandas in a future version. Use pandas.concat instead.\n",
      "  resultdf = resultdf.append({'name1': name1,\n",
      "C:\\Users\\Admin\\AppData\\Local\\Temp\\ipykernel_11920\\2923290319.py:96: FutureWarning: The frame.append method is deprecated and will be removed from pandas in a future version. Use pandas.concat instead.\n",
      "  resultdf = resultdf.append({'name1': name1,\n",
      "C:\\Users\\Admin\\AppData\\Local\\Temp\\ipykernel_11920\\2923290319.py:96: FutureWarning: The frame.append method is deprecated and will be removed from pandas in a future version. Use pandas.concat instead.\n",
      "  resultdf = resultdf.append({'name1': name1,\n",
      "C:\\Users\\Admin\\AppData\\Local\\Temp\\ipykernel_11920\\2923290319.py:96: FutureWarning: The frame.append method is deprecated and will be removed from pandas in a future version. Use pandas.concat instead.\n",
      "  resultdf = resultdf.append({'name1': name1,\n",
      "C:\\Users\\Admin\\AppData\\Local\\Temp\\ipykernel_11920\\2923290319.py:96: FutureWarning: The frame.append method is deprecated and will be removed from pandas in a future version. Use pandas.concat instead.\n",
      "  resultdf = resultdf.append({'name1': name1,\n",
      "C:\\Users\\Admin\\AppData\\Local\\Temp\\ipykernel_11920\\2923290319.py:96: FutureWarning: The frame.append method is deprecated and will be removed from pandas in a future version. Use pandas.concat instead.\n",
      "  resultdf = resultdf.append({'name1': name1,\n",
      "C:\\Users\\Admin\\AppData\\Local\\Temp\\ipykernel_11920\\2923290319.py:96: FutureWarning: The frame.append method is deprecated and will be removed from pandas in a future version. Use pandas.concat instead.\n",
      "  resultdf = resultdf.append({'name1': name1,\n",
      "C:\\Users\\Admin\\AppData\\Local\\Temp\\ipykernel_11920\\2923290319.py:96: FutureWarning: The frame.append method is deprecated and will be removed from pandas in a future version. Use pandas.concat instead.\n",
      "  resultdf = resultdf.append({'name1': name1,\n",
      "C:\\Users\\Admin\\AppData\\Local\\Temp\\ipykernel_11920\\2923290319.py:96: FutureWarning: The frame.append method is deprecated and will be removed from pandas in a future version. Use pandas.concat instead.\n",
      "  resultdf = resultdf.append({'name1': name1,\n",
      "C:\\Users\\Admin\\AppData\\Local\\Temp\\ipykernel_11920\\2923290319.py:96: FutureWarning: The frame.append method is deprecated and will be removed from pandas in a future version. Use pandas.concat instead.\n",
      "  resultdf = resultdf.append({'name1': name1,\n",
      "C:\\Users\\Admin\\AppData\\Local\\Temp\\ipykernel_11920\\2923290319.py:96: FutureWarning: The frame.append method is deprecated and will be removed from pandas in a future version. Use pandas.concat instead.\n",
      "  resultdf = resultdf.append({'name1': name1,\n",
      "C:\\Users\\Admin\\AppData\\Local\\Temp\\ipykernel_11920\\2923290319.py:102: FutureWarning: The frame.append method is deprecated and will be removed from pandas in a future version. Use pandas.concat instead.\n",
      "  resultdf = resultdf.append({'name1': list1[i].name}, ignore_index=True)\n",
      "C:\\Users\\Admin\\AppData\\Local\\Temp\\ipykernel_11920\\2923290319.py:96: FutureWarning: The frame.append method is deprecated and will be removed from pandas in a future version. Use pandas.concat instead.\n",
      "  resultdf = resultdf.append({'name1': name1,\n",
      "C:\\Users\\Admin\\AppData\\Local\\Temp\\ipykernel_11920\\2923290319.py:102: FutureWarning: The frame.append method is deprecated and will be removed from pandas in a future version. Use pandas.concat instead.\n",
      "  resultdf = resultdf.append({'name1': list1[i].name}, ignore_index=True)\n",
      "C:\\Users\\Admin\\AppData\\Local\\Temp\\ipykernel_11920\\2923290319.py:102: FutureWarning: The frame.append method is deprecated and will be removed from pandas in a future version. Use pandas.concat instead.\n",
      "  resultdf = resultdf.append({'name1': list1[i].name}, ignore_index=True)\n",
      "C:\\Users\\Admin\\AppData\\Local\\Temp\\ipykernel_11920\\2923290319.py:96: FutureWarning: The frame.append method is deprecated and will be removed from pandas in a future version. Use pandas.concat instead.\n",
      "  resultdf = resultdf.append({'name1': name1,\n",
      "C:\\Users\\Admin\\AppData\\Local\\Temp\\ipykernel_11920\\2923290319.py:96: FutureWarning: The frame.append method is deprecated and will be removed from pandas in a future version. Use pandas.concat instead.\n",
      "  resultdf = resultdf.append({'name1': name1,\n",
      "C:\\Users\\Admin\\AppData\\Local\\Temp\\ipykernel_11920\\2923290319.py:96: FutureWarning: The frame.append method is deprecated and will be removed from pandas in a future version. Use pandas.concat instead.\n",
      "  resultdf = resultdf.append({'name1': name1,\n",
      "C:\\Users\\Admin\\AppData\\Local\\Temp\\ipykernel_11920\\2923290319.py:102: FutureWarning: The frame.append method is deprecated and will be removed from pandas in a future version. Use pandas.concat instead.\n",
      "  resultdf = resultdf.append({'name1': list1[i].name}, ignore_index=True)\n",
      "C:\\Users\\Admin\\AppData\\Local\\Temp\\ipykernel_11920\\2923290319.py:96: FutureWarning: The frame.append method is deprecated and will be removed from pandas in a future version. Use pandas.concat instead.\n",
      "  resultdf = resultdf.append({'name1': name1,\n",
      "C:\\Users\\Admin\\AppData\\Local\\Temp\\ipykernel_11920\\2923290319.py:96: FutureWarning: The frame.append method is deprecated and will be removed from pandas in a future version. Use pandas.concat instead.\n",
      "  resultdf = resultdf.append({'name1': name1,\n",
      "C:\\Users\\Admin\\AppData\\Local\\Temp\\ipykernel_11920\\2923290319.py:96: FutureWarning: The frame.append method is deprecated and will be removed from pandas in a future version. Use pandas.concat instead.\n",
      "  resultdf = resultdf.append({'name1': name1,\n",
      "C:\\Users\\Admin\\AppData\\Local\\Temp\\ipykernel_11920\\2923290319.py:96: FutureWarning: The frame.append method is deprecated and will be removed from pandas in a future version. Use pandas.concat instead.\n",
      "  resultdf = resultdf.append({'name1': name1,\n",
      "C:\\Users\\Admin\\AppData\\Local\\Temp\\ipykernel_11920\\2923290319.py:102: FutureWarning: The frame.append method is deprecated and will be removed from pandas in a future version. Use pandas.concat instead.\n",
      "  resultdf = resultdf.append({'name1': list1[i].name}, ignore_index=True)\n",
      "C:\\Users\\Admin\\AppData\\Local\\Temp\\ipykernel_11920\\2923290319.py:96: FutureWarning: The frame.append method is deprecated and will be removed from pandas in a future version. Use pandas.concat instead.\n",
      "  resultdf = resultdf.append({'name1': name1,\n",
      "C:\\Users\\Admin\\AppData\\Local\\Temp\\ipykernel_11920\\2923290319.py:96: FutureWarning: The frame.append method is deprecated and will be removed from pandas in a future version. Use pandas.concat instead.\n",
      "  resultdf = resultdf.append({'name1': name1,\n",
      "C:\\Users\\Admin\\AppData\\Local\\Temp\\ipykernel_11920\\2923290319.py:102: FutureWarning: The frame.append method is deprecated and will be removed from pandas in a future version. Use pandas.concat instead.\n",
      "  resultdf = resultdf.append({'name1': list1[i].name}, ignore_index=True)\n",
      "C:\\Users\\Admin\\AppData\\Local\\Temp\\ipykernel_11920\\2923290319.py:96: FutureWarning: The frame.append method is deprecated and will be removed from pandas in a future version. Use pandas.concat instead.\n",
      "  resultdf = resultdf.append({'name1': name1,\n",
      "C:\\Users\\Admin\\AppData\\Local\\Temp\\ipykernel_11920\\2923290319.py:96: FutureWarning: The frame.append method is deprecated and will be removed from pandas in a future version. Use pandas.concat instead.\n",
      "  resultdf = resultdf.append({'name1': name1,\n",
      "C:\\Users\\Admin\\AppData\\Local\\Temp\\ipykernel_11920\\2923290319.py:96: FutureWarning: The frame.append method is deprecated and will be removed from pandas in a future version. Use pandas.concat instead.\n",
      "  resultdf = resultdf.append({'name1': name1,\n",
      "C:\\Users\\Admin\\AppData\\Local\\Temp\\ipykernel_11920\\2923290319.py:96: FutureWarning: The frame.append method is deprecated and will be removed from pandas in a future version. Use pandas.concat instead.\n",
      "  resultdf = resultdf.append({'name1': name1,\n",
      "C:\\Users\\Admin\\AppData\\Local\\Temp\\ipykernel_11920\\2923290319.py:96: FutureWarning: The frame.append method is deprecated and will be removed from pandas in a future version. Use pandas.concat instead.\n",
      "  resultdf = resultdf.append({'name1': name1,\n",
      "C:\\Users\\Admin\\AppData\\Local\\Temp\\ipykernel_11920\\2923290319.py:96: FutureWarning: The frame.append method is deprecated and will be removed from pandas in a future version. Use pandas.concat instead.\n",
      "  resultdf = resultdf.append({'name1': name1,\n",
      "C:\\Users\\Admin\\AppData\\Local\\Temp\\ipykernel_11920\\2923290319.py:96: FutureWarning: The frame.append method is deprecated and will be removed from pandas in a future version. Use pandas.concat instead.\n",
      "  resultdf = resultdf.append({'name1': name1,\n",
      "C:\\Users\\Admin\\AppData\\Local\\Temp\\ipykernel_11920\\2923290319.py:96: FutureWarning: The frame.append method is deprecated and will be removed from pandas in a future version. Use pandas.concat instead.\n",
      "  resultdf = resultdf.append({'name1': name1,\n",
      "C:\\Users\\Admin\\AppData\\Local\\Temp\\ipykernel_11920\\2923290319.py:96: FutureWarning: The frame.append method is deprecated and will be removed from pandas in a future version. Use pandas.concat instead.\n",
      "  resultdf = resultdf.append({'name1': name1,\n",
      "C:\\Users\\Admin\\AppData\\Local\\Temp\\ipykernel_11920\\2923290319.py:96: FutureWarning: The frame.append method is deprecated and will be removed from pandas in a future version. Use pandas.concat instead.\n",
      "  resultdf = resultdf.append({'name1': name1,\n",
      "C:\\Users\\Admin\\AppData\\Local\\Temp\\ipykernel_11920\\2923290319.py:96: FutureWarning: The frame.append method is deprecated and will be removed from pandas in a future version. Use pandas.concat instead.\n",
      "  resultdf = resultdf.append({'name1': name1,\n",
      "C:\\Users\\Admin\\AppData\\Local\\Temp\\ipykernel_11920\\2923290319.py:96: FutureWarning: The frame.append method is deprecated and will be removed from pandas in a future version. Use pandas.concat instead.\n",
      "  resultdf = resultdf.append({'name1': name1,\n",
      "C:\\Users\\Admin\\AppData\\Local\\Temp\\ipykernel_11920\\2923290319.py:96: FutureWarning: The frame.append method is deprecated and will be removed from pandas in a future version. Use pandas.concat instead.\n",
      "  resultdf = resultdf.append({'name1': name1,\n",
      "C:\\Users\\Admin\\AppData\\Local\\Temp\\ipykernel_11920\\2923290319.py:96: FutureWarning: The frame.append method is deprecated and will be removed from pandas in a future version. Use pandas.concat instead.\n",
      "  resultdf = resultdf.append({'name1': name1,\n",
      "C:\\Users\\Admin\\AppData\\Local\\Temp\\ipykernel_11920\\2923290319.py:96: FutureWarning: The frame.append method is deprecated and will be removed from pandas in a future version. Use pandas.concat instead.\n",
      "  resultdf = resultdf.append({'name1': name1,\n",
      "C:\\Users\\Admin\\AppData\\Local\\Temp\\ipykernel_11920\\2923290319.py:96: FutureWarning: The frame.append method is deprecated and will be removed from pandas in a future version. Use pandas.concat instead.\n",
      "  resultdf = resultdf.append({'name1': name1,\n",
      "C:\\Users\\Admin\\AppData\\Local\\Temp\\ipykernel_11920\\2923290319.py:96: FutureWarning: The frame.append method is deprecated and will be removed from pandas in a future version. Use pandas.concat instead.\n",
      "  resultdf = resultdf.append({'name1': name1,\n",
      "C:\\Users\\Admin\\AppData\\Local\\Temp\\ipykernel_11920\\2923290319.py:96: FutureWarning: The frame.append method is deprecated and will be removed from pandas in a future version. Use pandas.concat instead.\n",
      "  resultdf = resultdf.append({'name1': name1,\n",
      "C:\\Users\\Admin\\AppData\\Local\\Temp\\ipykernel_11920\\2923290319.py:96: FutureWarning: The frame.append method is deprecated and will be removed from pandas in a future version. Use pandas.concat instead.\n",
      "  resultdf = resultdf.append({'name1': name1,\n",
      "C:\\Users\\Admin\\AppData\\Local\\Temp\\ipykernel_11920\\2923290319.py:96: FutureWarning: The frame.append method is deprecated and will be removed from pandas in a future version. Use pandas.concat instead.\n",
      "  resultdf = resultdf.append({'name1': name1,\n",
      "C:\\Users\\Admin\\AppData\\Local\\Temp\\ipykernel_11920\\2923290319.py:96: FutureWarning: The frame.append method is deprecated and will be removed from pandas in a future version. Use pandas.concat instead.\n",
      "  resultdf = resultdf.append({'name1': name1,\n",
      "C:\\Users\\Admin\\AppData\\Local\\Temp\\ipykernel_11920\\2923290319.py:96: FutureWarning: The frame.append method is deprecated and will be removed from pandas in a future version. Use pandas.concat instead.\n",
      "  resultdf = resultdf.append({'name1': name1,\n",
      "C:\\Users\\Admin\\AppData\\Local\\Temp\\ipykernel_11920\\2923290319.py:96: FutureWarning: The frame.append method is deprecated and will be removed from pandas in a future version. Use pandas.concat instead.\n",
      "  resultdf = resultdf.append({'name1': name1,\n",
      "C:\\Users\\Admin\\AppData\\Local\\Temp\\ipykernel_11920\\2923290319.py:96: FutureWarning: The frame.append method is deprecated and will be removed from pandas in a future version. Use pandas.concat instead.\n",
      "  resultdf = resultdf.append({'name1': name1,\n",
      "C:\\Users\\Admin\\AppData\\Local\\Temp\\ipykernel_11920\\2923290319.py:96: FutureWarning: The frame.append method is deprecated and will be removed from pandas in a future version. Use pandas.concat instead.\n",
      "  resultdf = resultdf.append({'name1': name1,\n",
      "C:\\Users\\Admin\\AppData\\Local\\Temp\\ipykernel_11920\\2923290319.py:96: FutureWarning: The frame.append method is deprecated and will be removed from pandas in a future version. Use pandas.concat instead.\n",
      "  resultdf = resultdf.append({'name1': name1,\n",
      "C:\\Users\\Admin\\AppData\\Local\\Temp\\ipykernel_11920\\2923290319.py:96: FutureWarning: The frame.append method is deprecated and will be removed from pandas in a future version. Use pandas.concat instead.\n",
      "  resultdf = resultdf.append({'name1': name1,\n",
      "C:\\Users\\Admin\\AppData\\Local\\Temp\\ipykernel_11920\\2923290319.py:96: FutureWarning: The frame.append method is deprecated and will be removed from pandas in a future version. Use pandas.concat instead.\n",
      "  resultdf = resultdf.append({'name1': name1,\n",
      "C:\\Users\\Admin\\AppData\\Local\\Temp\\ipykernel_11920\\2923290319.py:96: FutureWarning: The frame.append method is deprecated and will be removed from pandas in a future version. Use pandas.concat instead.\n",
      "  resultdf = resultdf.append({'name1': name1,\n",
      "C:\\Users\\Admin\\AppData\\Local\\Temp\\ipykernel_11920\\2923290319.py:96: FutureWarning: The frame.append method is deprecated and will be removed from pandas in a future version. Use pandas.concat instead.\n",
      "  resultdf = resultdf.append({'name1': name1,\n",
      "C:\\Users\\Admin\\AppData\\Local\\Temp\\ipykernel_11920\\2923290319.py:96: FutureWarning: The frame.append method is deprecated and will be removed from pandas in a future version. Use pandas.concat instead.\n",
      "  resultdf = resultdf.append({'name1': name1,\n",
      "C:\\Users\\Admin\\AppData\\Local\\Temp\\ipykernel_11920\\2923290319.py:96: FutureWarning: The frame.append method is deprecated and will be removed from pandas in a future version. Use pandas.concat instead.\n",
      "  resultdf = resultdf.append({'name1': name1,\n",
      "C:\\Users\\Admin\\AppData\\Local\\Temp\\ipykernel_11920\\2923290319.py:96: FutureWarning: The frame.append method is deprecated and will be removed from pandas in a future version. Use pandas.concat instead.\n",
      "  resultdf = resultdf.append({'name1': name1,\n",
      "C:\\Users\\Admin\\AppData\\Local\\Temp\\ipykernel_11920\\2923290319.py:96: FutureWarning: The frame.append method is deprecated and will be removed from pandas in a future version. Use pandas.concat instead.\n",
      "  resultdf = resultdf.append({'name1': name1,\n",
      "C:\\Users\\Admin\\AppData\\Local\\Temp\\ipykernel_11920\\2923290319.py:96: FutureWarning: The frame.append method is deprecated and will be removed from pandas in a future version. Use pandas.concat instead.\n",
      "  resultdf = resultdf.append({'name1': name1,\n",
      "C:\\Users\\Admin\\AppData\\Local\\Temp\\ipykernel_11920\\2923290319.py:96: FutureWarning: The frame.append method is deprecated and will be removed from pandas in a future version. Use pandas.concat instead.\n",
      "  resultdf = resultdf.append({'name1': name1,\n",
      "C:\\Users\\Admin\\AppData\\Local\\Temp\\ipykernel_11920\\2923290319.py:96: FutureWarning: The frame.append method is deprecated and will be removed from pandas in a future version. Use pandas.concat instead.\n",
      "  resultdf = resultdf.append({'name1': name1,\n",
      "C:\\Users\\Admin\\AppData\\Local\\Temp\\ipykernel_11920\\2923290319.py:96: FutureWarning: The frame.append method is deprecated and will be removed from pandas in a future version. Use pandas.concat instead.\n",
      "  resultdf = resultdf.append({'name1': name1,\n",
      "C:\\Users\\Admin\\AppData\\Local\\Temp\\ipykernel_11920\\2923290319.py:96: FutureWarning: The frame.append method is deprecated and will be removed from pandas in a future version. Use pandas.concat instead.\n",
      "  resultdf = resultdf.append({'name1': name1,\n",
      "C:\\Users\\Admin\\AppData\\Local\\Temp\\ipykernel_11920\\2923290319.py:102: FutureWarning: The frame.append method is deprecated and will be removed from pandas in a future version. Use pandas.concat instead.\n",
      "  resultdf = resultdf.append({'name1': list1[i].name}, ignore_index=True)\n",
      "C:\\Users\\Admin\\AppData\\Local\\Temp\\ipykernel_11920\\2923290319.py:96: FutureWarning: The frame.append method is deprecated and will be removed from pandas in a future version. Use pandas.concat instead.\n",
      "  resultdf = resultdf.append({'name1': name1,\n",
      "C:\\Users\\Admin\\AppData\\Local\\Temp\\ipykernel_11920\\2923290319.py:96: FutureWarning: The frame.append method is deprecated and will be removed from pandas in a future version. Use pandas.concat instead.\n",
      "  resultdf = resultdf.append({'name1': name1,\n",
      "C:\\Users\\Admin\\AppData\\Local\\Temp\\ipykernel_11920\\2923290319.py:96: FutureWarning: The frame.append method is deprecated and will be removed from pandas in a future version. Use pandas.concat instead.\n",
      "  resultdf = resultdf.append({'name1': name1,\n",
      "C:\\Users\\Admin\\AppData\\Local\\Temp\\ipykernel_11920\\2923290319.py:96: FutureWarning: The frame.append method is deprecated and will be removed from pandas in a future version. Use pandas.concat instead.\n",
      "  resultdf = resultdf.append({'name1': name1,\n",
      "C:\\Users\\Admin\\AppData\\Local\\Temp\\ipykernel_11920\\2923290319.py:102: FutureWarning: The frame.append method is deprecated and will be removed from pandas in a future version. Use pandas.concat instead.\n",
      "  resultdf = resultdf.append({'name1': list1[i].name}, ignore_index=True)\n",
      "C:\\Users\\Admin\\AppData\\Local\\Temp\\ipykernel_11920\\2923290319.py:96: FutureWarning: The frame.append method is deprecated and will be removed from pandas in a future version. Use pandas.concat instead.\n",
      "  resultdf = resultdf.append({'name1': name1,\n",
      "C:\\Users\\Admin\\AppData\\Local\\Temp\\ipykernel_11920\\2923290319.py:102: FutureWarning: The frame.append method is deprecated and will be removed from pandas in a future version. Use pandas.concat instead.\n",
      "  resultdf = resultdf.append({'name1': list1[i].name}, ignore_index=True)\n",
      "C:\\Users\\Admin\\AppData\\Local\\Temp\\ipykernel_11920\\2923290319.py:96: FutureWarning: The frame.append method is deprecated and will be removed from pandas in a future version. Use pandas.concat instead.\n",
      "  resultdf = resultdf.append({'name1': name1,\n",
      "C:\\Users\\Admin\\AppData\\Local\\Temp\\ipykernel_11920\\2923290319.py:96: FutureWarning: The frame.append method is deprecated and will be removed from pandas in a future version. Use pandas.concat instead.\n",
      "  resultdf = resultdf.append({'name1': name1,\n",
      "C:\\Users\\Admin\\AppData\\Local\\Temp\\ipykernel_11920\\2923290319.py:96: FutureWarning: The frame.append method is deprecated and will be removed from pandas in a future version. Use pandas.concat instead.\n",
      "  resultdf = resultdf.append({'name1': name1,\n",
      "C:\\Users\\Admin\\AppData\\Local\\Temp\\ipykernel_11920\\2923290319.py:102: FutureWarning: The frame.append method is deprecated and will be removed from pandas in a future version. Use pandas.concat instead.\n",
      "  resultdf = resultdf.append({'name1': list1[i].name}, ignore_index=True)\n",
      "C:\\Users\\Admin\\AppData\\Local\\Temp\\ipykernel_11920\\2923290319.py:96: FutureWarning: The frame.append method is deprecated and will be removed from pandas in a future version. Use pandas.concat instead.\n",
      "  resultdf = resultdf.append({'name1': name1,\n",
      "C:\\Users\\Admin\\AppData\\Local\\Temp\\ipykernel_11920\\2923290319.py:96: FutureWarning: The frame.append method is deprecated and will be removed from pandas in a future version. Use pandas.concat instead.\n",
      "  resultdf = resultdf.append({'name1': name1,\n",
      "C:\\Users\\Admin\\AppData\\Local\\Temp\\ipykernel_11920\\2923290319.py:102: FutureWarning: The frame.append method is deprecated and will be removed from pandas in a future version. Use pandas.concat instead.\n",
      "  resultdf = resultdf.append({'name1': list1[i].name}, ignore_index=True)\n",
      "C:\\Users\\Admin\\AppData\\Local\\Temp\\ipykernel_11920\\2923290319.py:102: FutureWarning: The frame.append method is deprecated and will be removed from pandas in a future version. Use pandas.concat instead.\n",
      "  resultdf = resultdf.append({'name1': list1[i].name}, ignore_index=True)\n",
      "C:\\Users\\Admin\\AppData\\Local\\Temp\\ipykernel_11920\\2923290319.py:96: FutureWarning: The frame.append method is deprecated and will be removed from pandas in a future version. Use pandas.concat instead.\n",
      "  resultdf = resultdf.append({'name1': name1,\n",
      "C:\\Users\\Admin\\AppData\\Local\\Temp\\ipykernel_11920\\2923290319.py:96: FutureWarning: The frame.append method is deprecated and will be removed from pandas in a future version. Use pandas.concat instead.\n",
      "  resultdf = resultdf.append({'name1': name1,\n",
      "C:\\Users\\Admin\\AppData\\Local\\Temp\\ipykernel_11920\\2923290319.py:96: FutureWarning: The frame.append method is deprecated and will be removed from pandas in a future version. Use pandas.concat instead.\n",
      "  resultdf = resultdf.append({'name1': name1,\n",
      "C:\\Users\\Admin\\AppData\\Local\\Temp\\ipykernel_11920\\2923290319.py:96: FutureWarning: The frame.append method is deprecated and will be removed from pandas in a future version. Use pandas.concat instead.\n",
      "  resultdf = resultdf.append({'name1': name1,\n",
      "C:\\Users\\Admin\\AppData\\Local\\Temp\\ipykernel_11920\\2923290319.py:96: FutureWarning: The frame.append method is deprecated and will be removed from pandas in a future version. Use pandas.concat instead.\n",
      "  resultdf = resultdf.append({'name1': name1,\n",
      "C:\\Users\\Admin\\AppData\\Local\\Temp\\ipykernel_11920\\2923290319.py:96: FutureWarning: The frame.append method is deprecated and will be removed from pandas in a future version. Use pandas.concat instead.\n",
      "  resultdf = resultdf.append({'name1': name1,\n",
      "C:\\Users\\Admin\\AppData\\Local\\Temp\\ipykernel_11920\\2923290319.py:96: FutureWarning: The frame.append method is deprecated and will be removed from pandas in a future version. Use pandas.concat instead.\n",
      "  resultdf = resultdf.append({'name1': name1,\n",
      "C:\\Users\\Admin\\AppData\\Local\\Temp\\ipykernel_11920\\2923290319.py:96: FutureWarning: The frame.append method is deprecated and will be removed from pandas in a future version. Use pandas.concat instead.\n",
      "  resultdf = resultdf.append({'name1': name1,\n",
      "C:\\Users\\Admin\\AppData\\Local\\Temp\\ipykernel_11920\\2923290319.py:96: FutureWarning: The frame.append method is deprecated and will be removed from pandas in a future version. Use pandas.concat instead.\n",
      "  resultdf = resultdf.append({'name1': name1,\n",
      "C:\\Users\\Admin\\AppData\\Local\\Temp\\ipykernel_11920\\2923290319.py:96: FutureWarning: The frame.append method is deprecated and will be removed from pandas in a future version. Use pandas.concat instead.\n",
      "  resultdf = resultdf.append({'name1': name1,\n",
      "C:\\Users\\Admin\\AppData\\Local\\Temp\\ipykernel_11920\\2923290319.py:96: FutureWarning: The frame.append method is deprecated and will be removed from pandas in a future version. Use pandas.concat instead.\n",
      "  resultdf = resultdf.append({'name1': name1,\n",
      "C:\\Users\\Admin\\AppData\\Local\\Temp\\ipykernel_11920\\2923290319.py:96: FutureWarning: The frame.append method is deprecated and will be removed from pandas in a future version. Use pandas.concat instead.\n",
      "  resultdf = resultdf.append({'name1': name1,\n",
      "C:\\Users\\Admin\\AppData\\Local\\Temp\\ipykernel_11920\\2923290319.py:96: FutureWarning: The frame.append method is deprecated and will be removed from pandas in a future version. Use pandas.concat instead.\n",
      "  resultdf = resultdf.append({'name1': name1,\n",
      "C:\\Users\\Admin\\AppData\\Local\\Temp\\ipykernel_11920\\2923290319.py:96: FutureWarning: The frame.append method is deprecated and will be removed from pandas in a future version. Use pandas.concat instead.\n",
      "  resultdf = resultdf.append({'name1': name1,\n",
      "C:\\Users\\Admin\\AppData\\Local\\Temp\\ipykernel_11920\\2923290319.py:102: FutureWarning: The frame.append method is deprecated and will be removed from pandas in a future version. Use pandas.concat instead.\n",
      "  resultdf = resultdf.append({'name1': list1[i].name}, ignore_index=True)\n",
      "C:\\Users\\Admin\\AppData\\Local\\Temp\\ipykernel_11920\\2923290319.py:102: FutureWarning: The frame.append method is deprecated and will be removed from pandas in a future version. Use pandas.concat instead.\n",
      "  resultdf = resultdf.append({'name1': list1[i].name}, ignore_index=True)\n",
      "C:\\Users\\Admin\\AppData\\Local\\Temp\\ipykernel_11920\\2923290319.py:96: FutureWarning: The frame.append method is deprecated and will be removed from pandas in a future version. Use pandas.concat instead.\n",
      "  resultdf = resultdf.append({'name1': name1,\n",
      "C:\\Users\\Admin\\AppData\\Local\\Temp\\ipykernel_11920\\2923290319.py:96: FutureWarning: The frame.append method is deprecated and will be removed from pandas in a future version. Use pandas.concat instead.\n",
      "  resultdf = resultdf.append({'name1': name1,\n",
      "C:\\Users\\Admin\\AppData\\Local\\Temp\\ipykernel_11920\\2923290319.py:96: FutureWarning: The frame.append method is deprecated and will be removed from pandas in a future version. Use pandas.concat instead.\n",
      "  resultdf = resultdf.append({'name1': name1,\n",
      "C:\\Users\\Admin\\AppData\\Local\\Temp\\ipykernel_11920\\2923290319.py:96: FutureWarning: The frame.append method is deprecated and will be removed from pandas in a future version. Use pandas.concat instead.\n",
      "  resultdf = resultdf.append({'name1': name1,\n",
      "C:\\Users\\Admin\\AppData\\Local\\Temp\\ipykernel_11920\\2923290319.py:96: FutureWarning: The frame.append method is deprecated and will be removed from pandas in a future version. Use pandas.concat instead.\n",
      "  resultdf = resultdf.append({'name1': name1,\n",
      "C:\\Users\\Admin\\AppData\\Local\\Temp\\ipykernel_11920\\2923290319.py:96: FutureWarning: The frame.append method is deprecated and will be removed from pandas in a future version. Use pandas.concat instead.\n",
      "  resultdf = resultdf.append({'name1': name1,\n",
      "C:\\Users\\Admin\\AppData\\Local\\Temp\\ipykernel_11920\\2923290319.py:102: FutureWarning: The frame.append method is deprecated and will be removed from pandas in a future version. Use pandas.concat instead.\n",
      "  resultdf = resultdf.append({'name1': list1[i].name}, ignore_index=True)\n",
      "C:\\Users\\Admin\\AppData\\Local\\Temp\\ipykernel_11920\\2923290319.py:102: FutureWarning: The frame.append method is deprecated and will be removed from pandas in a future version. Use pandas.concat instead.\n",
      "  resultdf = resultdf.append({'name1': list1[i].name}, ignore_index=True)\n",
      "C:\\Users\\Admin\\AppData\\Local\\Temp\\ipykernel_11920\\2923290319.py:102: FutureWarning: The frame.append method is deprecated and will be removed from pandas in a future version. Use pandas.concat instead.\n",
      "  resultdf = resultdf.append({'name1': list1[i].name}, ignore_index=True)\n",
      "C:\\Users\\Admin\\AppData\\Local\\Temp\\ipykernel_11920\\2923290319.py:96: FutureWarning: The frame.append method is deprecated and will be removed from pandas in a future version. Use pandas.concat instead.\n",
      "  resultdf = resultdf.append({'name1': name1,\n",
      "C:\\Users\\Admin\\AppData\\Local\\Temp\\ipykernel_11920\\2923290319.py:96: FutureWarning: The frame.append method is deprecated and will be removed from pandas in a future version. Use pandas.concat instead.\n",
      "  resultdf = resultdf.append({'name1': name1,\n",
      "C:\\Users\\Admin\\AppData\\Local\\Temp\\ipykernel_11920\\2923290319.py:96: FutureWarning: The frame.append method is deprecated and will be removed from pandas in a future version. Use pandas.concat instead.\n",
      "  resultdf = resultdf.append({'name1': name1,\n",
      "C:\\Users\\Admin\\AppData\\Local\\Temp\\ipykernel_11920\\2923290319.py:96: FutureWarning: The frame.append method is deprecated and will be removed from pandas in a future version. Use pandas.concat instead.\n",
      "  resultdf = resultdf.append({'name1': name1,\n",
      "C:\\Users\\Admin\\AppData\\Local\\Temp\\ipykernel_11920\\2923290319.py:96: FutureWarning: The frame.append method is deprecated and will be removed from pandas in a future version. Use pandas.concat instead.\n",
      "  resultdf = resultdf.append({'name1': name1,\n",
      "C:\\Users\\Admin\\AppData\\Local\\Temp\\ipykernel_11920\\2923290319.py:96: FutureWarning: The frame.append method is deprecated and will be removed from pandas in a future version. Use pandas.concat instead.\n",
      "  resultdf = resultdf.append({'name1': name1,\n",
      "C:\\Users\\Admin\\AppData\\Local\\Temp\\ipykernel_11920\\2923290319.py:96: FutureWarning: The frame.append method is deprecated and will be removed from pandas in a future version. Use pandas.concat instead.\n",
      "  resultdf = resultdf.append({'name1': name1,\n",
      "C:\\Users\\Admin\\AppData\\Local\\Temp\\ipykernel_11920\\2923290319.py:102: FutureWarning: The frame.append method is deprecated and will be removed from pandas in a future version. Use pandas.concat instead.\n",
      "  resultdf = resultdf.append({'name1': list1[i].name}, ignore_index=True)\n",
      "C:\\Users\\Admin\\AppData\\Local\\Temp\\ipykernel_11920\\2923290319.py:96: FutureWarning: The frame.append method is deprecated and will be removed from pandas in a future version. Use pandas.concat instead.\n",
      "  resultdf = resultdf.append({'name1': name1,\n",
      "C:\\Users\\Admin\\AppData\\Local\\Temp\\ipykernel_11920\\2923290319.py:102: FutureWarning: The frame.append method is deprecated and will be removed from pandas in a future version. Use pandas.concat instead.\n",
      "  resultdf = resultdf.append({'name1': list1[i].name}, ignore_index=True)\n",
      "C:\\Users\\Admin\\AppData\\Local\\Temp\\ipykernel_11920\\2923290319.py:96: FutureWarning: The frame.append method is deprecated and will be removed from pandas in a future version. Use pandas.concat instead.\n",
      "  resultdf = resultdf.append({'name1': name1,\n",
      "C:\\Users\\Admin\\AppData\\Local\\Temp\\ipykernel_11920\\2923290319.py:96: FutureWarning: The frame.append method is deprecated and will be removed from pandas in a future version. Use pandas.concat instead.\n",
      "  resultdf = resultdf.append({'name1': name1,\n",
      "C:\\Users\\Admin\\AppData\\Local\\Temp\\ipykernel_11920\\2923290319.py:96: FutureWarning: The frame.append method is deprecated and will be removed from pandas in a future version. Use pandas.concat instead.\n",
      "  resultdf = resultdf.append({'name1': name1,\n",
      "C:\\Users\\Admin\\AppData\\Local\\Temp\\ipykernel_11920\\2923290319.py:96: FutureWarning: The frame.append method is deprecated and will be removed from pandas in a future version. Use pandas.concat instead.\n",
      "  resultdf = resultdf.append({'name1': name1,\n",
      "C:\\Users\\Admin\\AppData\\Local\\Temp\\ipykernel_11920\\2923290319.py:96: FutureWarning: The frame.append method is deprecated and will be removed from pandas in a future version. Use pandas.concat instead.\n",
      "  resultdf = resultdf.append({'name1': name1,\n",
      "C:\\Users\\Admin\\AppData\\Local\\Temp\\ipykernel_11920\\2923290319.py:96: FutureWarning: The frame.append method is deprecated and will be removed from pandas in a future version. Use pandas.concat instead.\n",
      "  resultdf = resultdf.append({'name1': name1,\n",
      "C:\\Users\\Admin\\AppData\\Local\\Temp\\ipykernel_11920\\2923290319.py:96: FutureWarning: The frame.append method is deprecated and will be removed from pandas in a future version. Use pandas.concat instead.\n",
      "  resultdf = resultdf.append({'name1': name1,\n",
      "C:\\Users\\Admin\\AppData\\Local\\Temp\\ipykernel_11920\\2923290319.py:102: FutureWarning: The frame.append method is deprecated and will be removed from pandas in a future version. Use pandas.concat instead.\n",
      "  resultdf = resultdf.append({'name1': list1[i].name}, ignore_index=True)\n",
      "C:\\Users\\Admin\\AppData\\Local\\Temp\\ipykernel_11920\\2923290319.py:102: FutureWarning: The frame.append method is deprecated and will be removed from pandas in a future version. Use pandas.concat instead.\n",
      "  resultdf = resultdf.append({'name1': list1[i].name}, ignore_index=True)\n",
      "C:\\Users\\Admin\\AppData\\Local\\Temp\\ipykernel_11920\\2923290319.py:96: FutureWarning: The frame.append method is deprecated and will be removed from pandas in a future version. Use pandas.concat instead.\n",
      "  resultdf = resultdf.append({'name1': name1,\n"
     ]
    }
   ],
   "source": [
    "comparedProdRB = compareRB(prodRB, prodPricesRB, prodPricesRB.columns[0],\n",
    "                        0.75)"
   ]
  },
  {
   "attachments": {},
   "cell_type": "markdown",
   "metadata": {},
   "source": [
    "Сопоставление непродовольственных товаров РБ"
   ]
  },
  {
   "cell_type": "code",
   "execution_count": 272,
   "metadata": {},
   "outputs": [
    {
     "name": "stderr",
     "output_type": "stream",
     "text": [
      "C:\\Users\\Admin\\AppData\\Local\\Temp\\ipykernel_11920\\2923290319.py:102: FutureWarning: The frame.append method is deprecated and will be removed from pandas in a future version. Use pandas.concat instead.\n",
      "  resultdf = resultdf.append({'name1': list1[i].name}, ignore_index=True)\n",
      "C:\\Users\\Admin\\AppData\\Local\\Temp\\ipykernel_11920\\2923290319.py:102: FutureWarning: The frame.append method is deprecated and will be removed from pandas in a future version. Use pandas.concat instead.\n",
      "  resultdf = resultdf.append({'name1': list1[i].name}, ignore_index=True)\n",
      "C:\\Users\\Admin\\AppData\\Local\\Temp\\ipykernel_11920\\2923290319.py:102: FutureWarning: The frame.append method is deprecated and will be removed from pandas in a future version. Use pandas.concat instead.\n",
      "  resultdf = resultdf.append({'name1': list1[i].name}, ignore_index=True)\n",
      "C:\\Users\\Admin\\AppData\\Local\\Temp\\ipykernel_11920\\2923290319.py:102: FutureWarning: The frame.append method is deprecated and will be removed from pandas in a future version. Use pandas.concat instead.\n",
      "  resultdf = resultdf.append({'name1': list1[i].name}, ignore_index=True)\n",
      "C:\\Users\\Admin\\AppData\\Local\\Temp\\ipykernel_11920\\2923290319.py:102: FutureWarning: The frame.append method is deprecated and will be removed from pandas in a future version. Use pandas.concat instead.\n",
      "  resultdf = resultdf.append({'name1': list1[i].name}, ignore_index=True)\n",
      "C:\\Users\\Admin\\AppData\\Local\\Temp\\ipykernel_11920\\2923290319.py:102: FutureWarning: The frame.append method is deprecated and will be removed from pandas in a future version. Use pandas.concat instead.\n",
      "  resultdf = resultdf.append({'name1': list1[i].name}, ignore_index=True)\n",
      "C:\\Users\\Admin\\AppData\\Local\\Temp\\ipykernel_11920\\2923290319.py:102: FutureWarning: The frame.append method is deprecated and will be removed from pandas in a future version. Use pandas.concat instead.\n",
      "  resultdf = resultdf.append({'name1': list1[i].name}, ignore_index=True)\n",
      "C:\\Users\\Admin\\AppData\\Local\\Temp\\ipykernel_11920\\2923290319.py:102: FutureWarning: The frame.append method is deprecated and will be removed from pandas in a future version. Use pandas.concat instead.\n",
      "  resultdf = resultdf.append({'name1': list1[i].name}, ignore_index=True)\n",
      "C:\\Users\\Admin\\AppData\\Local\\Temp\\ipykernel_11920\\2923290319.py:102: FutureWarning: The frame.append method is deprecated and will be removed from pandas in a future version. Use pandas.concat instead.\n",
      "  resultdf = resultdf.append({'name1': list1[i].name}, ignore_index=True)\n",
      "C:\\Users\\Admin\\AppData\\Local\\Temp\\ipykernel_11920\\2923290319.py:102: FutureWarning: The frame.append method is deprecated and will be removed from pandas in a future version. Use pandas.concat instead.\n",
      "  resultdf = resultdf.append({'name1': list1[i].name}, ignore_index=True)\n",
      "C:\\Users\\Admin\\AppData\\Local\\Temp\\ipykernel_11920\\2923290319.py:102: FutureWarning: The frame.append method is deprecated and will be removed from pandas in a future version. Use pandas.concat instead.\n",
      "  resultdf = resultdf.append({'name1': list1[i].name}, ignore_index=True)\n",
      "C:\\Users\\Admin\\AppData\\Local\\Temp\\ipykernel_11920\\2923290319.py:102: FutureWarning: The frame.append method is deprecated and will be removed from pandas in a future version. Use pandas.concat instead.\n",
      "  resultdf = resultdf.append({'name1': list1[i].name}, ignore_index=True)\n",
      "C:\\Users\\Admin\\AppData\\Local\\Temp\\ipykernel_11920\\2923290319.py:102: FutureWarning: The frame.append method is deprecated and will be removed from pandas in a future version. Use pandas.concat instead.\n",
      "  resultdf = resultdf.append({'name1': list1[i].name}, ignore_index=True)\n",
      "C:\\Users\\Admin\\AppData\\Local\\Temp\\ipykernel_11920\\2923290319.py:102: FutureWarning: The frame.append method is deprecated and will be removed from pandas in a future version. Use pandas.concat instead.\n",
      "  resultdf = resultdf.append({'name1': list1[i].name}, ignore_index=True)\n",
      "C:\\Users\\Admin\\AppData\\Local\\Temp\\ipykernel_11920\\2923290319.py:102: FutureWarning: The frame.append method is deprecated and will be removed from pandas in a future version. Use pandas.concat instead.\n",
      "  resultdf = resultdf.append({'name1': list1[i].name}, ignore_index=True)\n",
      "C:\\Users\\Admin\\AppData\\Local\\Temp\\ipykernel_11920\\2923290319.py:102: FutureWarning: The frame.append method is deprecated and will be removed from pandas in a future version. Use pandas.concat instead.\n",
      "  resultdf = resultdf.append({'name1': list1[i].name}, ignore_index=True)\n",
      "C:\\Users\\Admin\\AppData\\Local\\Temp\\ipykernel_11920\\2923290319.py:102: FutureWarning: The frame.append method is deprecated and will be removed from pandas in a future version. Use pandas.concat instead.\n",
      "  resultdf = resultdf.append({'name1': list1[i].name}, ignore_index=True)\n",
      "C:\\Users\\Admin\\AppData\\Local\\Temp\\ipykernel_11920\\2923290319.py:102: FutureWarning: The frame.append method is deprecated and will be removed from pandas in a future version. Use pandas.concat instead.\n",
      "  resultdf = resultdf.append({'name1': list1[i].name}, ignore_index=True)\n",
      "C:\\Users\\Admin\\AppData\\Local\\Temp\\ipykernel_11920\\2923290319.py:102: FutureWarning: The frame.append method is deprecated and will be removed from pandas in a future version. Use pandas.concat instead.\n",
      "  resultdf = resultdf.append({'name1': list1[i].name}, ignore_index=True)\n",
      "C:\\Users\\Admin\\AppData\\Local\\Temp\\ipykernel_11920\\2923290319.py:102: FutureWarning: The frame.append method is deprecated and will be removed from pandas in a future version. Use pandas.concat instead.\n",
      "  resultdf = resultdf.append({'name1': list1[i].name}, ignore_index=True)\n",
      "C:\\Users\\Admin\\AppData\\Local\\Temp\\ipykernel_11920\\2923290319.py:102: FutureWarning: The frame.append method is deprecated and will be removed from pandas in a future version. Use pandas.concat instead.\n",
      "  resultdf = resultdf.append({'name1': list1[i].name}, ignore_index=True)\n",
      "C:\\Users\\Admin\\AppData\\Local\\Temp\\ipykernel_11920\\2923290319.py:102: FutureWarning: The frame.append method is deprecated and will be removed from pandas in a future version. Use pandas.concat instead.\n",
      "  resultdf = resultdf.append({'name1': list1[i].name}, ignore_index=True)\n",
      "C:\\Users\\Admin\\AppData\\Local\\Temp\\ipykernel_11920\\2923290319.py:102: FutureWarning: The frame.append method is deprecated and will be removed from pandas in a future version. Use pandas.concat instead.\n",
      "  resultdf = resultdf.append({'name1': list1[i].name}, ignore_index=True)\n",
      "C:\\Users\\Admin\\AppData\\Local\\Temp\\ipykernel_11920\\2923290319.py:102: FutureWarning: The frame.append method is deprecated and will be removed from pandas in a future version. Use pandas.concat instead.\n",
      "  resultdf = resultdf.append({'name1': list1[i].name}, ignore_index=True)\n",
      "C:\\Users\\Admin\\AppData\\Local\\Temp\\ipykernel_11920\\2923290319.py:102: FutureWarning: The frame.append method is deprecated and will be removed from pandas in a future version. Use pandas.concat instead.\n",
      "  resultdf = resultdf.append({'name1': list1[i].name}, ignore_index=True)\n",
      "C:\\Users\\Admin\\AppData\\Local\\Temp\\ipykernel_11920\\2923290319.py:102: FutureWarning: The frame.append method is deprecated and will be removed from pandas in a future version. Use pandas.concat instead.\n",
      "  resultdf = resultdf.append({'name1': list1[i].name}, ignore_index=True)\n",
      "C:\\Users\\Admin\\AppData\\Local\\Temp\\ipykernel_11920\\2923290319.py:102: FutureWarning: The frame.append method is deprecated and will be removed from pandas in a future version. Use pandas.concat instead.\n",
      "  resultdf = resultdf.append({'name1': list1[i].name}, ignore_index=True)\n",
      "C:\\Users\\Admin\\AppData\\Local\\Temp\\ipykernel_11920\\2923290319.py:102: FutureWarning: The frame.append method is deprecated and will be removed from pandas in a future version. Use pandas.concat instead.\n",
      "  resultdf = resultdf.append({'name1': list1[i].name}, ignore_index=True)\n",
      "C:\\Users\\Admin\\AppData\\Local\\Temp\\ipykernel_11920\\2923290319.py:102: FutureWarning: The frame.append method is deprecated and will be removed from pandas in a future version. Use pandas.concat instead.\n",
      "  resultdf = resultdf.append({'name1': list1[i].name}, ignore_index=True)\n",
      "C:\\Users\\Admin\\AppData\\Local\\Temp\\ipykernel_11920\\2923290319.py:102: FutureWarning: The frame.append method is deprecated and will be removed from pandas in a future version. Use pandas.concat instead.\n",
      "  resultdf = resultdf.append({'name1': list1[i].name}, ignore_index=True)\n",
      "C:\\Users\\Admin\\AppData\\Local\\Temp\\ipykernel_11920\\2923290319.py:102: FutureWarning: The frame.append method is deprecated and will be removed from pandas in a future version. Use pandas.concat instead.\n",
      "  resultdf = resultdf.append({'name1': list1[i].name}, ignore_index=True)\n",
      "C:\\Users\\Admin\\AppData\\Local\\Temp\\ipykernel_11920\\2923290319.py:102: FutureWarning: The frame.append method is deprecated and will be removed from pandas in a future version. Use pandas.concat instead.\n",
      "  resultdf = resultdf.append({'name1': list1[i].name}, ignore_index=True)\n",
      "C:\\Users\\Admin\\AppData\\Local\\Temp\\ipykernel_11920\\2923290319.py:102: FutureWarning: The frame.append method is deprecated and will be removed from pandas in a future version. Use pandas.concat instead.\n",
      "  resultdf = resultdf.append({'name1': list1[i].name}, ignore_index=True)\n",
      "C:\\Users\\Admin\\AppData\\Local\\Temp\\ipykernel_11920\\2923290319.py:102: FutureWarning: The frame.append method is deprecated and will be removed from pandas in a future version. Use pandas.concat instead.\n",
      "  resultdf = resultdf.append({'name1': list1[i].name}, ignore_index=True)\n",
      "C:\\Users\\Admin\\AppData\\Local\\Temp\\ipykernel_11920\\2923290319.py:102: FutureWarning: The frame.append method is deprecated and will be removed from pandas in a future version. Use pandas.concat instead.\n",
      "  resultdf = resultdf.append({'name1': list1[i].name}, ignore_index=True)\n",
      "C:\\Users\\Admin\\AppData\\Local\\Temp\\ipykernel_11920\\2923290319.py:102: FutureWarning: The frame.append method is deprecated and will be removed from pandas in a future version. Use pandas.concat instead.\n",
      "  resultdf = resultdf.append({'name1': list1[i].name}, ignore_index=True)\n",
      "C:\\Users\\Admin\\AppData\\Local\\Temp\\ipykernel_11920\\2923290319.py:102: FutureWarning: The frame.append method is deprecated and will be removed from pandas in a future version. Use pandas.concat instead.\n",
      "  resultdf = resultdf.append({'name1': list1[i].name}, ignore_index=True)\n",
      "C:\\Users\\Admin\\AppData\\Local\\Temp\\ipykernel_11920\\2923290319.py:102: FutureWarning: The frame.append method is deprecated and will be removed from pandas in a future version. Use pandas.concat instead.\n",
      "  resultdf = resultdf.append({'name1': list1[i].name}, ignore_index=True)\n",
      "C:\\Users\\Admin\\AppData\\Local\\Temp\\ipykernel_11920\\2923290319.py:102: FutureWarning: The frame.append method is deprecated and will be removed from pandas in a future version. Use pandas.concat instead.\n",
      "  resultdf = resultdf.append({'name1': list1[i].name}, ignore_index=True)\n",
      "C:\\Users\\Admin\\AppData\\Local\\Temp\\ipykernel_11920\\2923290319.py:102: FutureWarning: The frame.append method is deprecated and will be removed from pandas in a future version. Use pandas.concat instead.\n",
      "  resultdf = resultdf.append({'name1': list1[i].name}, ignore_index=True)\n",
      "C:\\Users\\Admin\\AppData\\Local\\Temp\\ipykernel_11920\\2923290319.py:102: FutureWarning: The frame.append method is deprecated and will be removed from pandas in a future version. Use pandas.concat instead.\n",
      "  resultdf = resultdf.append({'name1': list1[i].name}, ignore_index=True)\n",
      "C:\\Users\\Admin\\AppData\\Local\\Temp\\ipykernel_11920\\2923290319.py:102: FutureWarning: The frame.append method is deprecated and will be removed from pandas in a future version. Use pandas.concat instead.\n",
      "  resultdf = resultdf.append({'name1': list1[i].name}, ignore_index=True)\n",
      "C:\\Users\\Admin\\AppData\\Local\\Temp\\ipykernel_11920\\2923290319.py:102: FutureWarning: The frame.append method is deprecated and will be removed from pandas in a future version. Use pandas.concat instead.\n",
      "  resultdf = resultdf.append({'name1': list1[i].name}, ignore_index=True)\n",
      "C:\\Users\\Admin\\AppData\\Local\\Temp\\ipykernel_11920\\2923290319.py:102: FutureWarning: The frame.append method is deprecated and will be removed from pandas in a future version. Use pandas.concat instead.\n",
      "  resultdf = resultdf.append({'name1': list1[i].name}, ignore_index=True)\n",
      "C:\\Users\\Admin\\AppData\\Local\\Temp\\ipykernel_11920\\2923290319.py:102: FutureWarning: The frame.append method is deprecated and will be removed from pandas in a future version. Use pandas.concat instead.\n",
      "  resultdf = resultdf.append({'name1': list1[i].name}, ignore_index=True)\n",
      "C:\\Users\\Admin\\AppData\\Local\\Temp\\ipykernel_11920\\2923290319.py:102: FutureWarning: The frame.append method is deprecated and will be removed from pandas in a future version. Use pandas.concat instead.\n",
      "  resultdf = resultdf.append({'name1': list1[i].name}, ignore_index=True)\n",
      "C:\\Users\\Admin\\AppData\\Local\\Temp\\ipykernel_11920\\2923290319.py:102: FutureWarning: The frame.append method is deprecated and will be removed from pandas in a future version. Use pandas.concat instead.\n",
      "  resultdf = resultdf.append({'name1': list1[i].name}, ignore_index=True)\n",
      "C:\\Users\\Admin\\AppData\\Local\\Temp\\ipykernel_11920\\2923290319.py:102: FutureWarning: The frame.append method is deprecated and will be removed from pandas in a future version. Use pandas.concat instead.\n",
      "  resultdf = resultdf.append({'name1': list1[i].name}, ignore_index=True)\n",
      "C:\\Users\\Admin\\AppData\\Local\\Temp\\ipykernel_11920\\2923290319.py:102: FutureWarning: The frame.append method is deprecated and will be removed from pandas in a future version. Use pandas.concat instead.\n",
      "  resultdf = resultdf.append({'name1': list1[i].name}, ignore_index=True)\n",
      "C:\\Users\\Admin\\AppData\\Local\\Temp\\ipykernel_11920\\2923290319.py:102: FutureWarning: The frame.append method is deprecated and will be removed from pandas in a future version. Use pandas.concat instead.\n",
      "  resultdf = resultdf.append({'name1': list1[i].name}, ignore_index=True)\n",
      "C:\\Users\\Admin\\AppData\\Local\\Temp\\ipykernel_11920\\2923290319.py:102: FutureWarning: The frame.append method is deprecated and will be removed from pandas in a future version. Use pandas.concat instead.\n",
      "  resultdf = resultdf.append({'name1': list1[i].name}, ignore_index=True)\n",
      "C:\\Users\\Admin\\AppData\\Local\\Temp\\ipykernel_11920\\2923290319.py:102: FutureWarning: The frame.append method is deprecated and will be removed from pandas in a future version. Use pandas.concat instead.\n",
      "  resultdf = resultdf.append({'name1': list1[i].name}, ignore_index=True)\n",
      "C:\\Users\\Admin\\AppData\\Local\\Temp\\ipykernel_11920\\2923290319.py:102: FutureWarning: The frame.append method is deprecated and will be removed from pandas in a future version. Use pandas.concat instead.\n",
      "  resultdf = resultdf.append({'name1': list1[i].name}, ignore_index=True)\n",
      "C:\\Users\\Admin\\AppData\\Local\\Temp\\ipykernel_11920\\2923290319.py:102: FutureWarning: The frame.append method is deprecated and will be removed from pandas in a future version. Use pandas.concat instead.\n",
      "  resultdf = resultdf.append({'name1': list1[i].name}, ignore_index=True)\n",
      "C:\\Users\\Admin\\AppData\\Local\\Temp\\ipykernel_11920\\2923290319.py:102: FutureWarning: The frame.append method is deprecated and will be removed from pandas in a future version. Use pandas.concat instead.\n",
      "  resultdf = resultdf.append({'name1': list1[i].name}, ignore_index=True)\n",
      "C:\\Users\\Admin\\AppData\\Local\\Temp\\ipykernel_11920\\2923290319.py:102: FutureWarning: The frame.append method is deprecated and will be removed from pandas in a future version. Use pandas.concat instead.\n",
      "  resultdf = resultdf.append({'name1': list1[i].name}, ignore_index=True)\n",
      "C:\\Users\\Admin\\AppData\\Local\\Temp\\ipykernel_11920\\2923290319.py:102: FutureWarning: The frame.append method is deprecated and will be removed from pandas in a future version. Use pandas.concat instead.\n",
      "  resultdf = resultdf.append({'name1': list1[i].name}, ignore_index=True)\n",
      "C:\\Users\\Admin\\AppData\\Local\\Temp\\ipykernel_11920\\2923290319.py:102: FutureWarning: The frame.append method is deprecated and will be removed from pandas in a future version. Use pandas.concat instead.\n",
      "  resultdf = resultdf.append({'name1': list1[i].name}, ignore_index=True)\n",
      "C:\\Users\\Admin\\AppData\\Local\\Temp\\ipykernel_11920\\2923290319.py:102: FutureWarning: The frame.append method is deprecated and will be removed from pandas in a future version. Use pandas.concat instead.\n",
      "  resultdf = resultdf.append({'name1': list1[i].name}, ignore_index=True)\n",
      "C:\\Users\\Admin\\AppData\\Local\\Temp\\ipykernel_11920\\2923290319.py:102: FutureWarning: The frame.append method is deprecated and will be removed from pandas in a future version. Use pandas.concat instead.\n",
      "  resultdf = resultdf.append({'name1': list1[i].name}, ignore_index=True)\n",
      "C:\\Users\\Admin\\AppData\\Local\\Temp\\ipykernel_11920\\2923290319.py:102: FutureWarning: The frame.append method is deprecated and will be removed from pandas in a future version. Use pandas.concat instead.\n",
      "  resultdf = resultdf.append({'name1': list1[i].name}, ignore_index=True)\n",
      "C:\\Users\\Admin\\AppData\\Local\\Temp\\ipykernel_11920\\2923290319.py:102: FutureWarning: The frame.append method is deprecated and will be removed from pandas in a future version. Use pandas.concat instead.\n",
      "  resultdf = resultdf.append({'name1': list1[i].name}, ignore_index=True)\n",
      "C:\\Users\\Admin\\AppData\\Local\\Temp\\ipykernel_11920\\2923290319.py:102: FutureWarning: The frame.append method is deprecated and will be removed from pandas in a future version. Use pandas.concat instead.\n",
      "  resultdf = resultdf.append({'name1': list1[i].name}, ignore_index=True)\n",
      "C:\\Users\\Admin\\AppData\\Local\\Temp\\ipykernel_11920\\2923290319.py:102: FutureWarning: The frame.append method is deprecated and will be removed from pandas in a future version. Use pandas.concat instead.\n",
      "  resultdf = resultdf.append({'name1': list1[i].name}, ignore_index=True)\n",
      "C:\\Users\\Admin\\AppData\\Local\\Temp\\ipykernel_11920\\2923290319.py:102: FutureWarning: The frame.append method is deprecated and will be removed from pandas in a future version. Use pandas.concat instead.\n",
      "  resultdf = resultdf.append({'name1': list1[i].name}, ignore_index=True)\n",
      "C:\\Users\\Admin\\AppData\\Local\\Temp\\ipykernel_11920\\2923290319.py:102: FutureWarning: The frame.append method is deprecated and will be removed from pandas in a future version. Use pandas.concat instead.\n",
      "  resultdf = resultdf.append({'name1': list1[i].name}, ignore_index=True)\n",
      "C:\\Users\\Admin\\AppData\\Local\\Temp\\ipykernel_11920\\2923290319.py:102: FutureWarning: The frame.append method is deprecated and will be removed from pandas in a future version. Use pandas.concat instead.\n",
      "  resultdf = resultdf.append({'name1': list1[i].name}, ignore_index=True)\n",
      "C:\\Users\\Admin\\AppData\\Local\\Temp\\ipykernel_11920\\2923290319.py:102: FutureWarning: The frame.append method is deprecated and will be removed from pandas in a future version. Use pandas.concat instead.\n",
      "  resultdf = resultdf.append({'name1': list1[i].name}, ignore_index=True)\n",
      "C:\\Users\\Admin\\AppData\\Local\\Temp\\ipykernel_11920\\2923290319.py:102: FutureWarning: The frame.append method is deprecated and will be removed from pandas in a future version. Use pandas.concat instead.\n",
      "  resultdf = resultdf.append({'name1': list1[i].name}, ignore_index=True)\n",
      "C:\\Users\\Admin\\AppData\\Local\\Temp\\ipykernel_11920\\2923290319.py:102: FutureWarning: The frame.append method is deprecated and will be removed from pandas in a future version. Use pandas.concat instead.\n",
      "  resultdf = resultdf.append({'name1': list1[i].name}, ignore_index=True)\n",
      "C:\\Users\\Admin\\AppData\\Local\\Temp\\ipykernel_11920\\2923290319.py:102: FutureWarning: The frame.append method is deprecated and will be removed from pandas in a future version. Use pandas.concat instead.\n",
      "  resultdf = resultdf.append({'name1': list1[i].name}, ignore_index=True)\n",
      "C:\\Users\\Admin\\AppData\\Local\\Temp\\ipykernel_11920\\2923290319.py:102: FutureWarning: The frame.append method is deprecated and will be removed from pandas in a future version. Use pandas.concat instead.\n",
      "  resultdf = resultdf.append({'name1': list1[i].name}, ignore_index=True)\n",
      "C:\\Users\\Admin\\AppData\\Local\\Temp\\ipykernel_11920\\2923290319.py:102: FutureWarning: The frame.append method is deprecated and will be removed from pandas in a future version. Use pandas.concat instead.\n",
      "  resultdf = resultdf.append({'name1': list1[i].name}, ignore_index=True)\n",
      "C:\\Users\\Admin\\AppData\\Local\\Temp\\ipykernel_11920\\2923290319.py:102: FutureWarning: The frame.append method is deprecated and will be removed from pandas in a future version. Use pandas.concat instead.\n",
      "  resultdf = resultdf.append({'name1': list1[i].name}, ignore_index=True)\n",
      "C:\\Users\\Admin\\AppData\\Local\\Temp\\ipykernel_11920\\2923290319.py:102: FutureWarning: The frame.append method is deprecated and will be removed from pandas in a future version. Use pandas.concat instead.\n",
      "  resultdf = resultdf.append({'name1': list1[i].name}, ignore_index=True)\n",
      "C:\\Users\\Admin\\AppData\\Local\\Temp\\ipykernel_11920\\2923290319.py:102: FutureWarning: The frame.append method is deprecated and will be removed from pandas in a future version. Use pandas.concat instead.\n",
      "  resultdf = resultdf.append({'name1': list1[i].name}, ignore_index=True)\n",
      "C:\\Users\\Admin\\AppData\\Local\\Temp\\ipykernel_11920\\2923290319.py:102: FutureWarning: The frame.append method is deprecated and will be removed from pandas in a future version. Use pandas.concat instead.\n",
      "  resultdf = resultdf.append({'name1': list1[i].name}, ignore_index=True)\n",
      "C:\\Users\\Admin\\AppData\\Local\\Temp\\ipykernel_11920\\2923290319.py:102: FutureWarning: The frame.append method is deprecated and will be removed from pandas in a future version. Use pandas.concat instead.\n",
      "  resultdf = resultdf.append({'name1': list1[i].name}, ignore_index=True)\n",
      "C:\\Users\\Admin\\AppData\\Local\\Temp\\ipykernel_11920\\2923290319.py:102: FutureWarning: The frame.append method is deprecated and will be removed from pandas in a future version. Use pandas.concat instead.\n",
      "  resultdf = resultdf.append({'name1': list1[i].name}, ignore_index=True)\n",
      "C:\\Users\\Admin\\AppData\\Local\\Temp\\ipykernel_11920\\2923290319.py:102: FutureWarning: The frame.append method is deprecated and will be removed from pandas in a future version. Use pandas.concat instead.\n",
      "  resultdf = resultdf.append({'name1': list1[i].name}, ignore_index=True)\n",
      "C:\\Users\\Admin\\AppData\\Local\\Temp\\ipykernel_11920\\2923290319.py:102: FutureWarning: The frame.append method is deprecated and will be removed from pandas in a future version. Use pandas.concat instead.\n",
      "  resultdf = resultdf.append({'name1': list1[i].name}, ignore_index=True)\n",
      "C:\\Users\\Admin\\AppData\\Local\\Temp\\ipykernel_11920\\2923290319.py:102: FutureWarning: The frame.append method is deprecated and will be removed from pandas in a future version. Use pandas.concat instead.\n",
      "  resultdf = resultdf.append({'name1': list1[i].name}, ignore_index=True)\n",
      "C:\\Users\\Admin\\AppData\\Local\\Temp\\ipykernel_11920\\2923290319.py:102: FutureWarning: The frame.append method is deprecated and will be removed from pandas in a future version. Use pandas.concat instead.\n",
      "  resultdf = resultdf.append({'name1': list1[i].name}, ignore_index=True)\n",
      "C:\\Users\\Admin\\AppData\\Local\\Temp\\ipykernel_11920\\2923290319.py:102: FutureWarning: The frame.append method is deprecated and will be removed from pandas in a future version. Use pandas.concat instead.\n",
      "  resultdf = resultdf.append({'name1': list1[i].name}, ignore_index=True)\n",
      "C:\\Users\\Admin\\AppData\\Local\\Temp\\ipykernel_11920\\2923290319.py:102: FutureWarning: The frame.append method is deprecated and will be removed from pandas in a future version. Use pandas.concat instead.\n",
      "  resultdf = resultdf.append({'name1': list1[i].name}, ignore_index=True)\n",
      "C:\\Users\\Admin\\AppData\\Local\\Temp\\ipykernel_11920\\2923290319.py:102: FutureWarning: The frame.append method is deprecated and will be removed from pandas in a future version. Use pandas.concat instead.\n",
      "  resultdf = resultdf.append({'name1': list1[i].name}, ignore_index=True)\n",
      "C:\\Users\\Admin\\AppData\\Local\\Temp\\ipykernel_11920\\2923290319.py:102: FutureWarning: The frame.append method is deprecated and will be removed from pandas in a future version. Use pandas.concat instead.\n",
      "  resultdf = resultdf.append({'name1': list1[i].name}, ignore_index=True)\n",
      "C:\\Users\\Admin\\AppData\\Local\\Temp\\ipykernel_11920\\2923290319.py:102: FutureWarning: The frame.append method is deprecated and will be removed from pandas in a future version. Use pandas.concat instead.\n",
      "  resultdf = resultdf.append({'name1': list1[i].name}, ignore_index=True)\n",
      "C:\\Users\\Admin\\AppData\\Local\\Temp\\ipykernel_11920\\2923290319.py:102: FutureWarning: The frame.append method is deprecated and will be removed from pandas in a future version. Use pandas.concat instead.\n",
      "  resultdf = resultdf.append({'name1': list1[i].name}, ignore_index=True)\n",
      "C:\\Users\\Admin\\AppData\\Local\\Temp\\ipykernel_11920\\2923290319.py:102: FutureWarning: The frame.append method is deprecated and will be removed from pandas in a future version. Use pandas.concat instead.\n",
      "  resultdf = resultdf.append({'name1': list1[i].name}, ignore_index=True)\n",
      "C:\\Users\\Admin\\AppData\\Local\\Temp\\ipykernel_11920\\2923290319.py:102: FutureWarning: The frame.append method is deprecated and will be removed from pandas in a future version. Use pandas.concat instead.\n",
      "  resultdf = resultdf.append({'name1': list1[i].name}, ignore_index=True)\n",
      "C:\\Users\\Admin\\AppData\\Local\\Temp\\ipykernel_11920\\2923290319.py:102: FutureWarning: The frame.append method is deprecated and will be removed from pandas in a future version. Use pandas.concat instead.\n",
      "  resultdf = resultdf.append({'name1': list1[i].name}, ignore_index=True)\n",
      "C:\\Users\\Admin\\AppData\\Local\\Temp\\ipykernel_11920\\2923290319.py:102: FutureWarning: The frame.append method is deprecated and will be removed from pandas in a future version. Use pandas.concat instead.\n",
      "  resultdf = resultdf.append({'name1': list1[i].name}, ignore_index=True)\n",
      "C:\\Users\\Admin\\AppData\\Local\\Temp\\ipykernel_11920\\2923290319.py:102: FutureWarning: The frame.append method is deprecated and will be removed from pandas in a future version. Use pandas.concat instead.\n",
      "  resultdf = resultdf.append({'name1': list1[i].name}, ignore_index=True)\n",
      "C:\\Users\\Admin\\AppData\\Local\\Temp\\ipykernel_11920\\2923290319.py:102: FutureWarning: The frame.append method is deprecated and will be removed from pandas in a future version. Use pandas.concat instead.\n",
      "  resultdf = resultdf.append({'name1': list1[i].name}, ignore_index=True)\n",
      "C:\\Users\\Admin\\AppData\\Local\\Temp\\ipykernel_11920\\2923290319.py:102: FutureWarning: The frame.append method is deprecated and will be removed from pandas in a future version. Use pandas.concat instead.\n",
      "  resultdf = resultdf.append({'name1': list1[i].name}, ignore_index=True)\n",
      "C:\\Users\\Admin\\AppData\\Local\\Temp\\ipykernel_11920\\2923290319.py:102: FutureWarning: The frame.append method is deprecated and will be removed from pandas in a future version. Use pandas.concat instead.\n",
      "  resultdf = resultdf.append({'name1': list1[i].name}, ignore_index=True)\n",
      "C:\\Users\\Admin\\AppData\\Local\\Temp\\ipykernel_11920\\2923290319.py:102: FutureWarning: The frame.append method is deprecated and will be removed from pandas in a future version. Use pandas.concat instead.\n",
      "  resultdf = resultdf.append({'name1': list1[i].name}, ignore_index=True)\n",
      "C:\\Users\\Admin\\AppData\\Local\\Temp\\ipykernel_11920\\2923290319.py:102: FutureWarning: The frame.append method is deprecated and will be removed from pandas in a future version. Use pandas.concat instead.\n",
      "  resultdf = resultdf.append({'name1': list1[i].name}, ignore_index=True)\n",
      "C:\\Users\\Admin\\AppData\\Local\\Temp\\ipykernel_11920\\2923290319.py:102: FutureWarning: The frame.append method is deprecated and will be removed from pandas in a future version. Use pandas.concat instead.\n",
      "  resultdf = resultdf.append({'name1': list1[i].name}, ignore_index=True)\n",
      "C:\\Users\\Admin\\AppData\\Local\\Temp\\ipykernel_11920\\2923290319.py:102: FutureWarning: The frame.append method is deprecated and will be removed from pandas in a future version. Use pandas.concat instead.\n",
      "  resultdf = resultdf.append({'name1': list1[i].name}, ignore_index=True)\n",
      "C:\\Users\\Admin\\AppData\\Local\\Temp\\ipykernel_11920\\2923290319.py:102: FutureWarning: The frame.append method is deprecated and will be removed from pandas in a future version. Use pandas.concat instead.\n",
      "  resultdf = resultdf.append({'name1': list1[i].name}, ignore_index=True)\n",
      "C:\\Users\\Admin\\AppData\\Local\\Temp\\ipykernel_11920\\2923290319.py:102: FutureWarning: The frame.append method is deprecated and will be removed from pandas in a future version. Use pandas.concat instead.\n",
      "  resultdf = resultdf.append({'name1': list1[i].name}, ignore_index=True)\n",
      "C:\\Users\\Admin\\AppData\\Local\\Temp\\ipykernel_11920\\2923290319.py:102: FutureWarning: The frame.append method is deprecated and will be removed from pandas in a future version. Use pandas.concat instead.\n",
      "  resultdf = resultdf.append({'name1': list1[i].name}, ignore_index=True)\n",
      "C:\\Users\\Admin\\AppData\\Local\\Temp\\ipykernel_11920\\2923290319.py:102: FutureWarning: The frame.append method is deprecated and will be removed from pandas in a future version. Use pandas.concat instead.\n",
      "  resultdf = resultdf.append({'name1': list1[i].name}, ignore_index=True)\n",
      "C:\\Users\\Admin\\AppData\\Local\\Temp\\ipykernel_11920\\2923290319.py:102: FutureWarning: The frame.append method is deprecated and will be removed from pandas in a future version. Use pandas.concat instead.\n",
      "  resultdf = resultdf.append({'name1': list1[i].name}, ignore_index=True)\n",
      "C:\\Users\\Admin\\AppData\\Local\\Temp\\ipykernel_11920\\2923290319.py:102: FutureWarning: The frame.append method is deprecated and will be removed from pandas in a future version. Use pandas.concat instead.\n",
      "  resultdf = resultdf.append({'name1': list1[i].name}, ignore_index=True)\n",
      "C:\\Users\\Admin\\AppData\\Local\\Temp\\ipykernel_11920\\2923290319.py:102: FutureWarning: The frame.append method is deprecated and will be removed from pandas in a future version. Use pandas.concat instead.\n",
      "  resultdf = resultdf.append({'name1': list1[i].name}, ignore_index=True)\n",
      "C:\\Users\\Admin\\AppData\\Local\\Temp\\ipykernel_11920\\2923290319.py:102: FutureWarning: The frame.append method is deprecated and will be removed from pandas in a future version. Use pandas.concat instead.\n",
      "  resultdf = resultdf.append({'name1': list1[i].name}, ignore_index=True)\n",
      "C:\\Users\\Admin\\AppData\\Local\\Temp\\ipykernel_11920\\2923290319.py:102: FutureWarning: The frame.append method is deprecated and will be removed from pandas in a future version. Use pandas.concat instead.\n",
      "  resultdf = resultdf.append({'name1': list1[i].name}, ignore_index=True)\n",
      "C:\\Users\\Admin\\AppData\\Local\\Temp\\ipykernel_11920\\2923290319.py:102: FutureWarning: The frame.append method is deprecated and will be removed from pandas in a future version. Use pandas.concat instead.\n",
      "  resultdf = resultdf.append({'name1': list1[i].name}, ignore_index=True)\n",
      "C:\\Users\\Admin\\AppData\\Local\\Temp\\ipykernel_11920\\2923290319.py:102: FutureWarning: The frame.append method is deprecated and will be removed from pandas in a future version. Use pandas.concat instead.\n",
      "  resultdf = resultdf.append({'name1': list1[i].name}, ignore_index=True)\n",
      "C:\\Users\\Admin\\AppData\\Local\\Temp\\ipykernel_11920\\2923290319.py:102: FutureWarning: The frame.append method is deprecated and will be removed from pandas in a future version. Use pandas.concat instead.\n",
      "  resultdf = resultdf.append({'name1': list1[i].name}, ignore_index=True)\n",
      "C:\\Users\\Admin\\AppData\\Local\\Temp\\ipykernel_11920\\2923290319.py:102: FutureWarning: The frame.append method is deprecated and will be removed from pandas in a future version. Use pandas.concat instead.\n",
      "  resultdf = resultdf.append({'name1': list1[i].name}, ignore_index=True)\n",
      "C:\\Users\\Admin\\AppData\\Local\\Temp\\ipykernel_11920\\2923290319.py:102: FutureWarning: The frame.append method is deprecated and will be removed from pandas in a future version. Use pandas.concat instead.\n",
      "  resultdf = resultdf.append({'name1': list1[i].name}, ignore_index=True)\n",
      "C:\\Users\\Admin\\AppData\\Local\\Temp\\ipykernel_11920\\2923290319.py:102: FutureWarning: The frame.append method is deprecated and will be removed from pandas in a future version. Use pandas.concat instead.\n",
      "  resultdf = resultdf.append({'name1': list1[i].name}, ignore_index=True)\n",
      "C:\\Users\\Admin\\AppData\\Local\\Temp\\ipykernel_11920\\2923290319.py:102: FutureWarning: The frame.append method is deprecated and will be removed from pandas in a future version. Use pandas.concat instead.\n",
      "  resultdf = resultdf.append({'name1': list1[i].name}, ignore_index=True)\n",
      "C:\\Users\\Admin\\AppData\\Local\\Temp\\ipykernel_11920\\2923290319.py:102: FutureWarning: The frame.append method is deprecated and will be removed from pandas in a future version. Use pandas.concat instead.\n",
      "  resultdf = resultdf.append({'name1': list1[i].name}, ignore_index=True)\n",
      "C:\\Users\\Admin\\AppData\\Local\\Temp\\ipykernel_11920\\2923290319.py:102: FutureWarning: The frame.append method is deprecated and will be removed from pandas in a future version. Use pandas.concat instead.\n",
      "  resultdf = resultdf.append({'name1': list1[i].name}, ignore_index=True)\n",
      "C:\\Users\\Admin\\AppData\\Local\\Temp\\ipykernel_11920\\2923290319.py:102: FutureWarning: The frame.append method is deprecated and will be removed from pandas in a future version. Use pandas.concat instead.\n",
      "  resultdf = resultdf.append({'name1': list1[i].name}, ignore_index=True)\n",
      "C:\\Users\\Admin\\AppData\\Local\\Temp\\ipykernel_11920\\2923290319.py:102: FutureWarning: The frame.append method is deprecated and will be removed from pandas in a future version. Use pandas.concat instead.\n",
      "  resultdf = resultdf.append({'name1': list1[i].name}, ignore_index=True)\n",
      "C:\\Users\\Admin\\AppData\\Local\\Temp\\ipykernel_11920\\2923290319.py:102: FutureWarning: The frame.append method is deprecated and will be removed from pandas in a future version. Use pandas.concat instead.\n",
      "  resultdf = resultdf.append({'name1': list1[i].name}, ignore_index=True)\n",
      "C:\\Users\\Admin\\AppData\\Local\\Temp\\ipykernel_11920\\2923290319.py:102: FutureWarning: The frame.append method is deprecated and will be removed from pandas in a future version. Use pandas.concat instead.\n",
      "  resultdf = resultdf.append({'name1': list1[i].name}, ignore_index=True)\n",
      "C:\\Users\\Admin\\AppData\\Local\\Temp\\ipykernel_11920\\2923290319.py:102: FutureWarning: The frame.append method is deprecated and will be removed from pandas in a future version. Use pandas.concat instead.\n",
      "  resultdf = resultdf.append({'name1': list1[i].name}, ignore_index=True)\n",
      "C:\\Users\\Admin\\AppData\\Local\\Temp\\ipykernel_11920\\2923290319.py:102: FutureWarning: The frame.append method is deprecated and will be removed from pandas in a future version. Use pandas.concat instead.\n",
      "  resultdf = resultdf.append({'name1': list1[i].name}, ignore_index=True)\n",
      "C:\\Users\\Admin\\AppData\\Local\\Temp\\ipykernel_11920\\2923290319.py:102: FutureWarning: The frame.append method is deprecated and will be removed from pandas in a future version. Use pandas.concat instead.\n",
      "  resultdf = resultdf.append({'name1': list1[i].name}, ignore_index=True)\n",
      "C:\\Users\\Admin\\AppData\\Local\\Temp\\ipykernel_11920\\2923290319.py:102: FutureWarning: The frame.append method is deprecated and will be removed from pandas in a future version. Use pandas.concat instead.\n",
      "  resultdf = resultdf.append({'name1': list1[i].name}, ignore_index=True)\n",
      "C:\\Users\\Admin\\AppData\\Local\\Temp\\ipykernel_11920\\2923290319.py:102: FutureWarning: The frame.append method is deprecated and will be removed from pandas in a future version. Use pandas.concat instead.\n",
      "  resultdf = resultdf.append({'name1': list1[i].name}, ignore_index=True)\n",
      "C:\\Users\\Admin\\AppData\\Local\\Temp\\ipykernel_11920\\2923290319.py:102: FutureWarning: The frame.append method is deprecated and will be removed from pandas in a future version. Use pandas.concat instead.\n",
      "  resultdf = resultdf.append({'name1': list1[i].name}, ignore_index=True)\n",
      "C:\\Users\\Admin\\AppData\\Local\\Temp\\ipykernel_11920\\2923290319.py:102: FutureWarning: The frame.append method is deprecated and will be removed from pandas in a future version. Use pandas.concat instead.\n",
      "  resultdf = resultdf.append({'name1': list1[i].name}, ignore_index=True)\n",
      "C:\\Users\\Admin\\AppData\\Local\\Temp\\ipykernel_11920\\2923290319.py:102: FutureWarning: The frame.append method is deprecated and will be removed from pandas in a future version. Use pandas.concat instead.\n",
      "  resultdf = resultdf.append({'name1': list1[i].name}, ignore_index=True)\n",
      "C:\\Users\\Admin\\AppData\\Local\\Temp\\ipykernel_11920\\2923290319.py:102: FutureWarning: The frame.append method is deprecated and will be removed from pandas in a future version. Use pandas.concat instead.\n",
      "  resultdf = resultdf.append({'name1': list1[i].name}, ignore_index=True)\n",
      "C:\\Users\\Admin\\AppData\\Local\\Temp\\ipykernel_11920\\2923290319.py:102: FutureWarning: The frame.append method is deprecated and will be removed from pandas in a future version. Use pandas.concat instead.\n",
      "  resultdf = resultdf.append({'name1': list1[i].name}, ignore_index=True)\n",
      "C:\\Users\\Admin\\AppData\\Local\\Temp\\ipykernel_11920\\2923290319.py:102: FutureWarning: The frame.append method is deprecated and will be removed from pandas in a future version. Use pandas.concat instead.\n",
      "  resultdf = resultdf.append({'name1': list1[i].name}, ignore_index=True)\n",
      "C:\\Users\\Admin\\AppData\\Local\\Temp\\ipykernel_11920\\2923290319.py:102: FutureWarning: The frame.append method is deprecated and will be removed from pandas in a future version. Use pandas.concat instead.\n",
      "  resultdf = resultdf.append({'name1': list1[i].name}, ignore_index=True)\n",
      "C:\\Users\\Admin\\AppData\\Local\\Temp\\ipykernel_11920\\2923290319.py:102: FutureWarning: The frame.append method is deprecated and will be removed from pandas in a future version. Use pandas.concat instead.\n",
      "  resultdf = resultdf.append({'name1': list1[i].name}, ignore_index=True)\n",
      "C:\\Users\\Admin\\AppData\\Local\\Temp\\ipykernel_11920\\2923290319.py:102: FutureWarning: The frame.append method is deprecated and will be removed from pandas in a future version. Use pandas.concat instead.\n",
      "  resultdf = resultdf.append({'name1': list1[i].name}, ignore_index=True)\n",
      "C:\\Users\\Admin\\AppData\\Local\\Temp\\ipykernel_11920\\2923290319.py:102: FutureWarning: The frame.append method is deprecated and will be removed from pandas in a future version. Use pandas.concat instead.\n",
      "  resultdf = resultdf.append({'name1': list1[i].name}, ignore_index=True)\n",
      "C:\\Users\\Admin\\AppData\\Local\\Temp\\ipykernel_11920\\2923290319.py:102: FutureWarning: The frame.append method is deprecated and will be removed from pandas in a future version. Use pandas.concat instead.\n",
      "  resultdf = resultdf.append({'name1': list1[i].name}, ignore_index=True)\n",
      "C:\\Users\\Admin\\AppData\\Local\\Temp\\ipykernel_11920\\2923290319.py:102: FutureWarning: The frame.append method is deprecated and will be removed from pandas in a future version. Use pandas.concat instead.\n",
      "  resultdf = resultdf.append({'name1': list1[i].name}, ignore_index=True)\n",
      "C:\\Users\\Admin\\AppData\\Local\\Temp\\ipykernel_11920\\2923290319.py:102: FutureWarning: The frame.append method is deprecated and will be removed from pandas in a future version. Use pandas.concat instead.\n",
      "  resultdf = resultdf.append({'name1': list1[i].name}, ignore_index=True)\n",
      "C:\\Users\\Admin\\AppData\\Local\\Temp\\ipykernel_11920\\2923290319.py:102: FutureWarning: The frame.append method is deprecated and will be removed from pandas in a future version. Use pandas.concat instead.\n",
      "  resultdf = resultdf.append({'name1': list1[i].name}, ignore_index=True)\n",
      "C:\\Users\\Admin\\AppData\\Local\\Temp\\ipykernel_11920\\2923290319.py:102: FutureWarning: The frame.append method is deprecated and will be removed from pandas in a future version. Use pandas.concat instead.\n",
      "  resultdf = resultdf.append({'name1': list1[i].name}, ignore_index=True)\n",
      "C:\\Users\\Admin\\AppData\\Local\\Temp\\ipykernel_11920\\2923290319.py:102: FutureWarning: The frame.append method is deprecated and will be removed from pandas in a future version. Use pandas.concat instead.\n",
      "  resultdf = resultdf.append({'name1': list1[i].name}, ignore_index=True)\n",
      "C:\\Users\\Admin\\AppData\\Local\\Temp\\ipykernel_11920\\2923290319.py:102: FutureWarning: The frame.append method is deprecated and will be removed from pandas in a future version. Use pandas.concat instead.\n",
      "  resultdf = resultdf.append({'name1': list1[i].name}, ignore_index=True)\n",
      "C:\\Users\\Admin\\AppData\\Local\\Temp\\ipykernel_11920\\2923290319.py:102: FutureWarning: The frame.append method is deprecated and will be removed from pandas in a future version. Use pandas.concat instead.\n",
      "  resultdf = resultdf.append({'name1': list1[i].name}, ignore_index=True)\n",
      "C:\\Users\\Admin\\AppData\\Local\\Temp\\ipykernel_11920\\2923290319.py:102: FutureWarning: The frame.append method is deprecated and will be removed from pandas in a future version. Use pandas.concat instead.\n",
      "  resultdf = resultdf.append({'name1': list1[i].name}, ignore_index=True)\n",
      "C:\\Users\\Admin\\AppData\\Local\\Temp\\ipykernel_11920\\2923290319.py:102: FutureWarning: The frame.append method is deprecated and will be removed from pandas in a future version. Use pandas.concat instead.\n",
      "  resultdf = resultdf.append({'name1': list1[i].name}, ignore_index=True)\n",
      "C:\\Users\\Admin\\AppData\\Local\\Temp\\ipykernel_11920\\2923290319.py:102: FutureWarning: The frame.append method is deprecated and will be removed from pandas in a future version. Use pandas.concat instead.\n",
      "  resultdf = resultdf.append({'name1': list1[i].name}, ignore_index=True)\n",
      "C:\\Users\\Admin\\AppData\\Local\\Temp\\ipykernel_11920\\2923290319.py:102: FutureWarning: The frame.append method is deprecated and will be removed from pandas in a future version. Use pandas.concat instead.\n",
      "  resultdf = resultdf.append({'name1': list1[i].name}, ignore_index=True)\n",
      "C:\\Users\\Admin\\AppData\\Local\\Temp\\ipykernel_11920\\2923290319.py:102: FutureWarning: The frame.append method is deprecated and will be removed from pandas in a future version. Use pandas.concat instead.\n",
      "  resultdf = resultdf.append({'name1': list1[i].name}, ignore_index=True)\n",
      "C:\\Users\\Admin\\AppData\\Local\\Temp\\ipykernel_11920\\2923290319.py:102: FutureWarning: The frame.append method is deprecated and will be removed from pandas in a future version. Use pandas.concat instead.\n",
      "  resultdf = resultdf.append({'name1': list1[i].name}, ignore_index=True)\n",
      "C:\\Users\\Admin\\AppData\\Local\\Temp\\ipykernel_11920\\2923290319.py:102: FutureWarning: The frame.append method is deprecated and will be removed from pandas in a future version. Use pandas.concat instead.\n",
      "  resultdf = resultdf.append({'name1': list1[i].name}, ignore_index=True)\n",
      "C:\\Users\\Admin\\AppData\\Local\\Temp\\ipykernel_11920\\2923290319.py:102: FutureWarning: The frame.append method is deprecated and will be removed from pandas in a future version. Use pandas.concat instead.\n",
      "  resultdf = resultdf.append({'name1': list1[i].name}, ignore_index=True)\n",
      "C:\\Users\\Admin\\AppData\\Local\\Temp\\ipykernel_11920\\2923290319.py:102: FutureWarning: The frame.append method is deprecated and will be removed from pandas in a future version. Use pandas.concat instead.\n",
      "  resultdf = resultdf.append({'name1': list1[i].name}, ignore_index=True)\n",
      "C:\\Users\\Admin\\AppData\\Local\\Temp\\ipykernel_11920\\2923290319.py:102: FutureWarning: The frame.append method is deprecated and will be removed from pandas in a future version. Use pandas.concat instead.\n",
      "  resultdf = resultdf.append({'name1': list1[i].name}, ignore_index=True)\n",
      "C:\\Users\\Admin\\AppData\\Local\\Temp\\ipykernel_11920\\2923290319.py:102: FutureWarning: The frame.append method is deprecated and will be removed from pandas in a future version. Use pandas.concat instead.\n",
      "  resultdf = resultdf.append({'name1': list1[i].name}, ignore_index=True)\n",
      "C:\\Users\\Admin\\AppData\\Local\\Temp\\ipykernel_11920\\2923290319.py:102: FutureWarning: The frame.append method is deprecated and will be removed from pandas in a future version. Use pandas.concat instead.\n",
      "  resultdf = resultdf.append({'name1': list1[i].name}, ignore_index=True)\n",
      "C:\\Users\\Admin\\AppData\\Local\\Temp\\ipykernel_11920\\2923290319.py:102: FutureWarning: The frame.append method is deprecated and will be removed from pandas in a future version. Use pandas.concat instead.\n",
      "  resultdf = resultdf.append({'name1': list1[i].name}, ignore_index=True)\n",
      "C:\\Users\\Admin\\AppData\\Local\\Temp\\ipykernel_11920\\2923290319.py:102: FutureWarning: The frame.append method is deprecated and will be removed from pandas in a future version. Use pandas.concat instead.\n",
      "  resultdf = resultdf.append({'name1': list1[i].name}, ignore_index=True)\n",
      "C:\\Users\\Admin\\AppData\\Local\\Temp\\ipykernel_11920\\2923290319.py:102: FutureWarning: The frame.append method is deprecated and will be removed from pandas in a future version. Use pandas.concat instead.\n",
      "  resultdf = resultdf.append({'name1': list1[i].name}, ignore_index=True)\n",
      "C:\\Users\\Admin\\AppData\\Local\\Temp\\ipykernel_11920\\2923290319.py:102: FutureWarning: The frame.append method is deprecated and will be removed from pandas in a future version. Use pandas.concat instead.\n",
      "  resultdf = resultdf.append({'name1': list1[i].name}, ignore_index=True)\n",
      "C:\\Users\\Admin\\AppData\\Local\\Temp\\ipykernel_11920\\2923290319.py:102: FutureWarning: The frame.append method is deprecated and will be removed from pandas in a future version. Use pandas.concat instead.\n",
      "  resultdf = resultdf.append({'name1': list1[i].name}, ignore_index=True)\n",
      "C:\\Users\\Admin\\AppData\\Local\\Temp\\ipykernel_11920\\2923290319.py:102: FutureWarning: The frame.append method is deprecated and will be removed from pandas in a future version. Use pandas.concat instead.\n",
      "  resultdf = resultdf.append({'name1': list1[i].name}, ignore_index=True)\n",
      "C:\\Users\\Admin\\AppData\\Local\\Temp\\ipykernel_11920\\2923290319.py:102: FutureWarning: The frame.append method is deprecated and will be removed from pandas in a future version. Use pandas.concat instead.\n",
      "  resultdf = resultdf.append({'name1': list1[i].name}, ignore_index=True)\n",
      "C:\\Users\\Admin\\AppData\\Local\\Temp\\ipykernel_11920\\2923290319.py:102: FutureWarning: The frame.append method is deprecated and will be removed from pandas in a future version. Use pandas.concat instead.\n",
      "  resultdf = resultdf.append({'name1': list1[i].name}, ignore_index=True)\n",
      "C:\\Users\\Admin\\AppData\\Local\\Temp\\ipykernel_11920\\2923290319.py:102: FutureWarning: The frame.append method is deprecated and will be removed from pandas in a future version. Use pandas.concat instead.\n",
      "  resultdf = resultdf.append({'name1': list1[i].name}, ignore_index=True)\n",
      "C:\\Users\\Admin\\AppData\\Local\\Temp\\ipykernel_11920\\2923290319.py:102: FutureWarning: The frame.append method is deprecated and will be removed from pandas in a future version. Use pandas.concat instead.\n",
      "  resultdf = resultdf.append({'name1': list1[i].name}, ignore_index=True)\n",
      "C:\\Users\\Admin\\AppData\\Local\\Temp\\ipykernel_11920\\2923290319.py:102: FutureWarning: The frame.append method is deprecated and will be removed from pandas in a future version. Use pandas.concat instead.\n",
      "  resultdf = resultdf.append({'name1': list1[i].name}, ignore_index=True)\n",
      "C:\\Users\\Admin\\AppData\\Local\\Temp\\ipykernel_11920\\2923290319.py:102: FutureWarning: The frame.append method is deprecated and will be removed from pandas in a future version. Use pandas.concat instead.\n",
      "  resultdf = resultdf.append({'name1': list1[i].name}, ignore_index=True)\n",
      "C:\\Users\\Admin\\AppData\\Local\\Temp\\ipykernel_11920\\2923290319.py:102: FutureWarning: The frame.append method is deprecated and will be removed from pandas in a future version. Use pandas.concat instead.\n",
      "  resultdf = resultdf.append({'name1': list1[i].name}, ignore_index=True)\n",
      "C:\\Users\\Admin\\AppData\\Local\\Temp\\ipykernel_11920\\2923290319.py:102: FutureWarning: The frame.append method is deprecated and will be removed from pandas in a future version. Use pandas.concat instead.\n",
      "  resultdf = resultdf.append({'name1': list1[i].name}, ignore_index=True)\n",
      "C:\\Users\\Admin\\AppData\\Local\\Temp\\ipykernel_11920\\2923290319.py:102: FutureWarning: The frame.append method is deprecated and will be removed from pandas in a future version. Use pandas.concat instead.\n",
      "  resultdf = resultdf.append({'name1': list1[i].name}, ignore_index=True)\n",
      "C:\\Users\\Admin\\AppData\\Local\\Temp\\ipykernel_11920\\2923290319.py:102: FutureWarning: The frame.append method is deprecated and will be removed from pandas in a future version. Use pandas.concat instead.\n",
      "  resultdf = resultdf.append({'name1': list1[i].name}, ignore_index=True)\n",
      "C:\\Users\\Admin\\AppData\\Local\\Temp\\ipykernel_11920\\2923290319.py:102: FutureWarning: The frame.append method is deprecated and will be removed from pandas in a future version. Use pandas.concat instead.\n",
      "  resultdf = resultdf.append({'name1': list1[i].name}, ignore_index=True)\n",
      "C:\\Users\\Admin\\AppData\\Local\\Temp\\ipykernel_11920\\2923290319.py:102: FutureWarning: The frame.append method is deprecated and will be removed from pandas in a future version. Use pandas.concat instead.\n",
      "  resultdf = resultdf.append({'name1': list1[i].name}, ignore_index=True)\n",
      "C:\\Users\\Admin\\AppData\\Local\\Temp\\ipykernel_11920\\2923290319.py:102: FutureWarning: The frame.append method is deprecated and will be removed from pandas in a future version. Use pandas.concat instead.\n",
      "  resultdf = resultdf.append({'name1': list1[i].name}, ignore_index=True)\n",
      "C:\\Users\\Admin\\AppData\\Local\\Temp\\ipykernel_11920\\2923290319.py:102: FutureWarning: The frame.append method is deprecated and will be removed from pandas in a future version. Use pandas.concat instead.\n",
      "  resultdf = resultdf.append({'name1': list1[i].name}, ignore_index=True)\n",
      "C:\\Users\\Admin\\AppData\\Local\\Temp\\ipykernel_11920\\2923290319.py:102: FutureWarning: The frame.append method is deprecated and will be removed from pandas in a future version. Use pandas.concat instead.\n",
      "  resultdf = resultdf.append({'name1': list1[i].name}, ignore_index=True)\n",
      "C:\\Users\\Admin\\AppData\\Local\\Temp\\ipykernel_11920\\2923290319.py:102: FutureWarning: The frame.append method is deprecated and will be removed from pandas in a future version. Use pandas.concat instead.\n",
      "  resultdf = resultdf.append({'name1': list1[i].name}, ignore_index=True)\n",
      "C:\\Users\\Admin\\AppData\\Local\\Temp\\ipykernel_11920\\2923290319.py:102: FutureWarning: The frame.append method is deprecated and will be removed from pandas in a future version. Use pandas.concat instead.\n",
      "  resultdf = resultdf.append({'name1': list1[i].name}, ignore_index=True)\n",
      "C:\\Users\\Admin\\AppData\\Local\\Temp\\ipykernel_11920\\2923290319.py:102: FutureWarning: The frame.append method is deprecated and will be removed from pandas in a future version. Use pandas.concat instead.\n",
      "  resultdf = resultdf.append({'name1': list1[i].name}, ignore_index=True)\n",
      "C:\\Users\\Admin\\AppData\\Local\\Temp\\ipykernel_11920\\2923290319.py:102: FutureWarning: The frame.append method is deprecated and will be removed from pandas in a future version. Use pandas.concat instead.\n",
      "  resultdf = resultdf.append({'name1': list1[i].name}, ignore_index=True)\n",
      "C:\\Users\\Admin\\AppData\\Local\\Temp\\ipykernel_11920\\2923290319.py:102: FutureWarning: The frame.append method is deprecated and will be removed from pandas in a future version. Use pandas.concat instead.\n",
      "  resultdf = resultdf.append({'name1': list1[i].name}, ignore_index=True)\n",
      "C:\\Users\\Admin\\AppData\\Local\\Temp\\ipykernel_11920\\2923290319.py:102: FutureWarning: The frame.append method is deprecated and will be removed from pandas in a future version. Use pandas.concat instead.\n",
      "  resultdf = resultdf.append({'name1': list1[i].name}, ignore_index=True)\n",
      "C:\\Users\\Admin\\AppData\\Local\\Temp\\ipykernel_11920\\2923290319.py:102: FutureWarning: The frame.append method is deprecated and will be removed from pandas in a future version. Use pandas.concat instead.\n",
      "  resultdf = resultdf.append({'name1': list1[i].name}, ignore_index=True)\n",
      "C:\\Users\\Admin\\AppData\\Local\\Temp\\ipykernel_11920\\2923290319.py:102: FutureWarning: The frame.append method is deprecated and will be removed from pandas in a future version. Use pandas.concat instead.\n",
      "  resultdf = resultdf.append({'name1': list1[i].name}, ignore_index=True)\n",
      "C:\\Users\\Admin\\AppData\\Local\\Temp\\ipykernel_11920\\2923290319.py:102: FutureWarning: The frame.append method is deprecated and will be removed from pandas in a future version. Use pandas.concat instead.\n",
      "  resultdf = resultdf.append({'name1': list1[i].name}, ignore_index=True)\n",
      "C:\\Users\\Admin\\AppData\\Local\\Temp\\ipykernel_11920\\2923290319.py:102: FutureWarning: The frame.append method is deprecated and will be removed from pandas in a future version. Use pandas.concat instead.\n",
      "  resultdf = resultdf.append({'name1': list1[i].name}, ignore_index=True)\n",
      "C:\\Users\\Admin\\AppData\\Local\\Temp\\ipykernel_11920\\2923290319.py:102: FutureWarning: The frame.append method is deprecated and will be removed from pandas in a future version. Use pandas.concat instead.\n",
      "  resultdf = resultdf.append({'name1': list1[i].name}, ignore_index=True)\n",
      "C:\\Users\\Admin\\AppData\\Local\\Temp\\ipykernel_11920\\2923290319.py:102: FutureWarning: The frame.append method is deprecated and will be removed from pandas in a future version. Use pandas.concat instead.\n",
      "  resultdf = resultdf.append({'name1': list1[i].name}, ignore_index=True)\n",
      "C:\\Users\\Admin\\AppData\\Local\\Temp\\ipykernel_11920\\2923290319.py:102: FutureWarning: The frame.append method is deprecated and will be removed from pandas in a future version. Use pandas.concat instead.\n",
      "  resultdf = resultdf.append({'name1': list1[i].name}, ignore_index=True)\n",
      "C:\\Users\\Admin\\AppData\\Local\\Temp\\ipykernel_11920\\2923290319.py:102: FutureWarning: The frame.append method is deprecated and will be removed from pandas in a future version. Use pandas.concat instead.\n",
      "  resultdf = resultdf.append({'name1': list1[i].name}, ignore_index=True)\n",
      "C:\\Users\\Admin\\AppData\\Local\\Temp\\ipykernel_11920\\2923290319.py:102: FutureWarning: The frame.append method is deprecated and will be removed from pandas in a future version. Use pandas.concat instead.\n",
      "  resultdf = resultdf.append({'name1': list1[i].name}, ignore_index=True)\n",
      "C:\\Users\\Admin\\AppData\\Local\\Temp\\ipykernel_11920\\2923290319.py:102: FutureWarning: The frame.append method is deprecated and will be removed from pandas in a future version. Use pandas.concat instead.\n",
      "  resultdf = resultdf.append({'name1': list1[i].name}, ignore_index=True)\n",
      "C:\\Users\\Admin\\AppData\\Local\\Temp\\ipykernel_11920\\2923290319.py:102: FutureWarning: The frame.append method is deprecated and will be removed from pandas in a future version. Use pandas.concat instead.\n",
      "  resultdf = resultdf.append({'name1': list1[i].name}, ignore_index=True)\n",
      "C:\\Users\\Admin\\AppData\\Local\\Temp\\ipykernel_11920\\2923290319.py:102: FutureWarning: The frame.append method is deprecated and will be removed from pandas in a future version. Use pandas.concat instead.\n",
      "  resultdf = resultdf.append({'name1': list1[i].name}, ignore_index=True)\n",
      "C:\\Users\\Admin\\AppData\\Local\\Temp\\ipykernel_11920\\2923290319.py:102: FutureWarning: The frame.append method is deprecated and will be removed from pandas in a future version. Use pandas.concat instead.\n",
      "  resultdf = resultdf.append({'name1': list1[i].name}, ignore_index=True)\n",
      "C:\\Users\\Admin\\AppData\\Local\\Temp\\ipykernel_11920\\2923290319.py:102: FutureWarning: The frame.append method is deprecated and will be removed from pandas in a future version. Use pandas.concat instead.\n",
      "  resultdf = resultdf.append({'name1': list1[i].name}, ignore_index=True)\n",
      "C:\\Users\\Admin\\AppData\\Local\\Temp\\ipykernel_11920\\2923290319.py:102: FutureWarning: The frame.append method is deprecated and will be removed from pandas in a future version. Use pandas.concat instead.\n",
      "  resultdf = resultdf.append({'name1': list1[i].name}, ignore_index=True)\n",
      "C:\\Users\\Admin\\AppData\\Local\\Temp\\ipykernel_11920\\2923290319.py:102: FutureWarning: The frame.append method is deprecated and will be removed from pandas in a future version. Use pandas.concat instead.\n",
      "  resultdf = resultdf.append({'name1': list1[i].name}, ignore_index=True)\n",
      "C:\\Users\\Admin\\AppData\\Local\\Temp\\ipykernel_11920\\2923290319.py:102: FutureWarning: The frame.append method is deprecated and will be removed from pandas in a future version. Use pandas.concat instead.\n",
      "  resultdf = resultdf.append({'name1': list1[i].name}, ignore_index=True)\n",
      "C:\\Users\\Admin\\AppData\\Local\\Temp\\ipykernel_11920\\2923290319.py:102: FutureWarning: The frame.append method is deprecated and will be removed from pandas in a future version. Use pandas.concat instead.\n",
      "  resultdf = resultdf.append({'name1': list1[i].name}, ignore_index=True)\n",
      "C:\\Users\\Admin\\AppData\\Local\\Temp\\ipykernel_11920\\2923290319.py:102: FutureWarning: The frame.append method is deprecated and will be removed from pandas in a future version. Use pandas.concat instead.\n",
      "  resultdf = resultdf.append({'name1': list1[i].name}, ignore_index=True)\n",
      "C:\\Users\\Admin\\AppData\\Local\\Temp\\ipykernel_11920\\2923290319.py:102: FutureWarning: The frame.append method is deprecated and will be removed from pandas in a future version. Use pandas.concat instead.\n",
      "  resultdf = resultdf.append({'name1': list1[i].name}, ignore_index=True)\n",
      "C:\\Users\\Admin\\AppData\\Local\\Temp\\ipykernel_11920\\2923290319.py:102: FutureWarning: The frame.append method is deprecated and will be removed from pandas in a future version. Use pandas.concat instead.\n",
      "  resultdf = resultdf.append({'name1': list1[i].name}, ignore_index=True)\n",
      "C:\\Users\\Admin\\AppData\\Local\\Temp\\ipykernel_11920\\2923290319.py:102: FutureWarning: The frame.append method is deprecated and will be removed from pandas in a future version. Use pandas.concat instead.\n",
      "  resultdf = resultdf.append({'name1': list1[i].name}, ignore_index=True)\n",
      "C:\\Users\\Admin\\AppData\\Local\\Temp\\ipykernel_11920\\2923290319.py:102: FutureWarning: The frame.append method is deprecated and will be removed from pandas in a future version. Use pandas.concat instead.\n",
      "  resultdf = resultdf.append({'name1': list1[i].name}, ignore_index=True)\n",
      "C:\\Users\\Admin\\AppData\\Local\\Temp\\ipykernel_11920\\2923290319.py:102: FutureWarning: The frame.append method is deprecated and will be removed from pandas in a future version. Use pandas.concat instead.\n",
      "  resultdf = resultdf.append({'name1': list1[i].name}, ignore_index=True)\n",
      "C:\\Users\\Admin\\AppData\\Local\\Temp\\ipykernel_11920\\2923290319.py:102: FutureWarning: The frame.append method is deprecated and will be removed from pandas in a future version. Use pandas.concat instead.\n",
      "  resultdf = resultdf.append({'name1': list1[i].name}, ignore_index=True)\n",
      "C:\\Users\\Admin\\AppData\\Local\\Temp\\ipykernel_11920\\2923290319.py:102: FutureWarning: The frame.append method is deprecated and will be removed from pandas in a future version. Use pandas.concat instead.\n",
      "  resultdf = resultdf.append({'name1': list1[i].name}, ignore_index=True)\n",
      "C:\\Users\\Admin\\AppData\\Local\\Temp\\ipykernel_11920\\2923290319.py:102: FutureWarning: The frame.append method is deprecated and will be removed from pandas in a future version. Use pandas.concat instead.\n",
      "  resultdf = resultdf.append({'name1': list1[i].name}, ignore_index=True)\n",
      "C:\\Users\\Admin\\AppData\\Local\\Temp\\ipykernel_11920\\2923290319.py:102: FutureWarning: The frame.append method is deprecated and will be removed from pandas in a future version. Use pandas.concat instead.\n",
      "  resultdf = resultdf.append({'name1': list1[i].name}, ignore_index=True)\n",
      "C:\\Users\\Admin\\AppData\\Local\\Temp\\ipykernel_11920\\2923290319.py:102: FutureWarning: The frame.append method is deprecated and will be removed from pandas in a future version. Use pandas.concat instead.\n",
      "  resultdf = resultdf.append({'name1': list1[i].name}, ignore_index=True)\n",
      "C:\\Users\\Admin\\AppData\\Local\\Temp\\ipykernel_11920\\2923290319.py:102: FutureWarning: The frame.append method is deprecated and will be removed from pandas in a future version. Use pandas.concat instead.\n",
      "  resultdf = resultdf.append({'name1': list1[i].name}, ignore_index=True)\n",
      "C:\\Users\\Admin\\AppData\\Local\\Temp\\ipykernel_11920\\2923290319.py:102: FutureWarning: The frame.append method is deprecated and will be removed from pandas in a future version. Use pandas.concat instead.\n",
      "  resultdf = resultdf.append({'name1': list1[i].name}, ignore_index=True)\n",
      "C:\\Users\\Admin\\AppData\\Local\\Temp\\ipykernel_11920\\2923290319.py:102: FutureWarning: The frame.append method is deprecated and will be removed from pandas in a future version. Use pandas.concat instead.\n",
      "  resultdf = resultdf.append({'name1': list1[i].name}, ignore_index=True)\n",
      "C:\\Users\\Admin\\AppData\\Local\\Temp\\ipykernel_11920\\2923290319.py:102: FutureWarning: The frame.append method is deprecated and will be removed from pandas in a future version. Use pandas.concat instead.\n",
      "  resultdf = resultdf.append({'name1': list1[i].name}, ignore_index=True)\n",
      "C:\\Users\\Admin\\AppData\\Local\\Temp\\ipykernel_11920\\2923290319.py:102: FutureWarning: The frame.append method is deprecated and will be removed from pandas in a future version. Use pandas.concat instead.\n",
      "  resultdf = resultdf.append({'name1': list1[i].name}, ignore_index=True)\n",
      "C:\\Users\\Admin\\AppData\\Local\\Temp\\ipykernel_11920\\2923290319.py:102: FutureWarning: The frame.append method is deprecated and will be removed from pandas in a future version. Use pandas.concat instead.\n",
      "  resultdf = resultdf.append({'name1': list1[i].name}, ignore_index=True)\n",
      "C:\\Users\\Admin\\AppData\\Local\\Temp\\ipykernel_11920\\2923290319.py:102: FutureWarning: The frame.append method is deprecated and will be removed from pandas in a future version. Use pandas.concat instead.\n",
      "  resultdf = resultdf.append({'name1': list1[i].name}, ignore_index=True)\n",
      "C:\\Users\\Admin\\AppData\\Local\\Temp\\ipykernel_11920\\2923290319.py:102: FutureWarning: The frame.append method is deprecated and will be removed from pandas in a future version. Use pandas.concat instead.\n",
      "  resultdf = resultdf.append({'name1': list1[i].name}, ignore_index=True)\n",
      "C:\\Users\\Admin\\AppData\\Local\\Temp\\ipykernel_11920\\2923290319.py:102: FutureWarning: The frame.append method is deprecated and will be removed from pandas in a future version. Use pandas.concat instead.\n",
      "  resultdf = resultdf.append({'name1': list1[i].name}, ignore_index=True)\n",
      "C:\\Users\\Admin\\AppData\\Local\\Temp\\ipykernel_11920\\2923290319.py:102: FutureWarning: The frame.append method is deprecated and will be removed from pandas in a future version. Use pandas.concat instead.\n",
      "  resultdf = resultdf.append({'name1': list1[i].name}, ignore_index=True)\n",
      "C:\\Users\\Admin\\AppData\\Local\\Temp\\ipykernel_11920\\2923290319.py:102: FutureWarning: The frame.append method is deprecated and will be removed from pandas in a future version. Use pandas.concat instead.\n",
      "  resultdf = resultdf.append({'name1': list1[i].name}, ignore_index=True)\n",
      "C:\\Users\\Admin\\AppData\\Local\\Temp\\ipykernel_11920\\2923290319.py:102: FutureWarning: The frame.append method is deprecated and will be removed from pandas in a future version. Use pandas.concat instead.\n",
      "  resultdf = resultdf.append({'name1': list1[i].name}, ignore_index=True)\n",
      "C:\\Users\\Admin\\AppData\\Local\\Temp\\ipykernel_11920\\2923290319.py:102: FutureWarning: The frame.append method is deprecated and will be removed from pandas in a future version. Use pandas.concat instead.\n",
      "  resultdf = resultdf.append({'name1': list1[i].name}, ignore_index=True)\n",
      "C:\\Users\\Admin\\AppData\\Local\\Temp\\ipykernel_11920\\2923290319.py:102: FutureWarning: The frame.append method is deprecated and will be removed from pandas in a future version. Use pandas.concat instead.\n",
      "  resultdf = resultdf.append({'name1': list1[i].name}, ignore_index=True)\n",
      "C:\\Users\\Admin\\AppData\\Local\\Temp\\ipykernel_11920\\2923290319.py:102: FutureWarning: The frame.append method is deprecated and will be removed from pandas in a future version. Use pandas.concat instead.\n",
      "  resultdf = resultdf.append({'name1': list1[i].name}, ignore_index=True)\n",
      "C:\\Users\\Admin\\AppData\\Local\\Temp\\ipykernel_11920\\2923290319.py:102: FutureWarning: The frame.append method is deprecated and will be removed from pandas in a future version. Use pandas.concat instead.\n",
      "  resultdf = resultdf.append({'name1': list1[i].name}, ignore_index=True)\n",
      "C:\\Users\\Admin\\AppData\\Local\\Temp\\ipykernel_11920\\2923290319.py:102: FutureWarning: The frame.append method is deprecated and will be removed from pandas in a future version. Use pandas.concat instead.\n",
      "  resultdf = resultdf.append({'name1': list1[i].name}, ignore_index=True)\n",
      "C:\\Users\\Admin\\AppData\\Local\\Temp\\ipykernel_11920\\2923290319.py:102: FutureWarning: The frame.append method is deprecated and will be removed from pandas in a future version. Use pandas.concat instead.\n",
      "  resultdf = resultdf.append({'name1': list1[i].name}, ignore_index=True)\n",
      "C:\\Users\\Admin\\AppData\\Local\\Temp\\ipykernel_11920\\2923290319.py:102: FutureWarning: The frame.append method is deprecated and will be removed from pandas in a future version. Use pandas.concat instead.\n",
      "  resultdf = resultdf.append({'name1': list1[i].name}, ignore_index=True)\n",
      "C:\\Users\\Admin\\AppData\\Local\\Temp\\ipykernel_11920\\2923290319.py:102: FutureWarning: The frame.append method is deprecated and will be removed from pandas in a future version. Use pandas.concat instead.\n",
      "  resultdf = resultdf.append({'name1': list1[i].name}, ignore_index=True)\n",
      "C:\\Users\\Admin\\AppData\\Local\\Temp\\ipykernel_11920\\2923290319.py:102: FutureWarning: The frame.append method is deprecated and will be removed from pandas in a future version. Use pandas.concat instead.\n",
      "  resultdf = resultdf.append({'name1': list1[i].name}, ignore_index=True)\n",
      "C:\\Users\\Admin\\AppData\\Local\\Temp\\ipykernel_11920\\2923290319.py:102: FutureWarning: The frame.append method is deprecated and will be removed from pandas in a future version. Use pandas.concat instead.\n",
      "  resultdf = resultdf.append({'name1': list1[i].name}, ignore_index=True)\n",
      "C:\\Users\\Admin\\AppData\\Local\\Temp\\ipykernel_11920\\2923290319.py:102: FutureWarning: The frame.append method is deprecated and will be removed from pandas in a future version. Use pandas.concat instead.\n",
      "  resultdf = resultdf.append({'name1': list1[i].name}, ignore_index=True)\n",
      "C:\\Users\\Admin\\AppData\\Local\\Temp\\ipykernel_11920\\2923290319.py:102: FutureWarning: The frame.append method is deprecated and will be removed from pandas in a future version. Use pandas.concat instead.\n",
      "  resultdf = resultdf.append({'name1': list1[i].name}, ignore_index=True)\n",
      "C:\\Users\\Admin\\AppData\\Local\\Temp\\ipykernel_11920\\2923290319.py:102: FutureWarning: The frame.append method is deprecated and will be removed from pandas in a future version. Use pandas.concat instead.\n",
      "  resultdf = resultdf.append({'name1': list1[i].name}, ignore_index=True)\n",
      "C:\\Users\\Admin\\AppData\\Local\\Temp\\ipykernel_11920\\2923290319.py:102: FutureWarning: The frame.append method is deprecated and will be removed from pandas in a future version. Use pandas.concat instead.\n",
      "  resultdf = resultdf.append({'name1': list1[i].name}, ignore_index=True)\n",
      "C:\\Users\\Admin\\AppData\\Local\\Temp\\ipykernel_11920\\2923290319.py:102: FutureWarning: The frame.append method is deprecated and will be removed from pandas in a future version. Use pandas.concat instead.\n",
      "  resultdf = resultdf.append({'name1': list1[i].name}, ignore_index=True)\n",
      "C:\\Users\\Admin\\AppData\\Local\\Temp\\ipykernel_11920\\2923290319.py:102: FutureWarning: The frame.append method is deprecated and will be removed from pandas in a future version. Use pandas.concat instead.\n",
      "  resultdf = resultdf.append({'name1': list1[i].name}, ignore_index=True)\n",
      "C:\\Users\\Admin\\AppData\\Local\\Temp\\ipykernel_11920\\2923290319.py:102: FutureWarning: The frame.append method is deprecated and will be removed from pandas in a future version. Use pandas.concat instead.\n",
      "  resultdf = resultdf.append({'name1': list1[i].name}, ignore_index=True)\n",
      "C:\\Users\\Admin\\AppData\\Local\\Temp\\ipykernel_11920\\2923290319.py:102: FutureWarning: The frame.append method is deprecated and will be removed from pandas in a future version. Use pandas.concat instead.\n",
      "  resultdf = resultdf.append({'name1': list1[i].name}, ignore_index=True)\n"
     ]
    }
   ],
   "source": [
    "comparednoProdRB = compareRB(noProdRB, notProdPricesRB, notProdPricesRB.columns[-1], 0.7)"
   ]
  },
  {
   "attachments": {},
   "cell_type": "markdown",
   "metadata": {},
   "source": [
    "Запись в Excel для проверки"
   ]
  },
  {
   "cell_type": "code",
   "execution_count": 242,
   "metadata": {},
   "outputs": [],
   "source": [
    "comparedProdRB.to_excel('prod_rb2.xlsx')\n",
    "comparednoProdRB.to_excel('noprod_rb2.xlsx')"
   ]
  },
  {
   "attachments": {},
   "cell_type": "markdown",
   "metadata": {},
   "source": [
    "Получение списка товаров РФ с ценами"
   ]
  },
  {
   "cell_type": "code",
   "execution_count": 273,
   "metadata": {},
   "outputs": [],
   "source": [
    "# Загружаем продовольственные и непродовольственные товары РФ\n",
    "rf = pd.read_excel('! Копия Веса.xlsx', sheet_name='РФ_структура', header=3)\n",
    "rf = rf.drop(axis=1, columns=[rf.columns[2], rf.columns[3], rf.columns[4], rf.columns[5], rf.columns[6], rf.columns[7], rf.columns[8], rf.columns[9], rf.columns[10]])"
   ]
  },
  {
   "attachments": {},
   "cell_type": "markdown",
   "metadata": {},
   "source": [
    "Структуризация товаров РФ"
   ]
  },
  {
   "cell_type": "code",
   "execution_count": 274,
   "metadata": {},
   "outputs": [
    {
     "name": "stdout",
     "output_type": "stream",
     "text": [
      "Group:  Хлебобулочные изделия и крупы (НД)\n",
      "Product: Рис - 0.0004\n",
      "Product: Рис шлифованный, кг - 0.0004\n",
      "Subgroup Мука и другие крупы\n",
      "Product: Мука - 0.0004\n",
      "Product: Мука пшеничная, кг - 0.0004\n",
      "Product: Крупа манная - 0.0004\n",
      "Product: Крупа манная, кг - 0.0004\n",
      "Product: Пшено - 0.0004\n",
      "Product: Пшено, кг - 0.0004\n",
      "Product: Крупа гречневая - 0.0004\n",
      "Product: Крупа гречневая-ядрица, кг - 0.0004\n",
      "Product: Крупы овсяная и перловая - 0.0004\n",
      "Product: Крупы овсяная и перловая, кг - 0.0004\n",
      "Subgroup Хлеб\n",
      "Product: Хлеб пшеничный - 0.0004\n",
      "Product: Хлеб и булочные изделия из пшеничной муки высшего сорта, кг - 0.0004\n",
      "Product: Хлеб и булочные изделия из пшеничной муки 1 и 2 сортов, кг - 0.0004\n",
      "Product: Хлеб ржаной и прочий - 0.0004\n",
      "Product: Хлеб из ржаной муки и из смеси муки ржаной и пшеничной, кг - 0.0004\n",
      "Subgroup Другие хлебобулочные изделия\n",
      "Product: Булочные изделия сдобные - 0.0004\n",
      "Product: Булочные изделия сдобные из муки высшего сорта штучные, кг - 0.0004\n",
      "Product: Бараночные изделия - 0.0004\n",
      "Product: Бараночные изделия, кг - 0.0004\n",
      "Product: Печенье - 0.0004\n",
      "Product: Печенье, кг - 0.0004\n",
      "Product: Пряники - 0.0004\n",
      "Product: Пряники, кг - 0.0004\n",
      "Product: Торты и пироги - 0.0004\n",
      "Product: Кексы, рулеты, кг - 0.0004\n",
      "Product: Торты, кг - 0.0004\n",
      "Product: Другие хлебобулочные и кондитерские изделия - 0.0004\n",
      "Product: Хлопья из злаков (сухие завтраки), кг - 0.0004\n",
      "Subgroup Макаронные изделия\n",
      "Product: Вермишель - 0.0004\n",
      "Product: Вермишель, кг - 0.0004\n",
      "Product: Другие макаронные изделия - 0.0004\n",
      "Product: Макаронные изделия из пшеничной муки высшего сорта, кг - 0.0004\n",
      "Product: Изделия из теста, приготовленные с начинкой или без начинки и требующие тепловой обработки перед употреблением - 0.0004\n",
      "Product: Пельмени, манты, равиоли, кг - 0.0004\n",
      "Subgroup Другие крупяные изделия\n",
      "Product: Овсяные хлопья Геркулес - 0.0004\n",
      "Product: \"Овсяные хлопья \"\"Геркулес\"\", кг - 0.0004\n",
      "Product: Детское питание, изготовленное на основе крупы, муки или крахмала - 0.0004\n",
      "Product: Смеси сухие молочные для детского питания, кг - 0.0004\n",
      "Group:  Мясо и мясопродукты\n",
      "Subgroup Говядина\n",
      "Product: Говядина с костями - 0.0004\n",
      "Product: Говядина (кроме бескостного мяса), кг - 0.0004\n",
      "Product: Говядина бескостная - 0.0004\n",
      "Product: Говядина бескостная, кг - 0.0004\n",
      "Subgroup Свинина\n",
      "Product: Свинина с костями - 0.0004\n",
      "Product: Свинина (кроме бескостного мяса), кг - 0.0004\n",
      "Product: Свинина бескостная - 0.0004\n",
      "Product: Свинина бескостная, кг - 0.0004\n",
      "Product: Баранина и козлятина - 0.0004\n",
      "Product: Баранина (кроме бескостного мяса), кг - 0.0004\n",
      "Subgroup Мясо птицы\n",
      "Product: Куры (кроме куриных окорочков) - 0.0004\n",
      "Product: Куры охлажденные и мороженые, кг - 0.0004\n",
      "Product: Окорочка куриные - 0.0004\n",
      "Product: Окорочка куриные, кг - 0.0004\n",
      "Product: Мясо другой птицы - 0.0004\n",
      "Product: Мясо индейки, кг - 0.0004\n",
      "Subgroup Прочие виды мяса и съедобные потроха\n",
      "Product: Печень говяжья - 0.0004\n",
      "Product: Печень говяжья, кг - 0.0004\n",
      "Subgroup Деликатесы и мясные полуфабрикаты\n",
      "Product: Колбасы вареные - 0.0004\n",
      "Product: Колбаса вареная, кг - 0.0004\n",
      "Product: Колбаса вареная I сорта, кг - 0.0004\n",
      "Product: Колбаса вареная высшего сорта, кг - 0.0004\n",
      "Product: Колбасы варено-копченые, полукопченые - 0.0004\n",
      "Product: Колбаса полукопченая и варено-копченая, кг - 0.0004\n",
      "Product: Колбасы сырокопченые - 0.0004\n",
      "Product: Колбаса сырокопченая, кг - 0.0004\n",
      "Product: Сосиски, сардельки - 0.0004\n",
      "Product: Сосиски, сардельки, кг - 0.0004\n",
      "Product: Мясокопчености, мясные закуски - 0.0004\n",
      "Product: Мясокопчености, кг - 0.0004\n",
      "Product: Мясные и мясорастительные консервы (кроме консервов для детского питания) - 0.0004\n",
      "Product: Консервы мясные, 350 г - 0.0004\n",
      "Product: Мясные и мясорастительные консервы для детского питания - 0.0004\n",
      "Product: Консервы мясные для детского питания, кг - 0.0004\n",
      "Product: Мясные полуфабрикаты и готовые изделия - 0.0004\n",
      "Product: Фарш мясной, кг - 0.0004\n",
      "Product: Кулинарные изделия из птицы, кг - 0.0004\n",
      "Group:  РЫБА И РЫБОПРОДУКТЫ (вкл. морепродукты)\n",
      "Subgroup Рыба и морепродукты живые и охлажденные\n",
      "Product: Рыба живая и охлажденная - 0.0004\n",
      "Product: Рыба живая и охлажденная, кг - 0.0004\n",
      "Subgroup Рыба и морепродукты замороженные\n",
      "Product: Рыба замороженная неразделанная - 0.0004\n",
      "Product: Рыба мороженая неразделанная, кг - 0.0004\n",
      "Product: Рыба замороженная разделанная (без головы, потрошеная) - 0.0004\n",
      "Product: Рыба мороженая разделанная (кроме лососевых пород), кг - 0.0004\n",
      "Product: Рыба охлажденная и мороженая разделанная лососевых пород, кг - 0.0004\n",
      "Product: Филе рыбное, кг - 0.0004\n",
      "Product: Морепродукты замороженные - 0.0004\n",
      "Product: Креветки мороженые неразделанные, кг - 0.0004\n",
      "Product: Кальмары мороженые, кг - 0.0004\n",
      "Subgroup Консервированная и переработанная рыба и морепродукты\n",
      "Product: Рыба и морепродукты соленые, копченые, сушеные (кроме сельди) - 0.0004\n",
      "Product: Рыба соленая, маринованная, копченая, кг - 0.0004\n",
      "Product: Соленые и копченые деликатесные продукты из рыбы, кг - 0.0004\n",
      "Product: Пресервы рыбные, 350 г - 0.0004\n",
      "Product: Сельдь соленая - 0.0004\n",
      "Product: Сельдь соленая, кг - 0.0004\n",
      "Product: Филе сельди соленое, кг - 0.0004\n",
      "Product: Консервы рыбные натуральные и с добавлением масла - 0.0004\n",
      "Product: Консервы рыбные натуральные и с добавлением масла, 350 г - 0.0004\n",
      "Product: Консервы рыбные в томатном соусе - 0.0004\n",
      "Product: Консервы рыбные в томатном соусе, 350 г - 0.0004\n",
      "Product: Икра осетровых, лососевых рыб (весовая и в банках) - 0.0004\n",
      "Product: Икра лососевых рыб, отечественная, кг - 0.0004\n",
      "Group:  МОЛОКО И МОЛОЧНЫЕ ПРОДУКТЫ (включая сыры)\n",
      "Subgroup Молоко свежее\n",
      "Product: Молоко нормализованное, прошедшее термическую обработку - 0.0004\n",
      "Product: Молоко питьевое цельное пастеризованное 2,5-3,2% жирности, л - 0.0004\n",
      "Product: Молоко питьевое цельное стерилизованное 2,5-3,2% жирности, л - 0.0004\n",
      "Subgroup Молоко консервированное\n",
      "Product: Молоко сухое - 0.0004\n",
      "Product: Молоко сухое цельное, кг - 0.0004\n",
      "Product: Молоко сгущенное с сахаром - 0.0004\n",
      "Product: Молоко сгущенное с сахаром, 400 г - 0.0004\n",
      "Subgroup Другие молочные продукты\n",
      "Product: Йогурт - 0.0004\n",
      "Product: Йогурт, 125 г - 0.0004\n",
      "Product: Сливки - 0.0004\n",
      "Product: Сливки питьевые, л - 0.0004\n",
      "Product: Сметана - 0.0004\n",
      "Product: Сметана, кг - 0.0004\n",
      "Product: Кисломолочные продукты - 0.0004\n",
      "Product: Кисломолочные продукты, кг - 0.0004\n",
      "Subgroup Сыр и творог\n",
      "Product: Сыры сычужные твердые и мягкие - 0.0004\n",
      "Product: Сыры сычужные твердые и мягкие, кг - 0.0004\n",
      "Product: Сыры плавленые - 0.0004\n",
      "Product: Сыры плавленые, кг - 0.0004\n",
      "Product: Другие сыры и брынза - 0.0004\n",
      "Product: Национальные сыры и брынза, кг - 0.0004\n",
      "Product: Творог жирный - 0.0004\n",
      "Product: Творог жирный, кг - 0.0004\n",
      "Product: Творог нежирный - 0.0004\n",
      "Product: Творог нежирный, кг - 0.0004\n",
      "Product: Сырковая масса и другие изделия из творога - 0.0004\n",
      "Product: Сырки творожные, глазированные шоколадом, 50 г - 0.0004\n",
      "Subgroup Яйца и продукты на основе яиц\n",
      "Product: Яйца - 0.0004\n",
      "Product: Яйца куриные, 10 шт. - 0.0004\n",
      "Group:  МАСЛО И ЖИРЫ\n",
      "Product: Масло животное (сливочное) - 0.0004\n",
      "Product: Масло сливочное, кг - 0.0004\n",
      "Product: Маргарин - 0.0004\n",
      "Product: Маргарин, кг - 0.0004\n",
      "Subgroup Другие съедобные растительные масла и жиры\n",
      "Product: Оливковое масло - 0.0004\n",
      "Product: Масло оливковое, л - 0.0004\n",
      "Product: Масло подсолнечное и другие растительные масла - 0.0004\n",
      "Product: Масло подсолнечное, кг - 0.0004\n",
      "Group:  Фрукты (НД)\n",
      "Subgroup Свежие и охлажденные фрукты\n",
      "Product: Цитрусовые - 0.0004\n",
      "Product: Апельсины, кг - 0.0004\n",
      "Product: Лимоны, кг - 0.0004\n",
      "Product: Бананы - 0.0004\n",
      "Product: Бананы, кг - 0.0004\n",
      "Product: Яблоки - 0.0004\n",
      "Product: Яблоки, кг - 0.0004\n",
      "Product: Другие фрукты - 0.0004\n",
      "Product: Груши, кг - 0.0004\n",
      "Product: Виноград - 0.0004\n",
      "Product: Виноград, кг - 0.0004\n",
      "Subgroup Сухофрукты и орехи\n",
      "Product: Сухофрукты - 0.0004\n",
      "Product: Сухофрукты, кг - 0.0004\n",
      "Product: Орехи, фруктовые зернышки и съедобные семена - 0.0004\n",
      "Product: Орехи, кг - 0.0004\n",
      "Product: Замороженные и консервированные фрукты, изделия из фруктов - 0.0004\n",
      "Product: Ягоды замороженные, кг - 0.0004\n",
      "Group:  Овощи (НД)\n",
      "Subgroup Свежие или охлажденные овощи, кроме картофеля\n",
      "Product: Капуста - 0.0004\n",
      "Product: Капуста белокочанная свежая, кг - 0.0004\n",
      "Product: Другие зеленые культуры - 0.0004\n",
      "Product: Зелень свежая, кг - 0.0004\n",
      "Product: Огурцы и помидоры - 0.0004\n",
      "Product: Огурцы свежие, кг - 0.0004\n",
      "Product: Помидоры свежие, кг - 0.0004\n",
      "Product: Свёкла столовая - 0.0004\n",
      "Product: Свёкла столовая, кг - 0.0004\n",
      "Product: Морковь - 0.0004\n",
      "Product: Морковь, кг - 0.0004\n",
      "Product: Лук и чеснок - 0.0004\n",
      "Product: Лук репчатый, кг - 0.0004\n",
      "Product: Чеснок, кг - 0.0004\n",
      "Product: Грибы - 0.0004\n",
      "Product: Грибы свежие, кг - 0.0004\n",
      "Product: Картофель свежий и охлажденный - 0.0004\n",
      "Product: Картофель, кг - 0.0004\n",
      "Product: Овощи замороженные - 0.0004\n",
      "Product: Овощи замороженные, кг - 0.0004\n",
      "Subgroup Сушеные овощи\n",
      "Product: Бобовые в стадии биологической спелости - 0.0004\n",
      "Product: Горох и фасоль, кг - 0.0004\n",
      "Subgroup Консервированные или переработанные овощи и продукты из овощей\n",
      "Product: Консервы овощные натуральные (кроме консервов для детского питания) и маринованные - 0.0004\n",
      "Product: Овощи натуральные консервированные, маринованные, кг - 0.0004\n",
      "Product: Консервы овощные закусочные - 0.0004\n",
      "Product: Консервы овощные закусочные, обеденные, кг - 0.0004\n",
      "Product: Консервы томатные - 0.0004\n",
      "Product: Консервы томатные, кг - 0.0004\n",
      "Product: Консервы овощные для детского питания - 0.0004\n",
      "Product: Консервы овощные для детского питания, кг - 0.0004\n",
      "Group:  Сахар, джем, мед, шоколад и конфеты (НД)\n",
      "Subgroup Сахар и его искусственные заменители\n",
      "Product: Сахар - 0.0004\n",
      "Product: Сахар-песок, кг - 0.0004\n",
      "Subgroup Варенье, джемы и мед\n",
      "Product: Варенье, джем, повидло - 0.0004\n",
      "Product: Варенье, джем, повидло, кг - 0.0004\n",
      "Product: Консервы фруктовые для детского питания - 0.0004\n",
      "Product: Консервы фруктово-ягодные для детского питания, кг - 0.0004\n",
      "Product: Мед натуральный - 0.0004\n",
      "Product: Мёд пчелиный натуральный, кг - 0.0004\n",
      "Subgroup Конфеты, шоколад и другие продукты из какао\n",
      "Product: Шоколад - 0.0004\n",
      "Product: Шоколад, кг - 0.0004\n",
      "Product: Конфеты шоколадные - 0.0004\n",
      "Product: Конфеты мягкие, глазированные шоколадом, кг - 0.0004\n",
      "Product: Конфеты шоколадные натуральные и с добавками, кг - 0.0004\n",
      "Product: Карамель - 0.0004\n",
      "Product: Карамель, кг - 0.0004\n",
      "Product: Зефир, пастила - 0.0004\n",
      "Product: Зефир, пастила, кг - 0.0004\n",
      "Product: Кондитерские изделия, освежающие полость рта - 0.0004\n",
      "Product: Жевательная резинка, упаковка - 0.0004\n",
      "Subgroup Фруктовые льды и мороженое\n",
      "Product: Мороженое молочное и сливочное - 0.0004\n",
      "Product: Мороженое сливочное, кг - 0.0004\n",
      "Subgroup Пищевые продукты, не отнесенные к другим категориям (НД)\n",
      "Product: Кетчуп - 0.0004\n",
      "Product: Кетчуп, кг - 0.0004\n",
      "Product: Майонез - 0.0004\n",
      "Product: Майонез, кг - 0.0004\n",
      "Product: Соль - 0.0004\n",
      "Product: Соль поваренная пищевая, кг - 0.0004\n",
      "Product: Соль йодированная пищевая, кг - 0.0004\n",
      "Product: Кулинарные травы и пряности - 0.0004\n",
      "Product: Перец черный (горошек), кг - 0.0004\n",
      "Product: Дрожжи, супы и концентраты - 0.0004\n",
      "Product: Сухие супы в пакетах, 100 г - 0.0004\n",
      "Group:  Кофе, чай и какао (НД)\n",
      "Product: Кофе - 0.0004\n",
      "Product: Кофе натуральный растворимый, кг - 0.0004\n",
      "Product: Кофе натуральный в зернах и молотый, кг - 0.0004\n",
      "Product: Чай - 0.0004\n",
      "Product: Чай черный байховый, кг - 0.0004\n",
      "Product: Чай черный байховый пакетированный, 25 пакетиков - 0.0004\n",
      "Product: Чай зеленый, кг - 0.0004\n",
      "Product: Какао и какао-порошок - 0.0004\n",
      "Product: Какао, кг - 0.0004\n",
      "Group:  Минеральные воды, прохладительные напитки и соки (НД)\n",
      "Product: Минеральные воды и родниковая вода - 0.0004\n",
      "Product: Вода минеральная и питьевая, л - 0.0004\n",
      "Subgroup Газированная вода и другие напитки\n",
      "Product: Вода газированная (кроме минеральной) - 0.0004\n",
      "Product: Напитки газированные, л - 0.0004\n",
      "Subgroup Фруктовые и овощные соки\n",
      "Product: Соки фруктовые - 0.0004\n",
      "Product: Соки фруктовые, л - 0.0004\n",
      "Subgroup Спиртные напитки  (НД)\n",
      "Product: Водка - 0.0004\n",
      "Product: Водка крепостью 40% об.спирта и выше обыкновенного качества, л - 0.0004\n",
      "Product: Водка крепостью 40% об.спирта и выше повышенного качества, л - 0.0004\n",
      "Product: Водка крепостью 40% об.спирта и выше, л - 0.0004\n",
      "Product: Коньяки - 0.0004\n",
      "Product: Коньяк ординарный отечественный, л - 0.0004\n",
      "Group:  Вино (НД)\n",
      "Product: Виноградные и плодово-ягодные вина (кроме крепленых и игристых вин) - 0.0004\n",
      "Product: Вино виноградное столовое (сухое, полусухое, полусладкое) крепостью до 14% об.спирта и содержанием до 8% сахара, л - 0.0004\n",
      "Product: Крепленые и игристые вина - 0.0004\n",
      "Product: Вино виноградное крепленое крепостью до 20% об.спирта, л - 0.0004\n",
      "Product: Вино игристое отечественное, л - 0.0004\n",
      "Product: Пиво (НД) - 0.0004\n",
      "Product: Пиво отечественное, л - 0.0004\n",
      "Product: Пиво зарубежных торговых марок, л - 0.0004\n",
      "Group:  Табачные изделия (НД)\n",
      "Subgroup Сигареты\n",
      "Product: Сигареты с фильтром - 0.0004\n",
      "Product: Сигареты с фильтром отечественные, пачка - 0.0004\n",
      "Product: Сигареты с фильтром зарубежных торговых марок, пачка - 0.0004\n",
      "Product: Сигареты без фильтра - 0.0004\n",
      "Product: Сигареты без фильтра отечественные, пачка - 0.0004\n",
      "Subgroup Материалы для пошива одежды  (ПД)\n",
      "Product: Хлопчатобумажные ткани - 0.0004\n",
      "Product: Ситец набивной отечественный, м - 0.0004\n",
      "Product: Шерстяные ткани - 0.0004\n",
      "Product: Ткань костюмная шерстяная и полушерстяная, м - 0.0004\n",
      "Product: Шелковые, синтетические, штапельные ткани - 0.0004\n",
      "Product: Ткань платьевая из искусственного или синтетического шелка, м - 0.0004\n",
      "Group:  Верхняя одежда и белье (ПД)\n",
      "Subgroup Мужская верхняя одежда и белье\n",
      "Product: Пальто, плащи, куртки на утепленной подкладке или меховые (кроме кожаных) - 0.0004\n",
      "Product: Куртка мужская с верхом из плащевых тканей утепленная, шт. - 0.0004\n",
      "Product: Куртка мужская зимняя с верхом из плащевых тканей, шт. - 0.0004\n",
      "Product: Куртка мужская демисезонная с верхом из плащевых тканей, шт. - 0.0004\n",
      "Product: Пальто, плащи, куртки без утепленной подкладки (кроме кожаных) - 0.0004\n",
      "Product: Куртка мужская без утеплителя (ветровка), шт. - 0.0004\n",
      "Product: Пальто, плащи, куртки кожаные - 0.0004\n",
      "Product: Куртка мужская из натуральной кожи, шт. - 0.0004\n",
      "Product: Костюмы, пиджаки, жилеты - 0.0004\n",
      "Product: Костюм-двойка мужской из шерстяных, полушерстяных или смесовых тканей, шт. - 0.0004\n",
      "Product: Костюм спортивный для взрослых, шт. - 0.0004\n",
      "Product: Брюки - 0.0004\n",
      "Product: Брюки мужские из полушерстяных или смесовых тканей, шт. - 0.0004\n",
      "Product: Брюки мужские из джинсовой ткани (джинсы), шт. - 0.0004\n",
      "Product: Свитера, жакеты, пуловеры - 0.0004\n",
      "Product: Джемпер мужской, шт. - 0.0004\n",
      "Product: Рубашки - 0.0004\n",
      "Product: Сорочка верхняя мужская из хлопчатобумажных или смесовых тканей, шт. - 0.0004\n",
      "Product: Нижнее белье (включая ночное) - 0.0004\n",
      "Product: Майка, футболка мужская бельевая, шт. - 0.0004\n",
      "Product: Трусы мужские из хлопчатобумажного трикотажного полотна, шт. - 0.0004\n",
      "Product: Трусы мужские из хлопчатобумажной ткани, шт. - 0.0004\n",
      "Product: Чулочно-носочные изделия - 0.0004\n",
      "Product: Носки мужские, пара - 0.0004\n",
      "Product: Носки, гольфы женские, пара - 0.0004\n",
      "Subgroup Женская верхняя одежда и белье\n",
      "Product: Пальто, плащи, куртки на утепленной подкладке или меховые (кроме кожаных) - 0.0004\n",
      "Product: Пальто женское зимнее из шерстяных или полушерстяных тканей  с меховым воротником, шт. - 0.0004\n",
      "Product: Пальто женское меховое и дубленка, шт. - 0.0004\n",
      "Product: Пальто (полупальто) женское с верхом из плащевых тканей, шт. - 0.0004\n",
      "Product: Пальто, плащи, куртки без утепленной подкладки (кроме кожаных) - 0.0004\n",
      "Product: Пальто женское демисезонное из шерстяных или полушерстяных тканей, шт. - 0.0004\n",
      "Product: Куртка женская без утеплителя (ветровка), шт. - 0.0004\n",
      "Product: Пальто, плащи, куртки кожаные - 0.0004\n",
      "Product: Куртка женская из натуральной кожи, шт. - 0.0004\n",
      "Product: Костюмы, пиджаки, платья - 0.0004\n",
      "Product: Костюм-двойка женский из трикотажного полотна, шт. - 0.0004\n",
      "Product: Платье женское из смесовых тканей или легкого трикотажного полотна, шт. - 0.0004\n",
      "Product: Платье (платье-костюм) женское из хлопчатобумажных или смесовых тканей, шт. - 0.0004\n",
      "Product: Пиджак, жакет женский из шерстяных, полушерстяных или смесовых тканей, шт. - 0.0004\n",
      "Product: Платье (платье-костюм) женское из полушерстяных или смесовых тканей, шт. - 0.0004\n",
      "Product: Юбки, брюки - 0.0004\n",
      "Product: Юбка женская из полушерстяных или смесовых тканей, шт. - 0.0004\n",
      "Product: Брюки женские из полушерстяных или смесовых тканей, шт. - 0.0004\n",
      "Product: Брюки женские из джинсовой ткани (джинсы), шт. - 0.0004\n",
      "Product: Свитера, жакеты, пуловеры - 0.0004\n",
      "Product: Джемпер женский, шт. - 0.0004\n",
      "Product: Блузки - 0.0004\n",
      "Product: Блузка женская, шт. - 0.0004\n",
      "Product: Нижнее белье (включая ночное) - 0.0004\n",
      "Product: Бюстгальтер, шт. - 0.0004\n",
      "Product: Панталоны, трусы женские, шт. - 0.0004\n",
      "Product: Сорочка ночная женская, шт. - 0.0004\n",
      "Product: Майка, футболка женская бельевая, шт. - 0.0004\n",
      "Product: Халат женский, шт. - 0.0004\n",
      "Product: Чулочно-носочные изделия - 0.0004\n",
      "Product: Колготки женские эластичные плотностью 15-20 DEN, шт. - 0.0004\n",
      "Product: Колготки женские эластичные плотностью свыше 20 DEN, шт. - 0.0004\n",
      "Product: Колготки женские эластичные, шт. - 0.0004\n",
      "Subgroup Верхняя одежда и белье для детей от 3 до 14 лет\n",
      "Product: Пальто, плащи, куртки на утепленной подкладке или меховые - 0.0004\n",
      "Product: Куртка для детей школьного возраста с верхом из плащевых тканей утепленная, шт. - 0.0004\n",
      "Product: Куртка для детей школьного возраста зимняя, с верхом из плащевых тканей, шт. - 0.0004\n",
      "Product: Куртка для детей школьного возраста демисезонная, с верхом из плащевых тканей, шт. - 0.0004\n",
      "Product: Куртка для детей дошкольного возраста с верхом из плащевых тканей утепленная, шт. - 0.0004\n",
      "Product: Куртка для детей дошкольного возраста демисезонная с верхом из плащевых тканей, шт. - 0.0004\n",
      "Product: Куртка для детей дошкольного возраста зимняя из смесовых или синтетических тканей, утепленная искусственным мехом (пухо-пером, тройным синтепоном), шт. - 0.0004\n",
      "Product: Комбинезон (костюм) утепленный для детей дошкольного возраста, шт. - 0.0004\n",
      "Product: Костюмы, пиджаки, платья, жилеты - 0.0004\n",
      "Product: Платье (платье-костюм, сарафан) для девочек школьного возраста из полушерстяных, смесовых тканей, шт. - 0.0004\n",
      "Product: Платье (сарафан) летнее для девочек дошкольного возраста, шт. - 0.0004\n",
      "Product: Костюм спортивный для детей школьного возраста, шт. - 0.0004\n",
      "Product: Юбки, брюки - 0.0004\n",
      "Product: Юбка для девочек школьного возраста из полушерстяных тканей, шт. - 0.0004\n",
      "Product: Брюки для детей школьного возраста из полушерстяных тканей, шт. - 0.0004\n",
      "Product: Брюки для детей школьного возраста из джинсовой ткани, шт. - 0.0004\n",
      "Product: Рубашки, блузки - 0.0004\n",
      "Product: Сорочка верхняя для мальчиков школьного возраста, шт. - 0.0004\n",
      "Product: Сорочка верхняя для мальчиков дошкольного возраста, шт. - 0.0004\n",
      "Product: Блузка для девочек школьного возраста, шт. - 0.0004\n",
      "Product: Свитера, жакеты, пуловеры - 0.0004\n",
      "Product: Джемпер для детей школьного возраста, шт. - 0.0004\n",
      "Product: Нижнее белье (включая ночное) - 0.0004\n",
      "Product: Футболка детская, шт. - 0.0004\n",
      "Product: Трусы детские, шт. - 0.0004\n",
      "Product: Чулочно-носочные изделия - 0.0004\n",
      "Product: Носки, гольфы детские, пара - 0.0004\n",
      "Product: Колготки детские, шт. - 0.0004\n",
      "Product: Одежда для детей до 3 лет - 0.0004\n",
      "Product: Комбинезон утепленный для детей до одного года, шт. - 0.0004\n",
      "Product: Костюм трикотажный для детей ясельного возраста, шт. - 0.0004\n",
      "Product: Белье для новорожденных и детей ясельного возраста, шт. - 0.0004\n",
      "Product: Ползунки из хлопчатобумажного трикотажного полотна, шт. - 0.0004\n",
      "Product: Пеленки для новорожденных, шт. - 0.0004\n",
      "Subgroup Другая одежда и галантерея (ПД)\n",
      "Product: Головные уборы мужские из натурального меха - 0.0004\n",
      "Product: Меховой головной убор мужской из натурального меха, шт. - 0.0004\n",
      "Product: Головной убор мужской из овчины, меха кролика или комбинированный с кожей, замшей, утепленный, шт. - 0.0004\n",
      "Product: Головные уборы женские из натурального меха - 0.0004\n",
      "Product: Меховой головной убор женский из натурального меха, шт. - 0.0004\n",
      "Product: Прочие головные уборы мужские, женские и детские - 0.0004\n",
      "Product: Трикотажный головной убор мужской, шт. - 0.0004\n",
      "Product: Трикотажный головной убор женский, шт. - 0.0004\n",
      "Product: Трикотажная шапочка детская, шт. - 0.0004\n",
      "Product: Варежки (перчатки) детские, пара - 0.0004\n",
      "Product: Головные и шейные платки, шарфы - 0.0004\n",
      "Product: Шарф шерстяной, полушерстяной или из смесовой пряжи для взрослых, шт. - 0.0004\n",
      "Product: Перчатки, варежки, муфты - 0.0004\n",
      "Product: Перчатки трикотажные женские, пара - 0.0004\n",
      "Product: Перчатки из натуральной кожи, пара - 0.0004\n",
      "Product: Галантерея - 0.0004\n",
      "Product: Нитки швейные, катушка - 0.0004\n",
      "Product: Платок носовой, шт. - 0.0004\n",
      "Product: Ремень мужской, шт. - 0.0004\n",
      "Subgroup Чистка, ремонт и прокат одежды (У)\n",
      "Product: Ремонт одежды - 0.0004\n",
      "Product: Ремонт брюк из всех видов тканей, один вид работы - 0.0004\n",
      "Product: Пошив и прокат одежды - 0.0004\n",
      "Product: Пошив женского платья, шт. - 0.0004\n",
      "Product: Химчистка, стирка и окраска одежды - 0.0004\n",
      "Product: Химчистка мужского костюма, шт. - 0.0004\n",
      "Group:  Сапоги, туфли и прочая обувь (ПД)\n",
      "Subgroup Мужская обувь\n",
      "Product: Сапоги, ботинки зимние - 0.0004\n",
      "Product: Сапоги, ботинки мужские зимние с верхом из натуральной кожи, пара - 0.0004\n",
      "Product: Сапоги, ботинки демисезонные - 0.0004\n",
      "Product: Полуботинки, туфли мужские с верхом из натуральной кожи, пара - 0.0004\n",
      "Product: Полуботинки мужские с верхом из искусственной кожи, пара - 0.0004\n",
      "Product: Спортивная обувь неспециализированная - 0.0004\n",
      "Product: Кроссовые туфли для взрослых с верхом из натуральной кожи, пара - 0.0004\n",
      "Product: Кроссовые туфли для взрослых с верхом из искусственной кожи, пара - 0.0004\n",
      "Product: Резиновая обувь - 0.0004\n",
      "Product: Сапоги цельнорезиновые для взрослых, пара - 0.0004\n",
      "Product: Прочие виды обуви - 0.0004\n",
      "Product: Обувь домашняя с текстильным верхом для взрослых, пара - 0.0004\n",
      "Subgroup Женская обувь\n",
      "Product: Сапоги, ботинки  зимние - 0.0004\n",
      "Product: Сапоги женские зимние с верхом из натуральной кожи, пара - 0.0004\n",
      "Product: Сапоги, ботинки демисезонные - 0.0004\n",
      "Product: Сапоги женские осенние с верхом из натуральной кожи, пара - 0.0004\n",
      "Product: Туфли - 0.0004\n",
      "Product: Туфли женские модельные с верхом из натуральной кожи, пара - 0.0004\n",
      "Product: Туфли женские закрытые с верхом из натуральной кожи, пара - 0.0004\n",
      "Product: Туфли женские закрытые с верхом из искусственной кожи, пара - 0.0004\n",
      "Product: Туфли женские летние, босоножки с верхом из искусственной кожи, пара - 0.0004\n",
      "Product: Туфли летние, босоножки женские из натуральной кожи, пара - 0.0004\n",
      "Subgroup Обувь для детей до 14 лет\n",
      "Product: Сапоги, ботинки утепленные - 0.0004\n",
      "Product: Сапоги, ботинки для детей школьного возраста зимние с верхом из натуральной кожи, пара - 0.0004\n",
      "Product: Ботинки без утеплителя, полуботинки, туфли - 0.0004\n",
      "Product: Ботинки, полуботинки для детей школьного возраста, пара - 0.0004\n",
      "Product: Ботинки, полуботинки для детей дошкольного возраста, пара - 0.0004\n",
      "Product: Босоножки, сандалеты - 0.0004\n",
      "Product: Туфли детские летние (сандалеты), пара - 0.0004\n",
      "Product: Спортивная обувь неспециализированная - 0.0004\n",
      "Product: Кроссовые туфли для детей с верхом из искусственной кожи, пара - 0.0004\n",
      "Product: Резиновая обувь - 0.0004\n",
      "Product: Сапоги цельнорезиновые для детей, пара - 0.0004\n",
      "Product: Прочие виды обуви - 0.0004\n",
      "Product: Обувь домашняя с текстильным верхом для детей, пара - 0.0004\n",
      "Subgroup Ремонт, изготовление и прокат обуви (У)\n",
      "Product: Ремонт и прокат обуви - 0.0004\n",
      "Product: Постановка набоек, пара - 0.0004\n",
      "Group:  Мебель и предметы домашнего обихода (Д)\n",
      "Product: Мебель для кухни - 0.0004\n",
      "Product: Набор кухонной мебели, комплект - 0.0004\n",
      "Product: Шкаф навесной кухонный (полка), двухстворчатый, шт. - 0.0004\n",
      "Product: Стол рабочий кухонный, шт. - 0.0004\n",
      "Product: Табурет для кухни, шт. - 0.0004\n",
      "Product: Мебель для спальни - 0.0004\n",
      "Product: Матрас для взрослых, шт. - 0.0004\n",
      "Product: Матрас детский, шт. - 0.0004\n",
      "Subgroup Мебель для гостиных и столовых\n",
      "Product: Гарнитуры для гостиных и столовых - 0.0004\n",
      "Product: Набор корпусной мебели, комплект - 0.0004\n",
      "Product: Столы, стулья - 0.0004\n",
      "Product: Стол обеденный, шт. - 0.0004\n",
      "Product: Стул с мягким сиденьем, шт. - 0.0004\n",
      "Product: Мягкая мебель - 0.0004\n",
      "Product: Диван-кровать, шт. - 0.0004\n",
      "Product: Кресло мягкое, шт. - 0.0004\n",
      "Product: Набор мягкой мебели, комплект - 0.0004\n",
      "Product: Шкафы - 0.0004\n",
      "Product: Шкаф для платья и белья, шт. - 0.0004\n",
      "Product: Шкаф-вешалка для прихожей, шт. - 0.0004\n",
      "Subgroup Прочая мебель и предметы домашнего обихода\n",
      "Product: Прочая мебель - 0.0004\n",
      "Product: Кровать для новорожденных, шт. - 0.0004\n",
      "Product: Люстры и другое оборудование для освещения - 0.0004\n",
      "Product: Светильник потолочный, шт. - 0.0004\n",
      "Product: Прочие домашние принадлежности - 0.0004\n",
      "Product: Зеркало навесное для ванной комнаты, шт. - 0.0004\n",
      "Subgroup Ковры и другие покрытия для пола (Д)\n",
      "Product: Ковры и ковровые покрытия - 0.0004\n",
      "Product: Ковер шерстяной, полушерстяной, м2 - 0.0004\n",
      "Product: Ковер, ковровое покрытие (палас) синтетический, м2 - 0.0004\n",
      "Product: Линолеум и другие покрытия для пола - 0.0004\n",
      "Product: Линолеум, м2 - 0.0004\n",
      "Subgroup Текстильные изделия для дома (ПД)\n",
      "Product: Ткани для изготовления изделий для дома хлопчатобумажные - 0.0004\n",
      "Product: Ткани хлопчатобумажные бельевые, м - 0.0004\n",
      "Product: Ткани для изготовления изделий для дома шерстяные, шелковые, синтетические, штапельные и прочие - 0.0004\n",
      "Product: Тюль, полотно гардинное, м - 0.0004\n",
      "Product: Ткани декоративные для изготовления штор и занавесей, м - 0.0004\n",
      "Product: Постельные принадлежности - 0.0004\n",
      "Product: Одеяло стеганое, шт. - 0.0004\n",
      "Product: Подушка, шт. - 0.0004\n",
      "Product: Постельное белье - 0.0004\n",
      "Product: Наволочка из хлопчатобумажной ткани, шт. - 0.0004\n",
      "Product: Простыня из хлопчатобумажной ткани, шт. - 0.0004\n",
      "Product: Пододеяльник из хлопчатобумажной ткани, шт. - 0.0004\n",
      "Product: Комплект постельного белья полутораспальный из хлопчатобумажной ткани, комплект - 0.0004\n",
      "Product: Столовое и банное белье - 0.0004\n",
      "Product: Полотенце личное, шт. - 0.0004\n",
      "Product: Полотенце банное, шт. - 0.0004\n",
      "Product: Полотенце кухонное, шт. - 0.0004\n",
      "Group:  Крупные бытовые приборы, электрические и неэлектрические (Д)\n",
      "Subgroup Холодильники, морозильники\n",
      "Product: Холодильники - 0.0004\n",
      "Product: Холодильник двухкамерный, емкостью 250-360 л, шт. - 0.0004\n",
      "Subgroup Стиральные и сушильные, посудомоечные машины\n",
      "Product: Стиральные машины - 0.0004\n",
      "Product: Машина стиральная малогабаритная, шт. - 0.0004\n",
      "Product: Машина стиральная автоматическая, шт. - 0.0004\n",
      "Subgroup Плиты, печи и духовки\n",
      "Product: Плиты, печи и духовки - 0.0004\n",
      "Product: Плита бытовая, шт. - 0.0004\n",
      "Product: Печь микроволновая, шт. - 0.0004\n",
      "Subgroup Прочие крупные бытовые приборы\n",
      "Product: Оборудование для уборки - 0.0004\n",
      "Product: Электропылесос напольный, шт. - 0.0004\n",
      "Product: Швейные и вязальные машины - 0.0004\n",
      "Product: Машина швейная, шт. - 0.0004\n",
      "Subgroup Малые электробытовые приборы  (ПД)\n",
      "Product: Малые электробытовые приборы - 0.0004\n",
      "Product: Электроутюг с терморегулятором, пароувлажнителем, шт. - 0.0004\n",
      "Product: Электрочайник, шт. - 0.0004\n",
      "Product: Миксер, блендер, шт. - 0.0004\n",
      "Product: Ремонт бытовых приборов (У) - 0.0004\n",
      "Product: Ремонт холодильников всех марок, один вид работы - 0.0004\n",
      "Group:  Стеклянные изделия, столовая посуда и домашняя утварь (ПД)\n",
      "Subgroup Стеклянные, хрустальные и керамические изделия для дома, офиса и украшения помещений\n",
      "Product: Стеклянные и хрустальные изделия - 0.0004\n",
      "Product: Рюмка, фужер из простого стекла, шт. - 0.0004\n",
      "Product: Керамическая, фарфоровая и фаянсовая столовая посуда - 0.0004\n",
      "Product: Тарелка обеденная мелкая или глубокая, шт. - 0.0004\n",
      "Product: Чашка чайная с блюдцем, комплект - 0.0004\n",
      "Product: Столовые приборы - 0.0004\n",
      "Product: Комплект столовых приборов из нержавеющей стали, комплект на 1 человека - 0.0004\n",
      "Product: Кухонная посуда и приспособления, прочая домашняя утварь - 0.0004\n",
      "Product: Кастрюля из эмалированной или нержавеющей стали, шт. - 0.0004\n",
      "Product: Чайник стальной эмалированный, шт. - 0.0004\n",
      "Product: Сковорода с антипригарным покрытием, шт. - 0.0004\n",
      "Subgroup Крупные инструменты и оборудование\n",
      "Product: Инструменты и оборудование (кроме техники для сада) - 0.0004\n",
      "Product: Дрель электрическая, шт. - 0.0004\n",
      "Product: Техника для сада - 0.0004\n",
      "Product: Триммер электрический, шт. - 0.0004\n",
      "Group:  Мелкие инструменты и приспособления  (ПД)\n",
      "Product: Мелкие электрические изделия - 0.0004\n",
      "Product: Лампа электрическая осветительная, шт. - 0.0004\n",
      "Product: Лампа энергосберегающая, шт. - 0.0004\n",
      "Product: Лампа светодиодная, шт. - 0.0004\n",
      "Product: Батарейки электрические типа АА, шт. - 0.0004\n",
      "Subgroup Ручные инструменты, садовые инструменты и приспособления\n",
      "Product: Садовый инвентарь - 0.0004\n",
      "Product: Лопата садовая, шт. - 0.0004\n",
      "Group:  Товары для повседневного ухода за жильем недлительного пользования (НД)\n",
      "Subgroup Моющие, чистящие средства и другие товары бытовой химии\n",
      "Product: Средства по уходу за домом - 0.0004\n",
      "Product: Жидкие чистящие и моющие средства, л - 0.0004\n",
      "Product: Дезинфицирующее средство для поверхностей, л - 0.0004\n",
      "Product: Синтетические моющие средства - 0.0004\n",
      "Product: Порошок стиральный, кг - 0.0004\n",
      "Product: Мыло хозяйственное - 0.0004\n",
      "Product: Мыло хозяйственное, 200 г - 0.0004\n",
      "Product: Прочие хозяйственные принадлежности - 0.0004\n",
      "Product: Спички, коробок - 0.0004\n",
      "Product: Бумажные столовые салфетки, упаковка 100 шт. - 0.0004\n",
      "Group:  Домашние и бытовые услуги (У)\n",
      "Subgroup Домашние услуги\n",
      "Product: Услуги по воспитанию и обучению детей, предоставляемые наемным персоналом - 0.0004\n",
      "Product: Услуги по воспитанию детей, предоставляемые наемным персоналом, час - 0.0004\n",
      "Product: Стирка и химическая чистка - 0.0004\n",
      "Product: Стирка и глажение белья прямого, кг - 0.0004\n"
     ]
    }
   ],
   "source": [
    "prodIndexRF = rf.loc[rf.iloc[:,0] == '01'].index[0]\n",
    "noProdIndexRF = rf.loc[rf.iloc[:,0] == '03'].index[0]\n",
    "servicesIndexRF = rf.loc[rf.iloc[:,0] == '04'].index[0]\n",
    "noProdIndexRF2 = rf.loc[rf.iloc[:, 0] == '05'].index[0]\n",
    "servicesIndexRF2 = rf.loc[rf.iloc[:,0] == '06'].index[0]\n",
    "\n",
    "prodCategoryRF = Category('Продовольственные товары')\n",
    "noProdCategoryRF = Category('Непродовольственные товары')\n",
    "\n",
    "lastGroup = None\n",
    "lastSubgroup = None\n",
    "\n",
    "for i in range(prodIndexRF+1, noProdIndexRF):\n",
    "    cell = rf.iloc[i, 0]\n",
    "    name = rf.iloc[i, 1]\n",
    "    index = cell.split('.')\n",
    "    if len(index) == 3:\n",
    "        print('Group: ', name)\n",
    "        group = Group(name)\n",
    "        prodCategoryRF.Append(group)\n",
    "        lastGroup = group\n",
    "        lastSubgroup = None\n",
    "    elif len(index) == 4:\n",
    "        print('Subgroup', name)\n",
    "        subgroup = Subgroup(name)\n",
    "        group.Append(subgroup)\n",
    "        lastSubgroup = subgroup\n",
    "    elif len(index) == 5 or len(index) == 6:\n",
    "        print('Product:', name, '-', weight)\n",
    "        product = Product(name)\n",
    "        product.SetWeight(weight)\n",
    "        if lastSubgroup != None:\n",
    "            product.SetSubgroup(lastSubgroup)\n",
    "            product.SetGroup(lastGroup)\n",
    "            lastSubgroup.Append(product)\n",
    "        else:\n",
    "            product.SetGroup(lastGroup)\n",
    "            lastGroup.Append(product)\n",
    "\n",
    "lastGroup = None\n",
    "lastSubgroup = None\n",
    "\n",
    "for i in range(noProdIndexRF+1, servicesIndexRF):\n",
    "    cell = rf.iloc[i, 0]\n",
    "    name = rf.iloc[i, 1]\n",
    "    index = cell.split('.')\n",
    "\n",
    "    if len(index) == 3:\n",
    "        print('Group: ',name)\n",
    "        group = Group(name)\n",
    "        noProdCategoryRF.Append(group)\n",
    "        lastGroup = group\n",
    "        lastSubgroup = None\n",
    "    elif len(index) == 4:\n",
    "        print('Subgroup', name)\n",
    "        subgroup = Subgroup(name)\n",
    "        group.Append(subgroup)\n",
    "        lastSubgroup = subgroup\n",
    "    elif len(index) == 5 or len(index) == 6:\n",
    "        print('Product:', name, '-', weight)\n",
    "        product = Product(name)\n",
    "        product.SetWeight(weight)\n",
    "        if lastSubgroup != None:\n",
    "            product.SetSubgroup(lastSubgroup)\n",
    "            product.SetGroup(lastGroup)\n",
    "            lastSubgroup.Append(product)\n",
    "        else:\n",
    "            product.SetGroup(lastGroup)\n",
    "            lastGroup.Append(product)\n",
    "\n",
    "lastGroup = None\n",
    "lastSubgroup = None\n",
    "\n",
    "for i in range(noProdIndexRF2+1, servicesIndexRF2):\n",
    "    cell = rf.iloc[i, 0]\n",
    "    name = rf.iloc[i, 1]\n",
    "    index = cell.split('.')\n",
    "\n",
    "    if len(index) == 3:\n",
    "        print('Group: ',name)\n",
    "        group = Group(name)\n",
    "        noProdCategoryRF.Append(group)\n",
    "        lastGroup = group\n",
    "        lastSubgroup = None\n",
    "    elif len(index) == 4:\n",
    "        print('Subgroup', name)\n",
    "        subgroup = Subgroup(name)\n",
    "        group.Append(subgroup)\n",
    "        lastSubgroup = subgroup\n",
    "    elif len(index) == 5 or len(index) == 6:\n",
    "        print('Product:', name, '-', weight)\n",
    "        product = Product(name)\n",
    "        product.SetWeight(weight)\n",
    "        if lastSubgroup != None:\n",
    "            product.SetSubgroup(lastSubgroup)\n",
    "            product.SetGroup(lastGroup)\n",
    "            lastSubgroup.Append(product)\n",
    "        else:\n",
    "            product.SetGroup(lastGroup)\n",
    "            lastGroup.Append(product)"
   ]
  },
  {
   "attachments": {},
   "cell_type": "markdown",
   "metadata": {},
   "source": [
    "Функция сопоставления со случайными весами"
   ]
  },
  {
   "cell_type": "code",
   "execution_count": 275,
   "metadata": {},
   "outputs": [],
   "source": [
    "# Импортируем библиотеку для работы с Excel\n",
    "import xlsxwriter\n",
    "\n",
    "def GetDisparity(price1, price2, rate, weight1=1, weight2=1):\n",
    "    '''\n",
    "    price1 - цена товара в первой валюте\\n\n",
    "    price2 - цена товара во второй валюте\\n\n",
    "    rate - курс валюты\\n\n",
    "    weight1 - вес товара в первой корзине\\n\n",
    "    weight2 - вес товара во второй корзине\n",
    "    '''\n",
    "\n",
    "    return (price1 * weight1 / rate) / (price2 * weight2)\n",
    "\n",
    "\n",
    "def random_weights():\n",
    "    '''Возвращает случайные веса для трёх методов\n",
    "    '''\n",
    "    alpha = random.random()\n",
    "    beta = random.random()\n",
    "    gamma = random.random()\n",
    "    total = alpha + beta + gamma\n",
    "    alpha = round(alpha / total, 2)\n",
    "    beta = round(beta / total, 2)\n",
    "    gamma = round(gamma / total, 2)\n",
    "    return alpha, beta, gamma\n",
    "\n",
    "\n",
    "def compare_rb_rf(list1, list2, perc, rate, alpha = 0.25, beta = 0.5, gamma = 0.25, noProd = False):\n",
    "    '''Функция нахождения максимально похожих строк, используя цикл и случайные веса\n",
    "    '''\n",
    "    # Создаем пустой датафрейм\n",
    "    resultdf = pd.DataFrame()\n",
    "    # Получаем список областей из цен РБ и РФ\n",
    "    states_rb = set()\n",
    "    states_rf = set()\n",
    "    for item in list1:\n",
    "        if item.pricesBYN != None:\n",
    "            states_rb.update(item.pricesBYN.keys())\n",
    "    for item in list2:\n",
    "        if item.pricesRUB != None:\n",
    "            states_rf.update(item.pricesRUB.keys())\n",
    "    states_rb = list(states_rb)\n",
    "    states_rf = list(states_rf)\n",
    "    # Используем цикл сопоставления\n",
    "    for i in range(len(list1)):\n",
    "        min_dist = 0\n",
    "        max_score = 0\n",
    "        name1 = clean_string(list1[i].name)\n",
    "        if noProd and list1[i].subgroup != None:\n",
    "            name1 = clean_string(list1[i].name + ' ' + list1[i].subgroup.name)\n",
    "        for j in range(len(list2)):\n",
    "            name2 = clean_string(list2[j].name)\n",
    "            \n",
    "            score = get_cosine_similarity_new(name1, name2)\n",
    "            # score = compare_all_ngrams_and_return_max_similarity(name1, name2)\n",
    "            # score = combine_cosine_levenshtein_jar_win(name1, name2, alpha, beta, gamma)\n",
    "            # score = match_products(list1[i].name, list2[j].name, 0, 0, None, None, None, None)\n",
    "            if score > min_dist:\n",
    "                max_score = score\n",
    "                min_dist = score\n",
    "                similar_index = j\n",
    "        # Если нашли похожий товар и у него есть цена в РБ\n",
    "        if min_dist >= perc and list1[i].pricesBYN != None:\n",
    "            # Создаем словарь для записи в датафрейм\n",
    "            print('Товар РБ:', list1[i].name, 'Товар РФ:', list2[similar_index].name)\n",
    "            row_dict = {'Товар РБ': list1[i].name, 'Доля РБ': list1[i].weight, 'Товар РФ': list2[similar_index].name}\n",
    "            # Для каждой пары областей считаем диспаритет\n",
    "            for state_rb in states_rb:\n",
    "                price_rb = list1[i].pricesBYN.get(state_rb, None)\n",
    "                row_dict[state_rb] = price_rb\n",
    "                for state_rf in states_rf:\n",
    "                    price_rf = list2[similar_index].pricesRUB.get(state_rf, None)\n",
    "                    if price_rf != None and price_rb != None:\n",
    "                        list1[i].SetPriceRUB(state_rf, price_rf)\n",
    "                        row_dict[state_rf] = price_rf\n",
    "                        # if list1[i].weight != None and list2[similar_index].weight != None:\n",
    "                        disparity = GetDisparity(price_rb, price_rf, rate) # Стоимость рубля временная. Добавить функцию получения автоматически\n",
    "                        row_dict['Диспаритет'] = disparity\n",
    "                        # else:\n",
    "                        #     row_dict['Диспаритет'] = ''\n",
    "                    else:\n",
    "                        row_dict[state_rf] = ''\n",
    "                        row_dict['Диспаритет'] = ''\n",
    "            # Записываем в итоговый датафрейм\n",
    "            resultdf = resultdf.append(row_dict, ignore_index=True)\n",
    "        # else:\n",
    "        #     # Если не нашли похожий товар или у него нет цены в РБ, то заполняем пустыми значениями\n",
    "        #     row_dict = {'Товар РБ': list1[i].name, 'Доля РБ': list1[i].weight, 'Товар РФ': \"\"}\n",
    "        #     for state_rb in states_rb:\n",
    "        #         row_dict[state_rb] = ''\n",
    "        #         for state_rf in states_rf:\n",
    "        #             row_dict[state_rf] = ''\n",
    "        #             row_dict['Диспаритет'] = ''\n",
    "        #     resultdf = resultdf.append(row_dict, ignore_index=True)\n",
    "        # Если это не последний товар или если он относится к другой группе товаров, то добавляем строку с названием группы товаров\n",
    "        if i < len(list1) - 1 and (list1[i+1].group != list1[i].group):\n",
    "            group_row = {'Товар РБ': list1[i+1].group.name.upper()}\n",
    "            resultdf = resultdf.append(group_row, ignore_index=True)\n",
    "    return resultdf\n"
   ]
  },
  {
   "attachments": {},
   "cell_type": "markdown",
   "metadata": {},
   "source": [
    "Чтение файла с ценами"
   ]
  },
  {
   "cell_type": "code",
   "execution_count": 276,
   "metadata": {},
   "outputs": [],
   "source": [
    "rf = pd.read_excel('data.xls', header=2)\n",
    "\n",
    "rf = rf.rename(columns={'Unnamed: 0': 'name'})\n",
    "# rf = clean(rf, 'name')"
   ]
  },
  {
   "cell_type": "code",
   "execution_count": 277,
   "metadata": {},
   "outputs": [],
   "source": [
    "prodRF = prodCategoryRF.GetProducts()\n",
    "noProdRF = noProdCategoryRF.GetProducts()"
   ]
  },
  {
   "attachments": {},
   "cell_type": "markdown",
   "metadata": {},
   "source": [
    "Сопоставление продовольственных и непродовольственных товаров РФ-РФ"
   ]
  },
  {
   "cell_type": "code",
   "execution_count": 278,
   "metadata": {},
   "outputs": [
    {
     "name": "stderr",
     "output_type": "stream",
     "text": [
      "C:\\Users\\Admin\\AppData\\Local\\Temp\\ipykernel_11920\\2923290319.py:127: FutureWarning: The frame.append method is deprecated and will be removed from pandas in a future version. Use pandas.concat instead.\n",
      "  resultdf = resultdf.append({'name1': name1,\n",
      "C:\\Users\\Admin\\AppData\\Local\\Temp\\ipykernel_11920\\2923290319.py:127: FutureWarning: The frame.append method is deprecated and will be removed from pandas in a future version. Use pandas.concat instead.\n",
      "  resultdf = resultdf.append({'name1': name1,\n",
      "C:\\Users\\Admin\\AppData\\Local\\Temp\\ipykernel_11920\\2923290319.py:127: FutureWarning: The frame.append method is deprecated and will be removed from pandas in a future version. Use pandas.concat instead.\n",
      "  resultdf = resultdf.append({'name1': name1,\n",
      "C:\\Users\\Admin\\AppData\\Local\\Temp\\ipykernel_11920\\2923290319.py:127: FutureWarning: The frame.append method is deprecated and will be removed from pandas in a future version. Use pandas.concat instead.\n",
      "  resultdf = resultdf.append({'name1': name1,\n",
      "C:\\Users\\Admin\\AppData\\Local\\Temp\\ipykernel_11920\\2923290319.py:127: FutureWarning: The frame.append method is deprecated and will be removed from pandas in a future version. Use pandas.concat instead.\n",
      "  resultdf = resultdf.append({'name1': name1,\n",
      "C:\\Users\\Admin\\AppData\\Local\\Temp\\ipykernel_11920\\2923290319.py:127: FutureWarning: The frame.append method is deprecated and will be removed from pandas in a future version. Use pandas.concat instead.\n",
      "  resultdf = resultdf.append({'name1': name1,\n",
      "C:\\Users\\Admin\\AppData\\Local\\Temp\\ipykernel_11920\\2923290319.py:127: FutureWarning: The frame.append method is deprecated and will be removed from pandas in a future version. Use pandas.concat instead.\n",
      "  resultdf = resultdf.append({'name1': name1,\n",
      "C:\\Users\\Admin\\AppData\\Local\\Temp\\ipykernel_11920\\2923290319.py:127: FutureWarning: The frame.append method is deprecated and will be removed from pandas in a future version. Use pandas.concat instead.\n",
      "  resultdf = resultdf.append({'name1': name1,\n",
      "C:\\Users\\Admin\\AppData\\Local\\Temp\\ipykernel_11920\\2923290319.py:133: FutureWarning: The frame.append method is deprecated and will be removed from pandas in a future version. Use pandas.concat instead.\n",
      "  resultdf = resultdf.append({'name1': list1[i].name}, ignore_index=True)\n",
      "C:\\Users\\Admin\\AppData\\Local\\Temp\\ipykernel_11920\\2923290319.py:127: FutureWarning: The frame.append method is deprecated and will be removed from pandas in a future version. Use pandas.concat instead.\n",
      "  resultdf = resultdf.append({'name1': name1,\n",
      "C:\\Users\\Admin\\AppData\\Local\\Temp\\ipykernel_11920\\2923290319.py:127: FutureWarning: The frame.append method is deprecated and will be removed from pandas in a future version. Use pandas.concat instead.\n",
      "  resultdf = resultdf.append({'name1': name1,\n",
      "C:\\Users\\Admin\\AppData\\Local\\Temp\\ipykernel_11920\\2923290319.py:127: FutureWarning: The frame.append method is deprecated and will be removed from pandas in a future version. Use pandas.concat instead.\n",
      "  resultdf = resultdf.append({'name1': name1,\n",
      "C:\\Users\\Admin\\AppData\\Local\\Temp\\ipykernel_11920\\2923290319.py:133: FutureWarning: The frame.append method is deprecated and will be removed from pandas in a future version. Use pandas.concat instead.\n",
      "  resultdf = resultdf.append({'name1': list1[i].name}, ignore_index=True)\n",
      "C:\\Users\\Admin\\AppData\\Local\\Temp\\ipykernel_11920\\2923290319.py:127: FutureWarning: The frame.append method is deprecated and will be removed from pandas in a future version. Use pandas.concat instead.\n",
      "  resultdf = resultdf.append({'name1': name1,\n",
      "C:\\Users\\Admin\\AppData\\Local\\Temp\\ipykernel_11920\\2923290319.py:127: FutureWarning: The frame.append method is deprecated and will be removed from pandas in a future version. Use pandas.concat instead.\n",
      "  resultdf = resultdf.append({'name1': name1,\n",
      "C:\\Users\\Admin\\AppData\\Local\\Temp\\ipykernel_11920\\2923290319.py:133: FutureWarning: The frame.append method is deprecated and will be removed from pandas in a future version. Use pandas.concat instead.\n",
      "  resultdf = resultdf.append({'name1': list1[i].name}, ignore_index=True)\n",
      "C:\\Users\\Admin\\AppData\\Local\\Temp\\ipykernel_11920\\2923290319.py:127: FutureWarning: The frame.append method is deprecated and will be removed from pandas in a future version. Use pandas.concat instead.\n",
      "  resultdf = resultdf.append({'name1': name1,\n",
      "C:\\Users\\Admin\\AppData\\Local\\Temp\\ipykernel_11920\\2923290319.py:127: FutureWarning: The frame.append method is deprecated and will be removed from pandas in a future version. Use pandas.concat instead.\n",
      "  resultdf = resultdf.append({'name1': name1,\n",
      "C:\\Users\\Admin\\AppData\\Local\\Temp\\ipykernel_11920\\2923290319.py:127: FutureWarning: The frame.append method is deprecated and will be removed from pandas in a future version. Use pandas.concat instead.\n",
      "  resultdf = resultdf.append({'name1': name1,\n",
      "C:\\Users\\Admin\\AppData\\Local\\Temp\\ipykernel_11920\\2923290319.py:127: FutureWarning: The frame.append method is deprecated and will be removed from pandas in a future version. Use pandas.concat instead.\n",
      "  resultdf = resultdf.append({'name1': name1,\n",
      "C:\\Users\\Admin\\AppData\\Local\\Temp\\ipykernel_11920\\2923290319.py:127: FutureWarning: The frame.append method is deprecated and will be removed from pandas in a future version. Use pandas.concat instead.\n",
      "  resultdf = resultdf.append({'name1': name1,\n",
      "C:\\Users\\Admin\\AppData\\Local\\Temp\\ipykernel_11920\\2923290319.py:127: FutureWarning: The frame.append method is deprecated and will be removed from pandas in a future version. Use pandas.concat instead.\n",
      "  resultdf = resultdf.append({'name1': name1,\n",
      "C:\\Users\\Admin\\AppData\\Local\\Temp\\ipykernel_11920\\2923290319.py:127: FutureWarning: The frame.append method is deprecated and will be removed from pandas in a future version. Use pandas.concat instead.\n",
      "  resultdf = resultdf.append({'name1': name1,\n",
      "C:\\Users\\Admin\\AppData\\Local\\Temp\\ipykernel_11920\\2923290319.py:127: FutureWarning: The frame.append method is deprecated and will be removed from pandas in a future version. Use pandas.concat instead.\n",
      "  resultdf = resultdf.append({'name1': name1,\n",
      "C:\\Users\\Admin\\AppData\\Local\\Temp\\ipykernel_11920\\2923290319.py:127: FutureWarning: The frame.append method is deprecated and will be removed from pandas in a future version. Use pandas.concat instead.\n",
      "  resultdf = resultdf.append({'name1': name1,\n",
      "C:\\Users\\Admin\\AppData\\Local\\Temp\\ipykernel_11920\\2923290319.py:133: FutureWarning: The frame.append method is deprecated and will be removed from pandas in a future version. Use pandas.concat instead.\n",
      "  resultdf = resultdf.append({'name1': list1[i].name}, ignore_index=True)\n",
      "C:\\Users\\Admin\\AppData\\Local\\Temp\\ipykernel_11920\\2923290319.py:127: FutureWarning: The frame.append method is deprecated and will be removed from pandas in a future version. Use pandas.concat instead.\n",
      "  resultdf = resultdf.append({'name1': name1,\n",
      "C:\\Users\\Admin\\AppData\\Local\\Temp\\ipykernel_11920\\2923290319.py:127: FutureWarning: The frame.append method is deprecated and will be removed from pandas in a future version. Use pandas.concat instead.\n",
      "  resultdf = resultdf.append({'name1': name1,\n",
      "C:\\Users\\Admin\\AppData\\Local\\Temp\\ipykernel_11920\\2923290319.py:127: FutureWarning: The frame.append method is deprecated and will be removed from pandas in a future version. Use pandas.concat instead.\n",
      "  resultdf = resultdf.append({'name1': name1,\n",
      "C:\\Users\\Admin\\AppData\\Local\\Temp\\ipykernel_11920\\2923290319.py:127: FutureWarning: The frame.append method is deprecated and will be removed from pandas in a future version. Use pandas.concat instead.\n",
      "  resultdf = resultdf.append({'name1': name1,\n",
      "C:\\Users\\Admin\\AppData\\Local\\Temp\\ipykernel_11920\\2923290319.py:127: FutureWarning: The frame.append method is deprecated and will be removed from pandas in a future version. Use pandas.concat instead.\n",
      "  resultdf = resultdf.append({'name1': name1,\n",
      "C:\\Users\\Admin\\AppData\\Local\\Temp\\ipykernel_11920\\2923290319.py:127: FutureWarning: The frame.append method is deprecated and will be removed from pandas in a future version. Use pandas.concat instead.\n",
      "  resultdf = resultdf.append({'name1': name1,\n",
      "C:\\Users\\Admin\\AppData\\Local\\Temp\\ipykernel_11920\\2923290319.py:127: FutureWarning: The frame.append method is deprecated and will be removed from pandas in a future version. Use pandas.concat instead.\n",
      "  resultdf = resultdf.append({'name1': name1,\n",
      "C:\\Users\\Admin\\AppData\\Local\\Temp\\ipykernel_11920\\2923290319.py:127: FutureWarning: The frame.append method is deprecated and will be removed from pandas in a future version. Use pandas.concat instead.\n",
      "  resultdf = resultdf.append({'name1': name1,\n",
      "C:\\Users\\Admin\\AppData\\Local\\Temp\\ipykernel_11920\\2923290319.py:133: FutureWarning: The frame.append method is deprecated and will be removed from pandas in a future version. Use pandas.concat instead.\n",
      "  resultdf = resultdf.append({'name1': list1[i].name}, ignore_index=True)\n",
      "C:\\Users\\Admin\\AppData\\Local\\Temp\\ipykernel_11920\\2923290319.py:127: FutureWarning: The frame.append method is deprecated and will be removed from pandas in a future version. Use pandas.concat instead.\n",
      "  resultdf = resultdf.append({'name1': name1,\n",
      "C:\\Users\\Admin\\AppData\\Local\\Temp\\ipykernel_11920\\2923290319.py:127: FutureWarning: The frame.append method is deprecated and will be removed from pandas in a future version. Use pandas.concat instead.\n",
      "  resultdf = resultdf.append({'name1': name1,\n",
      "C:\\Users\\Admin\\AppData\\Local\\Temp\\ipykernel_11920\\2923290319.py:127: FutureWarning: The frame.append method is deprecated and will be removed from pandas in a future version. Use pandas.concat instead.\n",
      "  resultdf = resultdf.append({'name1': name1,\n",
      "C:\\Users\\Admin\\AppData\\Local\\Temp\\ipykernel_11920\\2923290319.py:133: FutureWarning: The frame.append method is deprecated and will be removed from pandas in a future version. Use pandas.concat instead.\n",
      "  resultdf = resultdf.append({'name1': list1[i].name}, ignore_index=True)\n",
      "C:\\Users\\Admin\\AppData\\Local\\Temp\\ipykernel_11920\\2923290319.py:127: FutureWarning: The frame.append method is deprecated and will be removed from pandas in a future version. Use pandas.concat instead.\n",
      "  resultdf = resultdf.append({'name1': name1,\n",
      "C:\\Users\\Admin\\AppData\\Local\\Temp\\ipykernel_11920\\2923290319.py:133: FutureWarning: The frame.append method is deprecated and will be removed from pandas in a future version. Use pandas.concat instead.\n",
      "  resultdf = resultdf.append({'name1': list1[i].name}, ignore_index=True)\n",
      "C:\\Users\\Admin\\AppData\\Local\\Temp\\ipykernel_11920\\2923290319.py:127: FutureWarning: The frame.append method is deprecated and will be removed from pandas in a future version. Use pandas.concat instead.\n",
      "  resultdf = resultdf.append({'name1': name1,\n",
      "C:\\Users\\Admin\\AppData\\Local\\Temp\\ipykernel_11920\\2923290319.py:127: FutureWarning: The frame.append method is deprecated and will be removed from pandas in a future version. Use pandas.concat instead.\n",
      "  resultdf = resultdf.append({'name1': name1,\n",
      "C:\\Users\\Admin\\AppData\\Local\\Temp\\ipykernel_11920\\2923290319.py:127: FutureWarning: The frame.append method is deprecated and will be removed from pandas in a future version. Use pandas.concat instead.\n",
      "  resultdf = resultdf.append({'name1': name1,\n",
      "C:\\Users\\Admin\\AppData\\Local\\Temp\\ipykernel_11920\\2923290319.py:133: FutureWarning: The frame.append method is deprecated and will be removed from pandas in a future version. Use pandas.concat instead.\n",
      "  resultdf = resultdf.append({'name1': list1[i].name}, ignore_index=True)\n",
      "C:\\Users\\Admin\\AppData\\Local\\Temp\\ipykernel_11920\\2923290319.py:127: FutureWarning: The frame.append method is deprecated and will be removed from pandas in a future version. Use pandas.concat instead.\n",
      "  resultdf = resultdf.append({'name1': name1,\n",
      "C:\\Users\\Admin\\AppData\\Local\\Temp\\ipykernel_11920\\2923290319.py:127: FutureWarning: The frame.append method is deprecated and will be removed from pandas in a future version. Use pandas.concat instead.\n",
      "  resultdf = resultdf.append({'name1': name1,\n",
      "C:\\Users\\Admin\\AppData\\Local\\Temp\\ipykernel_11920\\2923290319.py:127: FutureWarning: The frame.append method is deprecated and will be removed from pandas in a future version. Use pandas.concat instead.\n",
      "  resultdf = resultdf.append({'name1': name1,\n",
      "C:\\Users\\Admin\\AppData\\Local\\Temp\\ipykernel_11920\\2923290319.py:133: FutureWarning: The frame.append method is deprecated and will be removed from pandas in a future version. Use pandas.concat instead.\n",
      "  resultdf = resultdf.append({'name1': list1[i].name}, ignore_index=True)\n",
      "C:\\Users\\Admin\\AppData\\Local\\Temp\\ipykernel_11920\\2923290319.py:127: FutureWarning: The frame.append method is deprecated and will be removed from pandas in a future version. Use pandas.concat instead.\n",
      "  resultdf = resultdf.append({'name1': name1,\n",
      "C:\\Users\\Admin\\AppData\\Local\\Temp\\ipykernel_11920\\2923290319.py:127: FutureWarning: The frame.append method is deprecated and will be removed from pandas in a future version. Use pandas.concat instead.\n",
      "  resultdf = resultdf.append({'name1': name1,\n",
      "C:\\Users\\Admin\\AppData\\Local\\Temp\\ipykernel_11920\\2923290319.py:127: FutureWarning: The frame.append method is deprecated and will be removed from pandas in a future version. Use pandas.concat instead.\n",
      "  resultdf = resultdf.append({'name1': name1,\n",
      "C:\\Users\\Admin\\AppData\\Local\\Temp\\ipykernel_11920\\2923290319.py:127: FutureWarning: The frame.append method is deprecated and will be removed from pandas in a future version. Use pandas.concat instead.\n",
      "  resultdf = resultdf.append({'name1': name1,\n",
      "C:\\Users\\Admin\\AppData\\Local\\Temp\\ipykernel_11920\\2923290319.py:127: FutureWarning: The frame.append method is deprecated and will be removed from pandas in a future version. Use pandas.concat instead.\n",
      "  resultdf = resultdf.append({'name1': name1,\n",
      "C:\\Users\\Admin\\AppData\\Local\\Temp\\ipykernel_11920\\2923290319.py:133: FutureWarning: The frame.append method is deprecated and will be removed from pandas in a future version. Use pandas.concat instead.\n",
      "  resultdf = resultdf.append({'name1': list1[i].name}, ignore_index=True)\n",
      "C:\\Users\\Admin\\AppData\\Local\\Temp\\ipykernel_11920\\2923290319.py:133: FutureWarning: The frame.append method is deprecated and will be removed from pandas in a future version. Use pandas.concat instead.\n",
      "  resultdf = resultdf.append({'name1': list1[i].name}, ignore_index=True)\n",
      "C:\\Users\\Admin\\AppData\\Local\\Temp\\ipykernel_11920\\2923290319.py:127: FutureWarning: The frame.append method is deprecated and will be removed from pandas in a future version. Use pandas.concat instead.\n",
      "  resultdf = resultdf.append({'name1': name1,\n",
      "C:\\Users\\Admin\\AppData\\Local\\Temp\\ipykernel_11920\\2923290319.py:127: FutureWarning: The frame.append method is deprecated and will be removed from pandas in a future version. Use pandas.concat instead.\n",
      "  resultdf = resultdf.append({'name1': name1,\n",
      "C:\\Users\\Admin\\AppData\\Local\\Temp\\ipykernel_11920\\2923290319.py:133: FutureWarning: The frame.append method is deprecated and will be removed from pandas in a future version. Use pandas.concat instead.\n",
      "  resultdf = resultdf.append({'name1': list1[i].name}, ignore_index=True)\n",
      "C:\\Users\\Admin\\AppData\\Local\\Temp\\ipykernel_11920\\2923290319.py:127: FutureWarning: The frame.append method is deprecated and will be removed from pandas in a future version. Use pandas.concat instead.\n",
      "  resultdf = resultdf.append({'name1': name1,\n",
      "C:\\Users\\Admin\\AppData\\Local\\Temp\\ipykernel_11920\\2923290319.py:127: FutureWarning: The frame.append method is deprecated and will be removed from pandas in a future version. Use pandas.concat instead.\n",
      "  resultdf = resultdf.append({'name1': name1,\n",
      "C:\\Users\\Admin\\AppData\\Local\\Temp\\ipykernel_11920\\2923290319.py:133: FutureWarning: The frame.append method is deprecated and will be removed from pandas in a future version. Use pandas.concat instead.\n",
      "  resultdf = resultdf.append({'name1': list1[i].name}, ignore_index=True)\n",
      "C:\\Users\\Admin\\AppData\\Local\\Temp\\ipykernel_11920\\2923290319.py:133: FutureWarning: The frame.append method is deprecated and will be removed from pandas in a future version. Use pandas.concat instead.\n",
      "  resultdf = resultdf.append({'name1': list1[i].name}, ignore_index=True)\n",
      "C:\\Users\\Admin\\AppData\\Local\\Temp\\ipykernel_11920\\2923290319.py:127: FutureWarning: The frame.append method is deprecated and will be removed from pandas in a future version. Use pandas.concat instead.\n",
      "  resultdf = resultdf.append({'name1': name1,\n",
      "C:\\Users\\Admin\\AppData\\Local\\Temp\\ipykernel_11920\\2923290319.py:133: FutureWarning: The frame.append method is deprecated and will be removed from pandas in a future version. Use pandas.concat instead.\n",
      "  resultdf = resultdf.append({'name1': list1[i].name}, ignore_index=True)\n",
      "C:\\Users\\Admin\\AppData\\Local\\Temp\\ipykernel_11920\\2923290319.py:127: FutureWarning: The frame.append method is deprecated and will be removed from pandas in a future version. Use pandas.concat instead.\n",
      "  resultdf = resultdf.append({'name1': name1,\n",
      "C:\\Users\\Admin\\AppData\\Local\\Temp\\ipykernel_11920\\2923290319.py:127: FutureWarning: The frame.append method is deprecated and will be removed from pandas in a future version. Use pandas.concat instead.\n",
      "  resultdf = resultdf.append({'name1': name1,\n",
      "C:\\Users\\Admin\\AppData\\Local\\Temp\\ipykernel_11920\\2923290319.py:127: FutureWarning: The frame.append method is deprecated and will be removed from pandas in a future version. Use pandas.concat instead.\n",
      "  resultdf = resultdf.append({'name1': name1,\n",
      "C:\\Users\\Admin\\AppData\\Local\\Temp\\ipykernel_11920\\2923290319.py:127: FutureWarning: The frame.append method is deprecated and will be removed from pandas in a future version. Use pandas.concat instead.\n",
      "  resultdf = resultdf.append({'name1': name1,\n",
      "C:\\Users\\Admin\\AppData\\Local\\Temp\\ipykernel_11920\\2923290319.py:127: FutureWarning: The frame.append method is deprecated and will be removed from pandas in a future version. Use pandas.concat instead.\n",
      "  resultdf = resultdf.append({'name1': name1,\n",
      "C:\\Users\\Admin\\AppData\\Local\\Temp\\ipykernel_11920\\2923290319.py:127: FutureWarning: The frame.append method is deprecated and will be removed from pandas in a future version. Use pandas.concat instead.\n",
      "  resultdf = resultdf.append({'name1': name1,\n",
      "C:\\Users\\Admin\\AppData\\Local\\Temp\\ipykernel_11920\\2923290319.py:127: FutureWarning: The frame.append method is deprecated and will be removed from pandas in a future version. Use pandas.concat instead.\n",
      "  resultdf = resultdf.append({'name1': name1,\n",
      "C:\\Users\\Admin\\AppData\\Local\\Temp\\ipykernel_11920\\2923290319.py:127: FutureWarning: The frame.append method is deprecated and will be removed from pandas in a future version. Use pandas.concat instead.\n",
      "  resultdf = resultdf.append({'name1': name1,\n",
      "C:\\Users\\Admin\\AppData\\Local\\Temp\\ipykernel_11920\\2923290319.py:127: FutureWarning: The frame.append method is deprecated and will be removed from pandas in a future version. Use pandas.concat instead.\n",
      "  resultdf = resultdf.append({'name1': name1,\n",
      "C:\\Users\\Admin\\AppData\\Local\\Temp\\ipykernel_11920\\2923290319.py:133: FutureWarning: The frame.append method is deprecated and will be removed from pandas in a future version. Use pandas.concat instead.\n",
      "  resultdf = resultdf.append({'name1': list1[i].name}, ignore_index=True)\n",
      "C:\\Users\\Admin\\AppData\\Local\\Temp\\ipykernel_11920\\2923290319.py:127: FutureWarning: The frame.append method is deprecated and will be removed from pandas in a future version. Use pandas.concat instead.\n",
      "  resultdf = resultdf.append({'name1': name1,\n",
      "C:\\Users\\Admin\\AppData\\Local\\Temp\\ipykernel_11920\\2923290319.py:127: FutureWarning: The frame.append method is deprecated and will be removed from pandas in a future version. Use pandas.concat instead.\n",
      "  resultdf = resultdf.append({'name1': name1,\n",
      "C:\\Users\\Admin\\AppData\\Local\\Temp\\ipykernel_11920\\2923290319.py:127: FutureWarning: The frame.append method is deprecated and will be removed from pandas in a future version. Use pandas.concat instead.\n",
      "  resultdf = resultdf.append({'name1': name1,\n",
      "C:\\Users\\Admin\\AppData\\Local\\Temp\\ipykernel_11920\\2923290319.py:127: FutureWarning: The frame.append method is deprecated and will be removed from pandas in a future version. Use pandas.concat instead.\n",
      "  resultdf = resultdf.append({'name1': name1,\n",
      "C:\\Users\\Admin\\AppData\\Local\\Temp\\ipykernel_11920\\2923290319.py:127: FutureWarning: The frame.append method is deprecated and will be removed from pandas in a future version. Use pandas.concat instead.\n",
      "  resultdf = resultdf.append({'name1': name1,\n",
      "C:\\Users\\Admin\\AppData\\Local\\Temp\\ipykernel_11920\\2923290319.py:127: FutureWarning: The frame.append method is deprecated and will be removed from pandas in a future version. Use pandas.concat instead.\n",
      "  resultdf = resultdf.append({'name1': name1,\n",
      "C:\\Users\\Admin\\AppData\\Local\\Temp\\ipykernel_11920\\2923290319.py:127: FutureWarning: The frame.append method is deprecated and will be removed from pandas in a future version. Use pandas.concat instead.\n",
      "  resultdf = resultdf.append({'name1': name1,\n",
      "C:\\Users\\Admin\\AppData\\Local\\Temp\\ipykernel_11920\\2923290319.py:127: FutureWarning: The frame.append method is deprecated and will be removed from pandas in a future version. Use pandas.concat instead.\n",
      "  resultdf = resultdf.append({'name1': name1,\n",
      "C:\\Users\\Admin\\AppData\\Local\\Temp\\ipykernel_11920\\2923290319.py:127: FutureWarning: The frame.append method is deprecated and will be removed from pandas in a future version. Use pandas.concat instead.\n",
      "  resultdf = resultdf.append({'name1': name1,\n",
      "C:\\Users\\Admin\\AppData\\Local\\Temp\\ipykernel_11920\\2923290319.py:127: FutureWarning: The frame.append method is deprecated and will be removed from pandas in a future version. Use pandas.concat instead.\n",
      "  resultdf = resultdf.append({'name1': name1,\n",
      "C:\\Users\\Admin\\AppData\\Local\\Temp\\ipykernel_11920\\2923290319.py:133: FutureWarning: The frame.append method is deprecated and will be removed from pandas in a future version. Use pandas.concat instead.\n",
      "  resultdf = resultdf.append({'name1': list1[i].name}, ignore_index=True)\n",
      "C:\\Users\\Admin\\AppData\\Local\\Temp\\ipykernel_11920\\2923290319.py:127: FutureWarning: The frame.append method is deprecated and will be removed from pandas in a future version. Use pandas.concat instead.\n",
      "  resultdf = resultdf.append({'name1': name1,\n",
      "C:\\Users\\Admin\\AppData\\Local\\Temp\\ipykernel_11920\\2923290319.py:133: FutureWarning: The frame.append method is deprecated and will be removed from pandas in a future version. Use pandas.concat instead.\n",
      "  resultdf = resultdf.append({'name1': list1[i].name}, ignore_index=True)\n",
      "C:\\Users\\Admin\\AppData\\Local\\Temp\\ipykernel_11920\\2923290319.py:133: FutureWarning: The frame.append method is deprecated and will be removed from pandas in a future version. Use pandas.concat instead.\n",
      "  resultdf = resultdf.append({'name1': list1[i].name}, ignore_index=True)\n",
      "C:\\Users\\Admin\\AppData\\Local\\Temp\\ipykernel_11920\\2923290319.py:127: FutureWarning: The frame.append method is deprecated and will be removed from pandas in a future version. Use pandas.concat instead.\n",
      "  resultdf = resultdf.append({'name1': name1,\n",
      "C:\\Users\\Admin\\AppData\\Local\\Temp\\ipykernel_11920\\2923290319.py:127: FutureWarning: The frame.append method is deprecated and will be removed from pandas in a future version. Use pandas.concat instead.\n",
      "  resultdf = resultdf.append({'name1': name1,\n",
      "C:\\Users\\Admin\\AppData\\Local\\Temp\\ipykernel_11920\\2923290319.py:133: FutureWarning: The frame.append method is deprecated and will be removed from pandas in a future version. Use pandas.concat instead.\n",
      "  resultdf = resultdf.append({'name1': list1[i].name}, ignore_index=True)\n",
      "C:\\Users\\Admin\\AppData\\Local\\Temp\\ipykernel_11920\\2923290319.py:127: FutureWarning: The frame.append method is deprecated and will be removed from pandas in a future version. Use pandas.concat instead.\n",
      "  resultdf = resultdf.append({'name1': name1,\n",
      "C:\\Users\\Admin\\AppData\\Local\\Temp\\ipykernel_11920\\2923290319.py:127: FutureWarning: The frame.append method is deprecated and will be removed from pandas in a future version. Use pandas.concat instead.\n",
      "  resultdf = resultdf.append({'name1': name1,\n",
      "C:\\Users\\Admin\\AppData\\Local\\Temp\\ipykernel_11920\\2923290319.py:127: FutureWarning: The frame.append method is deprecated and will be removed from pandas in a future version. Use pandas.concat instead.\n",
      "  resultdf = resultdf.append({'name1': name1,\n",
      "C:\\Users\\Admin\\AppData\\Local\\Temp\\ipykernel_11920\\2923290319.py:127: FutureWarning: The frame.append method is deprecated and will be removed from pandas in a future version. Use pandas.concat instead.\n",
      "  resultdf = resultdf.append({'name1': name1,\n",
      "C:\\Users\\Admin\\AppData\\Local\\Temp\\ipykernel_11920\\2923290319.py:127: FutureWarning: The frame.append method is deprecated and will be removed from pandas in a future version. Use pandas.concat instead.\n",
      "  resultdf = resultdf.append({'name1': name1,\n",
      "C:\\Users\\Admin\\AppData\\Local\\Temp\\ipykernel_11920\\2923290319.py:127: FutureWarning: The frame.append method is deprecated and will be removed from pandas in a future version. Use pandas.concat instead.\n",
      "  resultdf = resultdf.append({'name1': name1,\n",
      "C:\\Users\\Admin\\AppData\\Local\\Temp\\ipykernel_11920\\2923290319.py:127: FutureWarning: The frame.append method is deprecated and will be removed from pandas in a future version. Use pandas.concat instead.\n",
      "  resultdf = resultdf.append({'name1': name1,\n",
      "C:\\Users\\Admin\\AppData\\Local\\Temp\\ipykernel_11920\\2923290319.py:127: FutureWarning: The frame.append method is deprecated and will be removed from pandas in a future version. Use pandas.concat instead.\n",
      "  resultdf = resultdf.append({'name1': name1,\n",
      "C:\\Users\\Admin\\AppData\\Local\\Temp\\ipykernel_11920\\2923290319.py:127: FutureWarning: The frame.append method is deprecated and will be removed from pandas in a future version. Use pandas.concat instead.\n",
      "  resultdf = resultdf.append({'name1': name1,\n",
      "C:\\Users\\Admin\\AppData\\Local\\Temp\\ipykernel_11920\\2923290319.py:133: FutureWarning: The frame.append method is deprecated and will be removed from pandas in a future version. Use pandas.concat instead.\n",
      "  resultdf = resultdf.append({'name1': list1[i].name}, ignore_index=True)\n",
      "C:\\Users\\Admin\\AppData\\Local\\Temp\\ipykernel_11920\\2923290319.py:127: FutureWarning: The frame.append method is deprecated and will be removed from pandas in a future version. Use pandas.concat instead.\n",
      "  resultdf = resultdf.append({'name1': name1,\n",
      "C:\\Users\\Admin\\AppData\\Local\\Temp\\ipykernel_11920\\2923290319.py:127: FutureWarning: The frame.append method is deprecated and will be removed from pandas in a future version. Use pandas.concat instead.\n",
      "  resultdf = resultdf.append({'name1': name1,\n",
      "C:\\Users\\Admin\\AppData\\Local\\Temp\\ipykernel_11920\\2923290319.py:133: FutureWarning: The frame.append method is deprecated and will be removed from pandas in a future version. Use pandas.concat instead.\n",
      "  resultdf = resultdf.append({'name1': list1[i].name}, ignore_index=True)\n",
      "C:\\Users\\Admin\\AppData\\Local\\Temp\\ipykernel_11920\\2923290319.py:133: FutureWarning: The frame.append method is deprecated and will be removed from pandas in a future version. Use pandas.concat instead.\n",
      "  resultdf = resultdf.append({'name1': list1[i].name}, ignore_index=True)\n",
      "C:\\Users\\Admin\\AppData\\Local\\Temp\\ipykernel_11920\\2923290319.py:127: FutureWarning: The frame.append method is deprecated and will be removed from pandas in a future version. Use pandas.concat instead.\n",
      "  resultdf = resultdf.append({'name1': name1,\n",
      "C:\\Users\\Admin\\AppData\\Local\\Temp\\ipykernel_11920\\2923290319.py:127: FutureWarning: The frame.append method is deprecated and will be removed from pandas in a future version. Use pandas.concat instead.\n",
      "  resultdf = resultdf.append({'name1': name1,\n",
      "C:\\Users\\Admin\\AppData\\Local\\Temp\\ipykernel_11920\\2923290319.py:133: FutureWarning: The frame.append method is deprecated and will be removed from pandas in a future version. Use pandas.concat instead.\n",
      "  resultdf = resultdf.append({'name1': list1[i].name}, ignore_index=True)\n",
      "C:\\Users\\Admin\\AppData\\Local\\Temp\\ipykernel_11920\\2923290319.py:133: FutureWarning: The frame.append method is deprecated and will be removed from pandas in a future version. Use pandas.concat instead.\n",
      "  resultdf = resultdf.append({'name1': list1[i].name}, ignore_index=True)\n",
      "C:\\Users\\Admin\\AppData\\Local\\Temp\\ipykernel_11920\\2923290319.py:127: FutureWarning: The frame.append method is deprecated and will be removed from pandas in a future version. Use pandas.concat instead.\n",
      "  resultdf = resultdf.append({'name1': name1,\n",
      "C:\\Users\\Admin\\AppData\\Local\\Temp\\ipykernel_11920\\2923290319.py:127: FutureWarning: The frame.append method is deprecated and will be removed from pandas in a future version. Use pandas.concat instead.\n",
      "  resultdf = resultdf.append({'name1': name1,\n",
      "C:\\Users\\Admin\\AppData\\Local\\Temp\\ipykernel_11920\\2923290319.py:127: FutureWarning: The frame.append method is deprecated and will be removed from pandas in a future version. Use pandas.concat instead.\n",
      "  resultdf = resultdf.append({'name1': name1,\n",
      "C:\\Users\\Admin\\AppData\\Local\\Temp\\ipykernel_11920\\2923290319.py:127: FutureWarning: The frame.append method is deprecated and will be removed from pandas in a future version. Use pandas.concat instead.\n",
      "  resultdf = resultdf.append({'name1': name1,\n",
      "C:\\Users\\Admin\\AppData\\Local\\Temp\\ipykernel_11920\\2923290319.py:127: FutureWarning: The frame.append method is deprecated and will be removed from pandas in a future version. Use pandas.concat instead.\n",
      "  resultdf = resultdf.append({'name1': name1,\n",
      "C:\\Users\\Admin\\AppData\\Local\\Temp\\ipykernel_11920\\2923290319.py:127: FutureWarning: The frame.append method is deprecated and will be removed from pandas in a future version. Use pandas.concat instead.\n",
      "  resultdf = resultdf.append({'name1': name1,\n",
      "C:\\Users\\Admin\\AppData\\Local\\Temp\\ipykernel_11920\\2923290319.py:127: FutureWarning: The frame.append method is deprecated and will be removed from pandas in a future version. Use pandas.concat instead.\n",
      "  resultdf = resultdf.append({'name1': name1,\n",
      "C:\\Users\\Admin\\AppData\\Local\\Temp\\ipykernel_11920\\2923290319.py:127: FutureWarning: The frame.append method is deprecated and will be removed from pandas in a future version. Use pandas.concat instead.\n",
      "  resultdf = resultdf.append({'name1': name1,\n",
      "C:\\Users\\Admin\\AppData\\Local\\Temp\\ipykernel_11920\\2923290319.py:127: FutureWarning: The frame.append method is deprecated and will be removed from pandas in a future version. Use pandas.concat instead.\n",
      "  resultdf = resultdf.append({'name1': name1,\n",
      "C:\\Users\\Admin\\AppData\\Local\\Temp\\ipykernel_11920\\2923290319.py:127: FutureWarning: The frame.append method is deprecated and will be removed from pandas in a future version. Use pandas.concat instead.\n",
      "  resultdf = resultdf.append({'name1': name1,\n",
      "C:\\Users\\Admin\\AppData\\Local\\Temp\\ipykernel_11920\\2923290319.py:127: FutureWarning: The frame.append method is deprecated and will be removed from pandas in a future version. Use pandas.concat instead.\n",
      "  resultdf = resultdf.append({'name1': name1,\n",
      "C:\\Users\\Admin\\AppData\\Local\\Temp\\ipykernel_11920\\2923290319.py:127: FutureWarning: The frame.append method is deprecated and will be removed from pandas in a future version. Use pandas.concat instead.\n",
      "  resultdf = resultdf.append({'name1': name1,\n",
      "C:\\Users\\Admin\\AppData\\Local\\Temp\\ipykernel_11920\\2923290319.py:127: FutureWarning: The frame.append method is deprecated and will be removed from pandas in a future version. Use pandas.concat instead.\n",
      "  resultdf = resultdf.append({'name1': name1,\n",
      "C:\\Users\\Admin\\AppData\\Local\\Temp\\ipykernel_11920\\2923290319.py:127: FutureWarning: The frame.append method is deprecated and will be removed from pandas in a future version. Use pandas.concat instead.\n",
      "  resultdf = resultdf.append({'name1': name1,\n",
      "C:\\Users\\Admin\\AppData\\Local\\Temp\\ipykernel_11920\\2923290319.py:127: FutureWarning: The frame.append method is deprecated and will be removed from pandas in a future version. Use pandas.concat instead.\n",
      "  resultdf = resultdf.append({'name1': name1,\n",
      "C:\\Users\\Admin\\AppData\\Local\\Temp\\ipykernel_11920\\2923290319.py:127: FutureWarning: The frame.append method is deprecated and will be removed from pandas in a future version. Use pandas.concat instead.\n",
      "  resultdf = resultdf.append({'name1': name1,\n",
      "C:\\Users\\Admin\\AppData\\Local\\Temp\\ipykernel_11920\\2923290319.py:133: FutureWarning: The frame.append method is deprecated and will be removed from pandas in a future version. Use pandas.concat instead.\n",
      "  resultdf = resultdf.append({'name1': list1[i].name}, ignore_index=True)\n",
      "C:\\Users\\Admin\\AppData\\Local\\Temp\\ipykernel_11920\\2923290319.py:127: FutureWarning: The frame.append method is deprecated and will be removed from pandas in a future version. Use pandas.concat instead.\n",
      "  resultdf = resultdf.append({'name1': name1,\n",
      "C:\\Users\\Admin\\AppData\\Local\\Temp\\ipykernel_11920\\2923290319.py:127: FutureWarning: The frame.append method is deprecated and will be removed from pandas in a future version. Use pandas.concat instead.\n",
      "  resultdf = resultdf.append({'name1': name1,\n",
      "C:\\Users\\Admin\\AppData\\Local\\Temp\\ipykernel_11920\\2923290319.py:127: FutureWarning: The frame.append method is deprecated and will be removed from pandas in a future version. Use pandas.concat instead.\n",
      "  resultdf = resultdf.append({'name1': name1,\n",
      "C:\\Users\\Admin\\AppData\\Local\\Temp\\ipykernel_11920\\2923290319.py:133: FutureWarning: The frame.append method is deprecated and will be removed from pandas in a future version. Use pandas.concat instead.\n",
      "  resultdf = resultdf.append({'name1': list1[i].name}, ignore_index=True)\n",
      "C:\\Users\\Admin\\AppData\\Local\\Temp\\ipykernel_11920\\2923290319.py:127: FutureWarning: The frame.append method is deprecated and will be removed from pandas in a future version. Use pandas.concat instead.\n",
      "  resultdf = resultdf.append({'name1': name1,\n",
      "C:\\Users\\Admin\\AppData\\Local\\Temp\\ipykernel_11920\\2923290319.py:127: FutureWarning: The frame.append method is deprecated and will be removed from pandas in a future version. Use pandas.concat instead.\n",
      "  resultdf = resultdf.append({'name1': name1,\n",
      "C:\\Users\\Admin\\AppData\\Local\\Temp\\ipykernel_11920\\2923290319.py:127: FutureWarning: The frame.append method is deprecated and will be removed from pandas in a future version. Use pandas.concat instead.\n",
      "  resultdf = resultdf.append({'name1': name1,\n",
      "C:\\Users\\Admin\\AppData\\Local\\Temp\\ipykernel_11920\\2923290319.py:127: FutureWarning: The frame.append method is deprecated and will be removed from pandas in a future version. Use pandas.concat instead.\n",
      "  resultdf = resultdf.append({'name1': name1,\n",
      "C:\\Users\\Admin\\AppData\\Local\\Temp\\ipykernel_11920\\2923290319.py:127: FutureWarning: The frame.append method is deprecated and will be removed from pandas in a future version. Use pandas.concat instead.\n",
      "  resultdf = resultdf.append({'name1': name1,\n",
      "C:\\Users\\Admin\\AppData\\Local\\Temp\\ipykernel_11920\\2923290319.py:127: FutureWarning: The frame.append method is deprecated and will be removed from pandas in a future version. Use pandas.concat instead.\n",
      "  resultdf = resultdf.append({'name1': name1,\n",
      "C:\\Users\\Admin\\AppData\\Local\\Temp\\ipykernel_11920\\2923290319.py:127: FutureWarning: The frame.append method is deprecated and will be removed from pandas in a future version. Use pandas.concat instead.\n",
      "  resultdf = resultdf.append({'name1': name1,\n",
      "C:\\Users\\Admin\\AppData\\Local\\Temp\\ipykernel_11920\\2923290319.py:133: FutureWarning: The frame.append method is deprecated and will be removed from pandas in a future version. Use pandas.concat instead.\n",
      "  resultdf = resultdf.append({'name1': list1[i].name}, ignore_index=True)\n",
      "C:\\Users\\Admin\\AppData\\Local\\Temp\\ipykernel_11920\\2923290319.py:127: FutureWarning: The frame.append method is deprecated and will be removed from pandas in a future version. Use pandas.concat instead.\n",
      "  resultdf = resultdf.append({'name1': name1,\n",
      "C:\\Users\\Admin\\AppData\\Local\\Temp\\ipykernel_11920\\2923290319.py:127: FutureWarning: The frame.append method is deprecated and will be removed from pandas in a future version. Use pandas.concat instead.\n",
      "  resultdf = resultdf.append({'name1': name1,\n",
      "C:\\Users\\Admin\\AppData\\Local\\Temp\\ipykernel_11920\\2923290319.py:127: FutureWarning: The frame.append method is deprecated and will be removed from pandas in a future version. Use pandas.concat instead.\n",
      "  resultdf = resultdf.append({'name1': name1,\n",
      "C:\\Users\\Admin\\AppData\\Local\\Temp\\ipykernel_11920\\2923290319.py:127: FutureWarning: The frame.append method is deprecated and will be removed from pandas in a future version. Use pandas.concat instead.\n",
      "  resultdf = resultdf.append({'name1': name1,\n",
      "C:\\Users\\Admin\\AppData\\Local\\Temp\\ipykernel_11920\\2923290319.py:127: FutureWarning: The frame.append method is deprecated and will be removed from pandas in a future version. Use pandas.concat instead.\n",
      "  resultdf = resultdf.append({'name1': name1,\n",
      "C:\\Users\\Admin\\AppData\\Local\\Temp\\ipykernel_11920\\2923290319.py:127: FutureWarning: The frame.append method is deprecated and will be removed from pandas in a future version. Use pandas.concat instead.\n",
      "  resultdf = resultdf.append({'name1': name1,\n",
      "C:\\Users\\Admin\\AppData\\Local\\Temp\\ipykernel_11920\\2923290319.py:133: FutureWarning: The frame.append method is deprecated and will be removed from pandas in a future version. Use pandas.concat instead.\n",
      "  resultdf = resultdf.append({'name1': list1[i].name}, ignore_index=True)\n",
      "C:\\Users\\Admin\\AppData\\Local\\Temp\\ipykernel_11920\\2923290319.py:127: FutureWarning: The frame.append method is deprecated and will be removed from pandas in a future version. Use pandas.concat instead.\n",
      "  resultdf = resultdf.append({'name1': name1,\n",
      "C:\\Users\\Admin\\AppData\\Local\\Temp\\ipykernel_11920\\2923290319.py:127: FutureWarning: The frame.append method is deprecated and will be removed from pandas in a future version. Use pandas.concat instead.\n",
      "  resultdf = resultdf.append({'name1': name1,\n",
      "C:\\Users\\Admin\\AppData\\Local\\Temp\\ipykernel_11920\\2923290319.py:127: FutureWarning: The frame.append method is deprecated and will be removed from pandas in a future version. Use pandas.concat instead.\n",
      "  resultdf = resultdf.append({'name1': name1,\n",
      "C:\\Users\\Admin\\AppData\\Local\\Temp\\ipykernel_11920\\2923290319.py:127: FutureWarning: The frame.append method is deprecated and will be removed from pandas in a future version. Use pandas.concat instead.\n",
      "  resultdf = resultdf.append({'name1': name1,\n",
      "C:\\Users\\Admin\\AppData\\Local\\Temp\\ipykernel_11920\\2923290319.py:127: FutureWarning: The frame.append method is deprecated and will be removed from pandas in a future version. Use pandas.concat instead.\n",
      "  resultdf = resultdf.append({'name1': name1,\n",
      "C:\\Users\\Admin\\AppData\\Local\\Temp\\ipykernel_11920\\2923290319.py:133: FutureWarning: The frame.append method is deprecated and will be removed from pandas in a future version. Use pandas.concat instead.\n",
      "  resultdf = resultdf.append({'name1': list1[i].name}, ignore_index=True)\n",
      "C:\\Users\\Admin\\AppData\\Local\\Temp\\ipykernel_11920\\2923290319.py:127: FutureWarning: The frame.append method is deprecated and will be removed from pandas in a future version. Use pandas.concat instead.\n",
      "  resultdf = resultdf.append({'name1': name1,\n",
      "C:\\Users\\Admin\\AppData\\Local\\Temp\\ipykernel_11920\\2923290319.py:133: FutureWarning: The frame.append method is deprecated and will be removed from pandas in a future version. Use pandas.concat instead.\n",
      "  resultdf = resultdf.append({'name1': list1[i].name}, ignore_index=True)\n",
      "C:\\Users\\Admin\\AppData\\Local\\Temp\\ipykernel_11920\\2923290319.py:127: FutureWarning: The frame.append method is deprecated and will be removed from pandas in a future version. Use pandas.concat instead.\n",
      "  resultdf = resultdf.append({'name1': name1,\n",
      "C:\\Users\\Admin\\AppData\\Local\\Temp\\ipykernel_11920\\2923290319.py:133: FutureWarning: The frame.append method is deprecated and will be removed from pandas in a future version. Use pandas.concat instead.\n",
      "  resultdf = resultdf.append({'name1': list1[i].name}, ignore_index=True)\n",
      "C:\\Users\\Admin\\AppData\\Local\\Temp\\ipykernel_11920\\2923290319.py:127: FutureWarning: The frame.append method is deprecated and will be removed from pandas in a future version. Use pandas.concat instead.\n",
      "  resultdf = resultdf.append({'name1': name1,\n",
      "C:\\Users\\Admin\\AppData\\Local\\Temp\\ipykernel_11920\\2923290319.py:133: FutureWarning: The frame.append method is deprecated and will be removed from pandas in a future version. Use pandas.concat instead.\n",
      "  resultdf = resultdf.append({'name1': list1[i].name}, ignore_index=True)\n",
      "C:\\Users\\Admin\\AppData\\Local\\Temp\\ipykernel_11920\\2923290319.py:127: FutureWarning: The frame.append method is deprecated and will be removed from pandas in a future version. Use pandas.concat instead.\n",
      "  resultdf = resultdf.append({'name1': name1,\n",
      "C:\\Users\\Admin\\AppData\\Local\\Temp\\ipykernel_11920\\2923290319.py:133: FutureWarning: The frame.append method is deprecated and will be removed from pandas in a future version. Use pandas.concat instead.\n",
      "  resultdf = resultdf.append({'name1': list1[i].name}, ignore_index=True)\n",
      "C:\\Users\\Admin\\AppData\\Local\\Temp\\ipykernel_11920\\2923290319.py:127: FutureWarning: The frame.append method is deprecated and will be removed from pandas in a future version. Use pandas.concat instead.\n",
      "  resultdf = resultdf.append({'name1': name1,\n",
      "C:\\Users\\Admin\\AppData\\Local\\Temp\\ipykernel_11920\\2923290319.py:127: FutureWarning: The frame.append method is deprecated and will be removed from pandas in a future version. Use pandas.concat instead.\n",
      "  resultdf = resultdf.append({'name1': name1,\n",
      "C:\\Users\\Admin\\AppData\\Local\\Temp\\ipykernel_11920\\2923290319.py:127: FutureWarning: The frame.append method is deprecated and will be removed from pandas in a future version. Use pandas.concat instead.\n",
      "  resultdf = resultdf.append({'name1': name1,\n",
      "C:\\Users\\Admin\\AppData\\Local\\Temp\\ipykernel_11920\\2923290319.py:127: FutureWarning: The frame.append method is deprecated and will be removed from pandas in a future version. Use pandas.concat instead.\n",
      "  resultdf = resultdf.append({'name1': name1,\n",
      "C:\\Users\\Admin\\AppData\\Local\\Temp\\ipykernel_11920\\2923290319.py:127: FutureWarning: The frame.append method is deprecated and will be removed from pandas in a future version. Use pandas.concat instead.\n",
      "  resultdf = resultdf.append({'name1': name1,\n",
      "C:\\Users\\Admin\\AppData\\Local\\Temp\\ipykernel_11920\\2923290319.py:127: FutureWarning: The frame.append method is deprecated and will be removed from pandas in a future version. Use pandas.concat instead.\n",
      "  resultdf = resultdf.append({'name1': name1,\n",
      "C:\\Users\\Admin\\AppData\\Local\\Temp\\ipykernel_11920\\2923290319.py:133: FutureWarning: The frame.append method is deprecated and will be removed from pandas in a future version. Use pandas.concat instead.\n",
      "  resultdf = resultdf.append({'name1': list1[i].name}, ignore_index=True)\n",
      "C:\\Users\\Admin\\AppData\\Local\\Temp\\ipykernel_11920\\2923290319.py:127: FutureWarning: The frame.append method is deprecated and will be removed from pandas in a future version. Use pandas.concat instead.\n",
      "  resultdf = resultdf.append({'name1': name1,\n",
      "C:\\Users\\Admin\\AppData\\Local\\Temp\\ipykernel_11920\\2923290319.py:127: FutureWarning: The frame.append method is deprecated and will be removed from pandas in a future version. Use pandas.concat instead.\n",
      "  resultdf = resultdf.append({'name1': name1,\n",
      "C:\\Users\\Admin\\AppData\\Local\\Temp\\ipykernel_11920\\2923290319.py:127: FutureWarning: The frame.append method is deprecated and will be removed from pandas in a future version. Use pandas.concat instead.\n",
      "  resultdf = resultdf.append({'name1': name1,\n",
      "C:\\Users\\Admin\\AppData\\Local\\Temp\\ipykernel_11920\\2923290319.py:127: FutureWarning: The frame.append method is deprecated and will be removed from pandas in a future version. Use pandas.concat instead.\n",
      "  resultdf = resultdf.append({'name1': name1,\n",
      "C:\\Users\\Admin\\AppData\\Local\\Temp\\ipykernel_11920\\2923290319.py:127: FutureWarning: The frame.append method is deprecated and will be removed from pandas in a future version. Use pandas.concat instead.\n",
      "  resultdf = resultdf.append({'name1': name1,\n",
      "C:\\Users\\Admin\\AppData\\Local\\Temp\\ipykernel_11920\\2923290319.py:127: FutureWarning: The frame.append method is deprecated and will be removed from pandas in a future version. Use pandas.concat instead.\n",
      "  resultdf = resultdf.append({'name1': name1,\n",
      "C:\\Users\\Admin\\AppData\\Local\\Temp\\ipykernel_11920\\2923290319.py:127: FutureWarning: The frame.append method is deprecated and will be removed from pandas in a future version. Use pandas.concat instead.\n",
      "  resultdf = resultdf.append({'name1': name1,\n",
      "C:\\Users\\Admin\\AppData\\Local\\Temp\\ipykernel_11920\\2923290319.py:127: FutureWarning: The frame.append method is deprecated and will be removed from pandas in a future version. Use pandas.concat instead.\n",
      "  resultdf = resultdf.append({'name1': name1,\n",
      "C:\\Users\\Admin\\AppData\\Local\\Temp\\ipykernel_11920\\2923290319.py:133: FutureWarning: The frame.append method is deprecated and will be removed from pandas in a future version. Use pandas.concat instead.\n",
      "  resultdf = resultdf.append({'name1': list1[i].name}, ignore_index=True)\n",
      "C:\\Users\\Admin\\AppData\\Local\\Temp\\ipykernel_11920\\2923290319.py:127: FutureWarning: The frame.append method is deprecated and will be removed from pandas in a future version. Use pandas.concat instead.\n",
      "  resultdf = resultdf.append({'name1': name1,\n",
      "C:\\Users\\Admin\\AppData\\Local\\Temp\\ipykernel_11920\\2923290319.py:127: FutureWarning: The frame.append method is deprecated and will be removed from pandas in a future version. Use pandas.concat instead.\n",
      "  resultdf = resultdf.append({'name1': name1,\n",
      "C:\\Users\\Admin\\AppData\\Local\\Temp\\ipykernel_11920\\2923290319.py:127: FutureWarning: The frame.append method is deprecated and will be removed from pandas in a future version. Use pandas.concat instead.\n",
      "  resultdf = resultdf.append({'name1': name1,\n",
      "C:\\Users\\Admin\\AppData\\Local\\Temp\\ipykernel_11920\\2923290319.py:127: FutureWarning: The frame.append method is deprecated and will be removed from pandas in a future version. Use pandas.concat instead.\n",
      "  resultdf = resultdf.append({'name1': name1,\n",
      "C:\\Users\\Admin\\AppData\\Local\\Temp\\ipykernel_11920\\2923290319.py:127: FutureWarning: The frame.append method is deprecated and will be removed from pandas in a future version. Use pandas.concat instead.\n",
      "  resultdf = resultdf.append({'name1': name1,\n",
      "C:\\Users\\Admin\\AppData\\Local\\Temp\\ipykernel_11920\\2923290319.py:127: FutureWarning: The frame.append method is deprecated and will be removed from pandas in a future version. Use pandas.concat instead.\n",
      "  resultdf = resultdf.append({'name1': name1,\n",
      "C:\\Users\\Admin\\AppData\\Local\\Temp\\ipykernel_11920\\2923290319.py:127: FutureWarning: The frame.append method is deprecated and will be removed from pandas in a future version. Use pandas.concat instead.\n",
      "  resultdf = resultdf.append({'name1': name1,\n",
      "C:\\Users\\Admin\\AppData\\Local\\Temp\\ipykernel_11920\\2923290319.py:127: FutureWarning: The frame.append method is deprecated and will be removed from pandas in a future version. Use pandas.concat instead.\n",
      "  resultdf = resultdf.append({'name1': name1,\n",
      "C:\\Users\\Admin\\AppData\\Local\\Temp\\ipykernel_11920\\2923290319.py:127: FutureWarning: The frame.append method is deprecated and will be removed from pandas in a future version. Use pandas.concat instead.\n",
      "  resultdf = resultdf.append({'name1': name1,\n",
      "C:\\Users\\Admin\\AppData\\Local\\Temp\\ipykernel_11920\\2923290319.py:133: FutureWarning: The frame.append method is deprecated and will be removed from pandas in a future version. Use pandas.concat instead.\n",
      "  resultdf = resultdf.append({'name1': list1[i].name}, ignore_index=True)\n",
      "C:\\Users\\Admin\\AppData\\Local\\Temp\\ipykernel_11920\\2923290319.py:127: FutureWarning: The frame.append method is deprecated and will be removed from pandas in a future version. Use pandas.concat instead.\n",
      "  resultdf = resultdf.append({'name1': name1,\n",
      "C:\\Users\\Admin\\AppData\\Local\\Temp\\ipykernel_11920\\2923290319.py:127: FutureWarning: The frame.append method is deprecated and will be removed from pandas in a future version. Use pandas.concat instead.\n",
      "  resultdf = resultdf.append({'name1': name1,\n",
      "C:\\Users\\Admin\\AppData\\Local\\Temp\\ipykernel_11920\\2923290319.py:127: FutureWarning: The frame.append method is deprecated and will be removed from pandas in a future version. Use pandas.concat instead.\n",
      "  resultdf = resultdf.append({'name1': name1,\n",
      "C:\\Users\\Admin\\AppData\\Local\\Temp\\ipykernel_11920\\2923290319.py:127: FutureWarning: The frame.append method is deprecated and will be removed from pandas in a future version. Use pandas.concat instead.\n",
      "  resultdf = resultdf.append({'name1': name1,\n",
      "C:\\Users\\Admin\\AppData\\Local\\Temp\\ipykernel_11920\\2923290319.py:127: FutureWarning: The frame.append method is deprecated and will be removed from pandas in a future version. Use pandas.concat instead.\n",
      "  resultdf = resultdf.append({'name1': name1,\n",
      "C:\\Users\\Admin\\AppData\\Local\\Temp\\ipykernel_11920\\2923290319.py:133: FutureWarning: The frame.append method is deprecated and will be removed from pandas in a future version. Use pandas.concat instead.\n",
      "  resultdf = resultdf.append({'name1': list1[i].name}, ignore_index=True)\n",
      "C:\\Users\\Admin\\AppData\\Local\\Temp\\ipykernel_11920\\2923290319.py:127: FutureWarning: The frame.append method is deprecated and will be removed from pandas in a future version. Use pandas.concat instead.\n",
      "  resultdf = resultdf.append({'name1': name1,\n",
      "C:\\Users\\Admin\\AppData\\Local\\Temp\\ipykernel_11920\\2923290319.py:127: FutureWarning: The frame.append method is deprecated and will be removed from pandas in a future version. Use pandas.concat instead.\n",
      "  resultdf = resultdf.append({'name1': name1,\n",
      "C:\\Users\\Admin\\AppData\\Local\\Temp\\ipykernel_11920\\2923290319.py:127: FutureWarning: The frame.append method is deprecated and will be removed from pandas in a future version. Use pandas.concat instead.\n",
      "  resultdf = resultdf.append({'name1': name1,\n",
      "C:\\Users\\Admin\\AppData\\Local\\Temp\\ipykernel_11920\\2923290319.py:133: FutureWarning: The frame.append method is deprecated and will be removed from pandas in a future version. Use pandas.concat instead.\n",
      "  resultdf = resultdf.append({'name1': list1[i].name}, ignore_index=True)\n",
      "C:\\Users\\Admin\\AppData\\Local\\Temp\\ipykernel_11920\\2923290319.py:127: FutureWarning: The frame.append method is deprecated and will be removed from pandas in a future version. Use pandas.concat instead.\n",
      "  resultdf = resultdf.append({'name1': name1,\n",
      "C:\\Users\\Admin\\AppData\\Local\\Temp\\ipykernel_11920\\2923290319.py:127: FutureWarning: The frame.append method is deprecated and will be removed from pandas in a future version. Use pandas.concat instead.\n",
      "  resultdf = resultdf.append({'name1': name1,\n",
      "C:\\Users\\Admin\\AppData\\Local\\Temp\\ipykernel_11920\\2923290319.py:127: FutureWarning: The frame.append method is deprecated and will be removed from pandas in a future version. Use pandas.concat instead.\n",
      "  resultdf = resultdf.append({'name1': name1,\n",
      "C:\\Users\\Admin\\AppData\\Local\\Temp\\ipykernel_11920\\2923290319.py:127: FutureWarning: The frame.append method is deprecated and will be removed from pandas in a future version. Use pandas.concat instead.\n",
      "  resultdf = resultdf.append({'name1': name1,\n",
      "C:\\Users\\Admin\\AppData\\Local\\Temp\\ipykernel_11920\\2923290319.py:127: FutureWarning: The frame.append method is deprecated and will be removed from pandas in a future version. Use pandas.concat instead.\n",
      "  resultdf = resultdf.append({'name1': name1,\n",
      "C:\\Users\\Admin\\AppData\\Local\\Temp\\ipykernel_11920\\2923290319.py:127: FutureWarning: The frame.append method is deprecated and will be removed from pandas in a future version. Use pandas.concat instead.\n",
      "  resultdf = resultdf.append({'name1': name1,\n",
      "C:\\Users\\Admin\\AppData\\Local\\Temp\\ipykernel_11920\\2923290319.py:133: FutureWarning: The frame.append method is deprecated and will be removed from pandas in a future version. Use pandas.concat instead.\n",
      "  resultdf = resultdf.append({'name1': list1[i].name}, ignore_index=True)\n",
      "C:\\Users\\Admin\\AppData\\Local\\Temp\\ipykernel_11920\\2923290319.py:127: FutureWarning: The frame.append method is deprecated and will be removed from pandas in a future version. Use pandas.concat instead.\n",
      "  resultdf = resultdf.append({'name1': name1,\n",
      "C:\\Users\\Admin\\AppData\\Local\\Temp\\ipykernel_11920\\2923290319.py:127: FutureWarning: The frame.append method is deprecated and will be removed from pandas in a future version. Use pandas.concat instead.\n",
      "  resultdf = resultdf.append({'name1': name1,\n",
      "C:\\Users\\Admin\\AppData\\Local\\Temp\\ipykernel_11920\\2923290319.py:127: FutureWarning: The frame.append method is deprecated and will be removed from pandas in a future version. Use pandas.concat instead.\n",
      "  resultdf = resultdf.append({'name1': name1,\n",
      "C:\\Users\\Admin\\AppData\\Local\\Temp\\ipykernel_11920\\2923290319.py:127: FutureWarning: The frame.append method is deprecated and will be removed from pandas in a future version. Use pandas.concat instead.\n",
      "  resultdf = resultdf.append({'name1': name1,\n",
      "C:\\Users\\Admin\\AppData\\Local\\Temp\\ipykernel_11920\\2923290319.py:127: FutureWarning: The frame.append method is deprecated and will be removed from pandas in a future version. Use pandas.concat instead.\n",
      "  resultdf = resultdf.append({'name1': name1,\n",
      "C:\\Users\\Admin\\AppData\\Local\\Temp\\ipykernel_11920\\2923290319.py:127: FutureWarning: The frame.append method is deprecated and will be removed from pandas in a future version. Use pandas.concat instead.\n",
      "  resultdf = resultdf.append({'name1': name1,\n",
      "C:\\Users\\Admin\\AppData\\Local\\Temp\\ipykernel_11920\\2923290319.py:127: FutureWarning: The frame.append method is deprecated and will be removed from pandas in a future version. Use pandas.concat instead.\n",
      "  resultdf = resultdf.append({'name1': name1,\n",
      "C:\\Users\\Admin\\AppData\\Local\\Temp\\ipykernel_11920\\2923290319.py:133: FutureWarning: The frame.append method is deprecated and will be removed from pandas in a future version. Use pandas.concat instead.\n",
      "  resultdf = resultdf.append({'name1': list1[i].name}, ignore_index=True)\n",
      "C:\\Users\\Admin\\AppData\\Local\\Temp\\ipykernel_11920\\2923290319.py:127: FutureWarning: The frame.append method is deprecated and will be removed from pandas in a future version. Use pandas.concat instead.\n",
      "  resultdf = resultdf.append({'name1': name1,\n",
      "C:\\Users\\Admin\\AppData\\Local\\Temp\\ipykernel_11920\\2923290319.py:127: FutureWarning: The frame.append method is deprecated and will be removed from pandas in a future version. Use pandas.concat instead.\n",
      "  resultdf = resultdf.append({'name1': name1,\n",
      "C:\\Users\\Admin\\AppData\\Local\\Temp\\ipykernel_11920\\2923290319.py:133: FutureWarning: The frame.append method is deprecated and will be removed from pandas in a future version. Use pandas.concat instead.\n",
      "  resultdf = resultdf.append({'name1': list1[i].name}, ignore_index=True)\n",
      "C:\\Users\\Admin\\AppData\\Local\\Temp\\ipykernel_11920\\2923290319.py:127: FutureWarning: The frame.append method is deprecated and will be removed from pandas in a future version. Use pandas.concat instead.\n",
      "  resultdf = resultdf.append({'name1': name1,\n",
      "C:\\Users\\Admin\\AppData\\Local\\Temp\\ipykernel_11920\\2923290319.py:133: FutureWarning: The frame.append method is deprecated and will be removed from pandas in a future version. Use pandas.concat instead.\n",
      "  resultdf = resultdf.append({'name1': list1[i].name}, ignore_index=True)\n",
      "C:\\Users\\Admin\\AppData\\Local\\Temp\\ipykernel_11920\\2923290319.py:127: FutureWarning: The frame.append method is deprecated and will be removed from pandas in a future version. Use pandas.concat instead.\n",
      "  resultdf = resultdf.append({'name1': name1,\n",
      "C:\\Users\\Admin\\AppData\\Local\\Temp\\ipykernel_11920\\2923290319.py:127: FutureWarning: The frame.append method is deprecated and will be removed from pandas in a future version. Use pandas.concat instead.\n",
      "  resultdf = resultdf.append({'name1': name1,\n",
      "C:\\Users\\Admin\\AppData\\Local\\Temp\\ipykernel_11920\\2923290319.py:127: FutureWarning: The frame.append method is deprecated and will be removed from pandas in a future version. Use pandas.concat instead.\n",
      "  resultdf = resultdf.append({'name1': name1,\n",
      "C:\\Users\\Admin\\AppData\\Local\\Temp\\ipykernel_11920\\2923290319.py:127: FutureWarning: The frame.append method is deprecated and will be removed from pandas in a future version. Use pandas.concat instead.\n",
      "  resultdf = resultdf.append({'name1': name1,\n",
      "C:\\Users\\Admin\\AppData\\Local\\Temp\\ipykernel_11920\\2923290319.py:127: FutureWarning: The frame.append method is deprecated and will be removed from pandas in a future version. Use pandas.concat instead.\n",
      "  resultdf = resultdf.append({'name1': name1,\n",
      "C:\\Users\\Admin\\AppData\\Local\\Temp\\ipykernel_11920\\2923290319.py:127: FutureWarning: The frame.append method is deprecated and will be removed from pandas in a future version. Use pandas.concat instead.\n",
      "  resultdf = resultdf.append({'name1': name1,\n",
      "C:\\Users\\Admin\\AppData\\Local\\Temp\\ipykernel_11920\\2923290319.py:127: FutureWarning: The frame.append method is deprecated and will be removed from pandas in a future version. Use pandas.concat instead.\n",
      "  resultdf = resultdf.append({'name1': name1,\n",
      "C:\\Users\\Admin\\AppData\\Local\\Temp\\ipykernel_11920\\2923290319.py:127: FutureWarning: The frame.append method is deprecated and will be removed from pandas in a future version. Use pandas.concat instead.\n",
      "  resultdf = resultdf.append({'name1': name1,\n",
      "C:\\Users\\Admin\\AppData\\Local\\Temp\\ipykernel_11920\\2923290319.py:133: FutureWarning: The frame.append method is deprecated and will be removed from pandas in a future version. Use pandas.concat instead.\n",
      "  resultdf = resultdf.append({'name1': list1[i].name}, ignore_index=True)\n",
      "C:\\Users\\Admin\\AppData\\Local\\Temp\\ipykernel_11920\\2923290319.py:127: FutureWarning: The frame.append method is deprecated and will be removed from pandas in a future version. Use pandas.concat instead.\n",
      "  resultdf = resultdf.append({'name1': name1,\n",
      "C:\\Users\\Admin\\AppData\\Local\\Temp\\ipykernel_11920\\2923290319.py:133: FutureWarning: The frame.append method is deprecated and will be removed from pandas in a future version. Use pandas.concat instead.\n",
      "  resultdf = resultdf.append({'name1': list1[i].name}, ignore_index=True)\n",
      "C:\\Users\\Admin\\AppData\\Local\\Temp\\ipykernel_11920\\2923290319.py:127: FutureWarning: The frame.append method is deprecated and will be removed from pandas in a future version. Use pandas.concat instead.\n",
      "  resultdf = resultdf.append({'name1': name1,\n",
      "C:\\Users\\Admin\\AppData\\Local\\Temp\\ipykernel_11920\\2923290319.py:133: FutureWarning: The frame.append method is deprecated and will be removed from pandas in a future version. Use pandas.concat instead.\n",
      "  resultdf = resultdf.append({'name1': list1[i].name}, ignore_index=True)\n",
      "C:\\Users\\Admin\\AppData\\Local\\Temp\\ipykernel_11920\\2923290319.py:127: FutureWarning: The frame.append method is deprecated and will be removed from pandas in a future version. Use pandas.concat instead.\n",
      "  resultdf = resultdf.append({'name1': name1,\n",
      "C:\\Users\\Admin\\AppData\\Local\\Temp\\ipykernel_11920\\2923290319.py:133: FutureWarning: The frame.append method is deprecated and will be removed from pandas in a future version. Use pandas.concat instead.\n",
      "  resultdf = resultdf.append({'name1': list1[i].name}, ignore_index=True)\n",
      "C:\\Users\\Admin\\AppData\\Local\\Temp\\ipykernel_11920\\2923290319.py:133: FutureWarning: The frame.append method is deprecated and will be removed from pandas in a future version. Use pandas.concat instead.\n",
      "  resultdf = resultdf.append({'name1': list1[i].name}, ignore_index=True)\n",
      "C:\\Users\\Admin\\AppData\\Local\\Temp\\ipykernel_11920\\2923290319.py:133: FutureWarning: The frame.append method is deprecated and will be removed from pandas in a future version. Use pandas.concat instead.\n",
      "  resultdf = resultdf.append({'name1': list1[i].name}, ignore_index=True)\n",
      "C:\\Users\\Admin\\AppData\\Local\\Temp\\ipykernel_11920\\2923290319.py:133: FutureWarning: The frame.append method is deprecated and will be removed from pandas in a future version. Use pandas.concat instead.\n",
      "  resultdf = resultdf.append({'name1': list1[i].name}, ignore_index=True)\n",
      "C:\\Users\\Admin\\AppData\\Local\\Temp\\ipykernel_11920\\2923290319.py:133: FutureWarning: The frame.append method is deprecated and will be removed from pandas in a future version. Use pandas.concat instead.\n",
      "  resultdf = resultdf.append({'name1': list1[i].name}, ignore_index=True)\n",
      "C:\\Users\\Admin\\AppData\\Local\\Temp\\ipykernel_11920\\2923290319.py:133: FutureWarning: The frame.append method is deprecated and will be removed from pandas in a future version. Use pandas.concat instead.\n",
      "  resultdf = resultdf.append({'name1': list1[i].name}, ignore_index=True)\n",
      "C:\\Users\\Admin\\AppData\\Local\\Temp\\ipykernel_11920\\2923290319.py:133: FutureWarning: The frame.append method is deprecated and will be removed from pandas in a future version. Use pandas.concat instead.\n",
      "  resultdf = resultdf.append({'name1': list1[i].name}, ignore_index=True)\n",
      "C:\\Users\\Admin\\AppData\\Local\\Temp\\ipykernel_11920\\2923290319.py:127: FutureWarning: The frame.append method is deprecated and will be removed from pandas in a future version. Use pandas.concat instead.\n",
      "  resultdf = resultdf.append({'name1': name1,\n",
      "C:\\Users\\Admin\\AppData\\Local\\Temp\\ipykernel_11920\\2923290319.py:133: FutureWarning: The frame.append method is deprecated and will be removed from pandas in a future version. Use pandas.concat instead.\n",
      "  resultdf = resultdf.append({'name1': list1[i].name}, ignore_index=True)\n",
      "C:\\Users\\Admin\\AppData\\Local\\Temp\\ipykernel_11920\\2923290319.py:127: FutureWarning: The frame.append method is deprecated and will be removed from pandas in a future version. Use pandas.concat instead.\n",
      "  resultdf = resultdf.append({'name1': name1,\n",
      "C:\\Users\\Admin\\AppData\\Local\\Temp\\ipykernel_11920\\2923290319.py:133: FutureWarning: The frame.append method is deprecated and will be removed from pandas in a future version. Use pandas.concat instead.\n",
      "  resultdf = resultdf.append({'name1': list1[i].name}, ignore_index=True)\n",
      "C:\\Users\\Admin\\AppData\\Local\\Temp\\ipykernel_11920\\2923290319.py:127: FutureWarning: The frame.append method is deprecated and will be removed from pandas in a future version. Use pandas.concat instead.\n",
      "  resultdf = resultdf.append({'name1': name1,\n",
      "C:\\Users\\Admin\\AppData\\Local\\Temp\\ipykernel_11920\\2923290319.py:127: FutureWarning: The frame.append method is deprecated and will be removed from pandas in a future version. Use pandas.concat instead.\n",
      "  resultdf = resultdf.append({'name1': name1,\n",
      "C:\\Users\\Admin\\AppData\\Local\\Temp\\ipykernel_11920\\2923290319.py:127: FutureWarning: The frame.append method is deprecated and will be removed from pandas in a future version. Use pandas.concat instead.\n",
      "  resultdf = resultdf.append({'name1': name1,\n",
      "C:\\Users\\Admin\\AppData\\Local\\Temp\\ipykernel_11920\\2923290319.py:127: FutureWarning: The frame.append method is deprecated and will be removed from pandas in a future version. Use pandas.concat instead.\n",
      "  resultdf = resultdf.append({'name1': name1,\n",
      "C:\\Users\\Admin\\AppData\\Local\\Temp\\ipykernel_11920\\2923290319.py:133: FutureWarning: The frame.append method is deprecated and will be removed from pandas in a future version. Use pandas.concat instead.\n",
      "  resultdf = resultdf.append({'name1': list1[i].name}, ignore_index=True)\n",
      "C:\\Users\\Admin\\AppData\\Local\\Temp\\ipykernel_11920\\2923290319.py:127: FutureWarning: The frame.append method is deprecated and will be removed from pandas in a future version. Use pandas.concat instead.\n",
      "  resultdf = resultdf.append({'name1': name1,\n",
      "C:\\Users\\Admin\\AppData\\Local\\Temp\\ipykernel_11920\\2923290319.py:127: FutureWarning: The frame.append method is deprecated and will be removed from pandas in a future version. Use pandas.concat instead.\n",
      "  resultdf = resultdf.append({'name1': name1,\n",
      "C:\\Users\\Admin\\AppData\\Local\\Temp\\ipykernel_11920\\2923290319.py:127: FutureWarning: The frame.append method is deprecated and will be removed from pandas in a future version. Use pandas.concat instead.\n",
      "  resultdf = resultdf.append({'name1': name1,\n",
      "C:\\Users\\Admin\\AppData\\Local\\Temp\\ipykernel_11920\\2923290319.py:133: FutureWarning: The frame.append method is deprecated and will be removed from pandas in a future version. Use pandas.concat instead.\n",
      "  resultdf = resultdf.append({'name1': list1[i].name}, ignore_index=True)\n",
      "C:\\Users\\Admin\\AppData\\Local\\Temp\\ipykernel_11920\\2923290319.py:133: FutureWarning: The frame.append method is deprecated and will be removed from pandas in a future version. Use pandas.concat instead.\n",
      "  resultdf = resultdf.append({'name1': list1[i].name}, ignore_index=True)\n",
      "C:\\Users\\Admin\\AppData\\Local\\Temp\\ipykernel_11920\\2923290319.py:127: FutureWarning: The frame.append method is deprecated and will be removed from pandas in a future version. Use pandas.concat instead.\n",
      "  resultdf = resultdf.append({'name1': name1,\n",
      "C:\\Users\\Admin\\AppData\\Local\\Temp\\ipykernel_11920\\2923290319.py:133: FutureWarning: The frame.append method is deprecated and will be removed from pandas in a future version. Use pandas.concat instead.\n",
      "  resultdf = resultdf.append({'name1': list1[i].name}, ignore_index=True)\n",
      "C:\\Users\\Admin\\AppData\\Local\\Temp\\ipykernel_11920\\2923290319.py:127: FutureWarning: The frame.append method is deprecated and will be removed from pandas in a future version. Use pandas.concat instead.\n",
      "  resultdf = resultdf.append({'name1': name1,\n",
      "C:\\Users\\Admin\\AppData\\Local\\Temp\\ipykernel_11920\\2923290319.py:127: FutureWarning: The frame.append method is deprecated and will be removed from pandas in a future version. Use pandas.concat instead.\n",
      "  resultdf = resultdf.append({'name1': name1,\n",
      "C:\\Users\\Admin\\AppData\\Local\\Temp\\ipykernel_11920\\2923290319.py:127: FutureWarning: The frame.append method is deprecated and will be removed from pandas in a future version. Use pandas.concat instead.\n",
      "  resultdf = resultdf.append({'name1': name1,\n",
      "C:\\Users\\Admin\\AppData\\Local\\Temp\\ipykernel_11920\\2923290319.py:127: FutureWarning: The frame.append method is deprecated and will be removed from pandas in a future version. Use pandas.concat instead.\n",
      "  resultdf = resultdf.append({'name1': name1,\n"
     ]
    }
   ],
   "source": [
    "comparedProdRF = compareRF(prodRF, rf, rf.columns[0], rf.columns[1], 0.7)"
   ]
  },
  {
   "cell_type": "code",
   "execution_count": 279,
   "metadata": {},
   "outputs": [
    {
     "name": "stderr",
     "output_type": "stream",
     "text": [
      "C:\\Users\\Admin\\AppData\\Local\\Temp\\ipykernel_11920\\2923290319.py:133: FutureWarning: The frame.append method is deprecated and will be removed from pandas in a future version. Use pandas.concat instead.\n",
      "  resultdf = resultdf.append({'name1': list1[i].name}, ignore_index=True)\n",
      "C:\\Users\\Admin\\AppData\\Local\\Temp\\ipykernel_11920\\2923290319.py:127: FutureWarning: The frame.append method is deprecated and will be removed from pandas in a future version. Use pandas.concat instead.\n",
      "  resultdf = resultdf.append({'name1': name1,\n",
      "C:\\Users\\Admin\\AppData\\Local\\Temp\\ipykernel_11920\\2923290319.py:127: FutureWarning: The frame.append method is deprecated and will be removed from pandas in a future version. Use pandas.concat instead.\n",
      "  resultdf = resultdf.append({'name1': name1,\n",
      "C:\\Users\\Admin\\AppData\\Local\\Temp\\ipykernel_11920\\2923290319.py:127: FutureWarning: The frame.append method is deprecated and will be removed from pandas in a future version. Use pandas.concat instead.\n",
      "  resultdf = resultdf.append({'name1': name1,\n",
      "C:\\Users\\Admin\\AppData\\Local\\Temp\\ipykernel_11920\\2923290319.py:133: FutureWarning: The frame.append method is deprecated and will be removed from pandas in a future version. Use pandas.concat instead.\n",
      "  resultdf = resultdf.append({'name1': list1[i].name}, ignore_index=True)\n",
      "C:\\Users\\Admin\\AppData\\Local\\Temp\\ipykernel_11920\\2923290319.py:127: FutureWarning: The frame.append method is deprecated and will be removed from pandas in a future version. Use pandas.concat instead.\n",
      "  resultdf = resultdf.append({'name1': name1,\n",
      "C:\\Users\\Admin\\AppData\\Local\\Temp\\ipykernel_11920\\2923290319.py:133: FutureWarning: The frame.append method is deprecated and will be removed from pandas in a future version. Use pandas.concat instead.\n",
      "  resultdf = resultdf.append({'name1': list1[i].name}, ignore_index=True)\n",
      "C:\\Users\\Admin\\AppData\\Local\\Temp\\ipykernel_11920\\2923290319.py:127: FutureWarning: The frame.append method is deprecated and will be removed from pandas in a future version. Use pandas.concat instead.\n",
      "  resultdf = resultdf.append({'name1': name1,\n",
      "C:\\Users\\Admin\\AppData\\Local\\Temp\\ipykernel_11920\\2923290319.py:133: FutureWarning: The frame.append method is deprecated and will be removed from pandas in a future version. Use pandas.concat instead.\n",
      "  resultdf = resultdf.append({'name1': list1[i].name}, ignore_index=True)\n",
      "C:\\Users\\Admin\\AppData\\Local\\Temp\\ipykernel_11920\\2923290319.py:127: FutureWarning: The frame.append method is deprecated and will be removed from pandas in a future version. Use pandas.concat instead.\n",
      "  resultdf = resultdf.append({'name1': name1,\n",
      "C:\\Users\\Admin\\AppData\\Local\\Temp\\ipykernel_11920\\2923290319.py:127: FutureWarning: The frame.append method is deprecated and will be removed from pandas in a future version. Use pandas.concat instead.\n",
      "  resultdf = resultdf.append({'name1': name1,\n",
      "C:\\Users\\Admin\\AppData\\Local\\Temp\\ipykernel_11920\\2923290319.py:133: FutureWarning: The frame.append method is deprecated and will be removed from pandas in a future version. Use pandas.concat instead.\n",
      "  resultdf = resultdf.append({'name1': list1[i].name}, ignore_index=True)\n",
      "C:\\Users\\Admin\\AppData\\Local\\Temp\\ipykernel_11920\\2923290319.py:127: FutureWarning: The frame.append method is deprecated and will be removed from pandas in a future version. Use pandas.concat instead.\n",
      "  resultdf = resultdf.append({'name1': name1,\n",
      "C:\\Users\\Admin\\AppData\\Local\\Temp\\ipykernel_11920\\2923290319.py:127: FutureWarning: The frame.append method is deprecated and will be removed from pandas in a future version. Use pandas.concat instead.\n",
      "  resultdf = resultdf.append({'name1': name1,\n",
      "C:\\Users\\Admin\\AppData\\Local\\Temp\\ipykernel_11920\\2923290319.py:133: FutureWarning: The frame.append method is deprecated and will be removed from pandas in a future version. Use pandas.concat instead.\n",
      "  resultdf = resultdf.append({'name1': list1[i].name}, ignore_index=True)\n",
      "C:\\Users\\Admin\\AppData\\Local\\Temp\\ipykernel_11920\\2923290319.py:127: FutureWarning: The frame.append method is deprecated and will be removed from pandas in a future version. Use pandas.concat instead.\n",
      "  resultdf = resultdf.append({'name1': name1,\n",
      "C:\\Users\\Admin\\AppData\\Local\\Temp\\ipykernel_11920\\2923290319.py:133: FutureWarning: The frame.append method is deprecated and will be removed from pandas in a future version. Use pandas.concat instead.\n",
      "  resultdf = resultdf.append({'name1': list1[i].name}, ignore_index=True)\n",
      "C:\\Users\\Admin\\AppData\\Local\\Temp\\ipykernel_11920\\2923290319.py:127: FutureWarning: The frame.append method is deprecated and will be removed from pandas in a future version. Use pandas.concat instead.\n",
      "  resultdf = resultdf.append({'name1': name1,\n",
      "C:\\Users\\Admin\\AppData\\Local\\Temp\\ipykernel_11920\\2923290319.py:133: FutureWarning: The frame.append method is deprecated and will be removed from pandas in a future version. Use pandas.concat instead.\n",
      "  resultdf = resultdf.append({'name1': list1[i].name}, ignore_index=True)\n",
      "C:\\Users\\Admin\\AppData\\Local\\Temp\\ipykernel_11920\\2923290319.py:127: FutureWarning: The frame.append method is deprecated and will be removed from pandas in a future version. Use pandas.concat instead.\n",
      "  resultdf = resultdf.append({'name1': name1,\n",
      "C:\\Users\\Admin\\AppData\\Local\\Temp\\ipykernel_11920\\2923290319.py:127: FutureWarning: The frame.append method is deprecated and will be removed from pandas in a future version. Use pandas.concat instead.\n",
      "  resultdf = resultdf.append({'name1': name1,\n",
      "C:\\Users\\Admin\\AppData\\Local\\Temp\\ipykernel_11920\\2923290319.py:133: FutureWarning: The frame.append method is deprecated and will be removed from pandas in a future version. Use pandas.concat instead.\n",
      "  resultdf = resultdf.append({'name1': list1[i].name}, ignore_index=True)\n",
      "C:\\Users\\Admin\\AppData\\Local\\Temp\\ipykernel_11920\\2923290319.py:127: FutureWarning: The frame.append method is deprecated and will be removed from pandas in a future version. Use pandas.concat instead.\n",
      "  resultdf = resultdf.append({'name1': name1,\n",
      "C:\\Users\\Admin\\AppData\\Local\\Temp\\ipykernel_11920\\2923290319.py:127: FutureWarning: The frame.append method is deprecated and will be removed from pandas in a future version. Use pandas.concat instead.\n",
      "  resultdf = resultdf.append({'name1': name1,\n",
      "C:\\Users\\Admin\\AppData\\Local\\Temp\\ipykernel_11920\\2923290319.py:127: FutureWarning: The frame.append method is deprecated and will be removed from pandas in a future version. Use pandas.concat instead.\n",
      "  resultdf = resultdf.append({'name1': name1,\n",
      "C:\\Users\\Admin\\AppData\\Local\\Temp\\ipykernel_11920\\2923290319.py:133: FutureWarning: The frame.append method is deprecated and will be removed from pandas in a future version. Use pandas.concat instead.\n",
      "  resultdf = resultdf.append({'name1': list1[i].name}, ignore_index=True)\n",
      "C:\\Users\\Admin\\AppData\\Local\\Temp\\ipykernel_11920\\2923290319.py:127: FutureWarning: The frame.append method is deprecated and will be removed from pandas in a future version. Use pandas.concat instead.\n",
      "  resultdf = resultdf.append({'name1': name1,\n",
      "C:\\Users\\Admin\\AppData\\Local\\Temp\\ipykernel_11920\\2923290319.py:127: FutureWarning: The frame.append method is deprecated and will be removed from pandas in a future version. Use pandas.concat instead.\n",
      "  resultdf = resultdf.append({'name1': name1,\n",
      "C:\\Users\\Admin\\AppData\\Local\\Temp\\ipykernel_11920\\2923290319.py:127: FutureWarning: The frame.append method is deprecated and will be removed from pandas in a future version. Use pandas.concat instead.\n",
      "  resultdf = resultdf.append({'name1': name1,\n",
      "C:\\Users\\Admin\\AppData\\Local\\Temp\\ipykernel_11920\\2923290319.py:133: FutureWarning: The frame.append method is deprecated and will be removed from pandas in a future version. Use pandas.concat instead.\n",
      "  resultdf = resultdf.append({'name1': list1[i].name}, ignore_index=True)\n",
      "C:\\Users\\Admin\\AppData\\Local\\Temp\\ipykernel_11920\\2923290319.py:127: FutureWarning: The frame.append method is deprecated and will be removed from pandas in a future version. Use pandas.concat instead.\n",
      "  resultdf = resultdf.append({'name1': name1,\n",
      "C:\\Users\\Admin\\AppData\\Local\\Temp\\ipykernel_11920\\2923290319.py:127: FutureWarning: The frame.append method is deprecated and will be removed from pandas in a future version. Use pandas.concat instead.\n",
      "  resultdf = resultdf.append({'name1': name1,\n",
      "C:\\Users\\Admin\\AppData\\Local\\Temp\\ipykernel_11920\\2923290319.py:133: FutureWarning: The frame.append method is deprecated and will be removed from pandas in a future version. Use pandas.concat instead.\n",
      "  resultdf = resultdf.append({'name1': list1[i].name}, ignore_index=True)\n",
      "C:\\Users\\Admin\\AppData\\Local\\Temp\\ipykernel_11920\\2923290319.py:127: FutureWarning: The frame.append method is deprecated and will be removed from pandas in a future version. Use pandas.concat instead.\n",
      "  resultdf = resultdf.append({'name1': name1,\n",
      "C:\\Users\\Admin\\AppData\\Local\\Temp\\ipykernel_11920\\2923290319.py:133: FutureWarning: The frame.append method is deprecated and will be removed from pandas in a future version. Use pandas.concat instead.\n",
      "  resultdf = resultdf.append({'name1': list1[i].name}, ignore_index=True)\n",
      "C:\\Users\\Admin\\AppData\\Local\\Temp\\ipykernel_11920\\2923290319.py:133: FutureWarning: The frame.append method is deprecated and will be removed from pandas in a future version. Use pandas.concat instead.\n",
      "  resultdf = resultdf.append({'name1': list1[i].name}, ignore_index=True)\n",
      "C:\\Users\\Admin\\AppData\\Local\\Temp\\ipykernel_11920\\2923290319.py:127: FutureWarning: The frame.append method is deprecated and will be removed from pandas in a future version. Use pandas.concat instead.\n",
      "  resultdf = resultdf.append({'name1': name1,\n",
      "C:\\Users\\Admin\\AppData\\Local\\Temp\\ipykernel_11920\\2923290319.py:127: FutureWarning: The frame.append method is deprecated and will be removed from pandas in a future version. Use pandas.concat instead.\n",
      "  resultdf = resultdf.append({'name1': name1,\n",
      "C:\\Users\\Admin\\AppData\\Local\\Temp\\ipykernel_11920\\2923290319.py:127: FutureWarning: The frame.append method is deprecated and will be removed from pandas in a future version. Use pandas.concat instead.\n",
      "  resultdf = resultdf.append({'name1': name1,\n",
      "C:\\Users\\Admin\\AppData\\Local\\Temp\\ipykernel_11920\\2923290319.py:127: FutureWarning: The frame.append method is deprecated and will be removed from pandas in a future version. Use pandas.concat instead.\n",
      "  resultdf = resultdf.append({'name1': name1,\n",
      "C:\\Users\\Admin\\AppData\\Local\\Temp\\ipykernel_11920\\2923290319.py:133: FutureWarning: The frame.append method is deprecated and will be removed from pandas in a future version. Use pandas.concat instead.\n",
      "  resultdf = resultdf.append({'name1': list1[i].name}, ignore_index=True)\n",
      "C:\\Users\\Admin\\AppData\\Local\\Temp\\ipykernel_11920\\2923290319.py:127: FutureWarning: The frame.append method is deprecated and will be removed from pandas in a future version. Use pandas.concat instead.\n",
      "  resultdf = resultdf.append({'name1': name1,\n",
      "C:\\Users\\Admin\\AppData\\Local\\Temp\\ipykernel_11920\\2923290319.py:127: FutureWarning: The frame.append method is deprecated and will be removed from pandas in a future version. Use pandas.concat instead.\n",
      "  resultdf = resultdf.append({'name1': name1,\n",
      "C:\\Users\\Admin\\AppData\\Local\\Temp\\ipykernel_11920\\2923290319.py:127: FutureWarning: The frame.append method is deprecated and will be removed from pandas in a future version. Use pandas.concat instead.\n",
      "  resultdf = resultdf.append({'name1': name1,\n",
      "C:\\Users\\Admin\\AppData\\Local\\Temp\\ipykernel_11920\\2923290319.py:133: FutureWarning: The frame.append method is deprecated and will be removed from pandas in a future version. Use pandas.concat instead.\n",
      "  resultdf = resultdf.append({'name1': list1[i].name}, ignore_index=True)\n",
      "C:\\Users\\Admin\\AppData\\Local\\Temp\\ipykernel_11920\\2923290319.py:127: FutureWarning: The frame.append method is deprecated and will be removed from pandas in a future version. Use pandas.concat instead.\n",
      "  resultdf = resultdf.append({'name1': name1,\n",
      "C:\\Users\\Admin\\AppData\\Local\\Temp\\ipykernel_11920\\2923290319.py:133: FutureWarning: The frame.append method is deprecated and will be removed from pandas in a future version. Use pandas.concat instead.\n",
      "  resultdf = resultdf.append({'name1': list1[i].name}, ignore_index=True)\n",
      "C:\\Users\\Admin\\AppData\\Local\\Temp\\ipykernel_11920\\2923290319.py:127: FutureWarning: The frame.append method is deprecated and will be removed from pandas in a future version. Use pandas.concat instead.\n",
      "  resultdf = resultdf.append({'name1': name1,\n",
      "C:\\Users\\Admin\\AppData\\Local\\Temp\\ipykernel_11920\\2923290319.py:133: FutureWarning: The frame.append method is deprecated and will be removed from pandas in a future version. Use pandas.concat instead.\n",
      "  resultdf = resultdf.append({'name1': list1[i].name}, ignore_index=True)\n",
      "C:\\Users\\Admin\\AppData\\Local\\Temp\\ipykernel_11920\\2923290319.py:127: FutureWarning: The frame.append method is deprecated and will be removed from pandas in a future version. Use pandas.concat instead.\n",
      "  resultdf = resultdf.append({'name1': name1,\n",
      "C:\\Users\\Admin\\AppData\\Local\\Temp\\ipykernel_11920\\2923290319.py:133: FutureWarning: The frame.append method is deprecated and will be removed from pandas in a future version. Use pandas.concat instead.\n",
      "  resultdf = resultdf.append({'name1': list1[i].name}, ignore_index=True)\n",
      "C:\\Users\\Admin\\AppData\\Local\\Temp\\ipykernel_11920\\2923290319.py:127: FutureWarning: The frame.append method is deprecated and will be removed from pandas in a future version. Use pandas.concat instead.\n",
      "  resultdf = resultdf.append({'name1': name1,\n",
      "C:\\Users\\Admin\\AppData\\Local\\Temp\\ipykernel_11920\\2923290319.py:127: FutureWarning: The frame.append method is deprecated and will be removed from pandas in a future version. Use pandas.concat instead.\n",
      "  resultdf = resultdf.append({'name1': name1,\n",
      "C:\\Users\\Admin\\AppData\\Local\\Temp\\ipykernel_11920\\2923290319.py:127: FutureWarning: The frame.append method is deprecated and will be removed from pandas in a future version. Use pandas.concat instead.\n",
      "  resultdf = resultdf.append({'name1': name1,\n",
      "C:\\Users\\Admin\\AppData\\Local\\Temp\\ipykernel_11920\\2923290319.py:127: FutureWarning: The frame.append method is deprecated and will be removed from pandas in a future version. Use pandas.concat instead.\n",
      "  resultdf = resultdf.append({'name1': name1,\n",
      "C:\\Users\\Admin\\AppData\\Local\\Temp\\ipykernel_11920\\2923290319.py:133: FutureWarning: The frame.append method is deprecated and will be removed from pandas in a future version. Use pandas.concat instead.\n",
      "  resultdf = resultdf.append({'name1': list1[i].name}, ignore_index=True)\n",
      "C:\\Users\\Admin\\AppData\\Local\\Temp\\ipykernel_11920\\2923290319.py:133: FutureWarning: The frame.append method is deprecated and will be removed from pandas in a future version. Use pandas.concat instead.\n",
      "  resultdf = resultdf.append({'name1': list1[i].name}, ignore_index=True)\n",
      "C:\\Users\\Admin\\AppData\\Local\\Temp\\ipykernel_11920\\2923290319.py:127: FutureWarning: The frame.append method is deprecated and will be removed from pandas in a future version. Use pandas.concat instead.\n",
      "  resultdf = resultdf.append({'name1': name1,\n",
      "C:\\Users\\Admin\\AppData\\Local\\Temp\\ipykernel_11920\\2923290319.py:133: FutureWarning: The frame.append method is deprecated and will be removed from pandas in a future version. Use pandas.concat instead.\n",
      "  resultdf = resultdf.append({'name1': list1[i].name}, ignore_index=True)\n",
      "C:\\Users\\Admin\\AppData\\Local\\Temp\\ipykernel_11920\\2923290319.py:127: FutureWarning: The frame.append method is deprecated and will be removed from pandas in a future version. Use pandas.concat instead.\n",
      "  resultdf = resultdf.append({'name1': name1,\n",
      "C:\\Users\\Admin\\AppData\\Local\\Temp\\ipykernel_11920\\2923290319.py:127: FutureWarning: The frame.append method is deprecated and will be removed from pandas in a future version. Use pandas.concat instead.\n",
      "  resultdf = resultdf.append({'name1': name1,\n",
      "C:\\Users\\Admin\\AppData\\Local\\Temp\\ipykernel_11920\\2923290319.py:127: FutureWarning: The frame.append method is deprecated and will be removed from pandas in a future version. Use pandas.concat instead.\n",
      "  resultdf = resultdf.append({'name1': name1,\n",
      "C:\\Users\\Admin\\AppData\\Local\\Temp\\ipykernel_11920\\2923290319.py:127: FutureWarning: The frame.append method is deprecated and will be removed from pandas in a future version. Use pandas.concat instead.\n",
      "  resultdf = resultdf.append({'name1': name1,\n",
      "C:\\Users\\Admin\\AppData\\Local\\Temp\\ipykernel_11920\\2923290319.py:127: FutureWarning: The frame.append method is deprecated and will be removed from pandas in a future version. Use pandas.concat instead.\n",
      "  resultdf = resultdf.append({'name1': name1,\n",
      "C:\\Users\\Admin\\AppData\\Local\\Temp\\ipykernel_11920\\2923290319.py:127: FutureWarning: The frame.append method is deprecated and will be removed from pandas in a future version. Use pandas.concat instead.\n",
      "  resultdf = resultdf.append({'name1': name1,\n",
      "C:\\Users\\Admin\\AppData\\Local\\Temp\\ipykernel_11920\\2923290319.py:127: FutureWarning: The frame.append method is deprecated and will be removed from pandas in a future version. Use pandas.concat instead.\n",
      "  resultdf = resultdf.append({'name1': name1,\n",
      "C:\\Users\\Admin\\AppData\\Local\\Temp\\ipykernel_11920\\2923290319.py:133: FutureWarning: The frame.append method is deprecated and will be removed from pandas in a future version. Use pandas.concat instead.\n",
      "  resultdf = resultdf.append({'name1': list1[i].name}, ignore_index=True)\n",
      "C:\\Users\\Admin\\AppData\\Local\\Temp\\ipykernel_11920\\2923290319.py:127: FutureWarning: The frame.append method is deprecated and will be removed from pandas in a future version. Use pandas.concat instead.\n",
      "  resultdf = resultdf.append({'name1': name1,\n",
      "C:\\Users\\Admin\\AppData\\Local\\Temp\\ipykernel_11920\\2923290319.py:127: FutureWarning: The frame.append method is deprecated and will be removed from pandas in a future version. Use pandas.concat instead.\n",
      "  resultdf = resultdf.append({'name1': name1,\n",
      "C:\\Users\\Admin\\AppData\\Local\\Temp\\ipykernel_11920\\2923290319.py:127: FutureWarning: The frame.append method is deprecated and will be removed from pandas in a future version. Use pandas.concat instead.\n",
      "  resultdf = resultdf.append({'name1': name1,\n",
      "C:\\Users\\Admin\\AppData\\Local\\Temp\\ipykernel_11920\\2923290319.py:133: FutureWarning: The frame.append method is deprecated and will be removed from pandas in a future version. Use pandas.concat instead.\n",
      "  resultdf = resultdf.append({'name1': list1[i].name}, ignore_index=True)\n",
      "C:\\Users\\Admin\\AppData\\Local\\Temp\\ipykernel_11920\\2923290319.py:127: FutureWarning: The frame.append method is deprecated and will be removed from pandas in a future version. Use pandas.concat instead.\n",
      "  resultdf = resultdf.append({'name1': name1,\n",
      "C:\\Users\\Admin\\AppData\\Local\\Temp\\ipykernel_11920\\2923290319.py:127: FutureWarning: The frame.append method is deprecated and will be removed from pandas in a future version. Use pandas.concat instead.\n",
      "  resultdf = resultdf.append({'name1': name1,\n",
      "C:\\Users\\Admin\\AppData\\Local\\Temp\\ipykernel_11920\\2923290319.py:127: FutureWarning: The frame.append method is deprecated and will be removed from pandas in a future version. Use pandas.concat instead.\n",
      "  resultdf = resultdf.append({'name1': name1,\n",
      "C:\\Users\\Admin\\AppData\\Local\\Temp\\ipykernel_11920\\2923290319.py:133: FutureWarning: The frame.append method is deprecated and will be removed from pandas in a future version. Use pandas.concat instead.\n",
      "  resultdf = resultdf.append({'name1': list1[i].name}, ignore_index=True)\n",
      "C:\\Users\\Admin\\AppData\\Local\\Temp\\ipykernel_11920\\2923290319.py:127: FutureWarning: The frame.append method is deprecated and will be removed from pandas in a future version. Use pandas.concat instead.\n",
      "  resultdf = resultdf.append({'name1': name1,\n",
      "C:\\Users\\Admin\\AppData\\Local\\Temp\\ipykernel_11920\\2923290319.py:127: FutureWarning: The frame.append method is deprecated and will be removed from pandas in a future version. Use pandas.concat instead.\n",
      "  resultdf = resultdf.append({'name1': name1,\n",
      "C:\\Users\\Admin\\AppData\\Local\\Temp\\ipykernel_11920\\2923290319.py:127: FutureWarning: The frame.append method is deprecated and will be removed from pandas in a future version. Use pandas.concat instead.\n",
      "  resultdf = resultdf.append({'name1': name1,\n",
      "C:\\Users\\Admin\\AppData\\Local\\Temp\\ipykernel_11920\\2923290319.py:133: FutureWarning: The frame.append method is deprecated and will be removed from pandas in a future version. Use pandas.concat instead.\n",
      "  resultdf = resultdf.append({'name1': list1[i].name}, ignore_index=True)\n",
      "C:\\Users\\Admin\\AppData\\Local\\Temp\\ipykernel_11920\\2923290319.py:127: FutureWarning: The frame.append method is deprecated and will be removed from pandas in a future version. Use pandas.concat instead.\n",
      "  resultdf = resultdf.append({'name1': name1,\n",
      "C:\\Users\\Admin\\AppData\\Local\\Temp\\ipykernel_11920\\2923290319.py:133: FutureWarning: The frame.append method is deprecated and will be removed from pandas in a future version. Use pandas.concat instead.\n",
      "  resultdf = resultdf.append({'name1': list1[i].name}, ignore_index=True)\n",
      "C:\\Users\\Admin\\AppData\\Local\\Temp\\ipykernel_11920\\2923290319.py:127: FutureWarning: The frame.append method is deprecated and will be removed from pandas in a future version. Use pandas.concat instead.\n",
      "  resultdf = resultdf.append({'name1': name1,\n",
      "C:\\Users\\Admin\\AppData\\Local\\Temp\\ipykernel_11920\\2923290319.py:127: FutureWarning: The frame.append method is deprecated and will be removed from pandas in a future version. Use pandas.concat instead.\n",
      "  resultdf = resultdf.append({'name1': name1,\n",
      "C:\\Users\\Admin\\AppData\\Local\\Temp\\ipykernel_11920\\2923290319.py:127: FutureWarning: The frame.append method is deprecated and will be removed from pandas in a future version. Use pandas.concat instead.\n",
      "  resultdf = resultdf.append({'name1': name1,\n",
      "C:\\Users\\Admin\\AppData\\Local\\Temp\\ipykernel_11920\\2923290319.py:127: FutureWarning: The frame.append method is deprecated and will be removed from pandas in a future version. Use pandas.concat instead.\n",
      "  resultdf = resultdf.append({'name1': name1,\n",
      "C:\\Users\\Admin\\AppData\\Local\\Temp\\ipykernel_11920\\2923290319.py:127: FutureWarning: The frame.append method is deprecated and will be removed from pandas in a future version. Use pandas.concat instead.\n",
      "  resultdf = resultdf.append({'name1': name1,\n",
      "C:\\Users\\Admin\\AppData\\Local\\Temp\\ipykernel_11920\\2923290319.py:133: FutureWarning: The frame.append method is deprecated and will be removed from pandas in a future version. Use pandas.concat instead.\n",
      "  resultdf = resultdf.append({'name1': list1[i].name}, ignore_index=True)\n",
      "C:\\Users\\Admin\\AppData\\Local\\Temp\\ipykernel_11920\\2923290319.py:127: FutureWarning: The frame.append method is deprecated and will be removed from pandas in a future version. Use pandas.concat instead.\n",
      "  resultdf = resultdf.append({'name1': name1,\n",
      "C:\\Users\\Admin\\AppData\\Local\\Temp\\ipykernel_11920\\2923290319.py:127: FutureWarning: The frame.append method is deprecated and will be removed from pandas in a future version. Use pandas.concat instead.\n",
      "  resultdf = resultdf.append({'name1': name1,\n",
      "C:\\Users\\Admin\\AppData\\Local\\Temp\\ipykernel_11920\\2923290319.py:127: FutureWarning: The frame.append method is deprecated and will be removed from pandas in a future version. Use pandas.concat instead.\n",
      "  resultdf = resultdf.append({'name1': name1,\n",
      "C:\\Users\\Admin\\AppData\\Local\\Temp\\ipykernel_11920\\2923290319.py:127: FutureWarning: The frame.append method is deprecated and will be removed from pandas in a future version. Use pandas.concat instead.\n",
      "  resultdf = resultdf.append({'name1': name1,\n",
      "C:\\Users\\Admin\\AppData\\Local\\Temp\\ipykernel_11920\\2923290319.py:127: FutureWarning: The frame.append method is deprecated and will be removed from pandas in a future version. Use pandas.concat instead.\n",
      "  resultdf = resultdf.append({'name1': name1,\n",
      "C:\\Users\\Admin\\AppData\\Local\\Temp\\ipykernel_11920\\2923290319.py:133: FutureWarning: The frame.append method is deprecated and will be removed from pandas in a future version. Use pandas.concat instead.\n",
      "  resultdf = resultdf.append({'name1': list1[i].name}, ignore_index=True)\n",
      "C:\\Users\\Admin\\AppData\\Local\\Temp\\ipykernel_11920\\2923290319.py:133: FutureWarning: The frame.append method is deprecated and will be removed from pandas in a future version. Use pandas.concat instead.\n",
      "  resultdf = resultdf.append({'name1': list1[i].name}, ignore_index=True)\n",
      "C:\\Users\\Admin\\AppData\\Local\\Temp\\ipykernel_11920\\2923290319.py:133: FutureWarning: The frame.append method is deprecated and will be removed from pandas in a future version. Use pandas.concat instead.\n",
      "  resultdf = resultdf.append({'name1': list1[i].name}, ignore_index=True)\n",
      "C:\\Users\\Admin\\AppData\\Local\\Temp\\ipykernel_11920\\2923290319.py:133: FutureWarning: The frame.append method is deprecated and will be removed from pandas in a future version. Use pandas.concat instead.\n",
      "  resultdf = resultdf.append({'name1': list1[i].name}, ignore_index=True)\n",
      "C:\\Users\\Admin\\AppData\\Local\\Temp\\ipykernel_11920\\2923290319.py:133: FutureWarning: The frame.append method is deprecated and will be removed from pandas in a future version. Use pandas.concat instead.\n",
      "  resultdf = resultdf.append({'name1': list1[i].name}, ignore_index=True)\n",
      "C:\\Users\\Admin\\AppData\\Local\\Temp\\ipykernel_11920\\2923290319.py:133: FutureWarning: The frame.append method is deprecated and will be removed from pandas in a future version. Use pandas.concat instead.\n",
      "  resultdf = resultdf.append({'name1': list1[i].name}, ignore_index=True)\n",
      "C:\\Users\\Admin\\AppData\\Local\\Temp\\ipykernel_11920\\2923290319.py:127: FutureWarning: The frame.append method is deprecated and will be removed from pandas in a future version. Use pandas.concat instead.\n",
      "  resultdf = resultdf.append({'name1': name1,\n",
      "C:\\Users\\Admin\\AppData\\Local\\Temp\\ipykernel_11920\\2923290319.py:127: FutureWarning: The frame.append method is deprecated and will be removed from pandas in a future version. Use pandas.concat instead.\n",
      "  resultdf = resultdf.append({'name1': name1,\n",
      "C:\\Users\\Admin\\AppData\\Local\\Temp\\ipykernel_11920\\2923290319.py:127: FutureWarning: The frame.append method is deprecated and will be removed from pandas in a future version. Use pandas.concat instead.\n",
      "  resultdf = resultdf.append({'name1': name1,\n",
      "C:\\Users\\Admin\\AppData\\Local\\Temp\\ipykernel_11920\\2923290319.py:127: FutureWarning: The frame.append method is deprecated and will be removed from pandas in a future version. Use pandas.concat instead.\n",
      "  resultdf = resultdf.append({'name1': name1,\n",
      "C:\\Users\\Admin\\AppData\\Local\\Temp\\ipykernel_11920\\2923290319.py:133: FutureWarning: The frame.append method is deprecated and will be removed from pandas in a future version. Use pandas.concat instead.\n",
      "  resultdf = resultdf.append({'name1': list1[i].name}, ignore_index=True)\n",
      "C:\\Users\\Admin\\AppData\\Local\\Temp\\ipykernel_11920\\2923290319.py:133: FutureWarning: The frame.append method is deprecated and will be removed from pandas in a future version. Use pandas.concat instead.\n",
      "  resultdf = resultdf.append({'name1': list1[i].name}, ignore_index=True)\n",
      "C:\\Users\\Admin\\AppData\\Local\\Temp\\ipykernel_11920\\2923290319.py:133: FutureWarning: The frame.append method is deprecated and will be removed from pandas in a future version. Use pandas.concat instead.\n",
      "  resultdf = resultdf.append({'name1': list1[i].name}, ignore_index=True)\n",
      "C:\\Users\\Admin\\AppData\\Local\\Temp\\ipykernel_11920\\2923290319.py:127: FutureWarning: The frame.append method is deprecated and will be removed from pandas in a future version. Use pandas.concat instead.\n",
      "  resultdf = resultdf.append({'name1': name1,\n",
      "C:\\Users\\Admin\\AppData\\Local\\Temp\\ipykernel_11920\\2923290319.py:127: FutureWarning: The frame.append method is deprecated and will be removed from pandas in a future version. Use pandas.concat instead.\n",
      "  resultdf = resultdf.append({'name1': name1,\n",
      "C:\\Users\\Admin\\AppData\\Local\\Temp\\ipykernel_11920\\2923290319.py:133: FutureWarning: The frame.append method is deprecated and will be removed from pandas in a future version. Use pandas.concat instead.\n",
      "  resultdf = resultdf.append({'name1': list1[i].name}, ignore_index=True)\n",
      "C:\\Users\\Admin\\AppData\\Local\\Temp\\ipykernel_11920\\2923290319.py:127: FutureWarning: The frame.append method is deprecated and will be removed from pandas in a future version. Use pandas.concat instead.\n",
      "  resultdf = resultdf.append({'name1': name1,\n",
      "C:\\Users\\Admin\\AppData\\Local\\Temp\\ipykernel_11920\\2923290319.py:133: FutureWarning: The frame.append method is deprecated and will be removed from pandas in a future version. Use pandas.concat instead.\n",
      "  resultdf = resultdf.append({'name1': list1[i].name}, ignore_index=True)\n",
      "C:\\Users\\Admin\\AppData\\Local\\Temp\\ipykernel_11920\\2923290319.py:127: FutureWarning: The frame.append method is deprecated and will be removed from pandas in a future version. Use pandas.concat instead.\n",
      "  resultdf = resultdf.append({'name1': name1,\n",
      "C:\\Users\\Admin\\AppData\\Local\\Temp\\ipykernel_11920\\2923290319.py:133: FutureWarning: The frame.append method is deprecated and will be removed from pandas in a future version. Use pandas.concat instead.\n",
      "  resultdf = resultdf.append({'name1': list1[i].name}, ignore_index=True)\n",
      "C:\\Users\\Admin\\AppData\\Local\\Temp\\ipykernel_11920\\2923290319.py:127: FutureWarning: The frame.append method is deprecated and will be removed from pandas in a future version. Use pandas.concat instead.\n",
      "  resultdf = resultdf.append({'name1': name1,\n",
      "C:\\Users\\Admin\\AppData\\Local\\Temp\\ipykernel_11920\\2923290319.py:133: FutureWarning: The frame.append method is deprecated and will be removed from pandas in a future version. Use pandas.concat instead.\n",
      "  resultdf = resultdf.append({'name1': list1[i].name}, ignore_index=True)\n",
      "C:\\Users\\Admin\\AppData\\Local\\Temp\\ipykernel_11920\\2923290319.py:133: FutureWarning: The frame.append method is deprecated and will be removed from pandas in a future version. Use pandas.concat instead.\n",
      "  resultdf = resultdf.append({'name1': list1[i].name}, ignore_index=True)\n",
      "C:\\Users\\Admin\\AppData\\Local\\Temp\\ipykernel_11920\\2923290319.py:133: FutureWarning: The frame.append method is deprecated and will be removed from pandas in a future version. Use pandas.concat instead.\n",
      "  resultdf = resultdf.append({'name1': list1[i].name}, ignore_index=True)\n",
      "C:\\Users\\Admin\\AppData\\Local\\Temp\\ipykernel_11920\\2923290319.py:127: FutureWarning: The frame.append method is deprecated and will be removed from pandas in a future version. Use pandas.concat instead.\n",
      "  resultdf = resultdf.append({'name1': name1,\n",
      "C:\\Users\\Admin\\AppData\\Local\\Temp\\ipykernel_11920\\2923290319.py:133: FutureWarning: The frame.append method is deprecated and will be removed from pandas in a future version. Use pandas.concat instead.\n",
      "  resultdf = resultdf.append({'name1': list1[i].name}, ignore_index=True)\n",
      "C:\\Users\\Admin\\AppData\\Local\\Temp\\ipykernel_11920\\2923290319.py:127: FutureWarning: The frame.append method is deprecated and will be removed from pandas in a future version. Use pandas.concat instead.\n",
      "  resultdf = resultdf.append({'name1': name1,\n",
      "C:\\Users\\Admin\\AppData\\Local\\Temp\\ipykernel_11920\\2923290319.py:133: FutureWarning: The frame.append method is deprecated and will be removed from pandas in a future version. Use pandas.concat instead.\n",
      "  resultdf = resultdf.append({'name1': list1[i].name}, ignore_index=True)\n",
      "C:\\Users\\Admin\\AppData\\Local\\Temp\\ipykernel_11920\\2923290319.py:127: FutureWarning: The frame.append method is deprecated and will be removed from pandas in a future version. Use pandas.concat instead.\n",
      "  resultdf = resultdf.append({'name1': name1,\n",
      "C:\\Users\\Admin\\AppData\\Local\\Temp\\ipykernel_11920\\2923290319.py:127: FutureWarning: The frame.append method is deprecated and will be removed from pandas in a future version. Use pandas.concat instead.\n",
      "  resultdf = resultdf.append({'name1': name1,\n",
      "C:\\Users\\Admin\\AppData\\Local\\Temp\\ipykernel_11920\\2923290319.py:133: FutureWarning: The frame.append method is deprecated and will be removed from pandas in a future version. Use pandas.concat instead.\n",
      "  resultdf = resultdf.append({'name1': list1[i].name}, ignore_index=True)\n",
      "C:\\Users\\Admin\\AppData\\Local\\Temp\\ipykernel_11920\\2923290319.py:127: FutureWarning: The frame.append method is deprecated and will be removed from pandas in a future version. Use pandas.concat instead.\n",
      "  resultdf = resultdf.append({'name1': name1,\n",
      "C:\\Users\\Admin\\AppData\\Local\\Temp\\ipykernel_11920\\2923290319.py:127: FutureWarning: The frame.append method is deprecated and will be removed from pandas in a future version. Use pandas.concat instead.\n",
      "  resultdf = resultdf.append({'name1': name1,\n",
      "C:\\Users\\Admin\\AppData\\Local\\Temp\\ipykernel_11920\\2923290319.py:133: FutureWarning: The frame.append method is deprecated and will be removed from pandas in a future version. Use pandas.concat instead.\n",
      "  resultdf = resultdf.append({'name1': list1[i].name}, ignore_index=True)\n",
      "C:\\Users\\Admin\\AppData\\Local\\Temp\\ipykernel_11920\\2923290319.py:127: FutureWarning: The frame.append method is deprecated and will be removed from pandas in a future version. Use pandas.concat instead.\n",
      "  resultdf = resultdf.append({'name1': name1,\n",
      "C:\\Users\\Admin\\AppData\\Local\\Temp\\ipykernel_11920\\2923290319.py:133: FutureWarning: The frame.append method is deprecated and will be removed from pandas in a future version. Use pandas.concat instead.\n",
      "  resultdf = resultdf.append({'name1': list1[i].name}, ignore_index=True)\n",
      "C:\\Users\\Admin\\AppData\\Local\\Temp\\ipykernel_11920\\2923290319.py:127: FutureWarning: The frame.append method is deprecated and will be removed from pandas in a future version. Use pandas.concat instead.\n",
      "  resultdf = resultdf.append({'name1': name1,\n",
      "C:\\Users\\Admin\\AppData\\Local\\Temp\\ipykernel_11920\\2923290319.py:133: FutureWarning: The frame.append method is deprecated and will be removed from pandas in a future version. Use pandas.concat instead.\n",
      "  resultdf = resultdf.append({'name1': list1[i].name}, ignore_index=True)\n",
      "C:\\Users\\Admin\\AppData\\Local\\Temp\\ipykernel_11920\\2923290319.py:127: FutureWarning: The frame.append method is deprecated and will be removed from pandas in a future version. Use pandas.concat instead.\n",
      "  resultdf = resultdf.append({'name1': name1,\n",
      "C:\\Users\\Admin\\AppData\\Local\\Temp\\ipykernel_11920\\2923290319.py:133: FutureWarning: The frame.append method is deprecated and will be removed from pandas in a future version. Use pandas.concat instead.\n",
      "  resultdf = resultdf.append({'name1': list1[i].name}, ignore_index=True)\n",
      "C:\\Users\\Admin\\AppData\\Local\\Temp\\ipykernel_11920\\2923290319.py:127: FutureWarning: The frame.append method is deprecated and will be removed from pandas in a future version. Use pandas.concat instead.\n",
      "  resultdf = resultdf.append({'name1': name1,\n",
      "C:\\Users\\Admin\\AppData\\Local\\Temp\\ipykernel_11920\\2923290319.py:133: FutureWarning: The frame.append method is deprecated and will be removed from pandas in a future version. Use pandas.concat instead.\n",
      "  resultdf = resultdf.append({'name1': list1[i].name}, ignore_index=True)\n",
      "C:\\Users\\Admin\\AppData\\Local\\Temp\\ipykernel_11920\\2923290319.py:127: FutureWarning: The frame.append method is deprecated and will be removed from pandas in a future version. Use pandas.concat instead.\n",
      "  resultdf = resultdf.append({'name1': name1,\n",
      "C:\\Users\\Admin\\AppData\\Local\\Temp\\ipykernel_11920\\2923290319.py:127: FutureWarning: The frame.append method is deprecated and will be removed from pandas in a future version. Use pandas.concat instead.\n",
      "  resultdf = resultdf.append({'name1': name1,\n",
      "C:\\Users\\Admin\\AppData\\Local\\Temp\\ipykernel_11920\\2923290319.py:127: FutureWarning: The frame.append method is deprecated and will be removed from pandas in a future version. Use pandas.concat instead.\n",
      "  resultdf = resultdf.append({'name1': name1,\n",
      "C:\\Users\\Admin\\AppData\\Local\\Temp\\ipykernel_11920\\2923290319.py:127: FutureWarning: The frame.append method is deprecated and will be removed from pandas in a future version. Use pandas.concat instead.\n",
      "  resultdf = resultdf.append({'name1': name1,\n",
      "C:\\Users\\Admin\\AppData\\Local\\Temp\\ipykernel_11920\\2923290319.py:127: FutureWarning: The frame.append method is deprecated and will be removed from pandas in a future version. Use pandas.concat instead.\n",
      "  resultdf = resultdf.append({'name1': name1,\n",
      "C:\\Users\\Admin\\AppData\\Local\\Temp\\ipykernel_11920\\2923290319.py:133: FutureWarning: The frame.append method is deprecated and will be removed from pandas in a future version. Use pandas.concat instead.\n",
      "  resultdf = resultdf.append({'name1': list1[i].name}, ignore_index=True)\n",
      "C:\\Users\\Admin\\AppData\\Local\\Temp\\ipykernel_11920\\2923290319.py:127: FutureWarning: The frame.append method is deprecated and will be removed from pandas in a future version. Use pandas.concat instead.\n",
      "  resultdf = resultdf.append({'name1': name1,\n",
      "C:\\Users\\Admin\\AppData\\Local\\Temp\\ipykernel_11920\\2923290319.py:133: FutureWarning: The frame.append method is deprecated and will be removed from pandas in a future version. Use pandas.concat instead.\n",
      "  resultdf = resultdf.append({'name1': list1[i].name}, ignore_index=True)\n",
      "C:\\Users\\Admin\\AppData\\Local\\Temp\\ipykernel_11920\\2923290319.py:127: FutureWarning: The frame.append method is deprecated and will be removed from pandas in a future version. Use pandas.concat instead.\n",
      "  resultdf = resultdf.append({'name1': name1,\n",
      "C:\\Users\\Admin\\AppData\\Local\\Temp\\ipykernel_11920\\2923290319.py:127: FutureWarning: The frame.append method is deprecated and will be removed from pandas in a future version. Use pandas.concat instead.\n",
      "  resultdf = resultdf.append({'name1': name1,\n",
      "C:\\Users\\Admin\\AppData\\Local\\Temp\\ipykernel_11920\\2923290319.py:133: FutureWarning: The frame.append method is deprecated and will be removed from pandas in a future version. Use pandas.concat instead.\n",
      "  resultdf = resultdf.append({'name1': list1[i].name}, ignore_index=True)\n",
      "C:\\Users\\Admin\\AppData\\Local\\Temp\\ipykernel_11920\\2923290319.py:127: FutureWarning: The frame.append method is deprecated and will be removed from pandas in a future version. Use pandas.concat instead.\n",
      "  resultdf = resultdf.append({'name1': name1,\n",
      "C:\\Users\\Admin\\AppData\\Local\\Temp\\ipykernel_11920\\2923290319.py:133: FutureWarning: The frame.append method is deprecated and will be removed from pandas in a future version. Use pandas.concat instead.\n",
      "  resultdf = resultdf.append({'name1': list1[i].name}, ignore_index=True)\n",
      "C:\\Users\\Admin\\AppData\\Local\\Temp\\ipykernel_11920\\2923290319.py:127: FutureWarning: The frame.append method is deprecated and will be removed from pandas in a future version. Use pandas.concat instead.\n",
      "  resultdf = resultdf.append({'name1': name1,\n",
      "C:\\Users\\Admin\\AppData\\Local\\Temp\\ipykernel_11920\\2923290319.py:133: FutureWarning: The frame.append method is deprecated and will be removed from pandas in a future version. Use pandas.concat instead.\n",
      "  resultdf = resultdf.append({'name1': list1[i].name}, ignore_index=True)\n",
      "C:\\Users\\Admin\\AppData\\Local\\Temp\\ipykernel_11920\\2923290319.py:127: FutureWarning: The frame.append method is deprecated and will be removed from pandas in a future version. Use pandas.concat instead.\n",
      "  resultdf = resultdf.append({'name1': name1,\n",
      "C:\\Users\\Admin\\AppData\\Local\\Temp\\ipykernel_11920\\2923290319.py:133: FutureWarning: The frame.append method is deprecated and will be removed from pandas in a future version. Use pandas.concat instead.\n",
      "  resultdf = resultdf.append({'name1': list1[i].name}, ignore_index=True)\n",
      "C:\\Users\\Admin\\AppData\\Local\\Temp\\ipykernel_11920\\2923290319.py:127: FutureWarning: The frame.append method is deprecated and will be removed from pandas in a future version. Use pandas.concat instead.\n",
      "  resultdf = resultdf.append({'name1': name1,\n",
      "C:\\Users\\Admin\\AppData\\Local\\Temp\\ipykernel_11920\\2923290319.py:133: FutureWarning: The frame.append method is deprecated and will be removed from pandas in a future version. Use pandas.concat instead.\n",
      "  resultdf = resultdf.append({'name1': list1[i].name}, ignore_index=True)\n",
      "C:\\Users\\Admin\\AppData\\Local\\Temp\\ipykernel_11920\\2923290319.py:127: FutureWarning: The frame.append method is deprecated and will be removed from pandas in a future version. Use pandas.concat instead.\n",
      "  resultdf = resultdf.append({'name1': name1,\n",
      "C:\\Users\\Admin\\AppData\\Local\\Temp\\ipykernel_11920\\2923290319.py:133: FutureWarning: The frame.append method is deprecated and will be removed from pandas in a future version. Use pandas.concat instead.\n",
      "  resultdf = resultdf.append({'name1': list1[i].name}, ignore_index=True)\n",
      "C:\\Users\\Admin\\AppData\\Local\\Temp\\ipykernel_11920\\2923290319.py:127: FutureWarning: The frame.append method is deprecated and will be removed from pandas in a future version. Use pandas.concat instead.\n",
      "  resultdf = resultdf.append({'name1': name1,\n",
      "C:\\Users\\Admin\\AppData\\Local\\Temp\\ipykernel_11920\\2923290319.py:127: FutureWarning: The frame.append method is deprecated and will be removed from pandas in a future version. Use pandas.concat instead.\n",
      "  resultdf = resultdf.append({'name1': name1,\n",
      "C:\\Users\\Admin\\AppData\\Local\\Temp\\ipykernel_11920\\2923290319.py:127: FutureWarning: The frame.append method is deprecated and will be removed from pandas in a future version. Use pandas.concat instead.\n",
      "  resultdf = resultdf.append({'name1': name1,\n",
      "C:\\Users\\Admin\\AppData\\Local\\Temp\\ipykernel_11920\\2923290319.py:127: FutureWarning: The frame.append method is deprecated and will be removed from pandas in a future version. Use pandas.concat instead.\n",
      "  resultdf = resultdf.append({'name1': name1,\n",
      "C:\\Users\\Admin\\AppData\\Local\\Temp\\ipykernel_11920\\2923290319.py:133: FutureWarning: The frame.append method is deprecated and will be removed from pandas in a future version. Use pandas.concat instead.\n",
      "  resultdf = resultdf.append({'name1': list1[i].name}, ignore_index=True)\n",
      "C:\\Users\\Admin\\AppData\\Local\\Temp\\ipykernel_11920\\2923290319.py:127: FutureWarning: The frame.append method is deprecated and will be removed from pandas in a future version. Use pandas.concat instead.\n",
      "  resultdf = resultdf.append({'name1': name1,\n",
      "C:\\Users\\Admin\\AppData\\Local\\Temp\\ipykernel_11920\\2923290319.py:127: FutureWarning: The frame.append method is deprecated and will be removed from pandas in a future version. Use pandas.concat instead.\n",
      "  resultdf = resultdf.append({'name1': name1,\n",
      "C:\\Users\\Admin\\AppData\\Local\\Temp\\ipykernel_11920\\2923290319.py:133: FutureWarning: The frame.append method is deprecated and will be removed from pandas in a future version. Use pandas.concat instead.\n",
      "  resultdf = resultdf.append({'name1': list1[i].name}, ignore_index=True)\n",
      "C:\\Users\\Admin\\AppData\\Local\\Temp\\ipykernel_11920\\2923290319.py:127: FutureWarning: The frame.append method is deprecated and will be removed from pandas in a future version. Use pandas.concat instead.\n",
      "  resultdf = resultdf.append({'name1': name1,\n",
      "C:\\Users\\Admin\\AppData\\Local\\Temp\\ipykernel_11920\\2923290319.py:133: FutureWarning: The frame.append method is deprecated and will be removed from pandas in a future version. Use pandas.concat instead.\n",
      "  resultdf = resultdf.append({'name1': list1[i].name}, ignore_index=True)\n",
      "C:\\Users\\Admin\\AppData\\Local\\Temp\\ipykernel_11920\\2923290319.py:127: FutureWarning: The frame.append method is deprecated and will be removed from pandas in a future version. Use pandas.concat instead.\n",
      "  resultdf = resultdf.append({'name1': name1,\n",
      "C:\\Users\\Admin\\AppData\\Local\\Temp\\ipykernel_11920\\2923290319.py:127: FutureWarning: The frame.append method is deprecated and will be removed from pandas in a future version. Use pandas.concat instead.\n",
      "  resultdf = resultdf.append({'name1': name1,\n",
      "C:\\Users\\Admin\\AppData\\Local\\Temp\\ipykernel_11920\\2923290319.py:133: FutureWarning: The frame.append method is deprecated and will be removed from pandas in a future version. Use pandas.concat instead.\n",
      "  resultdf = resultdf.append({'name1': list1[i].name}, ignore_index=True)\n",
      "C:\\Users\\Admin\\AppData\\Local\\Temp\\ipykernel_11920\\2923290319.py:127: FutureWarning: The frame.append method is deprecated and will be removed from pandas in a future version. Use pandas.concat instead.\n",
      "  resultdf = resultdf.append({'name1': name1,\n",
      "C:\\Users\\Admin\\AppData\\Local\\Temp\\ipykernel_11920\\2923290319.py:127: FutureWarning: The frame.append method is deprecated and will be removed from pandas in a future version. Use pandas.concat instead.\n",
      "  resultdf = resultdf.append({'name1': name1,\n",
      "C:\\Users\\Admin\\AppData\\Local\\Temp\\ipykernel_11920\\2923290319.py:127: FutureWarning: The frame.append method is deprecated and will be removed from pandas in a future version. Use pandas.concat instead.\n",
      "  resultdf = resultdf.append({'name1': name1,\n",
      "C:\\Users\\Admin\\AppData\\Local\\Temp\\ipykernel_11920\\2923290319.py:133: FutureWarning: The frame.append method is deprecated and will be removed from pandas in a future version. Use pandas.concat instead.\n",
      "  resultdf = resultdf.append({'name1': list1[i].name}, ignore_index=True)\n",
      "C:\\Users\\Admin\\AppData\\Local\\Temp\\ipykernel_11920\\2923290319.py:127: FutureWarning: The frame.append method is deprecated and will be removed from pandas in a future version. Use pandas.concat instead.\n",
      "  resultdf = resultdf.append({'name1': name1,\n",
      "C:\\Users\\Admin\\AppData\\Local\\Temp\\ipykernel_11920\\2923290319.py:127: FutureWarning: The frame.append method is deprecated and will be removed from pandas in a future version. Use pandas.concat instead.\n",
      "  resultdf = resultdf.append({'name1': name1,\n",
      "C:\\Users\\Admin\\AppData\\Local\\Temp\\ipykernel_11920\\2923290319.py:133: FutureWarning: The frame.append method is deprecated and will be removed from pandas in a future version. Use pandas.concat instead.\n",
      "  resultdf = resultdf.append({'name1': list1[i].name}, ignore_index=True)\n",
      "C:\\Users\\Admin\\AppData\\Local\\Temp\\ipykernel_11920\\2923290319.py:133: FutureWarning: The frame.append method is deprecated and will be removed from pandas in a future version. Use pandas.concat instead.\n",
      "  resultdf = resultdf.append({'name1': list1[i].name}, ignore_index=True)\n",
      "C:\\Users\\Admin\\AppData\\Local\\Temp\\ipykernel_11920\\2923290319.py:133: FutureWarning: The frame.append method is deprecated and will be removed from pandas in a future version. Use pandas.concat instead.\n",
      "  resultdf = resultdf.append({'name1': list1[i].name}, ignore_index=True)\n",
      "C:\\Users\\Admin\\AppData\\Local\\Temp\\ipykernel_11920\\2923290319.py:127: FutureWarning: The frame.append method is deprecated and will be removed from pandas in a future version. Use pandas.concat instead.\n",
      "  resultdf = resultdf.append({'name1': name1,\n",
      "C:\\Users\\Admin\\AppData\\Local\\Temp\\ipykernel_11920\\2923290319.py:133: FutureWarning: The frame.append method is deprecated and will be removed from pandas in a future version. Use pandas.concat instead.\n",
      "  resultdf = resultdf.append({'name1': list1[i].name}, ignore_index=True)\n",
      "C:\\Users\\Admin\\AppData\\Local\\Temp\\ipykernel_11920\\2923290319.py:127: FutureWarning: The frame.append method is deprecated and will be removed from pandas in a future version. Use pandas.concat instead.\n",
      "  resultdf = resultdf.append({'name1': name1,\n",
      "C:\\Users\\Admin\\AppData\\Local\\Temp\\ipykernel_11920\\2923290319.py:133: FutureWarning: The frame.append method is deprecated and will be removed from pandas in a future version. Use pandas.concat instead.\n",
      "  resultdf = resultdf.append({'name1': list1[i].name}, ignore_index=True)\n",
      "C:\\Users\\Admin\\AppData\\Local\\Temp\\ipykernel_11920\\2923290319.py:133: FutureWarning: The frame.append method is deprecated and will be removed from pandas in a future version. Use pandas.concat instead.\n",
      "  resultdf = resultdf.append({'name1': list1[i].name}, ignore_index=True)\n",
      "C:\\Users\\Admin\\AppData\\Local\\Temp\\ipykernel_11920\\2923290319.py:127: FutureWarning: The frame.append method is deprecated and will be removed from pandas in a future version. Use pandas.concat instead.\n",
      "  resultdf = resultdf.append({'name1': name1,\n",
      "C:\\Users\\Admin\\AppData\\Local\\Temp\\ipykernel_11920\\2923290319.py:133: FutureWarning: The frame.append method is deprecated and will be removed from pandas in a future version. Use pandas.concat instead.\n",
      "  resultdf = resultdf.append({'name1': list1[i].name}, ignore_index=True)\n",
      "C:\\Users\\Admin\\AppData\\Local\\Temp\\ipykernel_11920\\2923290319.py:127: FutureWarning: The frame.append method is deprecated and will be removed from pandas in a future version. Use pandas.concat instead.\n",
      "  resultdf = resultdf.append({'name1': name1,\n",
      "C:\\Users\\Admin\\AppData\\Local\\Temp\\ipykernel_11920\\2923290319.py:133: FutureWarning: The frame.append method is deprecated and will be removed from pandas in a future version. Use pandas.concat instead.\n",
      "  resultdf = resultdf.append({'name1': list1[i].name}, ignore_index=True)\n",
      "C:\\Users\\Admin\\AppData\\Local\\Temp\\ipykernel_11920\\2923290319.py:127: FutureWarning: The frame.append method is deprecated and will be removed from pandas in a future version. Use pandas.concat instead.\n",
      "  resultdf = resultdf.append({'name1': name1,\n",
      "C:\\Users\\Admin\\AppData\\Local\\Temp\\ipykernel_11920\\2923290319.py:133: FutureWarning: The frame.append method is deprecated and will be removed from pandas in a future version. Use pandas.concat instead.\n",
      "  resultdf = resultdf.append({'name1': list1[i].name}, ignore_index=True)\n",
      "C:\\Users\\Admin\\AppData\\Local\\Temp\\ipykernel_11920\\2923290319.py:127: FutureWarning: The frame.append method is deprecated and will be removed from pandas in a future version. Use pandas.concat instead.\n",
      "  resultdf = resultdf.append({'name1': name1,\n",
      "C:\\Users\\Admin\\AppData\\Local\\Temp\\ipykernel_11920\\2923290319.py:127: FutureWarning: The frame.append method is deprecated and will be removed from pandas in a future version. Use pandas.concat instead.\n",
      "  resultdf = resultdf.append({'name1': name1,\n",
      "C:\\Users\\Admin\\AppData\\Local\\Temp\\ipykernel_11920\\2923290319.py:133: FutureWarning: The frame.append method is deprecated and will be removed from pandas in a future version. Use pandas.concat instead.\n",
      "  resultdf = resultdf.append({'name1': list1[i].name}, ignore_index=True)\n",
      "C:\\Users\\Admin\\AppData\\Local\\Temp\\ipykernel_11920\\2923290319.py:127: FutureWarning: The frame.append method is deprecated and will be removed from pandas in a future version. Use pandas.concat instead.\n",
      "  resultdf = resultdf.append({'name1': name1,\n",
      "C:\\Users\\Admin\\AppData\\Local\\Temp\\ipykernel_11920\\2923290319.py:127: FutureWarning: The frame.append method is deprecated and will be removed from pandas in a future version. Use pandas.concat instead.\n",
      "  resultdf = resultdf.append({'name1': name1,\n",
      "C:\\Users\\Admin\\AppData\\Local\\Temp\\ipykernel_11920\\2923290319.py:133: FutureWarning: The frame.append method is deprecated and will be removed from pandas in a future version. Use pandas.concat instead.\n",
      "  resultdf = resultdf.append({'name1': list1[i].name}, ignore_index=True)\n",
      "C:\\Users\\Admin\\AppData\\Local\\Temp\\ipykernel_11920\\2923290319.py:133: FutureWarning: The frame.append method is deprecated and will be removed from pandas in a future version. Use pandas.concat instead.\n",
      "  resultdf = resultdf.append({'name1': list1[i].name}, ignore_index=True)\n",
      "C:\\Users\\Admin\\AppData\\Local\\Temp\\ipykernel_11920\\2923290319.py:133: FutureWarning: The frame.append method is deprecated and will be removed from pandas in a future version. Use pandas.concat instead.\n",
      "  resultdf = resultdf.append({'name1': list1[i].name}, ignore_index=True)\n",
      "C:\\Users\\Admin\\AppData\\Local\\Temp\\ipykernel_11920\\2923290319.py:133: FutureWarning: The frame.append method is deprecated and will be removed from pandas in a future version. Use pandas.concat instead.\n",
      "  resultdf = resultdf.append({'name1': list1[i].name}, ignore_index=True)\n",
      "C:\\Users\\Admin\\AppData\\Local\\Temp\\ipykernel_11920\\2923290319.py:127: FutureWarning: The frame.append method is deprecated and will be removed from pandas in a future version. Use pandas.concat instead.\n",
      "  resultdf = resultdf.append({'name1': name1,\n",
      "C:\\Users\\Admin\\AppData\\Local\\Temp\\ipykernel_11920\\2923290319.py:133: FutureWarning: The frame.append method is deprecated and will be removed from pandas in a future version. Use pandas.concat instead.\n",
      "  resultdf = resultdf.append({'name1': list1[i].name}, ignore_index=True)\n",
      "C:\\Users\\Admin\\AppData\\Local\\Temp\\ipykernel_11920\\2923290319.py:127: FutureWarning: The frame.append method is deprecated and will be removed from pandas in a future version. Use pandas.concat instead.\n",
      "  resultdf = resultdf.append({'name1': name1,\n",
      "C:\\Users\\Admin\\AppData\\Local\\Temp\\ipykernel_11920\\2923290319.py:133: FutureWarning: The frame.append method is deprecated and will be removed from pandas in a future version. Use pandas.concat instead.\n",
      "  resultdf = resultdf.append({'name1': list1[i].name}, ignore_index=True)\n",
      "C:\\Users\\Admin\\AppData\\Local\\Temp\\ipykernel_11920\\2923290319.py:127: FutureWarning: The frame.append method is deprecated and will be removed from pandas in a future version. Use pandas.concat instead.\n",
      "  resultdf = resultdf.append({'name1': name1,\n",
      "C:\\Users\\Admin\\AppData\\Local\\Temp\\ipykernel_11920\\2923290319.py:133: FutureWarning: The frame.append method is deprecated and will be removed from pandas in a future version. Use pandas.concat instead.\n",
      "  resultdf = resultdf.append({'name1': list1[i].name}, ignore_index=True)\n",
      "C:\\Users\\Admin\\AppData\\Local\\Temp\\ipykernel_11920\\2923290319.py:127: FutureWarning: The frame.append method is deprecated and will be removed from pandas in a future version. Use pandas.concat instead.\n",
      "  resultdf = resultdf.append({'name1': name1,\n",
      "C:\\Users\\Admin\\AppData\\Local\\Temp\\ipykernel_11920\\2923290319.py:133: FutureWarning: The frame.append method is deprecated and will be removed from pandas in a future version. Use pandas.concat instead.\n",
      "  resultdf = resultdf.append({'name1': list1[i].name}, ignore_index=True)\n",
      "C:\\Users\\Admin\\AppData\\Local\\Temp\\ipykernel_11920\\2923290319.py:127: FutureWarning: The frame.append method is deprecated and will be removed from pandas in a future version. Use pandas.concat instead.\n",
      "  resultdf = resultdf.append({'name1': name1,\n",
      "C:\\Users\\Admin\\AppData\\Local\\Temp\\ipykernel_11920\\2923290319.py:127: FutureWarning: The frame.append method is deprecated and will be removed from pandas in a future version. Use pandas.concat instead.\n",
      "  resultdf = resultdf.append({'name1': name1,\n",
      "C:\\Users\\Admin\\AppData\\Local\\Temp\\ipykernel_11920\\2923290319.py:133: FutureWarning: The frame.append method is deprecated and will be removed from pandas in a future version. Use pandas.concat instead.\n",
      "  resultdf = resultdf.append({'name1': list1[i].name}, ignore_index=True)\n",
      "C:\\Users\\Admin\\AppData\\Local\\Temp\\ipykernel_11920\\2923290319.py:127: FutureWarning: The frame.append method is deprecated and will be removed from pandas in a future version. Use pandas.concat instead.\n",
      "  resultdf = resultdf.append({'name1': name1,\n",
      "C:\\Users\\Admin\\AppData\\Local\\Temp\\ipykernel_11920\\2923290319.py:127: FutureWarning: The frame.append method is deprecated and will be removed from pandas in a future version. Use pandas.concat instead.\n",
      "  resultdf = resultdf.append({'name1': name1,\n",
      "C:\\Users\\Admin\\AppData\\Local\\Temp\\ipykernel_11920\\2923290319.py:133: FutureWarning: The frame.append method is deprecated and will be removed from pandas in a future version. Use pandas.concat instead.\n",
      "  resultdf = resultdf.append({'name1': list1[i].name}, ignore_index=True)\n",
      "C:\\Users\\Admin\\AppData\\Local\\Temp\\ipykernel_11920\\2923290319.py:127: FutureWarning: The frame.append method is deprecated and will be removed from pandas in a future version. Use pandas.concat instead.\n",
      "  resultdf = resultdf.append({'name1': name1,\n",
      "C:\\Users\\Admin\\AppData\\Local\\Temp\\ipykernel_11920\\2923290319.py:133: FutureWarning: The frame.append method is deprecated and will be removed from pandas in a future version. Use pandas.concat instead.\n",
      "  resultdf = resultdf.append({'name1': list1[i].name}, ignore_index=True)\n",
      "C:\\Users\\Admin\\AppData\\Local\\Temp\\ipykernel_11920\\2923290319.py:127: FutureWarning: The frame.append method is deprecated and will be removed from pandas in a future version. Use pandas.concat instead.\n",
      "  resultdf = resultdf.append({'name1': name1,\n",
      "C:\\Users\\Admin\\AppData\\Local\\Temp\\ipykernel_11920\\2923290319.py:133: FutureWarning: The frame.append method is deprecated and will be removed from pandas in a future version. Use pandas.concat instead.\n",
      "  resultdf = resultdf.append({'name1': list1[i].name}, ignore_index=True)\n",
      "C:\\Users\\Admin\\AppData\\Local\\Temp\\ipykernel_11920\\2923290319.py:127: FutureWarning: The frame.append method is deprecated and will be removed from pandas in a future version. Use pandas.concat instead.\n",
      "  resultdf = resultdf.append({'name1': name1,\n",
      "C:\\Users\\Admin\\AppData\\Local\\Temp\\ipykernel_11920\\2923290319.py:127: FutureWarning: The frame.append method is deprecated and will be removed from pandas in a future version. Use pandas.concat instead.\n",
      "  resultdf = resultdf.append({'name1': name1,\n",
      "C:\\Users\\Admin\\AppData\\Local\\Temp\\ipykernel_11920\\2923290319.py:127: FutureWarning: The frame.append method is deprecated and will be removed from pandas in a future version. Use pandas.concat instead.\n",
      "  resultdf = resultdf.append({'name1': name1,\n",
      "C:\\Users\\Admin\\AppData\\Local\\Temp\\ipykernel_11920\\2923290319.py:133: FutureWarning: The frame.append method is deprecated and will be removed from pandas in a future version. Use pandas.concat instead.\n",
      "  resultdf = resultdf.append({'name1': list1[i].name}, ignore_index=True)\n",
      "C:\\Users\\Admin\\AppData\\Local\\Temp\\ipykernel_11920\\2923290319.py:127: FutureWarning: The frame.append method is deprecated and will be removed from pandas in a future version. Use pandas.concat instead.\n",
      "  resultdf = resultdf.append({'name1': name1,\n",
      "C:\\Users\\Admin\\AppData\\Local\\Temp\\ipykernel_11920\\2923290319.py:127: FutureWarning: The frame.append method is deprecated and will be removed from pandas in a future version. Use pandas.concat instead.\n",
      "  resultdf = resultdf.append({'name1': name1,\n",
      "C:\\Users\\Admin\\AppData\\Local\\Temp\\ipykernel_11920\\2923290319.py:127: FutureWarning: The frame.append method is deprecated and will be removed from pandas in a future version. Use pandas.concat instead.\n",
      "  resultdf = resultdf.append({'name1': name1,\n",
      "C:\\Users\\Admin\\AppData\\Local\\Temp\\ipykernel_11920\\2923290319.py:133: FutureWarning: The frame.append method is deprecated and will be removed from pandas in a future version. Use pandas.concat instead.\n",
      "  resultdf = resultdf.append({'name1': list1[i].name}, ignore_index=True)\n",
      "C:\\Users\\Admin\\AppData\\Local\\Temp\\ipykernel_11920\\2923290319.py:127: FutureWarning: The frame.append method is deprecated and will be removed from pandas in a future version. Use pandas.concat instead.\n",
      "  resultdf = resultdf.append({'name1': name1,\n",
      "C:\\Users\\Admin\\AppData\\Local\\Temp\\ipykernel_11920\\2923290319.py:127: FutureWarning: The frame.append method is deprecated and will be removed from pandas in a future version. Use pandas.concat instead.\n",
      "  resultdf = resultdf.append({'name1': name1,\n",
      "C:\\Users\\Admin\\AppData\\Local\\Temp\\ipykernel_11920\\2923290319.py:133: FutureWarning: The frame.append method is deprecated and will be removed from pandas in a future version. Use pandas.concat instead.\n",
      "  resultdf = resultdf.append({'name1': list1[i].name}, ignore_index=True)\n",
      "C:\\Users\\Admin\\AppData\\Local\\Temp\\ipykernel_11920\\2923290319.py:127: FutureWarning: The frame.append method is deprecated and will be removed from pandas in a future version. Use pandas.concat instead.\n",
      "  resultdf = resultdf.append({'name1': name1,\n",
      "C:\\Users\\Admin\\AppData\\Local\\Temp\\ipykernel_11920\\2923290319.py:133: FutureWarning: The frame.append method is deprecated and will be removed from pandas in a future version. Use pandas.concat instead.\n",
      "  resultdf = resultdf.append({'name1': list1[i].name}, ignore_index=True)\n",
      "C:\\Users\\Admin\\AppData\\Local\\Temp\\ipykernel_11920\\2923290319.py:127: FutureWarning: The frame.append method is deprecated and will be removed from pandas in a future version. Use pandas.concat instead.\n",
      "  resultdf = resultdf.append({'name1': name1,\n",
      "C:\\Users\\Admin\\AppData\\Local\\Temp\\ipykernel_11920\\2923290319.py:127: FutureWarning: The frame.append method is deprecated and will be removed from pandas in a future version. Use pandas.concat instead.\n",
      "  resultdf = resultdf.append({'name1': name1,\n",
      "C:\\Users\\Admin\\AppData\\Local\\Temp\\ipykernel_11920\\2923290319.py:127: FutureWarning: The frame.append method is deprecated and will be removed from pandas in a future version. Use pandas.concat instead.\n",
      "  resultdf = resultdf.append({'name1': name1,\n",
      "C:\\Users\\Admin\\AppData\\Local\\Temp\\ipykernel_11920\\2923290319.py:133: FutureWarning: The frame.append method is deprecated and will be removed from pandas in a future version. Use pandas.concat instead.\n",
      "  resultdf = resultdf.append({'name1': list1[i].name}, ignore_index=True)\n",
      "C:\\Users\\Admin\\AppData\\Local\\Temp\\ipykernel_11920\\2923290319.py:127: FutureWarning: The frame.append method is deprecated and will be removed from pandas in a future version. Use pandas.concat instead.\n",
      "  resultdf = resultdf.append({'name1': name1,\n",
      "C:\\Users\\Admin\\AppData\\Local\\Temp\\ipykernel_11920\\2923290319.py:133: FutureWarning: The frame.append method is deprecated and will be removed from pandas in a future version. Use pandas.concat instead.\n",
      "  resultdf = resultdf.append({'name1': list1[i].name}, ignore_index=True)\n",
      "C:\\Users\\Admin\\AppData\\Local\\Temp\\ipykernel_11920\\2923290319.py:127: FutureWarning: The frame.append method is deprecated and will be removed from pandas in a future version. Use pandas.concat instead.\n",
      "  resultdf = resultdf.append({'name1': name1,\n",
      "C:\\Users\\Admin\\AppData\\Local\\Temp\\ipykernel_11920\\2923290319.py:127: FutureWarning: The frame.append method is deprecated and will be removed from pandas in a future version. Use pandas.concat instead.\n",
      "  resultdf = resultdf.append({'name1': name1,\n",
      "C:\\Users\\Admin\\AppData\\Local\\Temp\\ipykernel_11920\\2923290319.py:127: FutureWarning: The frame.append method is deprecated and will be removed from pandas in a future version. Use pandas.concat instead.\n",
      "  resultdf = resultdf.append({'name1': name1,\n",
      "C:\\Users\\Admin\\AppData\\Local\\Temp\\ipykernel_11920\\2923290319.py:127: FutureWarning: The frame.append method is deprecated and will be removed from pandas in a future version. Use pandas.concat instead.\n",
      "  resultdf = resultdf.append({'name1': name1,\n",
      "C:\\Users\\Admin\\AppData\\Local\\Temp\\ipykernel_11920\\2923290319.py:127: FutureWarning: The frame.append method is deprecated and will be removed from pandas in a future version. Use pandas.concat instead.\n",
      "  resultdf = resultdf.append({'name1': name1,\n",
      "C:\\Users\\Admin\\AppData\\Local\\Temp\\ipykernel_11920\\2923290319.py:127: FutureWarning: The frame.append method is deprecated and will be removed from pandas in a future version. Use pandas.concat instead.\n",
      "  resultdf = resultdf.append({'name1': name1,\n",
      "C:\\Users\\Admin\\AppData\\Local\\Temp\\ipykernel_11920\\2923290319.py:133: FutureWarning: The frame.append method is deprecated and will be removed from pandas in a future version. Use pandas.concat instead.\n",
      "  resultdf = resultdf.append({'name1': list1[i].name}, ignore_index=True)\n",
      "C:\\Users\\Admin\\AppData\\Local\\Temp\\ipykernel_11920\\2923290319.py:127: FutureWarning: The frame.append method is deprecated and will be removed from pandas in a future version. Use pandas.concat instead.\n",
      "  resultdf = resultdf.append({'name1': name1,\n",
      "C:\\Users\\Admin\\AppData\\Local\\Temp\\ipykernel_11920\\2923290319.py:133: FutureWarning: The frame.append method is deprecated and will be removed from pandas in a future version. Use pandas.concat instead.\n",
      "  resultdf = resultdf.append({'name1': list1[i].name}, ignore_index=True)\n",
      "C:\\Users\\Admin\\AppData\\Local\\Temp\\ipykernel_11920\\2923290319.py:127: FutureWarning: The frame.append method is deprecated and will be removed from pandas in a future version. Use pandas.concat instead.\n",
      "  resultdf = resultdf.append({'name1': name1,\n",
      "C:\\Users\\Admin\\AppData\\Local\\Temp\\ipykernel_11920\\2923290319.py:127: FutureWarning: The frame.append method is deprecated and will be removed from pandas in a future version. Use pandas.concat instead.\n",
      "  resultdf = resultdf.append({'name1': name1,\n",
      "C:\\Users\\Admin\\AppData\\Local\\Temp\\ipykernel_11920\\2923290319.py:127: FutureWarning: The frame.append method is deprecated and will be removed from pandas in a future version. Use pandas.concat instead.\n",
      "  resultdf = resultdf.append({'name1': name1,\n",
      "C:\\Users\\Admin\\AppData\\Local\\Temp\\ipykernel_11920\\2923290319.py:127: FutureWarning: The frame.append method is deprecated and will be removed from pandas in a future version. Use pandas.concat instead.\n",
      "  resultdf = resultdf.append({'name1': name1,\n",
      "C:\\Users\\Admin\\AppData\\Local\\Temp\\ipykernel_11920\\2923290319.py:127: FutureWarning: The frame.append method is deprecated and will be removed from pandas in a future version. Use pandas.concat instead.\n",
      "  resultdf = resultdf.append({'name1': name1,\n",
      "C:\\Users\\Admin\\AppData\\Local\\Temp\\ipykernel_11920\\2923290319.py:127: FutureWarning: The frame.append method is deprecated and will be removed from pandas in a future version. Use pandas.concat instead.\n",
      "  resultdf = resultdf.append({'name1': name1,\n",
      "C:\\Users\\Admin\\AppData\\Local\\Temp\\ipykernel_11920\\2923290319.py:133: FutureWarning: The frame.append method is deprecated and will be removed from pandas in a future version. Use pandas.concat instead.\n",
      "  resultdf = resultdf.append({'name1': list1[i].name}, ignore_index=True)\n",
      "C:\\Users\\Admin\\AppData\\Local\\Temp\\ipykernel_11920\\2923290319.py:127: FutureWarning: The frame.append method is deprecated and will be removed from pandas in a future version. Use pandas.concat instead.\n",
      "  resultdf = resultdf.append({'name1': name1,\n",
      "C:\\Users\\Admin\\AppData\\Local\\Temp\\ipykernel_11920\\2923290319.py:127: FutureWarning: The frame.append method is deprecated and will be removed from pandas in a future version. Use pandas.concat instead.\n",
      "  resultdf = resultdf.append({'name1': name1,\n",
      "C:\\Users\\Admin\\AppData\\Local\\Temp\\ipykernel_11920\\2923290319.py:127: FutureWarning: The frame.append method is deprecated and will be removed from pandas in a future version. Use pandas.concat instead.\n",
      "  resultdf = resultdf.append({'name1': name1,\n",
      "C:\\Users\\Admin\\AppData\\Local\\Temp\\ipykernel_11920\\2923290319.py:127: FutureWarning: The frame.append method is deprecated and will be removed from pandas in a future version. Use pandas.concat instead.\n",
      "  resultdf = resultdf.append({'name1': name1,\n",
      "C:\\Users\\Admin\\AppData\\Local\\Temp\\ipykernel_11920\\2923290319.py:133: FutureWarning: The frame.append method is deprecated and will be removed from pandas in a future version. Use pandas.concat instead.\n",
      "  resultdf = resultdf.append({'name1': list1[i].name}, ignore_index=True)\n",
      "C:\\Users\\Admin\\AppData\\Local\\Temp\\ipykernel_11920\\2923290319.py:127: FutureWarning: The frame.append method is deprecated and will be removed from pandas in a future version. Use pandas.concat instead.\n",
      "  resultdf = resultdf.append({'name1': name1,\n"
     ]
    }
   ],
   "source": [
    "comparedNoProdRF = compareRF(noProdRF, rf, rf.columns[0], rf.columns[1], 0.7)"
   ]
  },
  {
   "attachments": {},
   "cell_type": "markdown",
   "metadata": {},
   "source": [
    "Сопоставление товаров РБ с товарами РФ"
   ]
  },
  {
   "cell_type": "code",
   "execution_count": 280,
   "metadata": {},
   "outputs": [
    {
     "name": "stdout",
     "output_type": "stream",
     "text": [
      "Товар РБ: говядина (кроме бескостного мяса) Товар РФ: Говядина (кроме бескостного мяса), кг\n"
     ]
    },
    {
     "name": "stderr",
     "output_type": "stream",
     "text": [
      "C:\\Users\\Admin\\AppData\\Local\\Temp\\ipykernel_11920\\592679734.py:86: FutureWarning: The frame.append method is deprecated and will be removed from pandas in a future version. Use pandas.concat instead.\n",
      "  resultdf = resultdf.append(row_dict, ignore_index=True)\n"
     ]
    },
    {
     "name": "stdout",
     "output_type": "stream",
     "text": [
      "Товар РБ: говядина бескостная Товар РФ: Говядина бескостная\n"
     ]
    },
    {
     "name": "stderr",
     "output_type": "stream",
     "text": [
      "C:\\Users\\Admin\\AppData\\Local\\Temp\\ipykernel_11920\\592679734.py:86: FutureWarning: The frame.append method is deprecated and will be removed from pandas in a future version. Use pandas.concat instead.\n",
      "  resultdf = resultdf.append(row_dict, ignore_index=True)\n"
     ]
    },
    {
     "name": "stdout",
     "output_type": "stream",
     "text": [
      "Товар РБ: свинина (кроме бескостного мяса) Товар РФ: Свинина (кроме бескостного мяса), кг\n"
     ]
    },
    {
     "name": "stderr",
     "output_type": "stream",
     "text": [
      "C:\\Users\\Admin\\AppData\\Local\\Temp\\ipykernel_11920\\592679734.py:86: FutureWarning: The frame.append method is deprecated and will be removed from pandas in a future version. Use pandas.concat instead.\n",
      "  resultdf = resultdf.append(row_dict, ignore_index=True)\n"
     ]
    },
    {
     "name": "stdout",
     "output_type": "stream",
     "text": [
      "Товар РБ: свинина бескостная Товар РФ: Свинина бескостная\n"
     ]
    },
    {
     "name": "stderr",
     "output_type": "stream",
     "text": [
      "C:\\Users\\Admin\\AppData\\Local\\Temp\\ipykernel_11920\\592679734.py:86: FutureWarning: The frame.append method is deprecated and will be removed from pandas in a future version. Use pandas.concat instead.\n",
      "  resultdf = resultdf.append(row_dict, ignore_index=True)\n"
     ]
    },
    {
     "name": "stdout",
     "output_type": "stream",
     "text": [
      "Товар РБ: фарш мясной  Товар РФ: Фарш мясной, кг\n"
     ]
    },
    {
     "name": "stderr",
     "output_type": "stream",
     "text": [
      "C:\\Users\\Admin\\AppData\\Local\\Temp\\ipykernel_11920\\592679734.py:86: FutureWarning: The frame.append method is deprecated and will be removed from pandas in a future version. Use pandas.concat instead.\n",
      "  resultdf = resultdf.append(row_dict, ignore_index=True)\n"
     ]
    },
    {
     "name": "stdout",
     "output_type": "stream",
     "text": [
      "Товар РБ: куры (цыплята, включая бройлеров) Товар РФ: Куры (кроме куриных окорочков)\n"
     ]
    },
    {
     "name": "stderr",
     "output_type": "stream",
     "text": [
      "C:\\Users\\Admin\\AppData\\Local\\Temp\\ipykernel_11920\\592679734.py:86: FutureWarning: The frame.append method is deprecated and will be removed from pandas in a future version. Use pandas.concat instead.\n",
      "  resultdf = resultdf.append(row_dict, ignore_index=True)\n"
     ]
    },
    {
     "name": "stdout",
     "output_type": "stream",
     "text": [
      "Товар РБ: полуфабрикаты из мяса птицы Товар РФ: Мясо другой птицы\n"
     ]
    },
    {
     "name": "stderr",
     "output_type": "stream",
     "text": [
      "C:\\Users\\Admin\\AppData\\Local\\Temp\\ipykernel_11920\\592679734.py:86: FutureWarning: The frame.append method is deprecated and will be removed from pandas in a future version. Use pandas.concat instead.\n",
      "  resultdf = resultdf.append(row_dict, ignore_index=True)\n"
     ]
    },
    {
     "name": "stdout",
     "output_type": "stream",
     "text": [
      "Товар РБ: субпродукты из птицы Товар РФ: Мясо другой птицы\n"
     ]
    },
    {
     "name": "stderr",
     "output_type": "stream",
     "text": [
      "C:\\Users\\Admin\\AppData\\Local\\Temp\\ipykernel_11920\\592679734.py:86: FutureWarning: The frame.append method is deprecated and will be removed from pandas in a future version. Use pandas.concat instead.\n",
      "  resultdf = resultdf.append(row_dict, ignore_index=True)\n"
     ]
    },
    {
     "name": "stdout",
     "output_type": "stream",
     "text": [
      "Товар РБ: пельмени мясные Товар РФ: Пельмени, манты, равиоли, кг\n"
     ]
    },
    {
     "name": "stderr",
     "output_type": "stream",
     "text": [
      "C:\\Users\\Admin\\AppData\\Local\\Temp\\ipykernel_11920\\592679734.py:86: FutureWarning: The frame.append method is deprecated and will be removed from pandas in a future version. Use pandas.concat instead.\n",
      "  resultdf = resultdf.append(row_dict, ignore_index=True)\n"
     ]
    },
    {
     "name": "stdout",
     "output_type": "stream",
     "text": [
      "Товар РБ: готовые изделия (вареные, жареные, фаршированные) из теста с мясной начинкой  Товар РФ: Изделия из теста, приготовленные с начинкой или без начинки и требующие тепловой обработки перед употреблением\n"
     ]
    },
    {
     "name": "stderr",
     "output_type": "stream",
     "text": [
      "C:\\Users\\Admin\\AppData\\Local\\Temp\\ipykernel_11920\\592679734.py:86: FutureWarning: The frame.append method is deprecated and will be removed from pandas in a future version. Use pandas.concat instead.\n",
      "  resultdf = resultdf.append(row_dict, ignore_index=True)\n"
     ]
    },
    {
     "name": "stdout",
     "output_type": "stream",
     "text": [
      "Товар РБ: готовые изделия (вареные, жареные, фаршированные, заливные) из мяса и субпродуктов  Товар РФ: Булочные изделия сдобные\n"
     ]
    },
    {
     "name": "stderr",
     "output_type": "stream",
     "text": [
      "C:\\Users\\Admin\\AppData\\Local\\Temp\\ipykernel_11920\\592679734.py:86: FutureWarning: The frame.append method is deprecated and will be removed from pandas in a future version. Use pandas.concat instead.\n",
      "  resultdf = resultdf.append(row_dict, ignore_index=True)\n"
     ]
    },
    {
     "name": "stdout",
     "output_type": "stream",
     "text": [
      "Товар РБ: колбаса вареная высшего сорта Товар РФ: Колбаса вареная высшего сорта, кг\n"
     ]
    },
    {
     "name": "stderr",
     "output_type": "stream",
     "text": [
      "C:\\Users\\Admin\\AppData\\Local\\Temp\\ipykernel_11920\\592679734.py:86: FutureWarning: The frame.append method is deprecated and will be removed from pandas in a future version. Use pandas.concat instead.\n",
      "  resultdf = resultdf.append(row_dict, ignore_index=True)\n"
     ]
    },
    {
     "name": "stdout",
     "output_type": "stream",
     "text": [
      "Товар РБ: колбаса вареная первого сорта, второго сорта и бессортовая Товар РФ: Колбаса вареная I сорта, кг\n"
     ]
    },
    {
     "name": "stderr",
     "output_type": "stream",
     "text": [
      "C:\\Users\\Admin\\AppData\\Local\\Temp\\ipykernel_11920\\592679734.py:86: FutureWarning: The frame.append method is deprecated and will be removed from pandas in a future version. Use pandas.concat instead.\n",
      "  resultdf = resultdf.append(row_dict, ignore_index=True)\n"
     ]
    },
    {
     "name": "stdout",
     "output_type": "stream",
     "text": [
      "Товар РБ: колбаса полукопченая, варено-копченая Товар РФ: Колбаса полукопченая и варено-копченая, кг\n"
     ]
    },
    {
     "name": "stderr",
     "output_type": "stream",
     "text": [
      "C:\\Users\\Admin\\AppData\\Local\\Temp\\ipykernel_11920\\592679734.py:86: FutureWarning: The frame.append method is deprecated and will be removed from pandas in a future version. Use pandas.concat instead.\n",
      "  resultdf = resultdf.append(row_dict, ignore_index=True)\n"
     ]
    },
    {
     "name": "stdout",
     "output_type": "stream",
     "text": [
      "Товар РБ: колбаса сырокопченая, сыровяленая Товар РФ: Колбаса сырокопченая, кг\n"
     ]
    },
    {
     "name": "stderr",
     "output_type": "stream",
     "text": [
      "C:\\Users\\Admin\\AppData\\Local\\Temp\\ipykernel_11920\\592679734.py:86: FutureWarning: The frame.append method is deprecated and will be removed from pandas in a future version. Use pandas.concat instead.\n",
      "  resultdf = resultdf.append(row_dict, ignore_index=True)\n"
     ]
    },
    {
     "name": "stdout",
     "output_type": "stream",
     "text": [
      "Товар РБ: колбаса ливерная и кровяная Товар РФ: Колбаса вареная, кг\n"
     ]
    },
    {
     "name": "stderr",
     "output_type": "stream",
     "text": [
      "C:\\Users\\Admin\\AppData\\Local\\Temp\\ipykernel_11920\\592679734.py:86: FutureWarning: The frame.append method is deprecated and will be removed from pandas in a future version. Use pandas.concat instead.\n",
      "  resultdf = resultdf.append(row_dict, ignore_index=True)\n"
     ]
    },
    {
     "name": "stdout",
     "output_type": "stream",
     "text": [
      "Товар РБ: сосиски, сардельки Товар РФ: Сосиски, сардельки\n"
     ]
    },
    {
     "name": "stderr",
     "output_type": "stream",
     "text": [
      "C:\\Users\\Admin\\AppData\\Local\\Temp\\ipykernel_11920\\592679734.py:86: FutureWarning: The frame.append method is deprecated and will be removed from pandas in a future version. Use pandas.concat instead.\n",
      "  resultdf = resultdf.append(row_dict, ignore_index=True)\n"
     ]
    },
    {
     "name": "stdout",
     "output_type": "stream",
     "text": [
      "Товар РБ: изделия из говядины, свинины вареные, варено-копченые: ветчина, буженина, окорок и прочие Товар РФ: Булочные изделия сдобные\n"
     ]
    },
    {
     "name": "stderr",
     "output_type": "stream",
     "text": [
      "C:\\Users\\Admin\\AppData\\Local\\Temp\\ipykernel_11920\\592679734.py:86: FutureWarning: The frame.append method is deprecated and will be removed from pandas in a future version. Use pandas.concat instead.\n",
      "  resultdf = resultdf.append(row_dict, ignore_index=True)\n"
     ]
    },
    {
     "name": "stdout",
     "output_type": "stream",
     "text": [
      "Товар РБ: говядина тушеная консервированная Товар РФ: Говядина (кроме бескостного мяса), кг\n"
     ]
    },
    {
     "name": "stderr",
     "output_type": "stream",
     "text": [
      "C:\\Users\\Admin\\AppData\\Local\\Temp\\ipykernel_11920\\592679734.py:86: FutureWarning: The frame.append method is deprecated and will be removed from pandas in a future version. Use pandas.concat instead.\n",
      "  resultdf = resultdf.append(row_dict, ignore_index=True)\n"
     ]
    },
    {
     "name": "stdout",
     "output_type": "stream",
     "text": [
      "Товар РБ: свинина тушеная консервированная Товар РФ: Свинина (кроме бескостного мяса), кг\n"
     ]
    },
    {
     "name": "stderr",
     "output_type": "stream",
     "text": [
      "C:\\Users\\Admin\\AppData\\Local\\Temp\\ipykernel_11920\\592679734.py:86: FutureWarning: The frame.append method is deprecated and will be removed from pandas in a future version. Use pandas.concat instead.\n",
      "  resultdf = resultdf.append(row_dict, ignore_index=True)\n"
     ]
    },
    {
     "name": "stdout",
     "output_type": "stream",
     "text": [
      "Товар РБ: консервы мясные для детского и диетического питания Товар РФ: Мясные и мясорастительные консервы для детского питания\n"
     ]
    },
    {
     "name": "stderr",
     "output_type": "stream",
     "text": [
      "C:\\Users\\Admin\\AppData\\Local\\Temp\\ipykernel_11920\\592679734.py:86: FutureWarning: The frame.append method is deprecated and will be removed from pandas in a future version. Use pandas.concat instead.\n",
      "  resultdf = resultdf.append(row_dict, ignore_index=True)\n",
      "C:\\Users\\Admin\\AppData\\Local\\Temp\\ipykernel_11920\\592679734.py:99: FutureWarning: The frame.append method is deprecated and will be removed from pandas in a future version. Use pandas.concat instead.\n",
      "  resultdf = resultdf.append(group_row, ignore_index=True)\n"
     ]
    },
    {
     "name": "stdout",
     "output_type": "stream",
     "text": [
      "Товар РБ: рыба живая Товар РФ: Рыба живая и охлажденная\n"
     ]
    },
    {
     "name": "stderr",
     "output_type": "stream",
     "text": [
      "C:\\Users\\Admin\\AppData\\Local\\Temp\\ipykernel_11920\\592679734.py:86: FutureWarning: The frame.append method is deprecated and will be removed from pandas in a future version. Use pandas.concat instead.\n",
      "  resultdf = resultdf.append(row_dict, ignore_index=True)\n"
     ]
    },
    {
     "name": "stdout",
     "output_type": "stream",
     "text": [
      "Товар РБ: рыба мороженая неразделанная Товар РФ: Рыба мороженая неразделанная, кг\n"
     ]
    },
    {
     "name": "stderr",
     "output_type": "stream",
     "text": [
      "C:\\Users\\Admin\\AppData\\Local\\Temp\\ipykernel_11920\\592679734.py:86: FutureWarning: The frame.append method is deprecated and will be removed from pandas in a future version. Use pandas.concat instead.\n",
      "  resultdf = resultdf.append(row_dict, ignore_index=True)\n"
     ]
    },
    {
     "name": "stdout",
     "output_type": "stream",
     "text": [
      "Товар РБ: рыба мороженая  (филе и разделанная) Товар РФ: Рыба мороженая неразделанная, кг\n"
     ]
    },
    {
     "name": "stderr",
     "output_type": "stream",
     "text": [
      "C:\\Users\\Admin\\AppData\\Local\\Temp\\ipykernel_11920\\592679734.py:86: FutureWarning: The frame.append method is deprecated and will be removed from pandas in a future version. Use pandas.concat instead.\n",
      "  resultdf = resultdf.append(row_dict, ignore_index=True)\n"
     ]
    },
    {
     "name": "stdout",
     "output_type": "stream",
     "text": [
      "Товар РБ: рыба соленая и копченая (кроме сельди и рыбы деликатесной) Товар РФ: Рыба соленая, маринованная, копченая, кг\n"
     ]
    },
    {
     "name": "stderr",
     "output_type": "stream",
     "text": [
      "C:\\Users\\Admin\\AppData\\Local\\Temp\\ipykernel_11920\\592679734.py:86: FutureWarning: The frame.append method is deprecated and will be removed from pandas in a future version. Use pandas.concat instead.\n",
      "  resultdf = resultdf.append(row_dict, ignore_index=True)\n"
     ]
    },
    {
     "name": "stdout",
     "output_type": "stream",
     "text": [
      "Товар РБ: рыба соленая и копченая деликатесная (включая балычные рыбные изделия) Товар РФ: Рыба соленая, маринованная, копченая, кг\n"
     ]
    },
    {
     "name": "stderr",
     "output_type": "stream",
     "text": [
      "C:\\Users\\Admin\\AppData\\Local\\Temp\\ipykernel_11920\\592679734.py:86: FutureWarning: The frame.append method is deprecated and will be removed from pandas in a future version. Use pandas.concat instead.\n",
      "  resultdf = resultdf.append(row_dict, ignore_index=True)\n"
     ]
    },
    {
     "name": "stdout",
     "output_type": "stream",
     "text": [
      "Товар РБ: икра лососевых рыб Товар РФ: Икра осетровых, лососевых рыб (весовая и в банках)\n"
     ]
    },
    {
     "name": "stderr",
     "output_type": "stream",
     "text": [
      "C:\\Users\\Admin\\AppData\\Local\\Temp\\ipykernel_11920\\592679734.py:86: FutureWarning: The frame.append method is deprecated and will be removed from pandas in a future version. Use pandas.concat instead.\n",
      "  resultdf = resultdf.append(row_dict, ignore_index=True)\n"
     ]
    },
    {
     "name": "stdout",
     "output_type": "stream",
     "text": [
      "Товар РБ: прочие виды икры рыб Товар РФ: Икра осетровых, лососевых рыб (весовая и в банках)\n"
     ]
    },
    {
     "name": "stderr",
     "output_type": "stream",
     "text": [
      "C:\\Users\\Admin\\AppData\\Local\\Temp\\ipykernel_11920\\592679734.py:86: FutureWarning: The frame.append method is deprecated and will be removed from pandas in a future version. Use pandas.concat instead.\n",
      "  resultdf = resultdf.append(row_dict, ignore_index=True)\n"
     ]
    },
    {
     "name": "stdout",
     "output_type": "stream",
     "text": [
      "Товар РБ: сельдь соленая Товар РФ: Сельдь соленая\n"
     ]
    },
    {
     "name": "stderr",
     "output_type": "stream",
     "text": [
      "C:\\Users\\Admin\\AppData\\Local\\Temp\\ipykernel_11920\\592679734.py:86: FutureWarning: The frame.append method is deprecated and will be removed from pandas in a future version. Use pandas.concat instead.\n",
      "  resultdf = resultdf.append(row_dict, ignore_index=True)\n"
     ]
    },
    {
     "name": "stdout",
     "output_type": "stream",
     "text": [
      "Товар РБ: морепродукты (морская капуста, кальмары, креветки, мидии) Товар РФ: Морепродукты замороженные\n"
     ]
    },
    {
     "name": "stderr",
     "output_type": "stream",
     "text": [
      "C:\\Users\\Admin\\AppData\\Local\\Temp\\ipykernel_11920\\592679734.py:86: FutureWarning: The frame.append method is deprecated and will be removed from pandas in a future version. Use pandas.concat instead.\n",
      "  resultdf = resultdf.append(row_dict, ignore_index=True)\n"
     ]
    },
    {
     "name": "stdout",
     "output_type": "stream",
     "text": [
      "Товар РБ: полуфабрикаты рыбные (котлеты, рыбные палочки, фарш, бургеры) Товар РФ: Мясные полуфабрикаты и готовые изделия\n"
     ]
    },
    {
     "name": "stderr",
     "output_type": "stream",
     "text": [
      "C:\\Users\\Admin\\AppData\\Local\\Temp\\ipykernel_11920\\592679734.py:86: FutureWarning: The frame.append method is deprecated and will be removed from pandas in a future version. Use pandas.concat instead.\n",
      "  resultdf = resultdf.append(row_dict, ignore_index=True)\n"
     ]
    },
    {
     "name": "stdout",
     "output_type": "stream",
     "text": [
      "Товар РБ: готовые изделия (вареные, жареные, фаршированные, заливные) из рыбы и морепродуктов  Товар РФ: Булочные изделия сдобные\n"
     ]
    },
    {
     "name": "stderr",
     "output_type": "stream",
     "text": [
      "C:\\Users\\Admin\\AppData\\Local\\Temp\\ipykernel_11920\\592679734.py:86: FutureWarning: The frame.append method is deprecated and will be removed from pandas in a future version. Use pandas.concat instead.\n",
      "  resultdf = resultdf.append(row_dict, ignore_index=True)\n"
     ]
    },
    {
     "name": "stdout",
     "output_type": "stream",
     "text": [
      "Товар РБ: консервы рыбные (кроме деликатесных) Товар РФ: Мясные и мясорастительные консервы (кроме консервов для детского питания)\n"
     ]
    },
    {
     "name": "stderr",
     "output_type": "stream",
     "text": [
      "C:\\Users\\Admin\\AppData\\Local\\Temp\\ipykernel_11920\\592679734.py:86: FutureWarning: The frame.append method is deprecated and will be removed from pandas in a future version. Use pandas.concat instead.\n",
      "  resultdf = resultdf.append(row_dict, ignore_index=True)\n"
     ]
    },
    {
     "name": "stdout",
     "output_type": "stream",
     "text": [
      "Товар РБ: консервы рыбные деликатесные Товар РФ: Мясные и мясорастительные консервы (кроме консервов для детского питания)\n"
     ]
    },
    {
     "name": "stderr",
     "output_type": "stream",
     "text": [
      "C:\\Users\\Admin\\AppData\\Local\\Temp\\ipykernel_11920\\592679734.py:86: FutureWarning: The frame.append method is deprecated and will be removed from pandas in a future version. Use pandas.concat instead.\n",
      "  resultdf = resultdf.append(row_dict, ignore_index=True)\n"
     ]
    },
    {
     "name": "stdout",
     "output_type": "stream",
     "text": [
      "Товар РБ: пресервы рыбные (филе сельди в различных соусах и заливках) Товар РФ: Пресервы рыбные, 350 г\n"
     ]
    },
    {
     "name": "stderr",
     "output_type": "stream",
     "text": [
      "C:\\Users\\Admin\\AppData\\Local\\Temp\\ipykernel_11920\\592679734.py:86: FutureWarning: The frame.append method is deprecated and will be removed from pandas in a future version. Use pandas.concat instead.\n",
      "  resultdf = resultdf.append(row_dict, ignore_index=True)\n",
      "C:\\Users\\Admin\\AppData\\Local\\Temp\\ipykernel_11920\\592679734.py:99: FutureWarning: The frame.append method is deprecated and will be removed from pandas in a future version. Use pandas.concat instead.\n",
      "  resultdf = resultdf.append(group_row, ignore_index=True)\n"
     ]
    },
    {
     "name": "stdout",
     "output_type": "stream",
     "text": [
      "Товар РБ: молоко  Товар РФ: Молоко сухое\n"
     ]
    },
    {
     "name": "stderr",
     "output_type": "stream",
     "text": [
      "C:\\Users\\Admin\\AppData\\Local\\Temp\\ipykernel_11920\\592679734.py:86: FutureWarning: The frame.append method is deprecated and will be removed from pandas in a future version. Use pandas.concat instead.\n",
      "  resultdf = resultdf.append(row_dict, ignore_index=True)\n"
     ]
    },
    {
     "name": "stdout",
     "output_type": "stream",
     "text": [
      "Товар РБ: сметана Товар РФ: Сметана\n"
     ]
    },
    {
     "name": "stderr",
     "output_type": "stream",
     "text": [
      "C:\\Users\\Admin\\AppData\\Local\\Temp\\ipykernel_11920\\592679734.py:86: FutureWarning: The frame.append method is deprecated and will be removed from pandas in a future version. Use pandas.concat instead.\n",
      "  resultdf = resultdf.append(row_dict, ignore_index=True)\n"
     ]
    },
    {
     "name": "stdout",
     "output_type": "stream",
     "text": [
      "Товар РБ: творог 4% жирности и выше Товар РФ: Творог жирный\n"
     ]
    },
    {
     "name": "stderr",
     "output_type": "stream",
     "text": [
      "C:\\Users\\Admin\\AppData\\Local\\Temp\\ipykernel_11920\\592679734.py:86: FutureWarning: The frame.append method is deprecated and will be removed from pandas in a future version. Use pandas.concat instead.\n",
      "  resultdf = resultdf.append(row_dict, ignore_index=True)\n"
     ]
    },
    {
     "name": "stdout",
     "output_type": "stream",
     "text": [
      "Товар РБ: творог до 4% жирности Товар РФ: Творог жирный\n"
     ]
    },
    {
     "name": "stderr",
     "output_type": "stream",
     "text": [
      "C:\\Users\\Admin\\AppData\\Local\\Temp\\ipykernel_11920\\592679734.py:86: FutureWarning: The frame.append method is deprecated and will be removed from pandas in a future version. Use pandas.concat instead.\n",
      "  resultdf = resultdf.append(row_dict, ignore_index=True)\n"
     ]
    },
    {
     "name": "stdout",
     "output_type": "stream",
     "text": [
      "Товар РБ: полуфабрикаты из творога (вареники, блинчики, сырники) Товар РФ: Мясные полуфабрикаты и готовые изделия\n"
     ]
    },
    {
     "name": "stderr",
     "output_type": "stream",
     "text": [
      "C:\\Users\\Admin\\AppData\\Local\\Temp\\ipykernel_11920\\592679734.py:86: FutureWarning: The frame.append method is deprecated and will be removed from pandas in a future version. Use pandas.concat instead.\n",
      "  resultdf = resultdf.append(row_dict, ignore_index=True)\n"
     ]
    },
    {
     "name": "stdout",
     "output_type": "stream",
     "text": [
      "Товар РБ: сухие молочные смеси для детского и диетического питания Товар РФ: Смеси сухие молочные для детского питания, кг\n"
     ]
    },
    {
     "name": "stderr",
     "output_type": "stream",
     "text": [
      "C:\\Users\\Admin\\AppData\\Local\\Temp\\ipykernel_11920\\592679734.py:86: FutureWarning: The frame.append method is deprecated and will be removed from pandas in a future version. Use pandas.concat instead.\n",
      "  resultdf = resultdf.append(row_dict, ignore_index=True)\n"
     ]
    },
    {
     "name": "stdout",
     "output_type": "stream",
     "text": [
      "Товар РБ: мороженое Товар РФ: Мороженое сливочное, кг\n"
     ]
    },
    {
     "name": "stderr",
     "output_type": "stream",
     "text": [
      "C:\\Users\\Admin\\AppData\\Local\\Temp\\ipykernel_11920\\592679734.py:86: FutureWarning: The frame.append method is deprecated and will be removed from pandas in a future version. Use pandas.concat instead.\n",
      "  resultdf = resultdf.append(row_dict, ignore_index=True)\n"
     ]
    },
    {
     "name": "stdout",
     "output_type": "stream",
     "text": [
      "Товар РБ: молоко сгущенное с сахаром Товар РФ: Молоко сгущенное с сахаром\n"
     ]
    },
    {
     "name": "stderr",
     "output_type": "stream",
     "text": [
      "C:\\Users\\Admin\\AppData\\Local\\Temp\\ipykernel_11920\\592679734.py:86: FutureWarning: The frame.append method is deprecated and will be removed from pandas in a future version. Use pandas.concat instead.\n",
      "  resultdf = resultdf.append(row_dict, ignore_index=True)\n",
      "C:\\Users\\Admin\\AppData\\Local\\Temp\\ipykernel_11920\\592679734.py:99: FutureWarning: The frame.append method is deprecated and will be removed from pandas in a future version. Use pandas.concat instead.\n",
      "  resultdf = resultdf.append(group_row, ignore_index=True)\n"
     ]
    },
    {
     "name": "stdout",
     "output_type": "stream",
     "text": [
      "Товар РБ: масло сливочное Товар РФ: Масло сливочное, кг\n"
     ]
    },
    {
     "name": "stderr",
     "output_type": "stream",
     "text": [
      "C:\\Users\\Admin\\AppData\\Local\\Temp\\ipykernel_11920\\592679734.py:86: FutureWarning: The frame.append method is deprecated and will be removed from pandas in a future version. Use pandas.concat instead.\n",
      "  resultdf = resultdf.append(row_dict, ignore_index=True)\n"
     ]
    },
    {
     "name": "stdout",
     "output_type": "stream",
     "text": [
      "Товар РБ: масло растительное (без оливкового) Товар РФ: Масло животное (сливочное)\n"
     ]
    },
    {
     "name": "stderr",
     "output_type": "stream",
     "text": [
      "C:\\Users\\Admin\\AppData\\Local\\Temp\\ipykernel_11920\\592679734.py:86: FutureWarning: The frame.append method is deprecated and will be removed from pandas in a future version. Use pandas.concat instead.\n",
      "  resultdf = resultdf.append(row_dict, ignore_index=True)\n"
     ]
    },
    {
     "name": "stdout",
     "output_type": "stream",
     "text": [
      "Товар РБ: масло оливковое Товар РФ: Оливковое масло\n"
     ]
    },
    {
     "name": "stderr",
     "output_type": "stream",
     "text": [
      "C:\\Users\\Admin\\AppData\\Local\\Temp\\ipykernel_11920\\592679734.py:86: FutureWarning: The frame.append method is deprecated and will be removed from pandas in a future version. Use pandas.concat instead.\n",
      "  resultdf = resultdf.append(row_dict, ignore_index=True)\n"
     ]
    },
    {
     "name": "stdout",
     "output_type": "stream",
     "text": [
      "Товар РБ: маргарин Товар РФ: Маргарин\n"
     ]
    },
    {
     "name": "stderr",
     "output_type": "stream",
     "text": [
      "C:\\Users\\Admin\\AppData\\Local\\Temp\\ipykernel_11920\\592679734.py:86: FutureWarning: The frame.append method is deprecated and will be removed from pandas in a future version. Use pandas.concat instead.\n",
      "  resultdf = resultdf.append(row_dict, ignore_index=True)\n",
      "C:\\Users\\Admin\\AppData\\Local\\Temp\\ipykernel_11920\\592679734.py:99: FutureWarning: The frame.append method is deprecated and will be removed from pandas in a future version. Use pandas.concat instead.\n",
      "  resultdf = resultdf.append(group_row, ignore_index=True)\n"
     ]
    },
    {
     "name": "stdout",
     "output_type": "stream",
     "text": [
      "Товар РБ: чай черный байховый Товар РФ: Чай\n"
     ]
    },
    {
     "name": "stderr",
     "output_type": "stream",
     "text": [
      "C:\\Users\\Admin\\AppData\\Local\\Temp\\ipykernel_11920\\592679734.py:86: FutureWarning: The frame.append method is deprecated and will be removed from pandas in a future version. Use pandas.concat instead.\n",
      "  resultdf = resultdf.append(row_dict, ignore_index=True)\n"
     ]
    },
    {
     "name": "stdout",
     "output_type": "stream",
     "text": [
      "Товар РБ: чай зеленый Товар РФ: Чай\n"
     ]
    },
    {
     "name": "stderr",
     "output_type": "stream",
     "text": [
      "C:\\Users\\Admin\\AppData\\Local\\Temp\\ipykernel_11920\\592679734.py:86: FutureWarning: The frame.append method is deprecated and will be removed from pandas in a future version. Use pandas.concat instead.\n",
      "  resultdf = resultdf.append(row_dict, ignore_index=True)\n",
      "C:\\Users\\Admin\\AppData\\Local\\Temp\\ipykernel_11920\\592679734.py:99: FutureWarning: The frame.append method is deprecated and will be removed from pandas in a future version. Use pandas.concat instead.\n",
      "  resultdf = resultdf.append(group_row, ignore_index=True)\n"
     ]
    },
    {
     "name": "stdout",
     "output_type": "stream",
     "text": [
      "Товар РБ: кофе натуральный молотый Товар РФ: Кофе\n"
     ]
    },
    {
     "name": "stderr",
     "output_type": "stream",
     "text": [
      "C:\\Users\\Admin\\AppData\\Local\\Temp\\ipykernel_11920\\592679734.py:86: FutureWarning: The frame.append method is deprecated and will be removed from pandas in a future version. Use pandas.concat instead.\n",
      "  resultdf = resultdf.append(row_dict, ignore_index=True)\n"
     ]
    },
    {
     "name": "stdout",
     "output_type": "stream",
     "text": [
      "Товар РБ: кофе растворимый Товар РФ: Кофе\n"
     ]
    },
    {
     "name": "stderr",
     "output_type": "stream",
     "text": [
      "C:\\Users\\Admin\\AppData\\Local\\Temp\\ipykernel_11920\\592679734.py:86: FutureWarning: The frame.append method is deprecated and will be removed from pandas in a future version. Use pandas.concat instead.\n",
      "  resultdf = resultdf.append(row_dict, ignore_index=True)\n",
      "C:\\Users\\Admin\\AppData\\Local\\Temp\\ipykernel_11920\\592679734.py:99: FutureWarning: The frame.append method is deprecated and will be removed from pandas in a future version. Use pandas.concat instead.\n",
      "  resultdf = resultdf.append(group_row, ignore_index=True)\n"
     ]
    },
    {
     "name": "stdout",
     "output_type": "stream",
     "text": [
      "Товар РБ: хлеб ржаной, ржано-пшеничный Товар РФ: Хлеб ржаной и прочий\n"
     ]
    },
    {
     "name": "stderr",
     "output_type": "stream",
     "text": [
      "C:\\Users\\Admin\\AppData\\Local\\Temp\\ipykernel_11920\\592679734.py:86: FutureWarning: The frame.append method is deprecated and will be removed from pandas in a future version. Use pandas.concat instead.\n",
      "  resultdf = resultdf.append(row_dict, ignore_index=True)\n"
     ]
    },
    {
     "name": "stdout",
     "output_type": "stream",
     "text": [
      "Товар РБ: хлеб, изделия булочные  (батон) из муки пшеничной  высшего сорта Товар РФ: Хлеб и булочные изделия из пшеничной муки высшего сорта, кг\n"
     ]
    },
    {
     "name": "stderr",
     "output_type": "stream",
     "text": [
      "C:\\Users\\Admin\\AppData\\Local\\Temp\\ipykernel_11920\\592679734.py:86: FutureWarning: The frame.append method is deprecated and will be removed from pandas in a future version. Use pandas.concat instead.\n",
      "  resultdf = resultdf.append(row_dict, ignore_index=True)\n"
     ]
    },
    {
     "name": "stdout",
     "output_type": "stream",
     "text": [
      "Товар РБ: хлеб, изделия булочные  (батон) из муки пшеничной первого сорта, с отрубями и цельзерновой Товар РФ: Хлеб и булочные изделия из пшеничной муки высшего сорта, кг\n"
     ]
    },
    {
     "name": "stderr",
     "output_type": "stream",
     "text": [
      "C:\\Users\\Admin\\AppData\\Local\\Temp\\ipykernel_11920\\592679734.py:86: FutureWarning: The frame.append method is deprecated and will be removed from pandas in a future version. Use pandas.concat instead.\n",
      "  resultdf = resultdf.append(row_dict, ignore_index=True)\n"
     ]
    },
    {
     "name": "stdout",
     "output_type": "stream",
     "text": [
      "Товар РБ: изделия булочные сдобные из муки пшеничной высшего сорта Товар РФ: Макаронные изделия из пшеничной муки высшего сорта, кг\n"
     ]
    },
    {
     "name": "stderr",
     "output_type": "stream",
     "text": [
      "C:\\Users\\Admin\\AppData\\Local\\Temp\\ipykernel_11920\\592679734.py:86: FutureWarning: The frame.append method is deprecated and will be removed from pandas in a future version. Use pandas.concat instead.\n",
      "  resultdf = resultdf.append(row_dict, ignore_index=True)\n",
      "C:\\Users\\Admin\\AppData\\Local\\Temp\\ipykernel_11920\\592679734.py:99: FutureWarning: The frame.append method is deprecated and will be removed from pandas in a future version. Use pandas.concat instead.\n",
      "  resultdf = resultdf.append(group_row, ignore_index=True)\n"
     ]
    },
    {
     "name": "stdout",
     "output_type": "stream",
     "text": [
      "Товар РБ: рис шлифованный, полированный (включая пропаренный) Товар РФ: Рис\n"
     ]
    },
    {
     "name": "stderr",
     "output_type": "stream",
     "text": [
      "C:\\Users\\Admin\\AppData\\Local\\Temp\\ipykernel_11920\\592679734.py:86: FutureWarning: The frame.append method is deprecated and will be removed from pandas in a future version. Use pandas.concat instead.\n",
      "  resultdf = resultdf.append(row_dict, ignore_index=True)\n"
     ]
    },
    {
     "name": "stdout",
     "output_type": "stream",
     "text": [
      "Товар РБ: крупа манная  Товар РФ: Крупа манная\n"
     ]
    },
    {
     "name": "stderr",
     "output_type": "stream",
     "text": [
      "C:\\Users\\Admin\\AppData\\Local\\Temp\\ipykernel_11920\\592679734.py:86: FutureWarning: The frame.append method is deprecated and will be removed from pandas in a future version. Use pandas.concat instead.\n",
      "  resultdf = resultdf.append(row_dict, ignore_index=True)\n"
     ]
    },
    {
     "name": "stdout",
     "output_type": "stream",
     "text": [
      "Товар РБ: крупа пшенная Товар РФ: Крупа манная\n"
     ]
    },
    {
     "name": "stderr",
     "output_type": "stream",
     "text": [
      "C:\\Users\\Admin\\AppData\\Local\\Temp\\ipykernel_11920\\592679734.py:86: FutureWarning: The frame.append method is deprecated and will be removed from pandas in a future version. Use pandas.concat instead.\n",
      "  resultdf = resultdf.append(row_dict, ignore_index=True)\n"
     ]
    },
    {
     "name": "stdout",
     "output_type": "stream",
     "text": [
      "Товар РБ: крупа гречневая  Товар РФ: Крупа гречневая\n"
     ]
    },
    {
     "name": "stderr",
     "output_type": "stream",
     "text": [
      "C:\\Users\\Admin\\AppData\\Local\\Temp\\ipykernel_11920\\592679734.py:86: FutureWarning: The frame.append method is deprecated and will be removed from pandas in a future version. Use pandas.concat instead.\n",
      "  resultdf = resultdf.append(row_dict, ignore_index=True)\n"
     ]
    },
    {
     "name": "stdout",
     "output_type": "stream",
     "text": [
      "Товар РБ: хлопья овсяные  Товар РФ: Хлопья из злаков (сухие завтраки), кг\n"
     ]
    },
    {
     "name": "stderr",
     "output_type": "stream",
     "text": [
      "C:\\Users\\Admin\\AppData\\Local\\Temp\\ipykernel_11920\\592679734.py:86: FutureWarning: The frame.append method is deprecated and will be removed from pandas in a future version. Use pandas.concat instead.\n",
      "  resultdf = resultdf.append(row_dict, ignore_index=True)\n"
     ]
    },
    {
     "name": "stdout",
     "output_type": "stream",
     "text": [
      "Товар РБ: хлопья кукурузные  Товар РФ: Хлопья из злаков (сухие завтраки), кг\n"
     ]
    },
    {
     "name": "stderr",
     "output_type": "stream",
     "text": [
      "C:\\Users\\Admin\\AppData\\Local\\Temp\\ipykernel_11920\\592679734.py:86: FutureWarning: The frame.append method is deprecated and will be removed from pandas in a future version. Use pandas.concat instead.\n",
      "  resultdf = resultdf.append(row_dict, ignore_index=True)\n"
     ]
    },
    {
     "name": "stdout",
     "output_type": "stream",
     "text": [
      "Товар РБ: крупа перловая  Товар РФ: Крупа манная\n"
     ]
    },
    {
     "name": "stderr",
     "output_type": "stream",
     "text": [
      "C:\\Users\\Admin\\AppData\\Local\\Temp\\ipykernel_11920\\592679734.py:86: FutureWarning: The frame.append method is deprecated and will be removed from pandas in a future version. Use pandas.concat instead.\n",
      "  resultdf = resultdf.append(row_dict, ignore_index=True)\n"
     ]
    },
    {
     "name": "stdout",
     "output_type": "stream",
     "text": [
      "Товар РБ: каши для детского и диетического питания Товар РФ: Смеси сухие молочные для детского питания, кг\n"
     ]
    },
    {
     "name": "stderr",
     "output_type": "stream",
     "text": [
      "C:\\Users\\Admin\\AppData\\Local\\Temp\\ipykernel_11920\\592679734.py:86: FutureWarning: The frame.append method is deprecated and will be removed from pandas in a future version. Use pandas.concat instead.\n",
      "  resultdf = resultdf.append(row_dict, ignore_index=True)\n"
     ]
    },
    {
     "name": "stdout",
     "output_type": "stream",
     "text": [
      "Товар РБ: горох, фасоль Товар РФ: Горох и фасоль, кг\n"
     ]
    },
    {
     "name": "stderr",
     "output_type": "stream",
     "text": [
      "C:\\Users\\Admin\\AppData\\Local\\Temp\\ipykernel_11920\\592679734.py:86: FutureWarning: The frame.append method is deprecated and will be removed from pandas in a future version. Use pandas.concat instead.\n",
      "  resultdf = resultdf.append(row_dict, ignore_index=True)\n",
      "C:\\Users\\Admin\\AppData\\Local\\Temp\\ipykernel_11920\\592679734.py:99: FutureWarning: The frame.append method is deprecated and will be removed from pandas in a future version. Use pandas.concat instead.\n",
      "  resultdf = resultdf.append(group_row, ignore_index=True)\n"
     ]
    },
    {
     "name": "stdout",
     "output_type": "stream",
     "text": [
      "Товар РБ: вермишель, лапша Товар РФ: Вермишель\n"
     ]
    },
    {
     "name": "stderr",
     "output_type": "stream",
     "text": [
      "C:\\Users\\Admin\\AppData\\Local\\Temp\\ipykernel_11920\\592679734.py:86: FutureWarning: The frame.append method is deprecated and will be removed from pandas in a future version. Use pandas.concat instead.\n",
      "  resultdf = resultdf.append(row_dict, ignore_index=True)\n",
      "C:\\Users\\Admin\\AppData\\Local\\Temp\\ipykernel_11920\\592679734.py:99: FutureWarning: The frame.append method is deprecated and will be removed from pandas in a future version. Use pandas.concat instead.\n",
      "  resultdf = resultdf.append(group_row, ignore_index=True)\n"
     ]
    },
    {
     "name": "stdout",
     "output_type": "stream",
     "text": [
      "Товар РБ: водка Товар РФ: Водка\n"
     ]
    },
    {
     "name": "stderr",
     "output_type": "stream",
     "text": [
      "C:\\Users\\Admin\\AppData\\Local\\Temp\\ipykernel_11920\\592679734.py:86: FutureWarning: The frame.append method is deprecated and will be removed from pandas in a future version. Use pandas.concat instead.\n",
      "  resultdf = resultdf.append(row_dict, ignore_index=True)\n"
     ]
    },
    {
     "name": "stdout",
     "output_type": "stream",
     "text": [
      "Товар РБ: коньяк Товар РФ: Коньяк ординарный отечественный, л\n"
     ]
    },
    {
     "name": "stderr",
     "output_type": "stream",
     "text": [
      "C:\\Users\\Admin\\AppData\\Local\\Temp\\ipykernel_11920\\592679734.py:86: FutureWarning: The frame.append method is deprecated and will be removed from pandas in a future version. Use pandas.concat instead.\n",
      "  resultdf = resultdf.append(row_dict, ignore_index=True)\n"
     ]
    },
    {
     "name": "stdout",
     "output_type": "stream",
     "text": [
      "Товар РБ: вино виноградное крепленое Товар РФ: Вино виноградное крепленое крепостью до 20% об.спирта, л\n"
     ]
    },
    {
     "name": "stderr",
     "output_type": "stream",
     "text": [
      "C:\\Users\\Admin\\AppData\\Local\\Temp\\ipykernel_11920\\592679734.py:86: FutureWarning: The frame.append method is deprecated and will be removed from pandas in a future version. Use pandas.concat instead.\n",
      "  resultdf = resultdf.append(row_dict, ignore_index=True)\n"
     ]
    },
    {
     "name": "stdout",
     "output_type": "stream",
     "text": [
      "Товар РБ: вино виноградное столовое Товар РФ: Вино виноградное столовое (сухое, полусухое, полусладкое) крепостью до 14% об.спирта и содержанием до 8% сахара, л\n"
     ]
    },
    {
     "name": "stderr",
     "output_type": "stream",
     "text": [
      "C:\\Users\\Admin\\AppData\\Local\\Temp\\ipykernel_11920\\592679734.py:86: FutureWarning: The frame.append method is deprecated and will be removed from pandas in a future version. Use pandas.concat instead.\n",
      "  resultdf = resultdf.append(row_dict, ignore_index=True)\n"
     ]
    },
    {
     "name": "stdout",
     "output_type": "stream",
     "text": [
      "Товар РБ: пиво Товар РФ: Пиво (НД)\n"
     ]
    },
    {
     "name": "stderr",
     "output_type": "stream",
     "text": [
      "C:\\Users\\Admin\\AppData\\Local\\Temp\\ipykernel_11920\\592679734.py:86: FutureWarning: The frame.append method is deprecated and will be removed from pandas in a future version. Use pandas.concat instead.\n",
      "  resultdf = resultdf.append(row_dict, ignore_index=True)\n",
      "C:\\Users\\Admin\\AppData\\Local\\Temp\\ipykernel_11920\\592679734.py:99: FutureWarning: The frame.append method is deprecated and will be removed from pandas in a future version. Use pandas.concat instead.\n",
      "  resultdf = resultdf.append(group_row, ignore_index=True)\n"
     ]
    },
    {
     "name": "stdout",
     "output_type": "stream",
     "text": [
      "Товар РБ: пряники Товар РФ: Пряники\n"
     ]
    },
    {
     "name": "stderr",
     "output_type": "stream",
     "text": [
      "C:\\Users\\Admin\\AppData\\Local\\Temp\\ipykernel_11920\\592679734.py:86: FutureWarning: The frame.append method is deprecated and will be removed from pandas in a future version. Use pandas.concat instead.\n",
      "  resultdf = resultdf.append(row_dict, ignore_index=True)\n"
     ]
    },
    {
     "name": "stdout",
     "output_type": "stream",
     "text": [
      "Товар РБ: печенье  Товар РФ: Печенье\n"
     ]
    },
    {
     "name": "stderr",
     "output_type": "stream",
     "text": [
      "C:\\Users\\Admin\\AppData\\Local\\Temp\\ipykernel_11920\\592679734.py:86: FutureWarning: The frame.append method is deprecated and will be removed from pandas in a future version. Use pandas.concat instead.\n",
      "  resultdf = resultdf.append(row_dict, ignore_index=True)\n"
     ]
    },
    {
     "name": "stdout",
     "output_type": "stream",
     "text": [
      "Товар РБ: карамель Товар РФ: Карамель\n"
     ]
    },
    {
     "name": "stderr",
     "output_type": "stream",
     "text": [
      "C:\\Users\\Admin\\AppData\\Local\\Temp\\ipykernel_11920\\592679734.py:86: FutureWarning: The frame.append method is deprecated and will be removed from pandas in a future version. Use pandas.concat instead.\n",
      "  resultdf = resultdf.append(row_dict, ignore_index=True)\n"
     ]
    },
    {
     "name": "stdout",
     "output_type": "stream",
     "text": [
      "Товар РБ: конфеты глазированные шоколадной глазурью Товар РФ: Конфеты шоколадные\n"
     ]
    },
    {
     "name": "stderr",
     "output_type": "stream",
     "text": [
      "C:\\Users\\Admin\\AppData\\Local\\Temp\\ipykernel_11920\\592679734.py:86: FutureWarning: The frame.append method is deprecated and will be removed from pandas in a future version. Use pandas.concat instead.\n",
      "  resultdf = resultdf.append(row_dict, ignore_index=True)\n"
     ]
    },
    {
     "name": "stdout",
     "output_type": "stream",
     "text": [
      "Товар РБ: конфеты глазированные кондитерской глазурью (типа \"Лимонные\", \"Осенние\") Товар РФ: Конфеты шоколадные\n"
     ]
    },
    {
     "name": "stderr",
     "output_type": "stream",
     "text": [
      "C:\\Users\\Admin\\AppData\\Local\\Temp\\ipykernel_11920\\592679734.py:86: FutureWarning: The frame.append method is deprecated and will be removed from pandas in a future version. Use pandas.concat instead.\n",
      "  resultdf = resultdf.append(row_dict, ignore_index=True)\n"
     ]
    },
    {
     "name": "stdout",
     "output_type": "stream",
     "text": [
      "Товар РБ: шоколад Товар РФ: Шоколад\n"
     ]
    },
    {
     "name": "stderr",
     "output_type": "stream",
     "text": [
      "C:\\Users\\Admin\\AppData\\Local\\Temp\\ipykernel_11920\\592679734.py:86: FutureWarning: The frame.append method is deprecated and will be removed from pandas in a future version. Use pandas.concat instead.\n",
      "  resultdf = resultdf.append(row_dict, ignore_index=True)\n"
     ]
    },
    {
     "name": "stdout",
     "output_type": "stream",
     "text": [
      "Товар РБ: зефир Товар РФ: Зефир, пастила\n"
     ]
    },
    {
     "name": "stderr",
     "output_type": "stream",
     "text": [
      "C:\\Users\\Admin\\AppData\\Local\\Temp\\ipykernel_11920\\592679734.py:86: FutureWarning: The frame.append method is deprecated and will be removed from pandas in a future version. Use pandas.concat instead.\n",
      "  resultdf = resultdf.append(row_dict, ignore_index=True)\n"
     ]
    },
    {
     "name": "stdout",
     "output_type": "stream",
     "text": [
      "Товар РБ: другие кондитерские изделия Товар РФ: Булочные изделия сдобные\n"
     ]
    },
    {
     "name": "stderr",
     "output_type": "stream",
     "text": [
      "C:\\Users\\Admin\\AppData\\Local\\Temp\\ipykernel_11920\\592679734.py:86: FutureWarning: The frame.append method is deprecated and will be removed from pandas in a future version. Use pandas.concat instead.\n",
      "  resultdf = resultdf.append(row_dict, ignore_index=True)\n"
     ]
    },
    {
     "name": "stdout",
     "output_type": "stream",
     "text": [
      "Товар РБ: какао Товар РФ: Какао, кг\n"
     ]
    },
    {
     "name": "stderr",
     "output_type": "stream",
     "text": [
      "C:\\Users\\Admin\\AppData\\Local\\Temp\\ipykernel_11920\\592679734.py:86: FutureWarning: The frame.append method is deprecated and will be removed from pandas in a future version. Use pandas.concat instead.\n",
      "  resultdf = resultdf.append(row_dict, ignore_index=True)\n",
      "C:\\Users\\Admin\\AppData\\Local\\Temp\\ipykernel_11920\\592679734.py:99: FutureWarning: The frame.append method is deprecated and will be removed from pandas in a future version. Use pandas.concat instead.\n",
      "  resultdf = resultdf.append(group_row, ignore_index=True)\n"
     ]
    },
    {
     "name": "stdout",
     "output_type": "stream",
     "text": [
      "Товар РБ: овощи консервированные Товар РФ: Овощи замороженные\n"
     ]
    },
    {
     "name": "stderr",
     "output_type": "stream",
     "text": [
      "C:\\Users\\Admin\\AppData\\Local\\Temp\\ipykernel_11920\\592679734.py:86: FutureWarning: The frame.append method is deprecated and will be removed from pandas in a future version. Use pandas.concat instead.\n",
      "  resultdf = resultdf.append(row_dict, ignore_index=True)\n"
     ]
    },
    {
     "name": "stdout",
     "output_type": "stream",
     "text": [
      "Товар РБ: консервы овощные, фруктово-овощные для детского и диетического питания Товар РФ: Мясные и мясорастительные консервы для детского питания\n"
     ]
    },
    {
     "name": "stderr",
     "output_type": "stream",
     "text": [
      "C:\\Users\\Admin\\AppData\\Local\\Temp\\ipykernel_11920\\592679734.py:86: FutureWarning: The frame.append method is deprecated and will be removed from pandas in a future version. Use pandas.concat instead.\n",
      "  resultdf = resultdf.append(row_dict, ignore_index=True)\n",
      "C:\\Users\\Admin\\AppData\\Local\\Temp\\ipykernel_11920\\592679734.py:99: FutureWarning: The frame.append method is deprecated and will be removed from pandas in a future version. Use pandas.concat instead.\n",
      "  resultdf = resultdf.append(group_row, ignore_index=True)\n"
     ]
    },
    {
     "name": "stdout",
     "output_type": "stream",
     "text": [
      "Товар РБ: фрукты консервированные Товар РФ: Другие фрукты\n"
     ]
    },
    {
     "name": "stderr",
     "output_type": "stream",
     "text": [
      "C:\\Users\\Admin\\AppData\\Local\\Temp\\ipykernel_11920\\592679734.py:86: FutureWarning: The frame.append method is deprecated and will be removed from pandas in a future version. Use pandas.concat instead.\n",
      "  resultdf = resultdf.append(row_dict, ignore_index=True)\n"
     ]
    },
    {
     "name": "stdout",
     "output_type": "stream",
     "text": [
      "Товар РБ: консервы фруктовые, фруктово-ягодные для детского и диетического питания Товар РФ: Мясные и мясорастительные консервы для детского питания\n"
     ]
    },
    {
     "name": "stderr",
     "output_type": "stream",
     "text": [
      "C:\\Users\\Admin\\AppData\\Local\\Temp\\ipykernel_11920\\592679734.py:86: FutureWarning: The frame.append method is deprecated and will be removed from pandas in a future version. Use pandas.concat instead.\n",
      "  resultdf = resultdf.append(row_dict, ignore_index=True)\n",
      "C:\\Users\\Admin\\AppData\\Local\\Temp\\ipykernel_11920\\592679734.py:99: FutureWarning: The frame.append method is deprecated and will be removed from pandas in a future version. Use pandas.concat instead.\n",
      "  resultdf = resultdf.append(group_row, ignore_index=True)\n"
     ]
    },
    {
     "name": "stdout",
     "output_type": "stream",
     "text": [
      "Товар РБ: картофель Товар РФ: Картофель свежий и охлажденный\n"
     ]
    },
    {
     "name": "stderr",
     "output_type": "stream",
     "text": [
      "C:\\Users\\Admin\\AppData\\Local\\Temp\\ipykernel_11920\\592679734.py:86: FutureWarning: The frame.append method is deprecated and will be removed from pandas in a future version. Use pandas.concat instead.\n",
      "  resultdf = resultdf.append(row_dict, ignore_index=True)\n",
      "C:\\Users\\Admin\\AppData\\Local\\Temp\\ipykernel_11920\\592679734.py:99: FutureWarning: The frame.append method is deprecated and will be removed from pandas in a future version. Use pandas.concat instead.\n",
      "  resultdf = resultdf.append(group_row, ignore_index=True)\n"
     ]
    },
    {
     "name": "stdout",
     "output_type": "stream",
     "text": [
      "Товар РБ: капуста белокочанная свежая Товар РФ: Капуста белокочанная свежая, кг\n"
     ]
    },
    {
     "name": "stderr",
     "output_type": "stream",
     "text": [
      "C:\\Users\\Admin\\AppData\\Local\\Temp\\ipykernel_11920\\592679734.py:86: FutureWarning: The frame.append method is deprecated and will be removed from pandas in a future version. Use pandas.concat instead.\n",
      "  resultdf = resultdf.append(row_dict, ignore_index=True)\n"
     ]
    },
    {
     "name": "stdout",
     "output_type": "stream",
     "text": [
      "Товар РБ: лук репчатый Товар РФ: Лук репчатый, кг\n"
     ]
    },
    {
     "name": "stderr",
     "output_type": "stream",
     "text": [
      "C:\\Users\\Admin\\AppData\\Local\\Temp\\ipykernel_11920\\592679734.py:86: FutureWarning: The frame.append method is deprecated and will be removed from pandas in a future version. Use pandas.concat instead.\n",
      "  resultdf = resultdf.append(row_dict, ignore_index=True)\n"
     ]
    },
    {
     "name": "stdout",
     "output_type": "stream",
     "text": [
      "Товар РБ: морковь Товар РФ: Морковь\n"
     ]
    },
    {
     "name": "stderr",
     "output_type": "stream",
     "text": [
      "C:\\Users\\Admin\\AppData\\Local\\Temp\\ipykernel_11920\\592679734.py:86: FutureWarning: The frame.append method is deprecated and will be removed from pandas in a future version. Use pandas.concat instead.\n",
      "  resultdf = resultdf.append(row_dict, ignore_index=True)\n"
     ]
    },
    {
     "name": "stdout",
     "output_type": "stream",
     "text": [
      "Товар РБ: помидоры свежие Товар РФ: Помидоры свежие, кг\n"
     ]
    },
    {
     "name": "stderr",
     "output_type": "stream",
     "text": [
      "C:\\Users\\Admin\\AppData\\Local\\Temp\\ipykernel_11920\\592679734.py:86: FutureWarning: The frame.append method is deprecated and will be removed from pandas in a future version. Use pandas.concat instead.\n",
      "  resultdf = resultdf.append(row_dict, ignore_index=True)\n"
     ]
    },
    {
     "name": "stdout",
     "output_type": "stream",
     "text": [
      "Товар РБ: огурцы свежие Товар РФ: Огурцы свежие, кг\n"
     ]
    },
    {
     "name": "stderr",
     "output_type": "stream",
     "text": [
      "C:\\Users\\Admin\\AppData\\Local\\Temp\\ipykernel_11920\\592679734.py:86: FutureWarning: The frame.append method is deprecated and will be removed from pandas in a future version. Use pandas.concat instead.\n",
      "  resultdf = resultdf.append(row_dict, ignore_index=True)\n"
     ]
    },
    {
     "name": "stdout",
     "output_type": "stream",
     "text": [
      "Товар РБ: лук зеленый Товар РФ: Лук и чеснок\n"
     ]
    },
    {
     "name": "stderr",
     "output_type": "stream",
     "text": [
      "C:\\Users\\Admin\\AppData\\Local\\Temp\\ipykernel_11920\\592679734.py:86: FutureWarning: The frame.append method is deprecated and will be removed from pandas in a future version. Use pandas.concat instead.\n",
      "  resultdf = resultdf.append(row_dict, ignore_index=True)\n"
     ]
    },
    {
     "name": "stdout",
     "output_type": "stream",
     "text": [
      "Товар РБ: чеснок Товар РФ: Чеснок, кг\n"
     ]
    },
    {
     "name": "stderr",
     "output_type": "stream",
     "text": [
      "C:\\Users\\Admin\\AppData\\Local\\Temp\\ipykernel_11920\\592679734.py:86: FutureWarning: The frame.append method is deprecated and will be removed from pandas in a future version. Use pandas.concat instead.\n",
      "  resultdf = resultdf.append(row_dict, ignore_index=True)\n"
     ]
    },
    {
     "name": "stdout",
     "output_type": "stream",
     "text": [
      "Товар РБ: перец сладкий Товар РФ: Перец черный (горошек), кг\n"
     ]
    },
    {
     "name": "stderr",
     "output_type": "stream",
     "text": [
      "C:\\Users\\Admin\\AppData\\Local\\Temp\\ipykernel_11920\\592679734.py:86: FutureWarning: The frame.append method is deprecated and will be removed from pandas in a future version. Use pandas.concat instead.\n",
      "  resultdf = resultdf.append(row_dict, ignore_index=True)\n",
      "C:\\Users\\Admin\\AppData\\Local\\Temp\\ipykernel_11920\\592679734.py:99: FutureWarning: The frame.append method is deprecated and will be removed from pandas in a future version. Use pandas.concat instead.\n",
      "  resultdf = resultdf.append(group_row, ignore_index=True)\n"
     ]
    },
    {
     "name": "stdout",
     "output_type": "stream",
     "text": [
      "Товар РБ: яблоки Товар РФ: Яблоки\n"
     ]
    },
    {
     "name": "stderr",
     "output_type": "stream",
     "text": [
      "C:\\Users\\Admin\\AppData\\Local\\Temp\\ipykernel_11920\\592679734.py:86: FutureWarning: The frame.append method is deprecated and will be removed from pandas in a future version. Use pandas.concat instead.\n",
      "  resultdf = resultdf.append(row_dict, ignore_index=True)\n"
     ]
    },
    {
     "name": "stdout",
     "output_type": "stream",
     "text": [
      "Товар РБ: груши Товар РФ: Груши, кг\n"
     ]
    },
    {
     "name": "stderr",
     "output_type": "stream",
     "text": [
      "C:\\Users\\Admin\\AppData\\Local\\Temp\\ipykernel_11920\\592679734.py:86: FutureWarning: The frame.append method is deprecated and will be removed from pandas in a future version. Use pandas.concat instead.\n",
      "  resultdf = resultdf.append(row_dict, ignore_index=True)\n"
     ]
    },
    {
     "name": "stdout",
     "output_type": "stream",
     "text": [
      "Товар РБ: виноград Товар РФ: Виноград\n"
     ]
    },
    {
     "name": "stderr",
     "output_type": "stream",
     "text": [
      "C:\\Users\\Admin\\AppData\\Local\\Temp\\ipykernel_11920\\592679734.py:86: FutureWarning: The frame.append method is deprecated and will be removed from pandas in a future version. Use pandas.concat instead.\n",
      "  resultdf = resultdf.append(row_dict, ignore_index=True)\n"
     ]
    },
    {
     "name": "stdout",
     "output_type": "stream",
     "text": [
      "Товар РБ: бананы Товар РФ: Бананы\n"
     ]
    },
    {
     "name": "stderr",
     "output_type": "stream",
     "text": [
      "C:\\Users\\Admin\\AppData\\Local\\Temp\\ipykernel_11920\\592679734.py:86: FutureWarning: The frame.append method is deprecated and will be removed from pandas in a future version. Use pandas.concat instead.\n",
      "  resultdf = resultdf.append(row_dict, ignore_index=True)\n"
     ]
    },
    {
     "name": "stdout",
     "output_type": "stream",
     "text": [
      "Товар РБ: ягоды Товар РФ: Ягоды замороженные, кг\n"
     ]
    },
    {
     "name": "stderr",
     "output_type": "stream",
     "text": [
      "C:\\Users\\Admin\\AppData\\Local\\Temp\\ipykernel_11920\\592679734.py:86: FutureWarning: The frame.append method is deprecated and will be removed from pandas in a future version. Use pandas.concat instead.\n",
      "  resultdf = resultdf.append(row_dict, ignore_index=True)\n",
      "C:\\Users\\Admin\\AppData\\Local\\Temp\\ipykernel_11920\\592679734.py:99: FutureWarning: The frame.append method is deprecated and will be removed from pandas in a future version. Use pandas.concat instead.\n",
      "  resultdf = resultdf.append(group_row, ignore_index=True)\n"
     ]
    },
    {
     "name": "stdout",
     "output_type": "stream",
     "text": [
      "Товар РБ: напитки безалкогольные  Товар РФ: Напитки газированные, л\n"
     ]
    },
    {
     "name": "stderr",
     "output_type": "stream",
     "text": [
      "C:\\Users\\Admin\\AppData\\Local\\Temp\\ipykernel_11920\\592679734.py:86: FutureWarning: The frame.append method is deprecated and will be removed from pandas in a future version. Use pandas.concat instead.\n",
      "  resultdf = resultdf.append(row_dict, ignore_index=True)\n"
     ]
    },
    {
     "name": "stdout",
     "output_type": "stream",
     "text": [
      "Товар РБ: вода минеральная и питьевая Товар РФ: Вода минеральная и питьевая, л\n"
     ]
    },
    {
     "name": "stderr",
     "output_type": "stream",
     "text": [
      "C:\\Users\\Admin\\AppData\\Local\\Temp\\ipykernel_11920\\592679734.py:86: FutureWarning: The frame.append method is deprecated and will be removed from pandas in a future version. Use pandas.concat instead.\n",
      "  resultdf = resultdf.append(row_dict, ignore_index=True)\n",
      "C:\\Users\\Admin\\AppData\\Local\\Temp\\ipykernel_11920\\592679734.py:99: FutureWarning: The frame.append method is deprecated and will be removed from pandas in a future version. Use pandas.concat instead.\n",
      "  resultdf = resultdf.append(group_row, ignore_index=True)\n"
     ]
    },
    {
     "name": "stdout",
     "output_type": "stream",
     "text": [
      "Товар РБ: продукция организаций общественного питания быстрого обслуживания (типа \"Гамбургер\", пицца и прочее) Товар РФ: Смеси сухие молочные для детского питания, кг\n"
     ]
    },
    {
     "name": "stderr",
     "output_type": "stream",
     "text": [
      "C:\\Users\\Admin\\AppData\\Local\\Temp\\ipykernel_11920\\592679734.py:86: FutureWarning: The frame.append method is deprecated and will be removed from pandas in a future version. Use pandas.concat instead.\n",
      "  resultdf = resultdf.append(row_dict, ignore_index=True)\n"
     ]
    },
    {
     "name": "stdout",
     "output_type": "stream",
     "text": [
      "Товар РБ: кофе Товар РФ: Кофе\n"
     ]
    },
    {
     "name": "stderr",
     "output_type": "stream",
     "text": [
      "C:\\Users\\Admin\\AppData\\Local\\Temp\\ipykernel_11920\\592679734.py:86: FutureWarning: The frame.append method is deprecated and will be removed from pandas in a future version. Use pandas.concat instead.\n",
      "  resultdf = resultdf.append(row_dict, ignore_index=True)\n",
      "C:\\Users\\Admin\\AppData\\Local\\Temp\\ipykernel_11920\\592679734.py:99: FutureWarning: The frame.append method is deprecated and will be removed from pandas in a future version. Use pandas.concat instead.\n",
      "  resultdf = resultdf.append(group_row, ignore_index=True)\n"
     ]
    },
    {
     "name": "stdout",
     "output_type": "stream",
     "text": [
      "Товар РБ: майонез Товар РФ: Майонез\n"
     ]
    },
    {
     "name": "stderr",
     "output_type": "stream",
     "text": [
      "C:\\Users\\Admin\\AppData\\Local\\Temp\\ipykernel_11920\\592679734.py:86: FutureWarning: The frame.append method is deprecated and will be removed from pandas in a future version. Use pandas.concat instead.\n",
      "  resultdf = resultdf.append(row_dict, ignore_index=True)\n"
     ]
    },
    {
     "name": "stdout",
     "output_type": "stream",
     "text": [
      "Товар РБ: горчица пищевая  Товар РФ: Соль поваренная пищевая, кг\n"
     ]
    },
    {
     "name": "stderr",
     "output_type": "stream",
     "text": [
      "C:\\Users\\Admin\\AppData\\Local\\Temp\\ipykernel_11920\\592679734.py:86: FutureWarning: The frame.append method is deprecated and will be removed from pandas in a future version. Use pandas.concat instead.\n",
      "  resultdf = resultdf.append(row_dict, ignore_index=True)\n"
     ]
    },
    {
     "name": "stdout",
     "output_type": "stream",
     "text": [
      "Товар РБ: кетчуп Товар РФ: Кетчуп\n"
     ]
    },
    {
     "name": "stderr",
     "output_type": "stream",
     "text": [
      "C:\\Users\\Admin\\AppData\\Local\\Temp\\ipykernel_11920\\592679734.py:86: FutureWarning: The frame.append method is deprecated and will be removed from pandas in a future version. Use pandas.concat instead.\n",
      "  resultdf = resultdf.append(row_dict, ignore_index=True)\n"
     ]
    },
    {
     "name": "stdout",
     "output_type": "stream",
     "text": [
      "Товар РБ: сода пищевая Товар РФ: Соль поваренная пищевая, кг\n"
     ]
    },
    {
     "name": "stderr",
     "output_type": "stream",
     "text": [
      "C:\\Users\\Admin\\AppData\\Local\\Temp\\ipykernel_11920\\592679734.py:86: FutureWarning: The frame.append method is deprecated and will be removed from pandas in a future version. Use pandas.concat instead.\n",
      "  resultdf = resultdf.append(row_dict, ignore_index=True)\n"
     ]
    },
    {
     "name": "stdout",
     "output_type": "stream",
     "text": [
      "Товар РБ: перец  Товар РФ: Перец черный (горошек), кг\n"
     ]
    },
    {
     "name": "stderr",
     "output_type": "stream",
     "text": [
      "C:\\Users\\Admin\\AppData\\Local\\Temp\\ipykernel_11920\\592679734.py:86: FutureWarning: The frame.append method is deprecated and will be removed from pandas in a future version. Use pandas.concat instead.\n",
      "  resultdf = resultdf.append(row_dict, ignore_index=True)\n"
     ]
    },
    {
     "name": "stdout",
     "output_type": "stream",
     "text": [
      "Товар РБ: прочие сухие пищевые специи и пряности Товар РФ: Кулинарные травы и пряности\n"
     ]
    },
    {
     "name": "stderr",
     "output_type": "stream",
     "text": [
      "C:\\Users\\Admin\\AppData\\Local\\Temp\\ipykernel_11920\\592679734.py:86: FutureWarning: The frame.append method is deprecated and will be removed from pandas in a future version. Use pandas.concat instead.\n",
      "  resultdf = resultdf.append(row_dict, ignore_index=True)\n"
     ]
    },
    {
     "name": "stdout",
     "output_type": "stream",
     "text": [
      "Товар РБ: супы сухие, кубики бульонные  Товар РФ: Сухие супы в пакетах, 100 г\n"
     ]
    },
    {
     "name": "stderr",
     "output_type": "stream",
     "text": [
      "C:\\Users\\Admin\\AppData\\Local\\Temp\\ipykernel_11920\\592679734.py:86: FutureWarning: The frame.append method is deprecated and will be removed from pandas in a future version. Use pandas.concat instead.\n",
      "  resultdf = resultdf.append(row_dict, ignore_index=True)\n"
     ]
    },
    {
     "name": "stdout",
     "output_type": "stream",
     "text": [
      "Товар РБ: жевательная резинка Товар РФ: Жевательная резинка, упаковка\n"
     ]
    },
    {
     "name": "stderr",
     "output_type": "stream",
     "text": [
      "C:\\Users\\Admin\\AppData\\Local\\Temp\\ipykernel_11920\\592679734.py:86: FutureWarning: The frame.append method is deprecated and will be removed from pandas in a future version. Use pandas.concat instead.\n",
      "  resultdf = resultdf.append(row_dict, ignore_index=True)\n"
     ]
    }
   ],
   "source": [
    "prod_rb_rf = compare_rb_rf(prodRB, prodRF, 0.1, 0.035618, 0.35, 0.6, 0.05)"
   ]
  },
  {
   "cell_type": "code",
   "execution_count": 281,
   "metadata": {},
   "outputs": [
    {
     "name": "stderr",
     "output_type": "stream",
     "text": [
      "C:\\Users\\Admin\\AppData\\Local\\Temp\\ipykernel_11920\\592679734.py:99: FutureWarning: The frame.append method is deprecated and will be removed from pandas in a future version. Use pandas.concat instead.\n",
      "  resultdf = resultdf.append(group_row, ignore_index=True)\n"
     ]
    },
    {
     "name": "stdout",
     "output_type": "stream",
     "text": [
      "Товар РБ: куртка утепленная  Товар РФ: Куртка мужская с верхом из плащевых тканей утепленная, шт.\n"
     ]
    },
    {
     "name": "stderr",
     "output_type": "stream",
     "text": [
      "C:\\Users\\Admin\\AppData\\Local\\Temp\\ipykernel_11920\\592679734.py:86: FutureWarning: The frame.append method is deprecated and will be removed from pandas in a future version. Use pandas.concat instead.\n",
      "  resultdf = resultdf.append(row_dict, ignore_index=True)\n"
     ]
    },
    {
     "name": "stdout",
     "output_type": "stream",
     "text": [
      "Товар РБ: пальто (полупальто) демисезонное  Товар РФ: Пальто женское демисезонное из шерстяных или полушерстяных тканей, шт.\n"
     ]
    },
    {
     "name": "stderr",
     "output_type": "stream",
     "text": [
      "C:\\Users\\Admin\\AppData\\Local\\Temp\\ipykernel_11920\\592679734.py:86: FutureWarning: The frame.append method is deprecated and will be removed from pandas in a future version. Use pandas.concat instead.\n",
      "  resultdf = resultdf.append(row_dict, ignore_index=True)\n"
     ]
    },
    {
     "name": "stdout",
     "output_type": "stream",
     "text": [
      "Товар РБ: куртка (типа ветровки) Товар РФ: Куртка мужская без утеплителя (ветровка), шт.\n"
     ]
    },
    {
     "name": "stderr",
     "output_type": "stream",
     "text": [
      "C:\\Users\\Admin\\AppData\\Local\\Temp\\ipykernel_11920\\592679734.py:86: FutureWarning: The frame.append method is deprecated and will be removed from pandas in a future version. Use pandas.concat instead.\n",
      "  resultdf = resultdf.append(row_dict, ignore_index=True)\n"
     ]
    },
    {
     "name": "stdout",
     "output_type": "stream",
     "text": [
      "Товар РБ: костюм Товар РФ: Костюм спортивный для взрослых, шт.\n"
     ]
    },
    {
     "name": "stderr",
     "output_type": "stream",
     "text": [
      "C:\\Users\\Admin\\AppData\\Local\\Temp\\ipykernel_11920\\592679734.py:86: FutureWarning: The frame.append method is deprecated and will be removed from pandas in a future version. Use pandas.concat instead.\n",
      "  resultdf = resultdf.append(row_dict, ignore_index=True)\n"
     ]
    },
    {
     "name": "stdout",
     "output_type": "stream",
     "text": [
      "Товар РБ: джинсы Товар РФ: Куртка мужская без утеплителя (ветровка), шт.\n"
     ]
    },
    {
     "name": "stderr",
     "output_type": "stream",
     "text": [
      "C:\\Users\\Admin\\AppData\\Local\\Temp\\ipykernel_11920\\592679734.py:86: FutureWarning: The frame.append method is deprecated and will be removed from pandas in a future version. Use pandas.concat instead.\n",
      "  resultdf = resultdf.append(row_dict, ignore_index=True)\n"
     ]
    },
    {
     "name": "stdout",
     "output_type": "stream",
     "text": [
      "Товар РБ: брюки Товар РФ: Брюки\n"
     ]
    },
    {
     "name": "stderr",
     "output_type": "stream",
     "text": [
      "C:\\Users\\Admin\\AppData\\Local\\Temp\\ipykernel_11920\\592679734.py:86: FutureWarning: The frame.append method is deprecated and will be removed from pandas in a future version. Use pandas.concat instead.\n",
      "  resultdf = resultdf.append(row_dict, ignore_index=True)\n"
     ]
    },
    {
     "name": "stdout",
     "output_type": "stream",
     "text": [
      "Товар РБ: сорочка верхняя  Товар РФ: Сорочка верхняя мужская из хлопчатобумажных или смесовых тканей, шт.\n"
     ]
    },
    {
     "name": "stderr",
     "output_type": "stream",
     "text": [
      "C:\\Users\\Admin\\AppData\\Local\\Temp\\ipykernel_11920\\592679734.py:86: FutureWarning: The frame.append method is deprecated and will be removed from pandas in a future version. Use pandas.concat instead.\n",
      "  resultdf = resultdf.append(row_dict, ignore_index=True)\n"
     ]
    },
    {
     "name": "stdout",
     "output_type": "stream",
     "text": [
      "Товар РБ: костюм спортивный  Товар РФ: Костюм спортивный для взрослых, шт.\n"
     ]
    },
    {
     "name": "stderr",
     "output_type": "stream",
     "text": [
      "C:\\Users\\Admin\\AppData\\Local\\Temp\\ipykernel_11920\\592679734.py:86: FutureWarning: The frame.append method is deprecated and will be removed from pandas in a future version. Use pandas.concat instead.\n",
      "  resultdf = resultdf.append(row_dict, ignore_index=True)\n"
     ]
    },
    {
     "name": "stdout",
     "output_type": "stream",
     "text": [
      "Товар РБ: свитер, джемпер из шерстяной или полушерстяной пряжи Товар РФ: Шарф шерстяной, полушерстяной или из смесовой пряжи для взрослых, шт.\n"
     ]
    },
    {
     "name": "stderr",
     "output_type": "stream",
     "text": [
      "C:\\Users\\Admin\\AppData\\Local\\Temp\\ipykernel_11920\\592679734.py:86: FutureWarning: The frame.append method is deprecated and will be removed from pandas in a future version. Use pandas.concat instead.\n",
      "  resultdf = resultdf.append(row_dict, ignore_index=True)\n"
     ]
    },
    {
     "name": "stdout",
     "output_type": "stream",
     "text": [
      "Товар РБ: свитер, джемпер из синтетической или смесовой пряжи Товар РФ: Джемпер женский, шт.\n"
     ]
    },
    {
     "name": "stderr",
     "output_type": "stream",
     "text": [
      "C:\\Users\\Admin\\AppData\\Local\\Temp\\ipykernel_11920\\592679734.py:86: FutureWarning: The frame.append method is deprecated and will be removed from pandas in a future version. Use pandas.concat instead.\n",
      "  resultdf = resultdf.append(row_dict, ignore_index=True)\n"
     ]
    },
    {
     "name": "stdout",
     "output_type": "stream",
     "text": [
      "Товар РБ: майка Товар РФ: Майка, футболка мужская бельевая, шт.\n"
     ]
    },
    {
     "name": "stderr",
     "output_type": "stream",
     "text": [
      "C:\\Users\\Admin\\AppData\\Local\\Temp\\ipykernel_11920\\592679734.py:86: FutureWarning: The frame.append method is deprecated and will be removed from pandas in a future version. Use pandas.concat instead.\n",
      "  resultdf = resultdf.append(row_dict, ignore_index=True)\n"
     ]
    },
    {
     "name": "stdout",
     "output_type": "stream",
     "text": [
      "Товар РБ: трусы Товар РФ: Трусы детские, шт.\n"
     ]
    },
    {
     "name": "stderr",
     "output_type": "stream",
     "text": [
      "C:\\Users\\Admin\\AppData\\Local\\Temp\\ipykernel_11920\\592679734.py:86: FutureWarning: The frame.append method is deprecated and will be removed from pandas in a future version. Use pandas.concat instead.\n",
      "  resultdf = resultdf.append(row_dict, ignore_index=True)\n"
     ]
    },
    {
     "name": "stdout",
     "output_type": "stream",
     "text": [
      "Товар РБ: фуфайка, тенниска из хлопчатобумажного или смесового трикотажного полотна Товар РФ: Трусы мужские из хлопчатобумажного трикотажного полотна, шт.\n"
     ]
    },
    {
     "name": "stderr",
     "output_type": "stream",
     "text": [
      "C:\\Users\\Admin\\AppData\\Local\\Temp\\ipykernel_11920\\592679734.py:86: FutureWarning: The frame.append method is deprecated and will be removed from pandas in a future version. Use pandas.concat instead.\n",
      "  resultdf = resultdf.append(row_dict, ignore_index=True)\n"
     ]
    },
    {
     "name": "stdout",
     "output_type": "stream",
     "text": [
      "Товар РБ: носки из хлопчатобумажной и смесовой пряжи Товар РФ: Шарф шерстяной, полушерстяной или из смесовой пряжи для взрослых, шт.\n"
     ]
    },
    {
     "name": "stderr",
     "output_type": "stream",
     "text": [
      "C:\\Users\\Admin\\AppData\\Local\\Temp\\ipykernel_11920\\592679734.py:86: FutureWarning: The frame.append method is deprecated and will be removed from pandas in a future version. Use pandas.concat instead.\n",
      "  resultdf = resultdf.append(row_dict, ignore_index=True)\n"
     ]
    },
    {
     "name": "stdout",
     "output_type": "stream",
     "text": [
      "Товар РБ: носки из полушерстяной пряжи Товар РФ: Шарф шерстяной, полушерстяной или из смесовой пряжи для взрослых, шт.\n"
     ]
    },
    {
     "name": "stderr",
     "output_type": "stream",
     "text": [
      "C:\\Users\\Admin\\AppData\\Local\\Temp\\ipykernel_11920\\592679734.py:86: FutureWarning: The frame.append method is deprecated and will be removed from pandas in a future version. Use pandas.concat instead.\n",
      "  resultdf = resultdf.append(row_dict, ignore_index=True)\n"
     ]
    },
    {
     "name": "stdout",
     "output_type": "stream",
     "text": [
      "Товар РБ: шляпа, кепка, бейсболка Товар РФ: Куртка мужская без утеплителя (ветровка), шт.\n"
     ]
    },
    {
     "name": "stderr",
     "output_type": "stream",
     "text": [
      "C:\\Users\\Admin\\AppData\\Local\\Temp\\ipykernel_11920\\592679734.py:86: FutureWarning: The frame.append method is deprecated and will be removed from pandas in a future version. Use pandas.concat instead.\n",
      "  resultdf = resultdf.append(row_dict, ignore_index=True)\n"
     ]
    },
    {
     "name": "stdout",
     "output_type": "stream",
     "text": [
      "Товар РБ: пиджак из полушерстяной, синтетической или смесовой ткани Товар РФ: Ткани хлопчатобумажные бельевые, м\n"
     ]
    },
    {
     "name": "stderr",
     "output_type": "stream",
     "text": [
      "C:\\Users\\Admin\\AppData\\Local\\Temp\\ipykernel_11920\\592679734.py:86: FutureWarning: The frame.append method is deprecated and will be removed from pandas in a future version. Use pandas.concat instead.\n",
      "  resultdf = resultdf.append(row_dict, ignore_index=True)\n"
     ]
    },
    {
     "name": "stdout",
     "output_type": "stream",
     "text": [
      "Товар РБ: пальто зимнее Товар РФ: Пальто, плащи, куртки кожаные\n"
     ]
    },
    {
     "name": "stderr",
     "output_type": "stream",
     "text": [
      "C:\\Users\\Admin\\AppData\\Local\\Temp\\ipykernel_11920\\592679734.py:86: FutureWarning: The frame.append method is deprecated and will be removed from pandas in a future version. Use pandas.concat instead.\n",
      "  resultdf = resultdf.append(row_dict, ignore_index=True)\n"
     ]
    },
    {
     "name": "stdout",
     "output_type": "stream",
     "text": [
      "Товар РБ: дубленка Товар РФ: Блузка женская, шт.\n"
     ]
    },
    {
     "name": "stderr",
     "output_type": "stream",
     "text": [
      "C:\\Users\\Admin\\AppData\\Local\\Temp\\ipykernel_11920\\592679734.py:86: FutureWarning: The frame.append method is deprecated and will be removed from pandas in a future version. Use pandas.concat instead.\n",
      "  resultdf = resultdf.append(row_dict, ignore_index=True)\n"
     ]
    },
    {
     "name": "stdout",
     "output_type": "stream",
     "text": [
      "Товар РБ: пальто демисезонное Товар РФ: Пальто женское демисезонное из шерстяных или полушерстяных тканей, шт.\n"
     ]
    },
    {
     "name": "stderr",
     "output_type": "stream",
     "text": [
      "C:\\Users\\Admin\\AppData\\Local\\Temp\\ipykernel_11920\\592679734.py:86: FutureWarning: The frame.append method is deprecated and will be removed from pandas in a future version. Use pandas.concat instead.\n",
      "  resultdf = resultdf.append(row_dict, ignore_index=True)\n"
     ]
    },
    {
     "name": "stdout",
     "output_type": "stream",
     "text": [
      "Товар РБ: куртка Товар РФ: Куртка женская без утеплителя (ветровка), шт.\n"
     ]
    },
    {
     "name": "stderr",
     "output_type": "stream",
     "text": [
      "C:\\Users\\Admin\\AppData\\Local\\Temp\\ipykernel_11920\\592679734.py:86: FutureWarning: The frame.append method is deprecated and will be removed from pandas in a future version. Use pandas.concat instead.\n",
      "  resultdf = resultdf.append(row_dict, ignore_index=True)\n"
     ]
    },
    {
     "name": "stdout",
     "output_type": "stream",
     "text": [
      "Товар РБ: костюм из полушерстяной, смесовой или синтетической ткани Товар РФ: Ткани хлопчатобумажные бельевые, м\n"
     ]
    },
    {
     "name": "stderr",
     "output_type": "stream",
     "text": [
      "C:\\Users\\Admin\\AppData\\Local\\Temp\\ipykernel_11920\\592679734.py:86: FutureWarning: The frame.append method is deprecated and will be removed from pandas in a future version. Use pandas.concat instead.\n",
      "  resultdf = resultdf.append(row_dict, ignore_index=True)\n"
     ]
    },
    {
     "name": "stdout",
     "output_type": "stream",
     "text": [
      "Товар РБ: костюм из трикотажного полотна Товар РФ: Костюм спортивный для взрослых, шт.\n"
     ]
    },
    {
     "name": "stderr",
     "output_type": "stream",
     "text": [
      "C:\\Users\\Admin\\AppData\\Local\\Temp\\ipykernel_11920\\592679734.py:86: FutureWarning: The frame.append method is deprecated and will be removed from pandas in a future version. Use pandas.concat instead.\n",
      "  resultdf = resultdf.append(row_dict, ignore_index=True)\n"
     ]
    },
    {
     "name": "stdout",
     "output_type": "stream",
     "text": [
      "Товар РБ: пиджак (жакет) Товар РФ: Пиджак, жакет женский из шерстяных, полушерстяных или смесовых тканей, шт.\n"
     ]
    },
    {
     "name": "stderr",
     "output_type": "stream",
     "text": [
      "C:\\Users\\Admin\\AppData\\Local\\Temp\\ipykernel_11920\\592679734.py:86: FutureWarning: The frame.append method is deprecated and will be removed from pandas in a future version. Use pandas.concat instead.\n",
      "  resultdf = resultdf.append(row_dict, ignore_index=True)\n"
     ]
    },
    {
     "name": "stdout",
     "output_type": "stream",
     "text": [
      "Товар РБ: юбка   Товар РФ: Юбка женская из полушерстяных или смесовых тканей, шт.\n"
     ]
    },
    {
     "name": "stderr",
     "output_type": "stream",
     "text": [
      "C:\\Users\\Admin\\AppData\\Local\\Temp\\ipykernel_11920\\592679734.py:86: FutureWarning: The frame.append method is deprecated and will be removed from pandas in a future version. Use pandas.concat instead.\n",
      "  resultdf = resultdf.append(row_dict, ignore_index=True)\n"
     ]
    },
    {
     "name": "stdout",
     "output_type": "stream",
     "text": [
      "Товар РБ: джинсы Товар РФ: Блузка женская, шт.\n"
     ]
    },
    {
     "name": "stderr",
     "output_type": "stream",
     "text": [
      "C:\\Users\\Admin\\AppData\\Local\\Temp\\ipykernel_11920\\592679734.py:86: FutureWarning: The frame.append method is deprecated and will be removed from pandas in a future version. Use pandas.concat instead.\n",
      "  resultdf = resultdf.append(row_dict, ignore_index=True)\n"
     ]
    },
    {
     "name": "stdout",
     "output_type": "stream",
     "text": [
      "Товар РБ: блузка Товар РФ: Блузка женская, шт.\n"
     ]
    },
    {
     "name": "stderr",
     "output_type": "stream",
     "text": [
      "C:\\Users\\Admin\\AppData\\Local\\Temp\\ipykernel_11920\\592679734.py:86: FutureWarning: The frame.append method is deprecated and will be removed from pandas in a future version. Use pandas.concat instead.\n",
      "  resultdf = resultdf.append(row_dict, ignore_index=True)\n"
     ]
    },
    {
     "name": "stdout",
     "output_type": "stream",
     "text": [
      "Товар РБ: платье из полушерстяной ткани или трикотажного полотна Товар РФ: Платье женское из смесовых тканей или легкого трикотажного полотна, шт.\n"
     ]
    },
    {
     "name": "stderr",
     "output_type": "stream",
     "text": [
      "C:\\Users\\Admin\\AppData\\Local\\Temp\\ipykernel_11920\\592679734.py:86: FutureWarning: The frame.append method is deprecated and will be removed from pandas in a future version. Use pandas.concat instead.\n",
      "  resultdf = resultdf.append(row_dict, ignore_index=True)\n"
     ]
    },
    {
     "name": "stdout",
     "output_type": "stream",
     "text": [
      "Товар РБ: платье из хлопчатобумажной, смесовой ткани или трикотажного полотна  Товар РФ: Платье женское из смесовых тканей или легкого трикотажного полотна, шт.\n"
     ]
    },
    {
     "name": "stderr",
     "output_type": "stream",
     "text": [
      "C:\\Users\\Admin\\AppData\\Local\\Temp\\ipykernel_11920\\592679734.py:86: FutureWarning: The frame.append method is deprecated and will be removed from pandas in a future version. Use pandas.concat instead.\n",
      "  resultdf = resultdf.append(row_dict, ignore_index=True)\n"
     ]
    },
    {
     "name": "stdout",
     "output_type": "stream",
     "text": [
      "Товар РБ: халат домашний Товар РФ: Халат женский, шт.\n"
     ]
    },
    {
     "name": "stderr",
     "output_type": "stream",
     "text": [
      "C:\\Users\\Admin\\AppData\\Local\\Temp\\ipykernel_11920\\592679734.py:86: FutureWarning: The frame.append method is deprecated and will be removed from pandas in a future version. Use pandas.concat instead.\n",
      "  resultdf = resultdf.append(row_dict, ignore_index=True)\n"
     ]
    },
    {
     "name": "stdout",
     "output_type": "stream",
     "text": [
      "Товар РБ: свитер, джемпер из синтетической или смесовой пряжи Товар РФ: Джемпер женский, шт.\n"
     ]
    },
    {
     "name": "stderr",
     "output_type": "stream",
     "text": [
      "C:\\Users\\Admin\\AppData\\Local\\Temp\\ipykernel_11920\\592679734.py:86: FutureWarning: The frame.append method is deprecated and will be removed from pandas in a future version. Use pandas.concat instead.\n",
      "  resultdf = resultdf.append(row_dict, ignore_index=True)\n"
     ]
    },
    {
     "name": "stdout",
     "output_type": "stream",
     "text": [
      "Товар РБ: костюм спортивный Товар РФ: Костюм спортивный для взрослых, шт.\n"
     ]
    },
    {
     "name": "stderr",
     "output_type": "stream",
     "text": [
      "C:\\Users\\Admin\\AppData\\Local\\Temp\\ipykernel_11920\\592679734.py:86: FutureWarning: The frame.append method is deprecated and will be removed from pandas in a future version. Use pandas.concat instead.\n",
      "  resultdf = resultdf.append(row_dict, ignore_index=True)\n"
     ]
    },
    {
     "name": "stdout",
     "output_type": "stream",
     "text": [
      "Товар РБ: бюстгальтер Товар РФ: Бюстгальтер, шт.\n"
     ]
    },
    {
     "name": "stderr",
     "output_type": "stream",
     "text": [
      "C:\\Users\\Admin\\AppData\\Local\\Temp\\ipykernel_11920\\592679734.py:86: FutureWarning: The frame.append method is deprecated and will be removed from pandas in a future version. Use pandas.concat instead.\n",
      "  resultdf = resultdf.append(row_dict, ignore_index=True)\n"
     ]
    },
    {
     "name": "stdout",
     "output_type": "stream",
     "text": [
      "Товар РБ: трусы из хлопчатобумажного трикотажного полотна Товар РФ: Трусы мужские из хлопчатобумажного трикотажного полотна, шт.\n"
     ]
    },
    {
     "name": "stderr",
     "output_type": "stream",
     "text": [
      "C:\\Users\\Admin\\AppData\\Local\\Temp\\ipykernel_11920\\592679734.py:86: FutureWarning: The frame.append method is deprecated and will be removed from pandas in a future version. Use pandas.concat instead.\n",
      "  resultdf = resultdf.append(row_dict, ignore_index=True)\n"
     ]
    },
    {
     "name": "stdout",
     "output_type": "stream",
     "text": [
      "Товар РБ: шапка (берет) трикотажная  Товар РФ: Блузка женская, шт.\n"
     ]
    },
    {
     "name": "stderr",
     "output_type": "stream",
     "text": [
      "C:\\Users\\Admin\\AppData\\Local\\Temp\\ipykernel_11920\\592679734.py:86: FutureWarning: The frame.append method is deprecated and will be removed from pandas in a future version. Use pandas.concat instead.\n",
      "  resultdf = resultdf.append(row_dict, ignore_index=True)\n"
     ]
    },
    {
     "name": "stdout",
     "output_type": "stream",
     "text": [
      "Товар РБ: плащ Товар РФ: Блузка женская, шт.\n"
     ]
    },
    {
     "name": "stderr",
     "output_type": "stream",
     "text": [
      "C:\\Users\\Admin\\AppData\\Local\\Temp\\ipykernel_11920\\592679734.py:86: FutureWarning: The frame.append method is deprecated and will be removed from pandas in a future version. Use pandas.concat instead.\n",
      "  resultdf = resultdf.append(row_dict, ignore_index=True)\n"
     ]
    },
    {
     "name": "stdout",
     "output_type": "stream",
     "text": [
      "Товар РБ: сорочка ночная Товар РФ: Сорочка ночная женская, шт.\n"
     ]
    },
    {
     "name": "stderr",
     "output_type": "stream",
     "text": [
      "C:\\Users\\Admin\\AppData\\Local\\Temp\\ipykernel_11920\\592679734.py:86: FutureWarning: The frame.append method is deprecated and will be removed from pandas in a future version. Use pandas.concat instead.\n",
      "  resultdf = resultdf.append(row_dict, ignore_index=True)\n"
     ]
    },
    {
     "name": "stdout",
     "output_type": "stream",
     "text": [
      "Товар РБ: платок, шарф Товар РФ: Платок носовой, шт.\n"
     ]
    },
    {
     "name": "stderr",
     "output_type": "stream",
     "text": [
      "C:\\Users\\Admin\\AppData\\Local\\Temp\\ipykernel_11920\\592679734.py:86: FutureWarning: The frame.append method is deprecated and will be removed from pandas in a future version. Use pandas.concat instead.\n",
      "  resultdf = resultdf.append(row_dict, ignore_index=True)\n"
     ]
    },
    {
     "name": "stdout",
     "output_type": "stream",
     "text": [
      "Товар РБ: шляпа Товар РФ: Блузка женская, шт.\n"
     ]
    },
    {
     "name": "stderr",
     "output_type": "stream",
     "text": [
      "C:\\Users\\Admin\\AppData\\Local\\Temp\\ipykernel_11920\\592679734.py:86: FutureWarning: The frame.append method is deprecated and will be removed from pandas in a future version. Use pandas.concat instead.\n",
      "  resultdf = resultdf.append(row_dict, ignore_index=True)\n"
     ]
    },
    {
     "name": "stdout",
     "output_type": "stream",
     "text": [
      "Товар РБ: шуба (полушубок) из искусственного меха Товар РФ: Головные уборы мужские из натурального меха\n"
     ]
    },
    {
     "name": "stderr",
     "output_type": "stream",
     "text": [
      "C:\\Users\\Admin\\AppData\\Local\\Temp\\ipykernel_11920\\592679734.py:86: FutureWarning: The frame.append method is deprecated and will be removed from pandas in a future version. Use pandas.concat instead.\n",
      "  resultdf = resultdf.append(row_dict, ignore_index=True)\n"
     ]
    },
    {
     "name": "stdout",
     "output_type": "stream",
     "text": [
      "Товар РБ: комплект белья женского Товар РФ: Комплект постельного белья полутораспальный из хлопчатобумажной ткани, комплект\n"
     ]
    },
    {
     "name": "stderr",
     "output_type": "stream",
     "text": [
      "C:\\Users\\Admin\\AppData\\Local\\Temp\\ipykernel_11920\\592679734.py:86: FutureWarning: The frame.append method is deprecated and will be removed from pandas in a future version. Use pandas.concat instead.\n",
      "  resultdf = resultdf.append(row_dict, ignore_index=True)\n"
     ]
    },
    {
     "name": "stdout",
     "output_type": "stream",
     "text": [
      "Товар РБ: фуфайка, футболка Товар РФ: Майка, футболка женская бельевая, шт.\n"
     ]
    },
    {
     "name": "stderr",
     "output_type": "stream",
     "text": [
      "C:\\Users\\Admin\\AppData\\Local\\Temp\\ipykernel_11920\\592679734.py:86: FutureWarning: The frame.append method is deprecated and will be removed from pandas in a future version. Use pandas.concat instead.\n",
      "  resultdf = resultdf.append(row_dict, ignore_index=True)\n"
     ]
    },
    {
     "name": "stdout",
     "output_type": "stream",
     "text": [
      "Товар РБ: купальный костюм Товар РФ: Костюм спортивный для взрослых, шт.\n"
     ]
    },
    {
     "name": "stderr",
     "output_type": "stream",
     "text": [
      "C:\\Users\\Admin\\AppData\\Local\\Temp\\ipykernel_11920\\592679734.py:86: FutureWarning: The frame.append method is deprecated and will be removed from pandas in a future version. Use pandas.concat instead.\n",
      "  resultdf = resultdf.append(row_dict, ignore_index=True)\n"
     ]
    },
    {
     "name": "stdout",
     "output_type": "stream",
     "text": [
      "Товар РБ: колготки Товар РФ: Колготки женские эластичные, шт.\n"
     ]
    },
    {
     "name": "stderr",
     "output_type": "stream",
     "text": [
      "C:\\Users\\Admin\\AppData\\Local\\Temp\\ipykernel_11920\\592679734.py:86: FutureWarning: The frame.append method is deprecated and will be removed from pandas in a future version. Use pandas.concat instead.\n",
      "  resultdf = resultdf.append(row_dict, ignore_index=True)\n"
     ]
    },
    {
     "name": "stdout",
     "output_type": "stream",
     "text": [
      "Товар РБ: брюки Товар РФ: Брюки\n"
     ]
    },
    {
     "name": "stderr",
     "output_type": "stream",
     "text": [
      "C:\\Users\\Admin\\AppData\\Local\\Temp\\ipykernel_11920\\592679734.py:86: FutureWarning: The frame.append method is deprecated and will be removed from pandas in a future version. Use pandas.concat instead.\n",
      "  resultdf = resultdf.append(row_dict, ignore_index=True)\n"
     ]
    },
    {
     "name": "stdout",
     "output_type": "stream",
     "text": [
      "Товар РБ: куртка зимняя и демисезонная для мальчика Товар РФ: Куртка мужская зимняя с верхом из плащевых тканей, шт.\n"
     ]
    },
    {
     "name": "stderr",
     "output_type": "stream",
     "text": [
      "C:\\Users\\Admin\\AppData\\Local\\Temp\\ipykernel_11920\\592679734.py:86: FutureWarning: The frame.append method is deprecated and will be removed from pandas in a future version. Use pandas.concat instead.\n",
      "  resultdf = resultdf.append(row_dict, ignore_index=True)\n"
     ]
    },
    {
     "name": "stdout",
     "output_type": "stream",
     "text": [
      "Товар РБ: носки из хлопчатобумажной и смесовой пряжи Товар РФ: Шарф шерстяной, полушерстяной или из смесовой пряжи для взрослых, шт.\n"
     ]
    },
    {
     "name": "stderr",
     "output_type": "stream",
     "text": [
      "C:\\Users\\Admin\\AppData\\Local\\Temp\\ipykernel_11920\\592679734.py:86: FutureWarning: The frame.append method is deprecated and will be removed from pandas in a future version. Use pandas.concat instead.\n",
      "  resultdf = resultdf.append(row_dict, ignore_index=True)\n"
     ]
    },
    {
     "name": "stdout",
     "output_type": "stream",
     "text": [
      "Товар РБ: брюки Товар РФ: Брюки\n"
     ]
    },
    {
     "name": "stderr",
     "output_type": "stream",
     "text": [
      "C:\\Users\\Admin\\AppData\\Local\\Temp\\ipykernel_11920\\592679734.py:86: FutureWarning: The frame.append method is deprecated and will be removed from pandas in a future version. Use pandas.concat instead.\n",
      "  resultdf = resultdf.append(row_dict, ignore_index=True)\n"
     ]
    },
    {
     "name": "stdout",
     "output_type": "stream",
     "text": [
      "Товар РБ: куртка зимняя и демисезонная для девочки Товар РФ: Куртка мужская зимняя с верхом из плащевых тканей, шт.\n"
     ]
    },
    {
     "name": "stderr",
     "output_type": "stream",
     "text": [
      "C:\\Users\\Admin\\AppData\\Local\\Temp\\ipykernel_11920\\592679734.py:86: FutureWarning: The frame.append method is deprecated and will be removed from pandas in a future version. Use pandas.concat instead.\n",
      "  resultdf = resultdf.append(row_dict, ignore_index=True)\n"
     ]
    },
    {
     "name": "stdout",
     "output_type": "stream",
     "text": [
      "Товар РБ: предметы школьной формы для мальчика: костюм, пиджак, жакет  Товар РФ: Пиджак, жакет женский из шерстяных, полушерстяных или смесовых тканей, шт.\n"
     ]
    },
    {
     "name": "stderr",
     "output_type": "stream",
     "text": [
      "C:\\Users\\Admin\\AppData\\Local\\Temp\\ipykernel_11920\\592679734.py:86: FutureWarning: The frame.append method is deprecated and will be removed from pandas in a future version. Use pandas.concat instead.\n",
      "  resultdf = resultdf.append(row_dict, ignore_index=True)\n"
     ]
    },
    {
     "name": "stdout",
     "output_type": "stream",
     "text": [
      "Товар РБ: костюм спортивный Товар РФ: Костюм спортивный для взрослых, шт.\n"
     ]
    },
    {
     "name": "stderr",
     "output_type": "stream",
     "text": [
      "C:\\Users\\Admin\\AppData\\Local\\Temp\\ipykernel_11920\\592679734.py:86: FutureWarning: The frame.append method is deprecated and will be removed from pandas in a future version. Use pandas.concat instead.\n",
      "  resultdf = resultdf.append(row_dict, ignore_index=True)\n"
     ]
    },
    {
     "name": "stdout",
     "output_type": "stream",
     "text": [
      "Товар РБ: пальто зимнее и демисезонное для девочки Товар РФ: Пальто женское демисезонное из шерстяных или полушерстяных тканей, шт.\n"
     ]
    },
    {
     "name": "stderr",
     "output_type": "stream",
     "text": [
      "C:\\Users\\Admin\\AppData\\Local\\Temp\\ipykernel_11920\\592679734.py:86: FutureWarning: The frame.append method is deprecated and will be removed from pandas in a future version. Use pandas.concat instead.\n",
      "  resultdf = resultdf.append(row_dict, ignore_index=True)\n"
     ]
    },
    {
     "name": "stdout",
     "output_type": "stream",
     "text": [
      "Товар РБ: джемпер, свитер из полушерстяной, смесовой пряжи Товар РФ: Шарф шерстяной, полушерстяной или из смесовой пряжи для взрослых, шт.\n"
     ]
    },
    {
     "name": "stderr",
     "output_type": "stream",
     "text": [
      "C:\\Users\\Admin\\AppData\\Local\\Temp\\ipykernel_11920\\592679734.py:86: FutureWarning: The frame.append method is deprecated and will be removed from pandas in a future version. Use pandas.concat instead.\n",
      "  resultdf = resultdf.append(row_dict, ignore_index=True)\n"
     ]
    },
    {
     "name": "stdout",
     "output_type": "stream",
     "text": [
      "Товар РБ: сорочка верхняя из хлопчатобумажной или смесовой ткани  Товар РФ: Трусы мужские из хлопчатобумажной ткани, шт.\n"
     ]
    },
    {
     "name": "stderr",
     "output_type": "stream",
     "text": [
      "C:\\Users\\Admin\\AppData\\Local\\Temp\\ipykernel_11920\\592679734.py:86: FutureWarning: The frame.append method is deprecated and will be removed from pandas in a future version. Use pandas.concat instead.\n",
      "  resultdf = resultdf.append(row_dict, ignore_index=True)\n"
     ]
    },
    {
     "name": "stdout",
     "output_type": "stream",
     "text": [
      "Товар РБ: юбка из смесовых тканей или трикотажного полотна Товар РФ: Юбка женская из полушерстяных или смесовых тканей, шт.\n"
     ]
    },
    {
     "name": "stderr",
     "output_type": "stream",
     "text": [
      "C:\\Users\\Admin\\AppData\\Local\\Temp\\ipykernel_11920\\592679734.py:86: FutureWarning: The frame.append method is deprecated and will be removed from pandas in a future version. Use pandas.concat instead.\n",
      "  resultdf = resultdf.append(row_dict, ignore_index=True)\n"
     ]
    },
    {
     "name": "stdout",
     "output_type": "stream",
     "text": [
      "Товар РБ: платье из хлопчатобумажной, смесовой ткани или трикотажного полотна  Товар РФ: Платье женское из смесовых тканей или легкого трикотажного полотна, шт.\n"
     ]
    },
    {
     "name": "stderr",
     "output_type": "stream",
     "text": [
      "C:\\Users\\Admin\\AppData\\Local\\Temp\\ipykernel_11920\\592679734.py:86: FutureWarning: The frame.append method is deprecated and will be removed from pandas in a future version. Use pandas.concat instead.\n",
      "  resultdf = resultdf.append(row_dict, ignore_index=True)\n"
     ]
    },
    {
     "name": "stdout",
     "output_type": "stream",
     "text": [
      "Товар РБ: предметы школьной формы для девочки: костюм, сарафан, комплект (юбка, брюки, жакет, жилет)  Товар РФ: Костюм спортивный для взрослых, шт.\n"
     ]
    },
    {
     "name": "stderr",
     "output_type": "stream",
     "text": [
      "C:\\Users\\Admin\\AppData\\Local\\Temp\\ipykernel_11920\\592679734.py:86: FutureWarning: The frame.append method is deprecated and will be removed from pandas in a future version. Use pandas.concat instead.\n",
      "  resultdf = resultdf.append(row_dict, ignore_index=True)\n"
     ]
    },
    {
     "name": "stdout",
     "output_type": "stream",
     "text": [
      "Товар РБ: джинсы  Товар РФ: Футболка детская, шт.\n"
     ]
    },
    {
     "name": "stderr",
     "output_type": "stream",
     "text": [
      "C:\\Users\\Admin\\AppData\\Local\\Temp\\ipykernel_11920\\592679734.py:86: FutureWarning: The frame.append method is deprecated and will be removed from pandas in a future version. Use pandas.concat instead.\n",
      "  resultdf = resultdf.append(row_dict, ignore_index=True)\n"
     ]
    },
    {
     "name": "stdout",
     "output_type": "stream",
     "text": [
      "Товар РБ: белье для новорожденных и детей ясельного возраста Товар РФ: Белье для новорожденных и детей ясельного возраста, шт.\n"
     ]
    },
    {
     "name": "stderr",
     "output_type": "stream",
     "text": [
      "C:\\Users\\Admin\\AppData\\Local\\Temp\\ipykernel_11920\\592679734.py:86: FutureWarning: The frame.append method is deprecated and will be removed from pandas in a future version. Use pandas.concat instead.\n",
      "  resultdf = resultdf.append(row_dict, ignore_index=True)\n"
     ]
    },
    {
     "name": "stdout",
     "output_type": "stream",
     "text": [
      "Товар РБ: комплект белья  Товар РФ: Комплект постельного белья полутораспальный из хлопчатобумажной ткани, комплект\n"
     ]
    },
    {
     "name": "stderr",
     "output_type": "stream",
     "text": [
      "C:\\Users\\Admin\\AppData\\Local\\Temp\\ipykernel_11920\\592679734.py:86: FutureWarning: The frame.append method is deprecated and will be removed from pandas in a future version. Use pandas.concat instead.\n",
      "  resultdf = resultdf.append(row_dict, ignore_index=True)\n"
     ]
    },
    {
     "name": "stdout",
     "output_type": "stream",
     "text": [
      "Товар РБ: фуфайка из хлопчатобумажной (смесовой) пряжи  Товар РФ: Футболка детская, шт.\n"
     ]
    },
    {
     "name": "stderr",
     "output_type": "stream",
     "text": [
      "C:\\Users\\Admin\\AppData\\Local\\Temp\\ipykernel_11920\\592679734.py:86: FutureWarning: The frame.append method is deprecated and will be removed from pandas in a future version. Use pandas.concat instead.\n",
      "  resultdf = resultdf.append(row_dict, ignore_index=True)\n"
     ]
    },
    {
     "name": "stdout",
     "output_type": "stream",
     "text": [
      "Товар РБ: перчатки, варежки трикотажные Товар РФ: Перчатки, варежки, муфты\n"
     ]
    },
    {
     "name": "stderr",
     "output_type": "stream",
     "text": [
      "C:\\Users\\Admin\\AppData\\Local\\Temp\\ipykernel_11920\\592679734.py:86: FutureWarning: The frame.append method is deprecated and will be removed from pandas in a future version. Use pandas.concat instead.\n",
      "  resultdf = resultdf.append(row_dict, ignore_index=True)\n"
     ]
    },
    {
     "name": "stdout",
     "output_type": "stream",
     "text": [
      "Товар РБ: шапочка трикотажная Товар РФ: Трикотажная шапочка детская, шт.\n"
     ]
    },
    {
     "name": "stderr",
     "output_type": "stream",
     "text": [
      "C:\\Users\\Admin\\AppData\\Local\\Temp\\ipykernel_11920\\592679734.py:86: FutureWarning: The frame.append method is deprecated and will be removed from pandas in a future version. Use pandas.concat instead.\n",
      "  resultdf = resultdf.append(row_dict, ignore_index=True)\n"
     ]
    },
    {
     "name": "stdout",
     "output_type": "stream",
     "text": [
      "Товар РБ: колготки Товар РФ: Колготки женские эластичные, шт.\n"
     ]
    },
    {
     "name": "stderr",
     "output_type": "stream",
     "text": [
      "C:\\Users\\Admin\\AppData\\Local\\Temp\\ipykernel_11920\\592679734.py:86: FutureWarning: The frame.append method is deprecated and will be removed from pandas in a future version. Use pandas.concat instead.\n",
      "  resultdf = resultdf.append(row_dict, ignore_index=True)\n"
     ]
    },
    {
     "name": "stdout",
     "output_type": "stream",
     "text": [
      "Товар РБ: пижама Товар РФ: Футболка детская, шт.\n"
     ]
    },
    {
     "name": "stderr",
     "output_type": "stream",
     "text": [
      "C:\\Users\\Admin\\AppData\\Local\\Temp\\ipykernel_11920\\592679734.py:86: FutureWarning: The frame.append method is deprecated and will be removed from pandas in a future version. Use pandas.concat instead.\n",
      "  resultdf = resultdf.append(row_dict, ignore_index=True)\n",
      "C:\\Users\\Admin\\AppData\\Local\\Temp\\ipykernel_11920\\592679734.py:99: FutureWarning: The frame.append method is deprecated and will be removed from pandas in a future version. Use pandas.concat instead.\n",
      "  resultdf = resultdf.append(group_row, ignore_index=True)\n"
     ]
    },
    {
     "name": "stdout",
     "output_type": "stream",
     "text": [
      "Товар РБ: полуботинки, туфли кожаные Товар РФ: Ботинки без утеплителя, полуботинки, туфли\n"
     ]
    },
    {
     "name": "stderr",
     "output_type": "stream",
     "text": [
      "C:\\Users\\Admin\\AppData\\Local\\Temp\\ipykernel_11920\\592679734.py:86: FutureWarning: The frame.append method is deprecated and will be removed from pandas in a future version. Use pandas.concat instead.\n",
      "  resultdf = resultdf.append(row_dict, ignore_index=True)\n"
     ]
    },
    {
     "name": "stdout",
     "output_type": "stream",
     "text": [
      "Товар РБ: сапоги (ботинки) на меху Товар РФ: Сапоги, ботинки зимние\n"
     ]
    },
    {
     "name": "stderr",
     "output_type": "stream",
     "text": [
      "C:\\Users\\Admin\\AppData\\Local\\Temp\\ipykernel_11920\\592679734.py:86: FutureWarning: The frame.append method is deprecated and will be removed from pandas in a future version. Use pandas.concat instead.\n",
      "  resultdf = resultdf.append(row_dict, ignore_index=True)\n"
     ]
    },
    {
     "name": "stdout",
     "output_type": "stream",
     "text": [
      "Товар РБ: обувь домашняя Товар РФ: Обувь домашняя с текстильным верхом для взрослых, пара\n"
     ]
    },
    {
     "name": "stderr",
     "output_type": "stream",
     "text": [
      "C:\\Users\\Admin\\AppData\\Local\\Temp\\ipykernel_11920\\592679734.py:86: FutureWarning: The frame.append method is deprecated and will be removed from pandas in a future version. Use pandas.concat instead.\n",
      "  resultdf = resultdf.append(row_dict, ignore_index=True)\n"
     ]
    },
    {
     "name": "stdout",
     "output_type": "stream",
     "text": [
      "Товар РБ: кроссовые туфли Товар РФ: Туфли\n"
     ]
    },
    {
     "name": "stderr",
     "output_type": "stream",
     "text": [
      "C:\\Users\\Admin\\AppData\\Local\\Temp\\ipykernel_11920\\592679734.py:86: FutureWarning: The frame.append method is deprecated and will be removed from pandas in a future version. Use pandas.concat instead.\n",
      "  resultdf = resultdf.append(row_dict, ignore_index=True)\n"
     ]
    },
    {
     "name": "stdout",
     "output_type": "stream",
     "text": [
      "Товар РБ: босоножки, сандалеты из натуральной или искусственной кожи Товар РФ: Куртка мужская из натуральной кожи, шт.\n"
     ]
    },
    {
     "name": "stderr",
     "output_type": "stream",
     "text": [
      "C:\\Users\\Admin\\AppData\\Local\\Temp\\ipykernel_11920\\592679734.py:86: FutureWarning: The frame.append method is deprecated and will be removed from pandas in a future version. Use pandas.concat instead.\n",
      "  resultdf = resultdf.append(row_dict, ignore_index=True)\n"
     ]
    },
    {
     "name": "stdout",
     "output_type": "stream",
     "text": [
      "Товар РБ: сапоги цельнорезиновые или их поливинилхлорида (ПВХ) для взрослых Товар РФ: Сапоги цельнорезиновые для взрослых, пара\n"
     ]
    },
    {
     "name": "stderr",
     "output_type": "stream",
     "text": [
      "C:\\Users\\Admin\\AppData\\Local\\Temp\\ipykernel_11920\\592679734.py:86: FutureWarning: The frame.append method is deprecated and will be removed from pandas in a future version. Use pandas.concat instead.\n",
      "  resultdf = resultdf.append(row_dict, ignore_index=True)\n"
     ]
    },
    {
     "name": "stdout",
     "output_type": "stream",
     "text": [
      "Товар РБ: сапоги зимние Товар РФ: Сапоги, ботинки зимние\n"
     ]
    },
    {
     "name": "stderr",
     "output_type": "stream",
     "text": [
      "C:\\Users\\Admin\\AppData\\Local\\Temp\\ipykernel_11920\\592679734.py:86: FutureWarning: The frame.append method is deprecated and will be removed from pandas in a future version. Use pandas.concat instead.\n",
      "  resultdf = resultdf.append(row_dict, ignore_index=True)\n"
     ]
    },
    {
     "name": "stdout",
     "output_type": "stream",
     "text": [
      "Товар РБ: сапоги (ботинки, ботильоны) демисезонные Товар РФ: Сапоги, ботинки зимние\n"
     ]
    },
    {
     "name": "stderr",
     "output_type": "stream",
     "text": [
      "C:\\Users\\Admin\\AppData\\Local\\Temp\\ipykernel_11920\\592679734.py:86: FutureWarning: The frame.append method is deprecated and will be removed from pandas in a future version. Use pandas.concat instead.\n",
      "  resultdf = resultdf.append(row_dict, ignore_index=True)\n"
     ]
    },
    {
     "name": "stdout",
     "output_type": "stream",
     "text": [
      "Товар РБ: туфли кожаные женские на низком каблуке и синтетической подошве Товар РФ: Туфли\n"
     ]
    },
    {
     "name": "stderr",
     "output_type": "stream",
     "text": [
      "C:\\Users\\Admin\\AppData\\Local\\Temp\\ipykernel_11920\\592679734.py:86: FutureWarning: The frame.append method is deprecated and will be removed from pandas in a future version. Use pandas.concat instead.\n",
      "  resultdf = resultdf.append(row_dict, ignore_index=True)\n"
     ]
    },
    {
     "name": "stdout",
     "output_type": "stream",
     "text": [
      "Товар РБ: туфли модельные Товар РФ: Туфли\n"
     ]
    },
    {
     "name": "stderr",
     "output_type": "stream",
     "text": [
      "C:\\Users\\Admin\\AppData\\Local\\Temp\\ipykernel_11920\\592679734.py:86: FutureWarning: The frame.append method is deprecated and will be removed from pandas in a future version. Use pandas.concat instead.\n",
      "  resultdf = resultdf.append(row_dict, ignore_index=True)\n"
     ]
    },
    {
     "name": "stdout",
     "output_type": "stream",
     "text": [
      "Товар РБ: туфли летние кожаные Товар РФ: Туфли\n"
     ]
    },
    {
     "name": "stderr",
     "output_type": "stream",
     "text": [
      "C:\\Users\\Admin\\AppData\\Local\\Temp\\ipykernel_11920\\592679734.py:86: FutureWarning: The frame.append method is deprecated and will be removed from pandas in a future version. Use pandas.concat instead.\n",
      "  resultdf = resultdf.append(row_dict, ignore_index=True)\n"
     ]
    },
    {
     "name": "stdout",
     "output_type": "stream",
     "text": [
      "Товар РБ: кроссовые туфли Товар РФ: Туфли\n"
     ]
    },
    {
     "name": "stderr",
     "output_type": "stream",
     "text": [
      "C:\\Users\\Admin\\AppData\\Local\\Temp\\ipykernel_11920\\592679734.py:86: FutureWarning: The frame.append method is deprecated and will be removed from pandas in a future version. Use pandas.concat instead.\n",
      "  resultdf = resultdf.append(row_dict, ignore_index=True)\n"
     ]
    },
    {
     "name": "stdout",
     "output_type": "stream",
     "text": [
      "Товар РБ: обувь домашняя Товар РФ: Обувь домашняя с текстильным верхом для взрослых, пара\n"
     ]
    },
    {
     "name": "stderr",
     "output_type": "stream",
     "text": [
      "C:\\Users\\Admin\\AppData\\Local\\Temp\\ipykernel_11920\\592679734.py:86: FutureWarning: The frame.append method is deprecated and will be removed from pandas in a future version. Use pandas.concat instead.\n",
      "  resultdf = resultdf.append(row_dict, ignore_index=True)\n"
     ]
    },
    {
     "name": "stdout",
     "output_type": "stream",
     "text": [
      "Товар РБ: туфли из искусственной кожи Товар РФ: Кроссовые туфли для взрослых с верхом из искусственной кожи, пара\n"
     ]
    },
    {
     "name": "stderr",
     "output_type": "stream",
     "text": [
      "C:\\Users\\Admin\\AppData\\Local\\Temp\\ipykernel_11920\\592679734.py:86: FutureWarning: The frame.append method is deprecated and will be removed from pandas in a future version. Use pandas.concat instead.\n",
      "  resultdf = resultdf.append(row_dict, ignore_index=True)\n"
     ]
    },
    {
     "name": "stdout",
     "output_type": "stream",
     "text": [
      "Товар РБ: полусапожки зимние и демисезонные для мальчика Товар РФ: Футболка детская, шт.\n"
     ]
    },
    {
     "name": "stderr",
     "output_type": "stream",
     "text": [
      "C:\\Users\\Admin\\AppData\\Local\\Temp\\ipykernel_11920\\592679734.py:86: FutureWarning: The frame.append method is deprecated and will be removed from pandas in a future version. Use pandas.concat instead.\n",
      "  resultdf = resultdf.append(row_dict, ignore_index=True)\n"
     ]
    },
    {
     "name": "stdout",
     "output_type": "stream",
     "text": [
      "Товар РБ: полусапожки (сапожки) зимние и демисезонные для девочки Товар РФ: Футболка детская, шт.\n"
     ]
    },
    {
     "name": "stderr",
     "output_type": "stream",
     "text": [
      "C:\\Users\\Admin\\AppData\\Local\\Temp\\ipykernel_11920\\592679734.py:86: FutureWarning: The frame.append method is deprecated and will be removed from pandas in a future version. Use pandas.concat instead.\n",
      "  resultdf = resultdf.append(row_dict, ignore_index=True)\n"
     ]
    },
    {
     "name": "stdout",
     "output_type": "stream",
     "text": [
      "Товар РБ: ботинки, туфли демисезонные кожаные Товар РФ: Ботинки без утеплителя, полуботинки, туфли\n"
     ]
    },
    {
     "name": "stderr",
     "output_type": "stream",
     "text": [
      "C:\\Users\\Admin\\AppData\\Local\\Temp\\ipykernel_11920\\592679734.py:86: FutureWarning: The frame.append method is deprecated and will be removed from pandas in a future version. Use pandas.concat instead.\n",
      "  resultdf = resultdf.append(row_dict, ignore_index=True)\n"
     ]
    },
    {
     "name": "stdout",
     "output_type": "stream",
     "text": [
      "Товар РБ: туфли девичьи Товар РФ: Туфли\n"
     ]
    },
    {
     "name": "stderr",
     "output_type": "stream",
     "text": [
      "C:\\Users\\Admin\\AppData\\Local\\Temp\\ipykernel_11920\\592679734.py:86: FutureWarning: The frame.append method is deprecated and will be removed from pandas in a future version. Use pandas.concat instead.\n",
      "  resultdf = resultdf.append(row_dict, ignore_index=True)\n"
     ]
    },
    {
     "name": "stdout",
     "output_type": "stream",
     "text": [
      "Товар РБ: кроссовые туфли Товар РФ: Туфли\n"
     ]
    },
    {
     "name": "stderr",
     "output_type": "stream",
     "text": [
      "C:\\Users\\Admin\\AppData\\Local\\Temp\\ipykernel_11920\\592679734.py:86: FutureWarning: The frame.append method is deprecated and will be removed from pandas in a future version. Use pandas.concat instead.\n",
      "  resultdf = resultdf.append(row_dict, ignore_index=True)\n",
      "C:\\Users\\Admin\\AppData\\Local\\Temp\\ipykernel_11920\\592679734.py:99: FutureWarning: The frame.append method is deprecated and will be removed from pandas in a future version. Use pandas.concat instead.\n",
      "  resultdf = resultdf.append(group_row, ignore_index=True)\n",
      "C:\\Users\\Admin\\AppData\\Local\\Temp\\ipykernel_11920\\592679734.py:99: FutureWarning: The frame.append method is deprecated and will be removed from pandas in a future version. Use pandas.concat instead.\n",
      "  resultdf = resultdf.append(group_row, ignore_index=True)\n"
     ]
    },
    {
     "name": "stdout",
     "output_type": "stream",
     "text": [
      "Товар РБ: стол письменный, компьютерный Товар РФ: Стол рабочий кухонный, шт.\n"
     ]
    },
    {
     "name": "stderr",
     "output_type": "stream",
     "text": [
      "C:\\Users\\Admin\\AppData\\Local\\Temp\\ipykernel_11920\\592679734.py:86: FutureWarning: The frame.append method is deprecated and will be removed from pandas in a future version. Use pandas.concat instead.\n",
      "  resultdf = resultdf.append(row_dict, ignore_index=True)\n"
     ]
    },
    {
     "name": "stdout",
     "output_type": "stream",
     "text": [
      "Товар РБ: шкаф для одежды и белья Товар РФ: Шкаф для платья и белья, шт.\n"
     ]
    },
    {
     "name": "stderr",
     "output_type": "stream",
     "text": [
      "C:\\Users\\Admin\\AppData\\Local\\Temp\\ipykernel_11920\\592679734.py:86: FutureWarning: The frame.append method is deprecated and will be removed from pandas in a future version. Use pandas.concat instead.\n",
      "  resultdf = resultdf.append(row_dict, ignore_index=True)\n"
     ]
    },
    {
     "name": "stdout",
     "output_type": "stream",
     "text": [
      "Товар РБ: стул Товар РФ: Стул с мягким сиденьем, шт.\n"
     ]
    },
    {
     "name": "stderr",
     "output_type": "stream",
     "text": [
      "C:\\Users\\Admin\\AppData\\Local\\Temp\\ipykernel_11920\\592679734.py:86: FutureWarning: The frame.append method is deprecated and will be removed from pandas in a future version. Use pandas.concat instead.\n",
      "  resultdf = resultdf.append(row_dict, ignore_index=True)\n"
     ]
    },
    {
     "name": "stdout",
     "output_type": "stream",
     "text": [
      "Товар РБ: диван-кровать, тахта Товар РФ: Диван-кровать, шт.\n"
     ]
    },
    {
     "name": "stderr",
     "output_type": "stream",
     "text": [
      "C:\\Users\\Admin\\AppData\\Local\\Temp\\ipykernel_11920\\592679734.py:86: FutureWarning: The frame.append method is deprecated and will be removed from pandas in a future version. Use pandas.concat instead.\n",
      "  resultdf = resultdf.append(row_dict, ignore_index=True)\n"
     ]
    },
    {
     "name": "stdout",
     "output_type": "stream",
     "text": [
      "Товар РБ: корпусная мебель  Товар РФ: Мягкая мебель\n"
     ]
    },
    {
     "name": "stderr",
     "output_type": "stream",
     "text": [
      "C:\\Users\\Admin\\AppData\\Local\\Temp\\ipykernel_11920\\592679734.py:86: FutureWarning: The frame.append method is deprecated and will be removed from pandas in a future version. Use pandas.concat instead.\n",
      "  resultdf = resultdf.append(row_dict, ignore_index=True)\n"
     ]
    },
    {
     "name": "stdout",
     "output_type": "stream",
     "text": [
      "Товар РБ: набор мягкой мебели Товар РФ: Набор мягкой мебели, комплект\n"
     ]
    },
    {
     "name": "stderr",
     "output_type": "stream",
     "text": [
      "C:\\Users\\Admin\\AppData\\Local\\Temp\\ipykernel_11920\\592679734.py:86: FutureWarning: The frame.append method is deprecated and will be removed from pandas in a future version. Use pandas.concat instead.\n",
      "  resultdf = resultdf.append(row_dict, ignore_index=True)\n"
     ]
    },
    {
     "name": "stdout",
     "output_type": "stream",
     "text": [
      "Товар РБ: гарнитур для прихожей Товар РФ: Шкаф-вешалка для прихожей, шт.\n"
     ]
    },
    {
     "name": "stderr",
     "output_type": "stream",
     "text": [
      "C:\\Users\\Admin\\AppData\\Local\\Temp\\ipykernel_11920\\592679734.py:86: FutureWarning: The frame.append method is deprecated and will be removed from pandas in a future version. Use pandas.concat instead.\n",
      "  resultdf = resultdf.append(row_dict, ignore_index=True)\n"
     ]
    },
    {
     "name": "stdout",
     "output_type": "stream",
     "text": [
      "Товар РБ: набор мебели для ванной комнаты Товар РФ: Набор кухонной мебели, комплект\n"
     ]
    },
    {
     "name": "stderr",
     "output_type": "stream",
     "text": [
      "C:\\Users\\Admin\\AppData\\Local\\Temp\\ipykernel_11920\\592679734.py:86: FutureWarning: The frame.append method is deprecated and will be removed from pandas in a future version. Use pandas.concat instead.\n",
      "  resultdf = resultdf.append(row_dict, ignore_index=True)\n"
     ]
    },
    {
     "name": "stdout",
     "output_type": "stream",
     "text": [
      "Товар РБ: набор мебели для спальни Товар РФ: Набор кухонной мебели, комплект\n"
     ]
    },
    {
     "name": "stderr",
     "output_type": "stream",
     "text": [
      "C:\\Users\\Admin\\AppData\\Local\\Temp\\ipykernel_11920\\592679734.py:86: FutureWarning: The frame.append method is deprecated and will be removed from pandas in a future version. Use pandas.concat instead.\n",
      "  resultdf = resultdf.append(row_dict, ignore_index=True)\n",
      "C:\\Users\\Admin\\AppData\\Local\\Temp\\ipykernel_11920\\592679734.py:99: FutureWarning: The frame.append method is deprecated and will be removed from pandas in a future version. Use pandas.concat instead.\n",
      "  resultdf = resultdf.append(group_row, ignore_index=True)\n"
     ]
    },
    {
     "name": "stdout",
     "output_type": "stream",
     "text": [
      "Товар РБ: ковер из синтетической пряжи Товар РФ: Ковер шерстяной, полушерстяной, м2\n"
     ]
    },
    {
     "name": "stderr",
     "output_type": "stream",
     "text": [
      "C:\\Users\\Admin\\AppData\\Local\\Temp\\ipykernel_11920\\592679734.py:86: FutureWarning: The frame.append method is deprecated and will be removed from pandas in a future version. Use pandas.concat instead.\n",
      "  resultdf = resultdf.append(row_dict, ignore_index=True)\n",
      "C:\\Users\\Admin\\AppData\\Local\\Temp\\ipykernel_11920\\592679734.py:99: FutureWarning: The frame.append method is deprecated and will be removed from pandas in a future version. Use pandas.concat instead.\n",
      "  resultdf = resultdf.append(group_row, ignore_index=True)\n"
     ]
    },
    {
     "name": "stdout",
     "output_type": "stream",
     "text": [
      "Товар РБ: комплект постельного белья Товар РФ: Комплект постельного белья полутораспальный из хлопчатобумажной ткани, комплект\n"
     ]
    },
    {
     "name": "stderr",
     "output_type": "stream",
     "text": [
      "C:\\Users\\Admin\\AppData\\Local\\Temp\\ipykernel_11920\\592679734.py:86: FutureWarning: The frame.append method is deprecated and will be removed from pandas in a future version. Use pandas.concat instead.\n",
      "  resultdf = resultdf.append(row_dict, ignore_index=True)\n"
     ]
    },
    {
     "name": "stdout",
     "output_type": "stream",
     "text": [
      "Товар РБ: одеяло (плед) шерстяное, полушерстяное Товар РФ: Одеяло стеганое, шт.\n"
     ]
    },
    {
     "name": "stderr",
     "output_type": "stream",
     "text": [
      "C:\\Users\\Admin\\AppData\\Local\\Temp\\ipykernel_11920\\592679734.py:86: FutureWarning: The frame.append method is deprecated and will be removed from pandas in a future version. Use pandas.concat instead.\n",
      "  resultdf = resultdf.append(row_dict, ignore_index=True)\n"
     ]
    },
    {
     "name": "stdout",
     "output_type": "stream",
     "text": [
      "Товар РБ: одеяло стеганое (ватное или с другими наполнителями) Товар РФ: Одеяло стеганое, шт.\n"
     ]
    },
    {
     "name": "stderr",
     "output_type": "stream",
     "text": [
      "C:\\Users\\Admin\\AppData\\Local\\Temp\\ipykernel_11920\\592679734.py:86: FutureWarning: The frame.append method is deprecated and will be removed from pandas in a future version. Use pandas.concat instead.\n",
      "  resultdf = resultdf.append(row_dict, ignore_index=True)\n"
     ]
    },
    {
     "name": "stdout",
     "output_type": "stream",
     "text": [
      "Товар РБ: подушка (наполнитель натуральный или синтетический) Товар РФ: Подушка, шт.\n"
     ]
    },
    {
     "name": "stderr",
     "output_type": "stream",
     "text": [
      "C:\\Users\\Admin\\AppData\\Local\\Temp\\ipykernel_11920\\592679734.py:86: FutureWarning: The frame.append method is deprecated and will be removed from pandas in a future version. Use pandas.concat instead.\n",
      "  resultdf = resultdf.append(row_dict, ignore_index=True)\n"
     ]
    },
    {
     "name": "stdout",
     "output_type": "stream",
     "text": [
      "Товар РБ: полотно гардинное тюлевое из синтетических нитей Товар РФ: Тюль, полотно гардинное, м\n"
     ]
    },
    {
     "name": "stderr",
     "output_type": "stream",
     "text": [
      "C:\\Users\\Admin\\AppData\\Local\\Temp\\ipykernel_11920\\592679734.py:86: FutureWarning: The frame.append method is deprecated and will be removed from pandas in a future version. Use pandas.concat instead.\n",
      "  resultdf = resultdf.append(row_dict, ignore_index=True)\n"
     ]
    },
    {
     "name": "stdout",
     "output_type": "stream",
     "text": [
      "Товар РБ: полотенце махровое банное Товар РФ: Полотенце банное, шт.\n"
     ]
    },
    {
     "name": "stderr",
     "output_type": "stream",
     "text": [
      "C:\\Users\\Admin\\AppData\\Local\\Temp\\ipykernel_11920\\592679734.py:86: FutureWarning: The frame.append method is deprecated and will be removed from pandas in a future version. Use pandas.concat instead.\n",
      "  resultdf = resultdf.append(row_dict, ignore_index=True)\n",
      "C:\\Users\\Admin\\AppData\\Local\\Temp\\ipykernel_11920\\592679734.py:99: FutureWarning: The frame.append method is deprecated and will be removed from pandas in a future version. Use pandas.concat instead.\n",
      "  resultdf = resultdf.append(group_row, ignore_index=True)\n"
     ]
    },
    {
     "name": "stdout",
     "output_type": "stream",
     "text": [
      "Товар РБ: тарелка мелкая или глубокая Товар РФ: Тарелка обеденная мелкая или глубокая, шт.\n"
     ]
    },
    {
     "name": "stderr",
     "output_type": "stream",
     "text": [
      "C:\\Users\\Admin\\AppData\\Local\\Temp\\ipykernel_11920\\592679734.py:86: FutureWarning: The frame.append method is deprecated and will be removed from pandas in a future version. Use pandas.concat instead.\n",
      "  resultdf = resultdf.append(row_dict, ignore_index=True)\n"
     ]
    },
    {
     "name": "stdout",
     "output_type": "stream",
     "text": [
      "Товар РБ: рюмка, фужер из стекла Товар РФ: Рюмка, фужер из простого стекла, шт.\n"
     ]
    },
    {
     "name": "stderr",
     "output_type": "stream",
     "text": [
      "C:\\Users\\Admin\\AppData\\Local\\Temp\\ipykernel_11920\\592679734.py:86: FutureWarning: The frame.append method is deprecated and will be removed from pandas in a future version. Use pandas.concat instead.\n",
      "  resultdf = resultdf.append(row_dict, ignore_index=True)\n"
     ]
    },
    {
     "name": "stdout",
     "output_type": "stream",
     "text": [
      "Товар РБ: кастрюля Товар РФ: Кастрюля из эмалированной или нержавеющей стали, шт.\n"
     ]
    },
    {
     "name": "stderr",
     "output_type": "stream",
     "text": [
      "C:\\Users\\Admin\\AppData\\Local\\Temp\\ipykernel_11920\\592679734.py:86: FutureWarning: The frame.append method is deprecated and will be removed from pandas in a future version. Use pandas.concat instead.\n",
      "  resultdf = resultdf.append(row_dict, ignore_index=True)\n"
     ]
    },
    {
     "name": "stdout",
     "output_type": "stream",
     "text": [
      "Товар РБ: приборы столовые из нержавеющей стали (вилка, ложка, нож)  Товар РФ: Кастрюля из эмалированной или нержавеющей стали, шт.\n"
     ]
    },
    {
     "name": "stderr",
     "output_type": "stream",
     "text": [
      "C:\\Users\\Admin\\AppData\\Local\\Temp\\ipykernel_11920\\592679734.py:86: FutureWarning: The frame.append method is deprecated and will be removed from pandas in a future version. Use pandas.concat instead.\n",
      "  resultdf = resultdf.append(row_dict, ignore_index=True)\n"
     ]
    },
    {
     "name": "stdout",
     "output_type": "stream",
     "text": [
      "Товар РБ: сковорода с антипригарным покрытием Товар РФ: Сковорода с антипригарным покрытием, шт.\n"
     ]
    },
    {
     "name": "stderr",
     "output_type": "stream",
     "text": [
      "C:\\Users\\Admin\\AppData\\Local\\Temp\\ipykernel_11920\\592679734.py:86: FutureWarning: The frame.append method is deprecated and will be removed from pandas in a future version. Use pandas.concat instead.\n",
      "  resultdf = resultdf.append(row_dict, ignore_index=True)\n",
      "C:\\Users\\Admin\\AppData\\Local\\Temp\\ipykernel_11920\\592679734.py:99: FutureWarning: The frame.append method is deprecated and will be removed from pandas in a future version. Use pandas.concat instead.\n",
      "  resultdf = resultdf.append(group_row, ignore_index=True)\n"
     ]
    },
    {
     "name": "stdout",
     "output_type": "stream",
     "text": [
      "Товар РБ: холодильник Товар РФ: Холодильник двухкамерный, емкостью 250-360 л, шт.\n"
     ]
    },
    {
     "name": "stderr",
     "output_type": "stream",
     "text": [
      "C:\\Users\\Admin\\AppData\\Local\\Temp\\ipykernel_11920\\592679734.py:86: FutureWarning: The frame.append method is deprecated and will be removed from pandas in a future version. Use pandas.concat instead.\n",
      "  resultdf = resultdf.append(row_dict, ignore_index=True)\n"
     ]
    },
    {
     "name": "stdout",
     "output_type": "stream",
     "text": [
      "Товар РБ: лампа электрическая Товар РФ: Лампа электрическая осветительная, шт.\n"
     ]
    },
    {
     "name": "stderr",
     "output_type": "stream",
     "text": [
      "C:\\Users\\Admin\\AppData\\Local\\Temp\\ipykernel_11920\\592679734.py:86: FutureWarning: The frame.append method is deprecated and will be removed from pandas in a future version. Use pandas.concat instead.\n",
      "  resultdf = resultdf.append(row_dict, ignore_index=True)\n"
     ]
    },
    {
     "name": "stdout",
     "output_type": "stream",
     "text": [
      "Товар РБ: машина стиральная  Товар РФ: Машина стиральная малогабаритная, шт.\n"
     ]
    },
    {
     "name": "stderr",
     "output_type": "stream",
     "text": [
      "C:\\Users\\Admin\\AppData\\Local\\Temp\\ipykernel_11920\\592679734.py:86: FutureWarning: The frame.append method is deprecated and will be removed from pandas in a future version. Use pandas.concat instead.\n",
      "  resultdf = resultdf.append(row_dict, ignore_index=True)\n"
     ]
    },
    {
     "name": "stdout",
     "output_type": "stream",
     "text": [
      "Товар РБ: машина швейная  Товар РФ: Машина швейная, шт.\n"
     ]
    },
    {
     "name": "stderr",
     "output_type": "stream",
     "text": [
      "C:\\Users\\Admin\\AppData\\Local\\Temp\\ipykernel_11920\\592679734.py:86: FutureWarning: The frame.append method is deprecated and will be removed from pandas in a future version. Use pandas.concat instead.\n",
      "  resultdf = resultdf.append(row_dict, ignore_index=True)\n"
     ]
    },
    {
     "name": "stdout",
     "output_type": "stream",
     "text": [
      "Товар РБ: машина посудомоечная  Товар РФ: Машина швейная, шт.\n"
     ]
    },
    {
     "name": "stderr",
     "output_type": "stream",
     "text": [
      "C:\\Users\\Admin\\AppData\\Local\\Temp\\ipykernel_11920\\592679734.py:86: FutureWarning: The frame.append method is deprecated and will be removed from pandas in a future version. Use pandas.concat instead.\n",
      "  resultdf = resultdf.append(row_dict, ignore_index=True)\n"
     ]
    },
    {
     "name": "stdout",
     "output_type": "stream",
     "text": [
      "Товар РБ: люстра электрическая Товар РФ: Дрель электрическая, шт.\n"
     ]
    },
    {
     "name": "stderr",
     "output_type": "stream",
     "text": [
      "C:\\Users\\Admin\\AppData\\Local\\Temp\\ipykernel_11920\\592679734.py:86: FutureWarning: The frame.append method is deprecated and will be removed from pandas in a future version. Use pandas.concat instead.\n",
      "  resultdf = resultdf.append(row_dict, ignore_index=True)\n"
     ]
    },
    {
     "name": "stdout",
     "output_type": "stream",
     "text": [
      "Товар РБ: чайник электрический Товар РФ: Чайник стальной эмалированный, шт.\n"
     ]
    },
    {
     "name": "stderr",
     "output_type": "stream",
     "text": [
      "C:\\Users\\Admin\\AppData\\Local\\Temp\\ipykernel_11920\\592679734.py:86: FutureWarning: The frame.append method is deprecated and will be removed from pandas in a future version. Use pandas.concat instead.\n",
      "  resultdf = resultdf.append(row_dict, ignore_index=True)\n"
     ]
    },
    {
     "name": "stdout",
     "output_type": "stream",
     "text": [
      "Товар РБ: кофемашина электрическая Товар РФ: Дрель электрическая, шт.\n"
     ]
    },
    {
     "name": "stderr",
     "output_type": "stream",
     "text": [
      "C:\\Users\\Admin\\AppData\\Local\\Temp\\ipykernel_11920\\592679734.py:86: FutureWarning: The frame.append method is deprecated and will be removed from pandas in a future version. Use pandas.concat instead.\n",
      "  resultdf = resultdf.append(row_dict, ignore_index=True)\n"
     ]
    },
    {
     "name": "stdout",
     "output_type": "stream",
     "text": [
      "Товар РБ: мультиварка электрическая Товар РФ: Дрель электрическая, шт.\n"
     ]
    },
    {
     "name": "stderr",
     "output_type": "stream",
     "text": [
      "C:\\Users\\Admin\\AppData\\Local\\Temp\\ipykernel_11920\\592679734.py:86: FutureWarning: The frame.append method is deprecated and will be removed from pandas in a future version. Use pandas.concat instead.\n",
      "  resultdf = resultdf.append(row_dict, ignore_index=True)\n"
     ]
    },
    {
     "name": "stdout",
     "output_type": "stream",
     "text": [
      "Товар РБ: печь микроволновая Товар РФ: Печь микроволновая, шт.\n"
     ]
    },
    {
     "name": "stderr",
     "output_type": "stream",
     "text": [
      "C:\\Users\\Admin\\AppData\\Local\\Temp\\ipykernel_11920\\592679734.py:86: FutureWarning: The frame.append method is deprecated and will be removed from pandas in a future version. Use pandas.concat instead.\n",
      "  resultdf = resultdf.append(row_dict, ignore_index=True)\n"
     ]
    },
    {
     "name": "stdout",
     "output_type": "stream",
     "text": [
      "Товар РБ: батарейка электрическая (типа АА) Товар РФ: Дрель электрическая, шт.\n"
     ]
    },
    {
     "name": "stderr",
     "output_type": "stream",
     "text": [
      "C:\\Users\\Admin\\AppData\\Local\\Temp\\ipykernel_11920\\592679734.py:86: FutureWarning: The frame.append method is deprecated and will be removed from pandas in a future version. Use pandas.concat instead.\n",
      "  resultdf = resultdf.append(row_dict, ignore_index=True)\n"
     ]
    },
    {
     "name": "stdout",
     "output_type": "stream",
     "text": [
      "Товар РБ: плита (варочная панель) бытовая электрическая Товар РФ: Плита бытовая, шт.\n"
     ]
    },
    {
     "name": "stderr",
     "output_type": "stream",
     "text": [
      "C:\\Users\\Admin\\AppData\\Local\\Temp\\ipykernel_11920\\592679734.py:86: FutureWarning: The frame.append method is deprecated and will be removed from pandas in a future version. Use pandas.concat instead.\n",
      "  resultdf = resultdf.append(row_dict, ignore_index=True)\n"
     ]
    },
    {
     "name": "stdout",
     "output_type": "stream",
     "text": [
      "Товар РБ: дрель электрическая Товар РФ: Дрель электрическая, шт.\n"
     ]
    },
    {
     "name": "stderr",
     "output_type": "stream",
     "text": [
      "C:\\Users\\Admin\\AppData\\Local\\Temp\\ipykernel_11920\\592679734.py:86: FutureWarning: The frame.append method is deprecated and will be removed from pandas in a future version. Use pandas.concat instead.\n",
      "  resultdf = resultdf.append(row_dict, ignore_index=True)\n"
     ]
    },
    {
     "name": "stdout",
     "output_type": "stream",
     "text": [
      "Товар РБ: триммер, мотокоса, газонокосилка Товар РФ: Триммер электрический, шт.\n"
     ]
    },
    {
     "name": "stderr",
     "output_type": "stream",
     "text": [
      "C:\\Users\\Admin\\AppData\\Local\\Temp\\ipykernel_11920\\592679734.py:86: FutureWarning: The frame.append method is deprecated and will be removed from pandas in a future version. Use pandas.concat instead.\n",
      "  resultdf = resultdf.append(row_dict, ignore_index=True)\n"
     ]
    },
    {
     "name": "stdout",
     "output_type": "stream",
     "text": [
      "Товар РБ: розетка электрическая Товар РФ: Дрель электрическая, шт.\n"
     ]
    },
    {
     "name": "stderr",
     "output_type": "stream",
     "text": [
      "C:\\Users\\Admin\\AppData\\Local\\Temp\\ipykernel_11920\\592679734.py:86: FutureWarning: The frame.append method is deprecated and will be removed from pandas in a future version. Use pandas.concat instead.\n",
      "  resultdf = resultdf.append(row_dict, ignore_index=True)\n"
     ]
    },
    {
     "name": "stdout",
     "output_type": "stream",
     "text": [
      "Товар РБ: бритва электрическая Товар РФ: Дрель электрическая, шт.\n"
     ]
    },
    {
     "name": "stderr",
     "output_type": "stream",
     "text": [
      "C:\\Users\\Admin\\AppData\\Local\\Temp\\ipykernel_11920\\592679734.py:86: FutureWarning: The frame.append method is deprecated and will be removed from pandas in a future version. Use pandas.concat instead.\n",
      "  resultdf = resultdf.append(row_dict, ignore_index=True)\n",
      "C:\\Users\\Admin\\AppData\\Local\\Temp\\ipykernel_11920\\592679734.py:99: FutureWarning: The frame.append method is deprecated and will be removed from pandas in a future version. Use pandas.concat instead.\n",
      "  resultdf = resultdf.append(group_row, ignore_index=True)\n",
      "C:\\Users\\Admin\\AppData\\Local\\Temp\\ipykernel_11920\\592679734.py:99: FutureWarning: The frame.append method is deprecated and will be removed from pandas in a future version. Use pandas.concat instead.\n",
      "  resultdf = resultdf.append(group_row, ignore_index=True)\n"
     ]
    },
    {
     "name": "stdout",
     "output_type": "stream",
     "text": [
      "Товар РБ: плитка керамическая Товар РФ: Керамическая, фарфоровая и фаянсовая столовая посуда\n"
     ]
    },
    {
     "name": "stderr",
     "output_type": "stream",
     "text": [
      "C:\\Users\\Admin\\AppData\\Local\\Temp\\ipykernel_11920\\592679734.py:86: FutureWarning: The frame.append method is deprecated and will be removed from pandas in a future version. Use pandas.concat instead.\n",
      "  resultdf = resultdf.append(row_dict, ignore_index=True)\n"
     ]
    },
    {
     "name": "stdout",
     "output_type": "stream",
     "text": [
      "Товар РБ: линолеум Товар РФ: Линолеум, м2\n"
     ]
    },
    {
     "name": "stderr",
     "output_type": "stream",
     "text": [
      "C:\\Users\\Admin\\AppData\\Local\\Temp\\ipykernel_11920\\592679734.py:86: FutureWarning: The frame.append method is deprecated and will be removed from pandas in a future version. Use pandas.concat instead.\n",
      "  resultdf = resultdf.append(row_dict, ignore_index=True)\n",
      "C:\\Users\\Admin\\AppData\\Local\\Temp\\ipykernel_11920\\592679734.py:99: FutureWarning: The frame.append method is deprecated and will be removed from pandas in a future version. Use pandas.concat instead.\n",
      "  resultdf = resultdf.append(group_row, ignore_index=True)\n"
     ]
    },
    {
     "name": "stdout",
     "output_type": "stream",
     "text": [
      "Товар РБ: перчатки из натуральной кожи Товар РФ: Перчатки из натуральной кожи, пара\n"
     ]
    },
    {
     "name": "stderr",
     "output_type": "stream",
     "text": [
      "C:\\Users\\Admin\\AppData\\Local\\Temp\\ipykernel_11920\\592679734.py:86: FutureWarning: The frame.append method is deprecated and will be removed from pandas in a future version. Use pandas.concat instead.\n",
      "  resultdf = resultdf.append(row_dict, ignore_index=True)\n"
     ]
    },
    {
     "name": "stdout",
     "output_type": "stream",
     "text": [
      "Товар РБ: сумка из искусственной кожи Товар РФ: Полуботинки мужские с верхом из искусственной кожи, пара\n"
     ]
    },
    {
     "name": "stderr",
     "output_type": "stream",
     "text": [
      "C:\\Users\\Admin\\AppData\\Local\\Temp\\ipykernel_11920\\592679734.py:86: FutureWarning: The frame.append method is deprecated and will be removed from pandas in a future version. Use pandas.concat instead.\n",
      "  resultdf = resultdf.append(row_dict, ignore_index=True)\n"
     ]
    },
    {
     "name": "stdout",
     "output_type": "stream",
     "text": [
      "Товар РБ: сумка из натуральной кожи Товар РФ: Куртка мужская из натуральной кожи, шт.\n"
     ]
    },
    {
     "name": "stderr",
     "output_type": "stream",
     "text": [
      "C:\\Users\\Admin\\AppData\\Local\\Temp\\ipykernel_11920\\592679734.py:86: FutureWarning: The frame.append method is deprecated and will be removed from pandas in a future version. Use pandas.concat instead.\n",
      "  resultdf = resultdf.append(row_dict, ignore_index=True)\n"
     ]
    },
    {
     "name": "stdout",
     "output_type": "stream",
     "text": [
      "Товар РБ: рюкзак, ранец для детей школьного возраста Товар РФ: Комбинезон (костюм) утепленный для детей дошкольного возраста, шт.\n"
     ]
    },
    {
     "name": "stderr",
     "output_type": "stream",
     "text": [
      "C:\\Users\\Admin\\AppData\\Local\\Temp\\ipykernel_11920\\592679734.py:86: FutureWarning: The frame.append method is deprecated and will be removed from pandas in a future version. Use pandas.concat instead.\n",
      "  resultdf = resultdf.append(row_dict, ignore_index=True)\n"
     ]
    },
    {
     "name": "stdout",
     "output_type": "stream",
     "text": [
      "Товар РБ: ремень поясной из натуральной или искусственной кожи Товар РФ: Куртка мужская из натуральной кожи, шт.\n"
     ]
    },
    {
     "name": "stderr",
     "output_type": "stream",
     "text": [
      "C:\\Users\\Admin\\AppData\\Local\\Temp\\ipykernel_11920\\592679734.py:86: FutureWarning: The frame.append method is deprecated and will be removed from pandas in a future version. Use pandas.concat instead.\n",
      "  resultdf = resultdf.append(row_dict, ignore_index=True)\n"
     ]
    },
    {
     "name": "stdout",
     "output_type": "stream",
     "text": [
      "Товар РБ: галстук мужской Товар РФ: Джемпер мужской, шт.\n"
     ]
    },
    {
     "name": "stderr",
     "output_type": "stream",
     "text": [
      "C:\\Users\\Admin\\AppData\\Local\\Temp\\ipykernel_11920\\592679734.py:86: FutureWarning: The frame.append method is deprecated and will be removed from pandas in a future version. Use pandas.concat instead.\n",
      "  resultdf = resultdf.append(row_dict, ignore_index=True)\n",
      "C:\\Users\\Admin\\AppData\\Local\\Temp\\ipykernel_11920\\592679734.py:99: FutureWarning: The frame.append method is deprecated and will be removed from pandas in a future version. Use pandas.concat instead.\n",
      "  resultdf = resultdf.append(group_row, ignore_index=True)\n"
     ]
    },
    {
     "name": "stdout",
     "output_type": "stream",
     "text": [
      "Товар РБ: антиинфекционные средства Товар РФ: Жидкие чистящие и моющие средства, л\n"
     ]
    },
    {
     "name": "stderr",
     "output_type": "stream",
     "text": [
      "C:\\Users\\Admin\\AppData\\Local\\Temp\\ipykernel_11920\\592679734.py:86: FutureWarning: The frame.append method is deprecated and will be removed from pandas in a future version. Use pandas.concat instead.\n",
      "  resultdf = resultdf.append(row_dict, ignore_index=True)\n"
     ]
    },
    {
     "name": "stdout",
     "output_type": "stream",
     "text": [
      "Товар РБ: средства для лечения пищеварительного тракта и обмена веществ Товар РФ: Жидкие чистящие и моющие средства, л\n"
     ]
    },
    {
     "name": "stderr",
     "output_type": "stream",
     "text": [
      "C:\\Users\\Admin\\AppData\\Local\\Temp\\ipykernel_11920\\592679734.py:86: FutureWarning: The frame.append method is deprecated and will be removed from pandas in a future version. Use pandas.concat instead.\n",
      "  resultdf = resultdf.append(row_dict, ignore_index=True)\n"
     ]
    },
    {
     "name": "stdout",
     "output_type": "stream",
     "text": [
      "Товар РБ: сердечно-сосудистые средства Товар РФ: Жидкие чистящие и моющие средства, л\n"
     ]
    },
    {
     "name": "stderr",
     "output_type": "stream",
     "text": [
      "C:\\Users\\Admin\\AppData\\Local\\Temp\\ipykernel_11920\\592679734.py:86: FutureWarning: The frame.append method is deprecated and will be removed from pandas in a future version. Use pandas.concat instead.\n",
      "  resultdf = resultdf.append(row_dict, ignore_index=True)\n"
     ]
    },
    {
     "name": "stdout",
     "output_type": "stream",
     "text": [
      "Товар РБ: средства для лечения нервной системы Товар РФ: Жидкие чистящие и моющие средства, л\n"
     ]
    },
    {
     "name": "stderr",
     "output_type": "stream",
     "text": [
      "C:\\Users\\Admin\\AppData\\Local\\Temp\\ipykernel_11920\\592679734.py:86: FutureWarning: The frame.append method is deprecated and will be removed from pandas in a future version. Use pandas.concat instead.\n",
      "  resultdf = resultdf.append(row_dict, ignore_index=True)\n"
     ]
    },
    {
     "name": "stdout",
     "output_type": "stream",
     "text": [
      "Товар РБ: противоопухолевые и иммуномодулирующие средства Товар РФ: Жидкие чистящие и моющие средства, л\n"
     ]
    },
    {
     "name": "stderr",
     "output_type": "stream",
     "text": [
      "C:\\Users\\Admin\\AppData\\Local\\Temp\\ipykernel_11920\\592679734.py:86: FutureWarning: The frame.append method is deprecated and will be removed from pandas in a future version. Use pandas.concat instead.\n",
      "  resultdf = resultdf.append(row_dict, ignore_index=True)\n"
     ]
    },
    {
     "name": "stdout",
     "output_type": "stream",
     "text": [
      "Товар РБ: средства для лечения крови и кроветворных органов Товар РФ: Жидкие чистящие и моющие средства, л\n"
     ]
    },
    {
     "name": "stderr",
     "output_type": "stream",
     "text": [
      "C:\\Users\\Admin\\AppData\\Local\\Temp\\ipykernel_11920\\592679734.py:86: FutureWarning: The frame.append method is deprecated and will be removed from pandas in a future version. Use pandas.concat instead.\n",
      "  resultdf = resultdf.append(row_dict, ignore_index=True)\n"
     ]
    },
    {
     "name": "stdout",
     "output_type": "stream",
     "text": [
      "Товар РБ: средства для лечения дыхательной системы Товар РФ: Жидкие чистящие и моющие средства, л\n"
     ]
    },
    {
     "name": "stderr",
     "output_type": "stream",
     "text": [
      "C:\\Users\\Admin\\AppData\\Local\\Temp\\ipykernel_11920\\592679734.py:86: FutureWarning: The frame.append method is deprecated and will be removed from pandas in a future version. Use pandas.concat instead.\n",
      "  resultdf = resultdf.append(row_dict, ignore_index=True)\n",
      "C:\\Users\\Admin\\AppData\\Local\\Temp\\ipykernel_11920\\592679734.py:99: FutureWarning: The frame.append method is deprecated and will be removed from pandas in a future version. Use pandas.concat instead.\n",
      "  resultdf = resultdf.append(group_row, ignore_index=True)\n",
      "C:\\Users\\Admin\\AppData\\Local\\Temp\\ipykernel_11920\\592679734.py:99: FutureWarning: The frame.append method is deprecated and will be removed from pandas in a future version. Use pandas.concat instead.\n",
      "  resultdf = resultdf.append(group_row, ignore_index=True)\n",
      "C:\\Users\\Admin\\AppData\\Local\\Temp\\ipykernel_11920\\592679734.py:99: FutureWarning: The frame.append method is deprecated and will be removed from pandas in a future version. Use pandas.concat instead.\n",
      "  resultdf = resultdf.append(group_row, ignore_index=True)\n",
      "C:\\Users\\Admin\\AppData\\Local\\Temp\\ipykernel_11920\\592679734.py:99: FutureWarning: The frame.append method is deprecated and will be removed from pandas in a future version. Use pandas.concat instead.\n",
      "  resultdf = resultdf.append(group_row, ignore_index=True)\n",
      "C:\\Users\\Admin\\AppData\\Local\\Temp\\ipykernel_11920\\592679734.py:99: FutureWarning: The frame.append method is deprecated and will be removed from pandas in a future version. Use pandas.concat instead.\n",
      "  resultdf = resultdf.append(group_row, ignore_index=True)\n"
     ]
    },
    {
     "name": "stdout",
     "output_type": "stream",
     "text": [
      "Товар РБ: синтетические моющие средства Товар РФ: Жидкие чистящие и моющие средства, л\n"
     ]
    },
    {
     "name": "stderr",
     "output_type": "stream",
     "text": [
      "C:\\Users\\Admin\\AppData\\Local\\Temp\\ipykernel_11920\\592679734.py:86: FutureWarning: The frame.append method is deprecated and will be removed from pandas in a future version. Use pandas.concat instead.\n",
      "  resultdf = resultdf.append(row_dict, ignore_index=True)\n"
     ]
    },
    {
     "name": "stdout",
     "output_type": "stream",
     "text": [
      "Товар РБ: мыло хозяйственное Товар РФ: Мыло хозяйственное\n"
     ]
    },
    {
     "name": "stderr",
     "output_type": "stream",
     "text": [
      "C:\\Users\\Admin\\AppData\\Local\\Temp\\ipykernel_11920\\592679734.py:86: FutureWarning: The frame.append method is deprecated and will be removed from pandas in a future version. Use pandas.concat instead.\n",
      "  resultdf = resultdf.append(row_dict, ignore_index=True)\n",
      "C:\\Users\\Admin\\AppData\\Local\\Temp\\ipykernel_11920\\592679734.py:99: FutureWarning: The frame.append method is deprecated and will be removed from pandas in a future version. Use pandas.concat instead.\n",
      "  resultdf = resultdf.append(group_row, ignore_index=True)\n"
     ]
    },
    {
     "name": "stdout",
     "output_type": "stream",
     "text": [
      "Товар РБ: крем для обуви Товар РФ: Прочие виды обуви\n"
     ]
    },
    {
     "name": "stderr",
     "output_type": "stream",
     "text": [
      "C:\\Users\\Admin\\AppData\\Local\\Temp\\ipykernel_11920\\592679734.py:86: FutureWarning: The frame.append method is deprecated and will be removed from pandas in a future version. Use pandas.concat instead.\n",
      "  resultdf = resultdf.append(row_dict, ignore_index=True)\n"
     ]
    },
    {
     "name": "stdout",
     "output_type": "stream",
     "text": [
      "Товар РБ: краска для пола и прочая Товар РФ: Линолеум и другие покрытия для пола\n"
     ]
    },
    {
     "name": "stderr",
     "output_type": "stream",
     "text": [
      "C:\\Users\\Admin\\AppData\\Local\\Temp\\ipykernel_11920\\592679734.py:86: FutureWarning: The frame.append method is deprecated and will be removed from pandas in a future version. Use pandas.concat instead.\n",
      "  resultdf = resultdf.append(row_dict, ignore_index=True)\n"
     ]
    },
    {
     "name": "stdout",
     "output_type": "stream",
     "text": [
      "Товар РБ: моющие средства по уходу за автомобилями Товар РФ: Средства по уходу за домом\n"
     ]
    },
    {
     "name": "stderr",
     "output_type": "stream",
     "text": [
      "C:\\Users\\Admin\\AppData\\Local\\Temp\\ipykernel_11920\\592679734.py:86: FutureWarning: The frame.append method is deprecated and will be removed from pandas in a future version. Use pandas.concat instead.\n",
      "  resultdf = resultdf.append(row_dict, ignore_index=True)\n"
     ]
    },
    {
     "name": "stdout",
     "output_type": "stream",
     "text": [
      "Товар РБ: средства для мытья посуды Товар РФ: Жидкие чистящие и моющие средства, л\n"
     ]
    },
    {
     "name": "stderr",
     "output_type": "stream",
     "text": [
      "C:\\Users\\Admin\\AppData\\Local\\Temp\\ipykernel_11920\\592679734.py:86: FutureWarning: The frame.append method is deprecated and will be removed from pandas in a future version. Use pandas.concat instead.\n",
      "  resultdf = resultdf.append(row_dict, ignore_index=True)\n"
     ]
    },
    {
     "name": "stdout",
     "output_type": "stream",
     "text": [
      "Товар РБ: средства для мытья унитаза, ванны Товар РФ: Жидкие чистящие и моющие средства, л\n"
     ]
    },
    {
     "name": "stderr",
     "output_type": "stream",
     "text": [
      "C:\\Users\\Admin\\AppData\\Local\\Temp\\ipykernel_11920\\592679734.py:86: FutureWarning: The frame.append method is deprecated and will be removed from pandas in a future version. Use pandas.concat instead.\n",
      "  resultdf = resultdf.append(row_dict, ignore_index=True)\n",
      "C:\\Users\\Admin\\AppData\\Local\\Temp\\ipykernel_11920\\592679734.py:99: FutureWarning: The frame.append method is deprecated and will be removed from pandas in a future version. Use pandas.concat instead.\n",
      "  resultdf = resultdf.append(group_row, ignore_index=True)\n"
     ]
    },
    {
     "name": "stdout",
     "output_type": "stream",
     "text": [
      "Товар РБ: изделия замочно-скобяные  Товар РФ: Чулочно-носочные изделия\n"
     ]
    },
    {
     "name": "stderr",
     "output_type": "stream",
     "text": [
      "C:\\Users\\Admin\\AppData\\Local\\Temp\\ipykernel_11920\\592679734.py:86: FutureWarning: The frame.append method is deprecated and will be removed from pandas in a future version. Use pandas.concat instead.\n",
      "  resultdf = resultdf.append(row_dict, ignore_index=True)\n",
      "C:\\Users\\Admin\\AppData\\Local\\Temp\\ipykernel_11920\\592679734.py:99: FutureWarning: The frame.append method is deprecated and will be removed from pandas in a future version. Use pandas.concat instead.\n",
      "  resultdf = resultdf.append(group_row, ignore_index=True)\n"
     ]
    },
    {
     "name": "stdout",
     "output_type": "stream",
     "text": [
      "Товар РБ: инструменты музыкальные  Товар РФ: Инструменты и оборудование (кроме техники для сада)\n"
     ]
    },
    {
     "name": "stderr",
     "output_type": "stream",
     "text": [
      "C:\\Users\\Admin\\AppData\\Local\\Temp\\ipykernel_11920\\592679734.py:86: FutureWarning: The frame.append method is deprecated and will be removed from pandas in a future version. Use pandas.concat instead.\n",
      "  resultdf = resultdf.append(row_dict, ignore_index=True)\n"
     ]
    },
    {
     "name": "stdout",
     "output_type": "stream",
     "text": [
      "Товар РБ: коляска детская Товар РФ: Футболка детская, шт.\n"
     ]
    },
    {
     "name": "stderr",
     "output_type": "stream",
     "text": [
      "C:\\Users\\Admin\\AppData\\Local\\Temp\\ipykernel_11920\\592679734.py:86: FutureWarning: The frame.append method is deprecated and will be removed from pandas in a future version. Use pandas.concat instead.\n",
      "  resultdf = resultdf.append(row_dict, ignore_index=True)\n",
      "C:\\Users\\Admin\\AppData\\Local\\Temp\\ipykernel_11920\\592679734.py:99: FutureWarning: The frame.append method is deprecated and will be removed from pandas in a future version. Use pandas.concat instead.\n",
      "  resultdf = resultdf.append(group_row, ignore_index=True)\n",
      "C:\\Users\\Admin\\AppData\\Local\\Temp\\ipykernel_11920\\592679734.py:99: FutureWarning: The frame.append method is deprecated and will be removed from pandas in a future version. Use pandas.concat instead.\n",
      "  resultdf = resultdf.append(group_row, ignore_index=True)\n",
      "C:\\Users\\Admin\\AppData\\Local\\Temp\\ipykernel_11920\\592679734.py:99: FutureWarning: The frame.append method is deprecated and will be removed from pandas in a future version. Use pandas.concat instead.\n",
      "  resultdf = resultdf.append(group_row, ignore_index=True)\n"
     ]
    },
    {
     "name": "stdout",
     "output_type": "stream",
     "text": [
      "Товар РБ: мыло туалетное Товар РФ: Мыло хозяйственное\n"
     ]
    },
    {
     "name": "stderr",
     "output_type": "stream",
     "text": [
      "C:\\Users\\Admin\\AppData\\Local\\Temp\\ipykernel_11920\\592679734.py:86: FutureWarning: The frame.append method is deprecated and will be removed from pandas in a future version. Use pandas.concat instead.\n",
      "  resultdf = resultdf.append(row_dict, ignore_index=True)\n"
     ]
    },
    {
     "name": "stdout",
     "output_type": "stream",
     "text": [
      "Товар РБ: салфетки влажные Товар РФ: Бумажные столовые салфетки, упаковка 100 шт.\n"
     ]
    },
    {
     "name": "stderr",
     "output_type": "stream",
     "text": [
      "C:\\Users\\Admin\\AppData\\Local\\Temp\\ipykernel_11920\\592679734.py:86: FutureWarning: The frame.append method is deprecated and will be removed from pandas in a future version. Use pandas.concat instead.\n",
      "  resultdf = resultdf.append(row_dict, ignore_index=True)\n",
      "C:\\Users\\Admin\\AppData\\Local\\Temp\\ipykernel_11920\\592679734.py:99: FutureWarning: The frame.append method is deprecated and will be removed from pandas in a future version. Use pandas.concat instead.\n",
      "  resultdf = resultdf.append(group_row, ignore_index=True)\n"
     ]
    },
    {
     "name": "stdout",
     "output_type": "stream",
     "text": [
      "Товар РБ: бумага туалетная, салфетки бумажные Товар РФ: Бумажные столовые салфетки, упаковка 100 шт.\n"
     ]
    },
    {
     "name": "stderr",
     "output_type": "stream",
     "text": [
      "C:\\Users\\Admin\\AppData\\Local\\Temp\\ipykernel_11920\\592679734.py:86: FutureWarning: The frame.append method is deprecated and will be removed from pandas in a future version. Use pandas.concat instead.\n",
      "  resultdf = resultdf.append(row_dict, ignore_index=True)\n",
      "C:\\Users\\Admin\\AppData\\Local\\Temp\\ipykernel_11920\\592679734.py:99: FutureWarning: The frame.append method is deprecated and will be removed from pandas in a future version. Use pandas.concat instead.\n",
      "  resultdf = resultdf.append(group_row, ignore_index=True)\n"
     ]
    },
    {
     "name": "stdout",
     "output_type": "stream",
     "text": [
      "Товар РБ: инструменты Товар РФ: Инструменты и оборудование (кроме техники для сада)\n"
     ]
    },
    {
     "name": "stderr",
     "output_type": "stream",
     "text": [
      "C:\\Users\\Admin\\AppData\\Local\\Temp\\ipykernel_11920\\592679734.py:86: FutureWarning: The frame.append method is deprecated and will be removed from pandas in a future version. Use pandas.concat instead.\n",
      "  resultdf = resultdf.append(row_dict, ignore_index=True)\n"
     ]
    },
    {
     "name": "stdout",
     "output_type": "stream",
     "text": [
      "Товар РБ: лопата, грабли Товар РФ: Лопата садовая, шт.\n"
     ]
    },
    {
     "name": "stderr",
     "output_type": "stream",
     "text": [
      "C:\\Users\\Admin\\AppData\\Local\\Temp\\ipykernel_11920\\592679734.py:86: FutureWarning: The frame.append method is deprecated and will be removed from pandas in a future version. Use pandas.concat instead.\n",
      "  resultdf = resultdf.append(row_dict, ignore_index=True)\n"
     ]
    },
    {
     "name": "stdout",
     "output_type": "stream",
     "text": [
      "Товар РБ: спички Товар РФ: Спички, коробок\n"
     ]
    },
    {
     "name": "stderr",
     "output_type": "stream",
     "text": [
      "C:\\Users\\Admin\\AppData\\Local\\Temp\\ipykernel_11920\\592679734.py:86: FutureWarning: The frame.append method is deprecated and will be removed from pandas in a future version. Use pandas.concat instead.\n",
      "  resultdf = resultdf.append(row_dict, ignore_index=True)\n"
     ]
    }
   ],
   "source": [
    "noProd_rb_rf = compare_rb_rf(noProdRB, noProdRF, 0.1, 0.035618, 0.27, 0.68, 0.05, noProd=True)"
   ]
  },
  {
   "cell_type": "code",
   "execution_count": 283,
   "metadata": {},
   "outputs": [],
   "source": [
    "prodCategoryRB.to_excel('prod_rb_rf.xlsx', 0.035618)\n",
    "noProdCategoryRB.to_excel('noProd_rb_rf.xlsx', 0.035618)"
   ]
  },
  {
   "cell_type": "code",
   "execution_count": null,
   "metadata": {},
   "outputs": [],
   "source": [
    "result = pd.concat([prod_rb_rf, noProd_rb_rf])\n",
    "result.to_excel('result.xlsx')"
   ]
  },
  {
   "attachments": {},
   "cell_type": "markdown",
   "metadata": {},
   "source": [
    "Запись в Excel для проверки сопоставления"
   ]
  },
  {
   "cell_type": "code",
   "execution_count": null,
   "metadata": {},
   "outputs": [],
   "source": [
    "prod_rb_rf.to_excel('prod_rb_rf.xlsx')\n",
    "noProd_rb_rf.to_excel('noProd_rb_rf.xlsx')"
   ]
  }
 ],
 "metadata": {
  "kernelspec": {
   "display_name": "Python 3",
   "language": "python",
   "name": "python3"
  },
  "language_info": {
   "codemirror_mode": {
    "name": "ipython",
    "version": 3
   },
   "file_extension": ".py",
   "mimetype": "text/x-python",
   "name": "python",
   "nbconvert_exporter": "python",
   "pygments_lexer": "ipython3",
   "version": "3.10.10"
  },
  "orig_nbformat": 4,
  "vscode": {
   "interpreter": {
    "hash": "58dbfdb34cf82127b32c5737e6183911655ff227e5c11e8f5e4b25048ae98ef2"
   }
  }
 },
 "nbformat": 4,
 "nbformat_minor": 2
}
